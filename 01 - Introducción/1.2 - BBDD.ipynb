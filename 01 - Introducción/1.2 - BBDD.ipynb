{
 "cells": [
  {
   "cell_type": "code",
   "execution_count": 2,
   "metadata": {},
   "outputs": [
    {
     "name": "stdout",
     "output_type": "stream",
     "text": [
      "Requirement already satisfied: gdown in c:\\users\\cristian\\anaconda3\\envs\\tad-vd\\lib\\site-packages (5.2.0)\n",
      "Requirement already satisfied: beautifulsoup4 in c:\\users\\cristian\\anaconda3\\envs\\tad-vd\\lib\\site-packages (from gdown) (4.12.3)\n",
      "Requirement already satisfied: filelock in c:\\users\\cristian\\anaconda3\\envs\\tad-vd\\lib\\site-packages (from gdown) (3.16.1)\n",
      "Requirement already satisfied: requests[socks] in c:\\users\\cristian\\anaconda3\\envs\\tad-vd\\lib\\site-packages (from gdown) (2.32.3)\n",
      "Requirement already satisfied: tqdm in c:\\users\\cristian\\anaconda3\\envs\\tad-vd\\lib\\site-packages (from gdown) (4.66.6)\n",
      "Requirement already satisfied: soupsieve>1.2 in c:\\users\\cristian\\anaconda3\\envs\\tad-vd\\lib\\site-packages (from beautifulsoup4->gdown) (2.6)\n",
      "Requirement already satisfied: charset-normalizer<4,>=2 in c:\\users\\cristian\\anaconda3\\envs\\tad-vd\\lib\\site-packages (from requests[socks]->gdown) (3.4.0)\n",
      "Requirement already satisfied: idna<4,>=2.5 in c:\\users\\cristian\\anaconda3\\envs\\tad-vd\\lib\\site-packages (from requests[socks]->gdown) (3.10)\n",
      "Requirement already satisfied: urllib3<3,>=1.21.1 in c:\\users\\cristian\\anaconda3\\envs\\tad-vd\\lib\\site-packages (from requests[socks]->gdown) (2.2.3)\n",
      "Requirement already satisfied: certifi>=2017.4.17 in c:\\users\\cristian\\anaconda3\\envs\\tad-vd\\lib\\site-packages (from requests[socks]->gdown) (2024.8.30)\n",
      "Requirement already satisfied: PySocks!=1.5.7,>=1.5.6 in c:\\users\\cristian\\anaconda3\\envs\\tad-vd\\lib\\site-packages (from requests[socks]->gdown) (1.7.1)\n",
      "Requirement already satisfied: colorama in c:\\users\\cristian\\anaconda3\\envs\\tad-vd\\lib\\site-packages (from tqdm->gdown) (0.4.6)\n"
     ]
    }
   ],
   "source": [
    "import os\n",
    "\n",
    "! pip install gdown\n",
    "\n",
    "output_dir = '../datasets'  \n",
    "if not os.path.exists(output_dir):\n",
    "    os.makedirs(output_dir)"
   ]
  },
  {
   "cell_type": "markdown",
   "metadata": {},
   "source": [
    "# Introducción a las Bases de Datos\n",
    "\n",
    "A continuación se presentan tres bases de datos que se utilizarán en el trabajo de visualización de datos. Cada una de ellas aborda temas diferentes y ofrece oportunidades para explorar y analizar datos de interés."
   ]
  },
  {
   "cell_type": "markdown",
   "metadata": {},
   "source": [
    "## 1. Data Science Salaries 2023\n",
    "\n",
    "- **Referencia**: [Data Science Salaries 2023](https://www.kaggle.com/datasets/arnabchaki/data-science-salaries-2023/data)\n",
    "  \n",
    "- **Descripción**: Esta base de datos contiene información sobre los salarios de los profesionales en el campo de la ciencia de datos a nivel mundial para el año 2023. Los datos incluyen diversas variables que permiten un análisis detallado de los factores que influyen en los salarios.\n",
    "\n",
    "- **Estructura**:\n",
    "  - `job_title`: Título del trabajo.\n",
    "  - `salary`: Salario anual en USD.\n",
    "  - `experience`: Años de experiencia del profesional.\n",
    "  - `location`: Ubicación geográfica del trabajo.\n",
    "  - `education`: Nivel educativo del profesional.\n",
    "  - `skills`: Habilidades mencionadas en el trabajo."
   ]
  },
  {
   "cell_type": "code",
   "execution_count": 11,
   "metadata": {},
   "outputs": [
    {
     "name": "stderr",
     "output_type": "stream",
     "text": [
      "Downloading...\n",
      "From: https://drive.google.com/uc?id=1aYGUS1HCVz8j1yURxXt4P1UXIJ54aODI\n",
      "To: c:\\Users\\Cristian\\Desktop\\Apuntes\\UMU\\1Q\\Visualización Datos\\Trabajo dirigido\\PlotlyLibrary\\datasets\\ds_salary.csv\n",
      "100%|██████████| 24.1k/24.1k [00:00<00:00, 1.24MB/s]\n"
     ]
    },
    {
     "data": {
      "text/plain": [
       "'../datasets/ds_salary.csv'"
      ]
     },
     "execution_count": 11,
     "metadata": {},
     "output_type": "execute_result"
    }
   ],
   "source": [
    "import gdown\n",
    "\n",
    "file_id = '1aYGUS1HCVz8j1yURxXt4P1UXIJ54aODI'\n",
    "\n",
    "output = output_dir +'/ds_salary.csv'    \n",
    "gdown.download(f'https://drive.google.com/uc?id={file_id}', output, quiet=False)\n"
   ]
  },
  {
   "cell_type": "markdown",
   "metadata": {},
   "source": [
    "## 2. Gym Members Exercise Dataset\n",
    "\n",
    "- **Referencia**: [Gym Members Exercise Dataset](https://www.kaggle.com/datasets/valakhorasani/gym-members-exercise-dataset)\n",
    "  \n",
    "- **Descripción**: Esta base de datos recopila información sobre los miembros de un gimnasio y sus hábitos de ejercicio. Permite analizar la relación entre diferentes factores y el comportamiento de ejercicio de los miembros.\n",
    "\n",
    "- **Estructura**:\n",
    "  - `member_id`: Identificación única del miembro.\n",
    "  - `age`: Edad del miembro.\n",
    "  - `gender`: Género del miembro.\n",
    "  - `height`: Altura en centímetros.\n",
    "  - `weight`: Peso en kilogramos.\n",
    "  - `exercise_type`: Tipo de ejercicio realizado.\n",
    "  - `workout_time`: Duración del ejercicio en minutos."
   ]
  },
  {
   "cell_type": "code",
   "execution_count": 13,
   "metadata": {},
   "outputs": [
    {
     "name": "stderr",
     "output_type": "stream",
     "text": [
      "Downloading...\n",
      "From: https://drive.google.com/uc?id=1BETAfnn8Poa_om5oDTyrrf8FGbTDF0QQ\n",
      "To: c:\\Users\\Cristian\\Desktop\\Apuntes\\UMU\\1Q\\Visualización Datos\\Trabajo dirigido\\PlotlyLibrary\\datasets\\gym_ex.csv\n",
      "100%|██████████| 66.1k/66.1k [00:00<00:00, 1.38MB/s]\n"
     ]
    },
    {
     "data": {
      "text/plain": [
       "'../datasets/gym_ex.csv'"
      ]
     },
     "execution_count": 13,
     "metadata": {},
     "output_type": "execute_result"
    }
   ],
   "source": [
    "import gdown\n",
    "\n",
    "file_id = '1BETAfnn8Poa_om5oDTyrrf8FGbTDF0QQ'\n",
    "\n",
    "output = output_dir +'/gym_ex.csv'    \n",
    "gdown.download(f'https://drive.google.com/uc?id={file_id}', output, quiet=False)\n"
   ]
  },
  {
   "cell_type": "markdown",
   "metadata": {},
   "source": [
    "## 3. Sleep Health and Lifestyle Dataset\n",
    "\n",
    "- **Referencia**: [Sleep Health and Lifestyle Dataset](https://www.kaggle.com/datasets/uom190346a/sleep-health-and-lifestyle-dataset)\n",
    "  \n",
    "- **Descripción**: Este conjunto de datos investiga la salud del sueño y los estilos de vida de los encuestados. Incluye información sobre los hábitos de sueño y su relación con diferentes factores de salud y estilo de vida.\n",
    "\n",
    "- **Estructura**:\n",
    "  - `respondent_id`: Identificación única del encuestado.\n",
    "  - `age`: Edad del encuestado.\n",
    "  - `gender`: Género del encuestado.\n",
    "  - `sleep_hours`: Horas de sueño por noche.\n",
    "  - `exercise_frequency`: Frecuencia de ejercicio semanal.\n",
    "  - `health_status`: Estado de salud reportado."
   ]
  },
  {
   "cell_type": "code",
   "execution_count": 3,
   "metadata": {},
   "outputs": [
    {
     "name": "stderr",
     "output_type": "stream",
     "text": [
      "Downloading...\n",
      "From: https://drive.google.com/uc?id=1FJct-dcfXFTgszpOaDEX9PftiSP6Vqlh\n",
      "To: c:\\Users\\Cristian\\Desktop\\Apuntes\\UMU\\1Q\\Visualización Datos\\Trabajo dirigido\\PlotlyLibrary\\datasets\\health_lifestyle.csv\n",
      "100%|██████████| 225k/225k [00:00<00:00, 3.10MB/s]\n"
     ]
    },
    {
     "data": {
      "text/plain": [
       "'../datasets/health_lifestyle.csv'"
      ]
     },
     "execution_count": 3,
     "metadata": {},
     "output_type": "execute_result"
    }
   ],
   "source": [
    "import gdown\n",
    "\n",
    "file_id = '1FJct-dcfXFTgszpOaDEX9PftiSP6Vqlh'\n",
    "\n",
    "output = output_dir +'/health_lifestyle.csv'    \n",
    "gdown.download(f'https://drive.google.com/uc?id={file_id}', output, quiet=False)\n"
   ]
  },
  {
   "cell_type": "markdown",
   "metadata": {},
   "source": [
    "## Conclusión\n",
    "\n",
    "Las bases de datos presentadas ofrecen una variedad de temas y estructuras que permitirán realizar análisis significativos y visualizaciones informativas. A medida que avanzamos en el trabajo de visualización de datos, se explorarán estas bases de datos para identificar patrones y obtener conclusiones relevantes.\n"
   ]
  }
 ],
 "metadata": {
  "kernelspec": {
   "display_name": "tad-vd",
   "language": "python",
   "name": "python3"
  },
  "language_info": {
   "codemirror_mode": {
    "name": "ipython",
    "version": 3
   },
   "file_extension": ".py",
   "mimetype": "text/x-python",
   "name": "python",
   "nbconvert_exporter": "python",
   "pygments_lexer": "ipython3",
   "version": "3.10.15"
  }
 },
 "nbformat": 4,
 "nbformat_minor": 2
}
