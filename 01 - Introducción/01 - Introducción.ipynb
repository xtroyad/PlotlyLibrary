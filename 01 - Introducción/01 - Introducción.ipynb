{
 "cells": [
  {
   "cell_type": "markdown",
   "metadata": {},
   "source": [
    "# Introducción a Plotly\n",
    "\n",
    "## ¿Qué es Plotly?\n",
    "\n",
    "Plotly es una librería de visualización interactiva de datos que permite la creación de gráficos y dashboards dinámicos y de alta calidad en Python, R, JavaScript y otras plataformas. Fue diseñada para que los usuarios puedan generar gráficos interactivos sin necesidad de conocimientos avanzados de JavaScript o herramientas frontend. \n",
    "\n",
    "### Características principales de Plotly:\n",
    "\n",
    "1. **Gráficos interactivos**: Plotly permite crear gráficos que responden a acciones del usuario, como zoom, desplazamiento y selección de puntos de datos.\n",
    "  \n",
    "2. **Diversidad de gráficos**: Soporta una amplia variedad de visualizaciones como gráficos de líneas, barras, áreas, dispersión, mapas de calor, gráficos de torta, gráficos 3D, y más.\n",
    "  \n",
    "3. **Integración con Jupyter Notebook**: Plotly se integra de manera fluida con Jupyter Notebooks, permitiendo visualizar gráficos directamente en el entorno interactivo.\n",
    "\n",
    "4. **Facilidad de uso**: A pesar de ser altamente personalizable, Plotly tiene una API simple y fácil de entender, lo que lo hace accesible para usuarios nuevos.\n",
    "\n",
    "5. **Personalización**: Los gráficos en Plotly pueden ser personalizados a gran escala, incluyendo el control de colores, ejes, leyendas, títulos y anotaciones.\n",
    "\n",
    "6. **Dash**: Plotly también soporta la creación de dashboards interactivos a través de su framework `Dash`, que combina visualizaciones interactivas con aplicaciones web completas.\n",
    "\n",
    "### Aplicaciones típicas:\n",
    "\n",
    "- **Análisis de datos interactivo**: Plotly es ampliamente utilizado en ciencia de datos, machine learning y análisis financiero para representar datos complejos de una manera visualmente atractiva.\n",
    "  \n",
    "- **Visualización en tiempo real**: Permite la creación de gráficos que se actualizan en tiempo real, ideal para monitoreo y análisis continuo de datos.\n",
    "  \n",
    "- **Presentaciones y reportes**: Los gráficos de Plotly pueden integrarse fácilmente en presentaciones y reportes, ya sea en formato web, notebooks o PDFs.\n",
    "\n",
    "En resumen, Plotly es una herramienta poderosa que combina la simplicidad de uso con la capacidad de crear visualizaciones avanzadas, siendo ideal tanto para análisis exploratorio como para la creación de visualizaciones interactivas de alto impacto.\n"
   ]
  },
  {
   "cell_type": "markdown",
   "metadata": {},
   "source": [
    "## Instalación de Plotly\n",
    "\n",
    "Para comenzar a utilizar Plotly en Python, primero es necesario instalar la librería. Plotly se distribuye a través de `pip`, el gestor de paquetes de Python, lo que facilita su instalación. A continuación te mostramos los pasos para instalarlo:\n",
    "\n",
    "### Instalación mediante `pip`\n",
    "\n",
    "Puedes instalar Plotly ejecutando el siguiente comando en la terminal o en una celda de código de tu Jupyter Notebook:\n"
   ]
  },
  {
   "cell_type": "code",
   "execution_count": 1,
   "metadata": {},
   "outputs": [
    {
     "name": "stdout",
     "output_type": "stream",
     "text": [
      "Collecting plotly==5.24.1\n",
      "  Using cached plotly-5.24.1-py3-none-any.whl.metadata (7.3 kB)\n",
      "Requirement already satisfied: tenacity>=6.2.0 in c:\\users\\cristian\\anaconda3\\envs\\tad-vd\\lib\\site-packages (from plotly==5.24.1) (9.0.0)\n",
      "Requirement already satisfied: packaging in c:\\users\\cristian\\anaconda3\\envs\\tad-vd\\lib\\site-packages (from plotly==5.24.1) (24.1)\n",
      "Using cached plotly-5.24.1-py3-none-any.whl (19.1 MB)\n",
      "Installing collected packages: plotly\n",
      "  Attempting uninstall: plotly\n",
      "    Found existing installation: plotly 5.5.0\n",
      "    Uninstalling plotly-5.5.0:\n",
      "      Successfully uninstalled plotly-5.5.0\n",
      "Successfully installed plotly-5.24.1\n",
      "Requirement already satisfied: dash in c:\\users\\cristian\\anaconda3\\envs\\tad-vd\\lib\\site-packages (2.18.1)\n",
      "Requirement already satisfied: Flask<3.1,>=1.0.4 in c:\\users\\cristian\\anaconda3\\envs\\tad-vd\\lib\\site-packages (from dash) (3.0.3)\n",
      "Requirement already satisfied: Werkzeug<3.1 in c:\\users\\cristian\\anaconda3\\envs\\tad-vd\\lib\\site-packages (from dash) (3.0.6)\n",
      "Requirement already satisfied: plotly>=5.0.0 in c:\\users\\cristian\\anaconda3\\envs\\tad-vd\\lib\\site-packages (from dash) (5.24.1)\n",
      "Requirement already satisfied: dash-html-components==2.0.0 in c:\\users\\cristian\\anaconda3\\envs\\tad-vd\\lib\\site-packages (from dash) (2.0.0)\n",
      "Requirement already satisfied: dash-core-components==2.0.0 in c:\\users\\cristian\\anaconda3\\envs\\tad-vd\\lib\\site-packages (from dash) (2.0.0)\n",
      "Requirement already satisfied: dash-table==5.0.0 in c:\\users\\cristian\\anaconda3\\envs\\tad-vd\\lib\\site-packages (from dash) (5.0.0)\n",
      "Requirement already satisfied: importlib-metadata in c:\\users\\cristian\\anaconda3\\envs\\tad-vd\\lib\\site-packages (from dash) (8.5.0)\n",
      "Requirement already satisfied: typing-extensions>=4.1.1 in c:\\users\\cristian\\anaconda3\\envs\\tad-vd\\lib\\site-packages (from dash) (4.12.2)\n",
      "Requirement already satisfied: requests in c:\\users\\cristian\\anaconda3\\envs\\tad-vd\\lib\\site-packages (from dash) (2.32.3)\n",
      "Requirement already satisfied: retrying in c:\\users\\cristian\\anaconda3\\envs\\tad-vd\\lib\\site-packages (from dash) (1.3.4)\n",
      "Requirement already satisfied: nest-asyncio in c:\\users\\cristian\\anaconda3\\envs\\tad-vd\\lib\\site-packages (from dash) (1.6.0)\n",
      "Requirement already satisfied: setuptools in c:\\users\\cristian\\anaconda3\\envs\\tad-vd\\lib\\site-packages (from dash) (75.1.0)\n",
      "Requirement already satisfied: Jinja2>=3.1.2 in c:\\users\\cristian\\anaconda3\\envs\\tad-vd\\lib\\site-packages (from Flask<3.1,>=1.0.4->dash) (3.1.4)\n",
      "Requirement already satisfied: itsdangerous>=2.1.2 in c:\\users\\cristian\\anaconda3\\envs\\tad-vd\\lib\\site-packages (from Flask<3.1,>=1.0.4->dash) (2.2.0)\n",
      "Requirement already satisfied: click>=8.1.3 in c:\\users\\cristian\\anaconda3\\envs\\tad-vd\\lib\\site-packages (from Flask<3.1,>=1.0.4->dash) (8.1.7)\n",
      "Requirement already satisfied: blinker>=1.6.2 in c:\\users\\cristian\\anaconda3\\envs\\tad-vd\\lib\\site-packages (from Flask<3.1,>=1.0.4->dash) (1.8.2)\n",
      "Requirement already satisfied: tenacity>=6.2.0 in c:\\users\\cristian\\anaconda3\\envs\\tad-vd\\lib\\site-packages (from plotly>=5.0.0->dash) (9.0.0)\n",
      "Requirement already satisfied: packaging in c:\\users\\cristian\\anaconda3\\envs\\tad-vd\\lib\\site-packages (from plotly>=5.0.0->dash) (24.1)\n",
      "Requirement already satisfied: MarkupSafe>=2.1.1 in c:\\users\\cristian\\anaconda3\\envs\\tad-vd\\lib\\site-packages (from Werkzeug<3.1->dash) (3.0.2)\n",
      "Requirement already satisfied: zipp>=3.20 in c:\\users\\cristian\\anaconda3\\envs\\tad-vd\\lib\\site-packages (from importlib-metadata->dash) (3.20.2)\n",
      "Requirement already satisfied: charset-normalizer<4,>=2 in c:\\users\\cristian\\anaconda3\\envs\\tad-vd\\lib\\site-packages (from requests->dash) (3.4.0)\n",
      "Requirement already satisfied: idna<4,>=2.5 in c:\\users\\cristian\\anaconda3\\envs\\tad-vd\\lib\\site-packages (from requests->dash) (3.10)\n",
      "Requirement already satisfied: urllib3<3,>=1.21.1 in c:\\users\\cristian\\anaconda3\\envs\\tad-vd\\lib\\site-packages (from requests->dash) (2.2.3)\n",
      "Requirement already satisfied: certifi>=2017.4.17 in c:\\users\\cristian\\anaconda3\\envs\\tad-vd\\lib\\site-packages (from requests->dash) (2024.8.30)\n",
      "Requirement already satisfied: six>=1.7.0 in c:\\users\\cristian\\anaconda3\\envs\\tad-vd\\lib\\site-packages (from retrying->dash) (1.16.0)\n",
      "Requirement already satisfied: colorama in c:\\users\\cristian\\anaconda3\\envs\\tad-vd\\lib\\site-packages (from click>=8.1.3->Flask<3.1,>=1.0.4->dash) (0.4.6)\n",
      "Requirement already satisfied: pandas in c:\\users\\cristian\\anaconda3\\envs\\tad-vd\\lib\\site-packages (2.2.3)\n",
      "Requirement already satisfied: numpy>=1.22.4 in c:\\users\\cristian\\anaconda3\\envs\\tad-vd\\lib\\site-packages (from pandas) (2.1.2)\n",
      "Requirement already satisfied: python-dateutil>=2.8.2 in c:\\users\\cristian\\anaconda3\\envs\\tad-vd\\lib\\site-packages (from pandas) (2.9.0)\n",
      "Requirement already satisfied: pytz>=2020.1 in c:\\users\\cristian\\anaconda3\\envs\\tad-vd\\lib\\site-packages (from pandas) (2024.2)\n",
      "Requirement already satisfied: tzdata>=2022.7 in c:\\users\\cristian\\anaconda3\\envs\\tad-vd\\lib\\site-packages (from pandas) (2024.2)\n",
      "Requirement already satisfied: six>=1.5 in c:\\users\\cristian\\anaconda3\\envs\\tad-vd\\lib\\site-packages (from python-dateutil>=2.8.2->pandas) (1.16.0)\n",
      "Requirement already satisfied: statsmodels in c:\\users\\cristian\\anaconda3\\envs\\tad-vd\\lib\\site-packages (0.14.4)\n",
      "Requirement already satisfied: numpy<3,>=1.22.3 in c:\\users\\cristian\\anaconda3\\envs\\tad-vd\\lib\\site-packages (from statsmodels) (2.1.2)\n",
      "Requirement already satisfied: scipy!=1.9.2,>=1.8 in c:\\users\\cristian\\anaconda3\\envs\\tad-vd\\lib\\site-packages (from statsmodels) (1.14.1)\n",
      "Requirement already satisfied: pandas!=2.1.0,>=1.4 in c:\\users\\cristian\\anaconda3\\envs\\tad-vd\\lib\\site-packages (from statsmodels) (2.2.3)\n",
      "Requirement already satisfied: patsy>=0.5.6 in c:\\users\\cristian\\anaconda3\\envs\\tad-vd\\lib\\site-packages (from statsmodels) (0.5.6)\n",
      "Requirement already satisfied: packaging>=21.3 in c:\\users\\cristian\\anaconda3\\envs\\tad-vd\\lib\\site-packages (from statsmodels) (24.1)\n",
      "Requirement already satisfied: python-dateutil>=2.8.2 in c:\\users\\cristian\\anaconda3\\envs\\tad-vd\\lib\\site-packages (from pandas!=2.1.0,>=1.4->statsmodels) (2.9.0)\n",
      "Requirement already satisfied: pytz>=2020.1 in c:\\users\\cristian\\anaconda3\\envs\\tad-vd\\lib\\site-packages (from pandas!=2.1.0,>=1.4->statsmodels) (2024.2)\n",
      "Requirement already satisfied: tzdata>=2022.7 in c:\\users\\cristian\\anaconda3\\envs\\tad-vd\\lib\\site-packages (from pandas!=2.1.0,>=1.4->statsmodels) (2024.2)\n",
      "Requirement already satisfied: six in c:\\users\\cristian\\anaconda3\\envs\\tad-vd\\lib\\site-packages (from patsy>=0.5.6->statsmodels) (1.16.0)\n",
      "Requirement already satisfied: nbformat in c:\\users\\cristian\\anaconda3\\envs\\tad-vd\\lib\\site-packages (5.10.4)\n",
      "Requirement already satisfied: fastjsonschema>=2.15 in c:\\users\\cristian\\anaconda3\\envs\\tad-vd\\lib\\site-packages (from nbformat) (2.20.0)\n",
      "Requirement already satisfied: jsonschema>=2.6 in c:\\users\\cristian\\anaconda3\\envs\\tad-vd\\lib\\site-packages (from nbformat) (4.23.0)\n",
      "Requirement already satisfied: jupyter-core!=5.0.*,>=4.12 in c:\\users\\cristian\\anaconda3\\envs\\tad-vd\\lib\\site-packages (from nbformat) (5.7.2)\n",
      "Requirement already satisfied: traitlets>=5.1 in c:\\users\\cristian\\anaconda3\\envs\\tad-vd\\lib\\site-packages (from nbformat) (5.14.3)\n",
      "Requirement already satisfied: attrs>=22.2.0 in c:\\users\\cristian\\anaconda3\\envs\\tad-vd\\lib\\site-packages (from jsonschema>=2.6->nbformat) (24.2.0)\n",
      "Requirement already satisfied: jsonschema-specifications>=2023.03.6 in c:\\users\\cristian\\anaconda3\\envs\\tad-vd\\lib\\site-packages (from jsonschema>=2.6->nbformat) (2024.10.1)\n",
      "Requirement already satisfied: referencing>=0.28.4 in c:\\users\\cristian\\anaconda3\\envs\\tad-vd\\lib\\site-packages (from jsonschema>=2.6->nbformat) (0.35.1)\n",
      "Requirement already satisfied: rpds-py>=0.7.1 in c:\\users\\cristian\\anaconda3\\envs\\tad-vd\\lib\\site-packages (from jsonschema>=2.6->nbformat) (0.20.0)\n",
      "Requirement already satisfied: platformdirs>=2.5 in c:\\users\\cristian\\anaconda3\\envs\\tad-vd\\lib\\site-packages (from jupyter-core!=5.0.*,>=4.12->nbformat) (4.3.6)\n",
      "Requirement already satisfied: pywin32>=300 in c:\\users\\cristian\\anaconda3\\envs\\tad-vd\\lib\\site-packages (from jupyter-core!=5.0.*,>=4.12->nbformat) (307)\n"
     ]
    }
   ],
   "source": [
    "! pip install plotly==5.24.1\n",
    "! pip install dash\n",
    "! pip install pandas\n",
    "! pip install statsmodels\n",
    "! pip install --upgrade nbformat"
   ]
  },
  {
   "cell_type": "markdown",
   "metadata": {},
   "source": [
    "Después de realizar estas instalaciones reinicie el kernel."
   ]
  }
 ],
 "metadata": {
  "kernelspec": {
   "display_name": "tad-vd",
   "language": "python",
   "name": "python3"
  },
  "language_info": {
   "codemirror_mode": {
    "name": "ipython",
    "version": 3
   },
   "file_extension": ".py",
   "mimetype": "text/x-python",
   "name": "python",
   "nbconvert_exporter": "python",
   "pygments_lexer": "ipython3",
   "version": "3.10.15"
  }
 },
 "nbformat": 4,
 "nbformat_minor": 2
}
