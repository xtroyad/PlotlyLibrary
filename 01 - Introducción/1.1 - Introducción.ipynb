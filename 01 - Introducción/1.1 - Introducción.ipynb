{
 "cells": [
  {
   "cell_type": "markdown",
   "metadata": {},
   "source": [
    "# 1.1.1 Introducción a Plotly\n",
    "\n",
    "## ¿Qué es Plotly?\n",
    "\n",
    "Plotly es una librería de visualización interactiva de datos que permite la creación de gráficos y dashboards dinámicos y de alta calidad en Python, R, JavaScript y otras plataformas. Fue diseñada para que los usuarios puedan generar gráficos interactivos sin necesidad de conocimientos avanzados de JavaScript o herramientas frontend. \n",
    "\n",
    "### Características principales de Plotly:\n",
    "\n",
    "1. **Gráficos interactivos**: Plotly permite crear gráficos que responden a acciones del usuario, como zoom, desplazamiento y selección de puntos de datos.\n",
    "  \n",
    "2. **Diversidad de gráficos**: Soporta una amplia variedad de visualizaciones como gráficos de líneas, barras, áreas, dispersión, mapas de calor, gráficos de torta, gráficos 3D, y más.\n",
    "  \n",
    "3. **Integración con Jupyter Notebook**: Plotly se integra de manera fluida con Jupyter Notebooks, permitiendo visualizar gráficos directamente en el entorno interactivo.\n",
    "\n",
    "4. **Facilidad de uso**: A pesar de ser altamente personalizable, Plotly tiene una API simple y fácil de entender, lo que lo hace accesible para usuarios nuevos.\n",
    "\n",
    "5. **Personalización**: Los gráficos en Plotly pueden ser personalizados a gran escala, incluyendo el control de colores, ejes, leyendas, títulos y anotaciones.\n",
    "\n",
    "6. **Dash**: Plotly también soporta la creación de dashboards interactivos a través de su framework `Dash`, que combina visualizaciones interactivas con aplicaciones web completas.\n",
    "\n",
    "### Aplicaciones típicas:\n",
    "\n",
    "- **Análisis de datos interactivo**: Plotly es ampliamente utilizado en ciencia de datos, machine learning y análisis financiero para representar datos complejos de una manera visualmente atractiva.\n",
    "  \n",
    "- **Visualización en tiempo real**: Permite la creación de gráficos que se actualizan en tiempo real, ideal para monitoreo y análisis continuo de datos.\n",
    "  \n",
    "- **Presentaciones y reportes**: Los gráficos de Plotly pueden integrarse fácilmente en presentaciones y reportes, ya sea en formato web, notebooks o PDFs.\n",
    "\n",
    "En resumen, Plotly es una herramienta poderosa que combina la simplicidad de uso con la capacidad de crear visualizaciones avanzadas, siendo ideal tanto para análisis exploratorio como para la creación de visualizaciones interactivas de alto impacto.\n"
   ]
  },
  {
   "cell_type": "markdown",
   "metadata": {},
   "source": [
    "# 1.1.2 Instalación de Plotly\n",
    "\n",
    "Para comenzar a utilizar Plotly en Python, primero es necesario instalar la librería. Plotly se distribuye a través de `pip`, el gestor de paquetes de Python, lo que facilita su instalación. A continuación te mostramos los pasos para instalarlo:\n",
    "\n",
    "### Instalación mediante `pip`\n",
    "\n",
    "Puedes instalar Plotly ejecutando el siguiente comando en la terminal o en una celda de código de tu Jupyter Notebook:\n"
   ]
  },
  {
   "cell_type": "code",
   "execution_count": null,
   "metadata": {},
   "outputs": [],
   "source": [
    "! pip install plotly==5.24.1\n",
    "! pip install dash\n",
    "! pip install pandas\n",
    "! pip install statsmodels\n",
    "! pip install --upgrade nbformat"
   ]
  },
  {
   "cell_type": "markdown",
   "metadata": {},
   "source": [
    "Después de realizar estas instalaciones reinicie el kernel."
   ]
  },
  {
   "cell_type": "markdown",
   "metadata": {},
   "source": [
    "# 1.1.2 Alternativa. Proyecto con Docker\n",
    "\n",
    "Esta sección describe cómo configurar y ejecutar el proyecto utilizando una imagen de Docker almacenada en Docker Hub. Esta alternativa permite trabajar en un entorno controlado sin necesidad de configurar manualmente las dependencias en tu sistema.\n",
    "\n",
    "## Prerrequisitos\n",
    "\n",
    "1. Tener Docker y Docker Compose instalados. Si no los tienes, sigue las instrucciones en la [página oficial de Docker](https://docs.docker.com/get-docker/).\n",
    "\n",
    "## Pasos para instalar y ejecutar el proyecto con Docker\n",
    "\n",
    "### 1. Verificar el archivo `docker-compose.yml`\n",
    "\n",
    "El archivo `docker-compose.yml` en este repositorio está configurado para descargar la imagen desde Docker Hub y ejecutar el contenedor de Jupyter Notebook en el puerto 8888. Asegúrate de que contiene la siguiente configuración:\n",
    "\n",
    "```yaml\n",
    "services:\n",
    "  jupyter:\n",
    "    image: xtroyad/plotly_lib:latest\n",
    "    ports:\n",
    "      - \"8888:8888\"\n",
    "    volumes:\n",
    "      - ./:/app\n",
    "    environment:\n",
    "      - JUPYTER_ENABLE_LAB=yes\n"
   ]
  },
  {
   "cell_type": "markdown",
   "metadata": {},
   "source": [
    "### 2. Ejecutar Docker Compose\n",
    "\n",
    "Para iniciar el servicio de Jupyter Notebook, ejecuta el siguiente comando en el directorio raíz del proyecto (donde se encuentra `docker-compose.yml`):\n",
    "\n",
    "```bash\n",
    "docker compose up\n"
   ]
  },
  {
   "cell_type": "markdown",
   "metadata": {},
   "source": [
    "### 3. Acceso a Jupyter Notebook\n",
    "\n",
    "Una vez que el contenedor esté ejecutándose, verás una URL en la terminal con un token de autenticación. Abre esa URL en un navegador para acceder a Jupyter Notebook.\n",
    "\n",
    "Algo parecido a lo siguiente pero con un token:\n",
    "http://127.0.0.1:8888/lab?token=\n",
    "\n",
    "Los herrores adicionales que puedan salir ignórelos. Salen al crear por primera vez el contenedor."
   ]
  }
 ],
 "metadata": {
  "kernelspec": {
   "display_name": "tad-vd",
   "language": "python",
   "name": "python3"
  },
  "language_info": {
   "codemirror_mode": {
    "name": "ipython",
    "version": 3
   },
   "file_extension": ".py",
   "mimetype": "text/x-python",
   "name": "python",
   "nbconvert_exporter": "python",
   "pygments_lexer": "ipython3",
   "version": "3.10.15"
  }
 },
 "nbformat": 4,
 "nbformat_minor": 2
}
