{
 "cells": [
  {
   "cell_type": "markdown",
   "metadata": {},
   "source": [
    "# LIBRERIAS"
   ]
  },
  {
   "cell_type": "code",
   "execution_count": 6,
   "metadata": {},
   "outputs": [
    {
     "data": {
      "text/html": [
       "<div>\n",
       "<style scoped>\n",
       "    .dataframe tbody tr th:only-of-type {\n",
       "        vertical-align: middle;\n",
       "    }\n",
       "\n",
       "    .dataframe tbody tr th {\n",
       "        vertical-align: top;\n",
       "    }\n",
       "\n",
       "    .dataframe thead th {\n",
       "        text-align: right;\n",
       "    }\n",
       "</style>\n",
       "<table border=\"1\" class=\"dataframe\">\n",
       "  <thead>\n",
       "    <tr style=\"text-align: right;\">\n",
       "      <th></th>\n",
       "      <th>Age</th>\n",
       "      <th>Gender</th>\n",
       "      <th>Weight (kg)</th>\n",
       "      <th>Height (m)</th>\n",
       "      <th>Max_BPM</th>\n",
       "      <th>Avg_BPM</th>\n",
       "      <th>Resting_BPM</th>\n",
       "      <th>Session_Duration (hours)</th>\n",
       "      <th>Calories_Burned</th>\n",
       "      <th>Workout_Type</th>\n",
       "      <th>Fat_Percentage</th>\n",
       "      <th>Water_Intake (liters)</th>\n",
       "      <th>Workout_Frequency (days/week)</th>\n",
       "      <th>Experience_Level</th>\n",
       "      <th>BMI</th>\n",
       "    </tr>\n",
       "  </thead>\n",
       "  <tbody>\n",
       "    <tr>\n",
       "      <th>0</th>\n",
       "      <td>56</td>\n",
       "      <td>Male</td>\n",
       "      <td>88.3</td>\n",
       "      <td>1.71</td>\n",
       "      <td>180</td>\n",
       "      <td>157</td>\n",
       "      <td>60</td>\n",
       "      <td>1.69</td>\n",
       "      <td>1313.0</td>\n",
       "      <td>Yoga</td>\n",
       "      <td>12.6</td>\n",
       "      <td>3.5</td>\n",
       "      <td>4</td>\n",
       "      <td>3</td>\n",
       "      <td>30.20</td>\n",
       "    </tr>\n",
       "    <tr>\n",
       "      <th>1</th>\n",
       "      <td>46</td>\n",
       "      <td>Female</td>\n",
       "      <td>74.9</td>\n",
       "      <td>1.53</td>\n",
       "      <td>179</td>\n",
       "      <td>151</td>\n",
       "      <td>66</td>\n",
       "      <td>1.30</td>\n",
       "      <td>883.0</td>\n",
       "      <td>HIIT</td>\n",
       "      <td>33.9</td>\n",
       "      <td>2.1</td>\n",
       "      <td>4</td>\n",
       "      <td>2</td>\n",
       "      <td>32.00</td>\n",
       "    </tr>\n",
       "    <tr>\n",
       "      <th>2</th>\n",
       "      <td>32</td>\n",
       "      <td>Female</td>\n",
       "      <td>68.1</td>\n",
       "      <td>1.66</td>\n",
       "      <td>167</td>\n",
       "      <td>122</td>\n",
       "      <td>54</td>\n",
       "      <td>1.11</td>\n",
       "      <td>677.0</td>\n",
       "      <td>Cardio</td>\n",
       "      <td>33.4</td>\n",
       "      <td>2.3</td>\n",
       "      <td>4</td>\n",
       "      <td>2</td>\n",
       "      <td>24.71</td>\n",
       "    </tr>\n",
       "    <tr>\n",
       "      <th>3</th>\n",
       "      <td>25</td>\n",
       "      <td>Male</td>\n",
       "      <td>53.2</td>\n",
       "      <td>1.70</td>\n",
       "      <td>190</td>\n",
       "      <td>164</td>\n",
       "      <td>56</td>\n",
       "      <td>0.59</td>\n",
       "      <td>532.0</td>\n",
       "      <td>Strength</td>\n",
       "      <td>28.8</td>\n",
       "      <td>2.1</td>\n",
       "      <td>3</td>\n",
       "      <td>1</td>\n",
       "      <td>18.41</td>\n",
       "    </tr>\n",
       "    <tr>\n",
       "      <th>4</th>\n",
       "      <td>38</td>\n",
       "      <td>Male</td>\n",
       "      <td>46.1</td>\n",
       "      <td>1.79</td>\n",
       "      <td>188</td>\n",
       "      <td>158</td>\n",
       "      <td>68</td>\n",
       "      <td>0.64</td>\n",
       "      <td>556.0</td>\n",
       "      <td>Strength</td>\n",
       "      <td>29.2</td>\n",
       "      <td>2.8</td>\n",
       "      <td>3</td>\n",
       "      <td>1</td>\n",
       "      <td>14.39</td>\n",
       "    </tr>\n",
       "  </tbody>\n",
       "</table>\n",
       "</div>"
      ],
      "text/plain": [
       "   Age  Gender  Weight (kg)  Height (m)  Max_BPM  Avg_BPM  Resting_BPM  \\\n",
       "0   56    Male         88.3        1.71      180      157           60   \n",
       "1   46  Female         74.9        1.53      179      151           66   \n",
       "2   32  Female         68.1        1.66      167      122           54   \n",
       "3   25    Male         53.2        1.70      190      164           56   \n",
       "4   38    Male         46.1        1.79      188      158           68   \n",
       "\n",
       "   Session_Duration (hours)  Calories_Burned Workout_Type  Fat_Percentage  \\\n",
       "0                      1.69           1313.0         Yoga            12.6   \n",
       "1                      1.30            883.0         HIIT            33.9   \n",
       "2                      1.11            677.0       Cardio            33.4   \n",
       "3                      0.59            532.0     Strength            28.8   \n",
       "4                      0.64            556.0     Strength            29.2   \n",
       "\n",
       "   Water_Intake (liters)  Workout_Frequency (days/week)  Experience_Level  \\\n",
       "0                    3.5                              4                 3   \n",
       "1                    2.1                              4                 2   \n",
       "2                    2.3                              4                 2   \n",
       "3                    2.1                              3                 1   \n",
       "4                    2.8                              3                 1   \n",
       "\n",
       "     BMI  \n",
       "0  30.20  \n",
       "1  32.00  \n",
       "2  24.71  \n",
       "3  18.41  \n",
       "4  14.39  "
      ]
     },
     "execution_count": 6,
     "metadata": {},
     "output_type": "execute_result"
    }
   ],
   "source": [
    "import pandas as pd\n",
    "gym_df = pd.read_csv('../datasets/gym_ex.csv', sep=\";\")\n",
    "gym_df.head()"
   ]
  },
  {
   "cell_type": "markdown",
   "metadata": {},
   "source": [
    "# 3.1.1 Gráficos de dispersión\n",
    "\n",
    "`Plotly Express` es una interfaz de alto nivel y fácil de usar para Plotly, que trabaja con distintos tipos de datos y permite crear figuras personalizables de manera sencilla.\n",
    "\n",
    "Con `px.scatter`, cada punto de datos se representa como un marcador cuya ubicación está determinada por las columnas `x` e `y`.\n"
   ]
  },
  {
   "cell_type": "code",
   "execution_count": null,
   "metadata": {},
   "outputs": [
    {
     "data": {
      "application/vnd.plotly.v1+json": {
       "config": {
        "plotlyServerURL": "https://plot.ly"
       },
       "data": [
        {
         "hovertemplate": "x=%{x}<br>y=%{y}<extra></extra>",
         "legendgroup": "",
         "marker": {
          "color": "#636efa",
          "symbol": "circle"
         },
         "mode": "markers",
         "name": "",
         "orientation": "v",
         "showlegend": false,
         "type": "scatter",
         "x": [
          0,
          1,
          2,
          3,
          4
         ],
         "xaxis": "x",
         "y": [
          0,
          1,
          4,
          9,
          16
         ],
         "yaxis": "y"
        }
       ],
       "layout": {
        "height": 400,
        "legend": {
         "tracegroupgap": 0
        },
        "margin": {
         "t": 60
        },
        "template": {
         "data": {
          "bar": [
           {
            "error_x": {
             "color": "#2a3f5f"
            },
            "error_y": {
             "color": "#2a3f5f"
            },
            "marker": {
             "line": {
              "color": "#E5ECF6",
              "width": 0.5
             },
             "pattern": {
              "fillmode": "overlay",
              "size": 10,
              "solidity": 0.2
             }
            },
            "type": "bar"
           }
          ],
          "barpolar": [
           {
            "marker": {
             "line": {
              "color": "#E5ECF6",
              "width": 0.5
             },
             "pattern": {
              "fillmode": "overlay",
              "size": 10,
              "solidity": 0.2
             }
            },
            "type": "barpolar"
           }
          ],
          "carpet": [
           {
            "aaxis": {
             "endlinecolor": "#2a3f5f",
             "gridcolor": "white",
             "linecolor": "white",
             "minorgridcolor": "white",
             "startlinecolor": "#2a3f5f"
            },
            "baxis": {
             "endlinecolor": "#2a3f5f",
             "gridcolor": "white",
             "linecolor": "white",
             "minorgridcolor": "white",
             "startlinecolor": "#2a3f5f"
            },
            "type": "carpet"
           }
          ],
          "choropleth": [
           {
            "colorbar": {
             "outlinewidth": 0,
             "ticks": ""
            },
            "type": "choropleth"
           }
          ],
          "contour": [
           {
            "colorbar": {
             "outlinewidth": 0,
             "ticks": ""
            },
            "colorscale": [
             [
              0,
              "#0d0887"
             ],
             [
              0.1111111111111111,
              "#46039f"
             ],
             [
              0.2222222222222222,
              "#7201a8"
             ],
             [
              0.3333333333333333,
              "#9c179e"
             ],
             [
              0.4444444444444444,
              "#bd3786"
             ],
             [
              0.5555555555555556,
              "#d8576b"
             ],
             [
              0.6666666666666666,
              "#ed7953"
             ],
             [
              0.7777777777777778,
              "#fb9f3a"
             ],
             [
              0.8888888888888888,
              "#fdca26"
             ],
             [
              1,
              "#f0f921"
             ]
            ],
            "type": "contour"
           }
          ],
          "contourcarpet": [
           {
            "colorbar": {
             "outlinewidth": 0,
             "ticks": ""
            },
            "type": "contourcarpet"
           }
          ],
          "heatmap": [
           {
            "colorbar": {
             "outlinewidth": 0,
             "ticks": ""
            },
            "colorscale": [
             [
              0,
              "#0d0887"
             ],
             [
              0.1111111111111111,
              "#46039f"
             ],
             [
              0.2222222222222222,
              "#7201a8"
             ],
             [
              0.3333333333333333,
              "#9c179e"
             ],
             [
              0.4444444444444444,
              "#bd3786"
             ],
             [
              0.5555555555555556,
              "#d8576b"
             ],
             [
              0.6666666666666666,
              "#ed7953"
             ],
             [
              0.7777777777777778,
              "#fb9f3a"
             ],
             [
              0.8888888888888888,
              "#fdca26"
             ],
             [
              1,
              "#f0f921"
             ]
            ],
            "type": "heatmap"
           }
          ],
          "heatmapgl": [
           {
            "colorbar": {
             "outlinewidth": 0,
             "ticks": ""
            },
            "colorscale": [
             [
              0,
              "#0d0887"
             ],
             [
              0.1111111111111111,
              "#46039f"
             ],
             [
              0.2222222222222222,
              "#7201a8"
             ],
             [
              0.3333333333333333,
              "#9c179e"
             ],
             [
              0.4444444444444444,
              "#bd3786"
             ],
             [
              0.5555555555555556,
              "#d8576b"
             ],
             [
              0.6666666666666666,
              "#ed7953"
             ],
             [
              0.7777777777777778,
              "#fb9f3a"
             ],
             [
              0.8888888888888888,
              "#fdca26"
             ],
             [
              1,
              "#f0f921"
             ]
            ],
            "type": "heatmapgl"
           }
          ],
          "histogram": [
           {
            "marker": {
             "pattern": {
              "fillmode": "overlay",
              "size": 10,
              "solidity": 0.2
             }
            },
            "type": "histogram"
           }
          ],
          "histogram2d": [
           {
            "colorbar": {
             "outlinewidth": 0,
             "ticks": ""
            },
            "colorscale": [
             [
              0,
              "#0d0887"
             ],
             [
              0.1111111111111111,
              "#46039f"
             ],
             [
              0.2222222222222222,
              "#7201a8"
             ],
             [
              0.3333333333333333,
              "#9c179e"
             ],
             [
              0.4444444444444444,
              "#bd3786"
             ],
             [
              0.5555555555555556,
              "#d8576b"
             ],
             [
              0.6666666666666666,
              "#ed7953"
             ],
             [
              0.7777777777777778,
              "#fb9f3a"
             ],
             [
              0.8888888888888888,
              "#fdca26"
             ],
             [
              1,
              "#f0f921"
             ]
            ],
            "type": "histogram2d"
           }
          ],
          "histogram2dcontour": [
           {
            "colorbar": {
             "outlinewidth": 0,
             "ticks": ""
            },
            "colorscale": [
             [
              0,
              "#0d0887"
             ],
             [
              0.1111111111111111,
              "#46039f"
             ],
             [
              0.2222222222222222,
              "#7201a8"
             ],
             [
              0.3333333333333333,
              "#9c179e"
             ],
             [
              0.4444444444444444,
              "#bd3786"
             ],
             [
              0.5555555555555556,
              "#d8576b"
             ],
             [
              0.6666666666666666,
              "#ed7953"
             ],
             [
              0.7777777777777778,
              "#fb9f3a"
             ],
             [
              0.8888888888888888,
              "#fdca26"
             ],
             [
              1,
              "#f0f921"
             ]
            ],
            "type": "histogram2dcontour"
           }
          ],
          "mesh3d": [
           {
            "colorbar": {
             "outlinewidth": 0,
             "ticks": ""
            },
            "type": "mesh3d"
           }
          ],
          "parcoords": [
           {
            "line": {
             "colorbar": {
              "outlinewidth": 0,
              "ticks": ""
             }
            },
            "type": "parcoords"
           }
          ],
          "pie": [
           {
            "automargin": true,
            "type": "pie"
           }
          ],
          "scatter": [
           {
            "fillpattern": {
             "fillmode": "overlay",
             "size": 10,
             "solidity": 0.2
            },
            "type": "scatter"
           }
          ],
          "scatter3d": [
           {
            "line": {
             "colorbar": {
              "outlinewidth": 0,
              "ticks": ""
             }
            },
            "marker": {
             "colorbar": {
              "outlinewidth": 0,
              "ticks": ""
             }
            },
            "type": "scatter3d"
           }
          ],
          "scattercarpet": [
           {
            "marker": {
             "colorbar": {
              "outlinewidth": 0,
              "ticks": ""
             }
            },
            "type": "scattercarpet"
           }
          ],
          "scattergeo": [
           {
            "marker": {
             "colorbar": {
              "outlinewidth": 0,
              "ticks": ""
             }
            },
            "type": "scattergeo"
           }
          ],
          "scattergl": [
           {
            "marker": {
             "colorbar": {
              "outlinewidth": 0,
              "ticks": ""
             }
            },
            "type": "scattergl"
           }
          ],
          "scattermapbox": [
           {
            "marker": {
             "colorbar": {
              "outlinewidth": 0,
              "ticks": ""
             }
            },
            "type": "scattermapbox"
           }
          ],
          "scatterpolar": [
           {
            "marker": {
             "colorbar": {
              "outlinewidth": 0,
              "ticks": ""
             }
            },
            "type": "scatterpolar"
           }
          ],
          "scatterpolargl": [
           {
            "marker": {
             "colorbar": {
              "outlinewidth": 0,
              "ticks": ""
             }
            },
            "type": "scatterpolargl"
           }
          ],
          "scatterternary": [
           {
            "marker": {
             "colorbar": {
              "outlinewidth": 0,
              "ticks": ""
             }
            },
            "type": "scatterternary"
           }
          ],
          "surface": [
           {
            "colorbar": {
             "outlinewidth": 0,
             "ticks": ""
            },
            "colorscale": [
             [
              0,
              "#0d0887"
             ],
             [
              0.1111111111111111,
              "#46039f"
             ],
             [
              0.2222222222222222,
              "#7201a8"
             ],
             [
              0.3333333333333333,
              "#9c179e"
             ],
             [
              0.4444444444444444,
              "#bd3786"
             ],
             [
              0.5555555555555556,
              "#d8576b"
             ],
             [
              0.6666666666666666,
              "#ed7953"
             ],
             [
              0.7777777777777778,
              "#fb9f3a"
             ],
             [
              0.8888888888888888,
              "#fdca26"
             ],
             [
              1,
              "#f0f921"
             ]
            ],
            "type": "surface"
           }
          ],
          "table": [
           {
            "cells": {
             "fill": {
              "color": "#EBF0F8"
             },
             "line": {
              "color": "white"
             }
            },
            "header": {
             "fill": {
              "color": "#C8D4E3"
             },
             "line": {
              "color": "white"
             }
            },
            "type": "table"
           }
          ]
         },
         "layout": {
          "annotationdefaults": {
           "arrowcolor": "#2a3f5f",
           "arrowhead": 0,
           "arrowwidth": 1
          },
          "autotypenumbers": "strict",
          "coloraxis": {
           "colorbar": {
            "outlinewidth": 0,
            "ticks": ""
           }
          },
          "colorscale": {
           "diverging": [
            [
             0,
             "#8e0152"
            ],
            [
             0.1,
             "#c51b7d"
            ],
            [
             0.2,
             "#de77ae"
            ],
            [
             0.3,
             "#f1b6da"
            ],
            [
             0.4,
             "#fde0ef"
            ],
            [
             0.5,
             "#f7f7f7"
            ],
            [
             0.6,
             "#e6f5d0"
            ],
            [
             0.7,
             "#b8e186"
            ],
            [
             0.8,
             "#7fbc41"
            ],
            [
             0.9,
             "#4d9221"
            ],
            [
             1,
             "#276419"
            ]
           ],
           "sequential": [
            [
             0,
             "#0d0887"
            ],
            [
             0.1111111111111111,
             "#46039f"
            ],
            [
             0.2222222222222222,
             "#7201a8"
            ],
            [
             0.3333333333333333,
             "#9c179e"
            ],
            [
             0.4444444444444444,
             "#bd3786"
            ],
            [
             0.5555555555555556,
             "#d8576b"
            ],
            [
             0.6666666666666666,
             "#ed7953"
            ],
            [
             0.7777777777777778,
             "#fb9f3a"
            ],
            [
             0.8888888888888888,
             "#fdca26"
            ],
            [
             1,
             "#f0f921"
            ]
           ],
           "sequentialminus": [
            [
             0,
             "#0d0887"
            ],
            [
             0.1111111111111111,
             "#46039f"
            ],
            [
             0.2222222222222222,
             "#7201a8"
            ],
            [
             0.3333333333333333,
             "#9c179e"
            ],
            [
             0.4444444444444444,
             "#bd3786"
            ],
            [
             0.5555555555555556,
             "#d8576b"
            ],
            [
             0.6666666666666666,
             "#ed7953"
            ],
            [
             0.7777777777777778,
             "#fb9f3a"
            ],
            [
             0.8888888888888888,
             "#fdca26"
            ],
            [
             1,
             "#f0f921"
            ]
           ]
          },
          "colorway": [
           "#636efa",
           "#EF553B",
           "#00cc96",
           "#ab63fa",
           "#FFA15A",
           "#19d3f3",
           "#FF6692",
           "#B6E880",
           "#FF97FF",
           "#FECB52"
          ],
          "font": {
           "color": "#2a3f5f"
          },
          "geo": {
           "bgcolor": "white",
           "lakecolor": "white",
           "landcolor": "#E5ECF6",
           "showlakes": true,
           "showland": true,
           "subunitcolor": "white"
          },
          "hoverlabel": {
           "align": "left"
          },
          "hovermode": "closest",
          "mapbox": {
           "style": "light"
          },
          "paper_bgcolor": "white",
          "plot_bgcolor": "#E5ECF6",
          "polar": {
           "angularaxis": {
            "gridcolor": "white",
            "linecolor": "white",
            "ticks": ""
           },
           "bgcolor": "#E5ECF6",
           "radialaxis": {
            "gridcolor": "white",
            "linecolor": "white",
            "ticks": ""
           }
          },
          "scene": {
           "xaxis": {
            "backgroundcolor": "#E5ECF6",
            "gridcolor": "white",
            "gridwidth": 2,
            "linecolor": "white",
            "showbackground": true,
            "ticks": "",
            "zerolinecolor": "white"
           },
           "yaxis": {
            "backgroundcolor": "#E5ECF6",
            "gridcolor": "white",
            "gridwidth": 2,
            "linecolor": "white",
            "showbackground": true,
            "ticks": "",
            "zerolinecolor": "white"
           },
           "zaxis": {
            "backgroundcolor": "#E5ECF6",
            "gridcolor": "white",
            "gridwidth": 2,
            "linecolor": "white",
            "showbackground": true,
            "ticks": "",
            "zerolinecolor": "white"
           }
          },
          "shapedefaults": {
           "line": {
            "color": "#2a3f5f"
           }
          },
          "ternary": {
           "aaxis": {
            "gridcolor": "white",
            "linecolor": "white",
            "ticks": ""
           },
           "baxis": {
            "gridcolor": "white",
            "linecolor": "white",
            "ticks": ""
           },
           "bgcolor": "#E5ECF6",
           "caxis": {
            "gridcolor": "white",
            "linecolor": "white",
            "ticks": ""
           }
          },
          "title": {
           "x": 0.05
          },
          "xaxis": {
           "automargin": true,
           "gridcolor": "white",
           "linecolor": "white",
           "ticks": "",
           "title": {
            "standoff": 15
           },
           "zerolinecolor": "white",
           "zerolinewidth": 2
          },
          "yaxis": {
           "automargin": true,
           "gridcolor": "white",
           "linecolor": "white",
           "ticks": "",
           "title": {
            "standoff": 15
           },
           "zerolinecolor": "white",
           "zerolinewidth": 2
          }
         }
        },
        "width": 400,
        "xaxis": {
         "anchor": "y",
         "domain": [
          0,
          1
         ],
         "title": {
          "text": "x"
         }
        },
        "yaxis": {
         "anchor": "x",
         "domain": [
          0,
          1
         ],
         "title": {
          "text": "y"
         }
        }
       }
      }
     },
     "metadata": {},
     "output_type": "display_data"
    }
   ],
   "source": [
    "import plotly.express as px\n",
    "from plotly.graph_objects import Figure\n",
    "\n",
    "\n",
    "fig: Figure = px.scatter(x = [0, 1, 2, 3, 4], \n",
    "                        y = [0, 1, 4, 9, 16],\n",
    "                        width = 400, \n",
    "                        height = 400)  \n",
    "fig.show()\n"
   ]
  },
  {
   "cell_type": "markdown",
   "metadata": {},
   "source": [
    "# 3.1.2 Configuración del tamaño y color mediante nombres de columna\n",
    "\n",
    "Los gráficos de dispersión con marcadores circulares de tamaño variable suelen llamarse gráficos de burbujas. Ten en cuenta que la información de color y tamaño se agrega al pasar el cursor sobre el gráfico. \n",
    "\n",
    "Puedes añadir otras columnas a los datos mostrados en el hover utilizando el argumento `hover_data` de `px.scatter`.\n",
    "\n"
   ]
  },
  {
   "cell_type": "markdown",
   "metadata": {},
   "source": [
    "Para el siguiente código nótese que se pasa el `DataFrame` y los argumentos que indican cuales van a ser el `x`, `y`... Los indicamos como los nombres del `DataFrame`."
   ]
  },
  {
   "cell_type": "code",
   "execution_count": 11,
   "metadata": {},
   "outputs": [
    {
     "data": {
      "application/vnd.plotly.v1+json": {
       "config": {
        "plotlyServerURL": "https://plot.ly"
       },
       "data": [
        {
         "customdata": [
          [
           12.6
          ],
          [
           28.8
          ],
          [
           29.2
          ],
          [
           21.3
          ],
          [
           28.9
          ],
          [
           29.7
          ],
          [
           20.5
          ],
          [
           23.6
          ],
          [
           22.1
          ],
          [
           27.6
          ],
          [
           26.4
          ],
          [
           28.9
          ],
          [
           25.7
          ],
          [
           28.1
          ],
          [
           27.2
          ],
          [
           21.6
          ],
          [
           14.2
          ],
          [
           28.4
          ],
          [
           10.2
          ],
          [
           27.3
          ],
          [
           24.2
          ],
          [
           27.6
          ],
          [
           21.7
          ],
          [
           29.9
          ],
          [
           29.3
          ],
          [
           25.2
          ],
          [
           22.9
          ],
          [
           22.7
          ],
          [
           12.8
          ],
          [
           27.4
          ],
          [
           25
          ],
          [
           21.7
          ],
          [
           12.9
          ],
          [
           21.3
          ],
          [
           14.5
          ],
          [
           21
          ],
          [
           28
          ],
          [
           23.4
          ],
          [
           20.1
          ],
          [
           20.9
          ],
          [
           21.4
          ],
          [
           21.4
          ],
          [
           20.5
          ],
          [
           10.9
          ],
          [
           25.7
          ],
          [
           20.5
          ],
          [
           27.1
          ],
          [
           24.6
          ],
          [
           29.6
          ],
          [
           23.4
          ],
          [
           28.7
          ],
          [
           25.6
          ],
          [
           27.3
          ],
          [
           12.9
          ],
          [
           14.9
          ],
          [
           11.9
          ],
          [
           24.4
          ],
          [
           20.5
          ],
          [
           14.6
          ],
          [
           21.3
          ],
          [
           28.2
          ],
          [
           28.9
          ],
          [
           25.2
          ],
          [
           25.7
          ],
          [
           13.3
          ],
          [
           29.6
          ],
          [
           20.1
          ],
          [
           10.4
          ],
          [
           29.4
          ],
          [
           14.3
          ],
          [
           29.8
          ],
          [
           27.9
          ],
          [
           26.5
          ],
          [
           28.6
          ],
          [
           29.2
          ],
          [
           27.5
          ],
          [
           13.2
          ],
          [
           24.4
          ],
          [
           29.3
          ],
          [
           22.9
          ],
          [
           26.4
          ],
          [
           24
          ],
          [
           28.5
          ],
          [
           23.9
          ],
          [
           29.5
          ],
          [
           26
          ],
          [
           29.3
          ],
          [
           11
          ],
          [
           10.7
          ],
          [
           28
          ],
          [
           24.5
          ],
          [
           26.7
          ],
          [
           11.6
          ],
          [
           29.9
          ],
          [
           22.5
          ],
          [
           26.2
          ],
          [
           12.4
          ],
          [
           23.6
          ],
          [
           12.9
          ],
          [
           26.2
          ],
          [
           20.7
          ],
          [
           29.5
          ],
          [
           25.4
          ],
          [
           27.2
          ],
          [
           28.5
          ],
          [
           12
          ],
          [
           24.1
          ],
          [
           21.3
          ],
          [
           28.1
          ],
          [
           11
          ],
          [
           28.4
          ],
          [
           24.1
          ],
          [
           11.2
          ],
          [
           22.3
          ],
          [
           21.2
          ],
          [
           26.5
          ],
          [
           14.2
          ],
          [
           10.7
          ],
          [
           25.7
          ],
          [
           12
          ],
          [
           26.6
          ],
          [
           20.1
          ],
          [
           21.8
          ],
          [
           24.3
          ],
          [
           29.8
          ],
          [
           27.5
          ],
          [
           23.3
          ],
          [
           28.7
          ],
          [
           20.2
          ],
          [
           24.4
          ],
          [
           22.2
          ],
          [
           24.2
          ],
          [
           27.5
          ],
          [
           20.9
          ],
          [
           25.1
          ],
          [
           27.3
          ],
          [
           23.8
          ],
          [
           14.7
          ],
          [
           24.8
          ],
          [
           25.7
          ],
          [
           28.3
          ],
          [
           20.8
          ],
          [
           29
          ],
          [
           27.6
          ],
          [
           22.9
          ],
          [
           20.9
          ],
          [
           26.7
          ],
          [
           27.3
          ],
          [
           26.1
          ],
          [
           12.2
          ],
          [
           24.7
          ],
          [
           26.4
          ],
          [
           21.1
          ],
          [
           24.4
          ],
          [
           20.4
          ],
          [
           23.2
          ],
          [
           26.3
          ],
          [
           20.9
          ],
          [
           27.3
          ],
          [
           23.2
          ],
          [
           20.4
          ],
          [
           21.1
          ],
          [
           30
          ],
          [
           14.4
          ],
          [
           20.5
          ],
          [
           22.1
          ],
          [
           21.5
          ],
          [
           13.9
          ],
          [
           23.5
          ],
          [
           20.8
          ],
          [
           30
          ],
          [
           11.3
          ],
          [
           29
          ],
          [
           26.9
          ],
          [
           29.4
          ],
          [
           22.3
          ],
          [
           22.6
          ],
          [
           29.1
          ],
          [
           23.5
          ],
          [
           24.1
          ],
          [
           20.2
          ],
          [
           26.2
          ],
          [
           23.2
          ],
          [
           28.4
          ],
          [
           26.6
          ],
          [
           21.4
          ],
          [
           26.9
          ],
          [
           29.6
          ],
          [
           22.9
          ],
          [
           23
          ],
          [
           23.5
          ],
          [
           29.9
          ],
          [
           28.2
          ],
          [
           20.9
          ],
          [
           26.7
          ],
          [
           14.2
          ],
          [
           24
          ],
          [
           25.2
          ],
          [
           23
          ],
          [
           22.1
          ],
          [
           22.5
          ],
          [
           23.4
          ],
          [
           12.9
          ],
          [
           27.5
          ],
          [
           22.1
          ],
          [
           13.9
          ],
          [
           22.7
          ],
          [
           28.1
          ],
          [
           25.3
          ],
          [
           20.5
          ],
          [
           29.4
          ],
          [
           10.5
          ],
          [
           27.4
          ],
          [
           28.1
          ],
          [
           24.7
          ],
          [
           10.6
          ],
          [
           27.1
          ],
          [
           14.6
          ],
          [
           27.7
          ],
          [
           13.2
          ],
          [
           23.3
          ],
          [
           24
          ],
          [
           21.5
          ],
          [
           28.2
          ],
          [
           11.2
          ],
          [
           21.3
          ],
          [
           20.7
          ],
          [
           11.7
          ],
          [
           25.6
          ],
          [
           27.3
          ],
          [
           25.3
          ],
          [
           29.5
          ],
          [
           27.4
          ],
          [
           28.9
          ],
          [
           24.5
          ],
          [
           12.1
          ],
          [
           28.5
          ],
          [
           11.1
          ],
          [
           22.4
          ],
          [
           23.7
          ],
          [
           21.3
          ],
          [
           23.2
          ],
          [
           29.1
          ],
          [
           24.1
          ],
          [
           21.1
          ],
          [
           27.6
          ],
          [
           12.1
          ],
          [
           22
          ],
          [
           26.8
          ],
          [
           21.3
          ],
          [
           27.9
          ],
          [
           20.2
          ],
          [
           24.8
          ],
          [
           13.7
          ],
          [
           11.6
          ],
          [
           28.3
          ],
          [
           25.9
          ],
          [
           10.1
          ],
          [
           21.1
          ],
          [
           22.6
          ],
          [
           28.4
          ],
          [
           10.2
          ],
          [
           25.2
          ],
          [
           21.3
          ],
          [
           26.2
          ],
          [
           24
          ],
          [
           28.8
          ],
          [
           24
          ],
          [
           10.2
          ],
          [
           13.5
          ],
          [
           23.7
          ],
          [
           11.2
          ],
          [
           26.7
          ],
          [
           29
          ],
          [
           25
          ],
          [
           21.3
          ],
          [
           26.8
          ],
          [
           25.7
          ],
          [
           12.4
          ],
          [
           12.5
          ],
          [
           20.2
          ],
          [
           28.1
          ],
          [
           10.5
          ],
          [
           13.1
          ],
          [
           22.4
          ],
          [
           13.3
          ],
          [
           29.8
          ],
          [
           21.3
          ],
          [
           20.6
          ],
          [
           22.9
          ],
          [
           22.2
          ],
          [
           25.2
          ],
          [
           23.3
          ],
          [
           11.7
          ],
          [
           20.2
          ],
          [
           21.2
          ],
          [
           22.3
          ],
          [
           27.6
          ],
          [
           25.8
          ],
          [
           25.7
          ],
          [
           20
          ],
          [
           21.1
          ],
          [
           12
          ],
          [
           24.4
          ],
          [
           24.7
          ],
          [
           29
          ],
          [
           27.3
          ],
          [
           29.8
          ],
          [
           13.6
          ],
          [
           29.3
          ],
          [
           28
          ],
          [
           21.7
          ],
          [
           25.8
          ],
          [
           14.9
          ],
          [
           20
          ],
          [
           25.3
          ],
          [
           11.6
          ],
          [
           24.4
          ],
          [
           14.5
          ],
          [
           11.6
          ],
          [
           13.3
          ],
          [
           26.8
          ],
          [
           23.6
          ],
          [
           13.3
          ],
          [
           23.9
          ],
          [
           27.9
          ],
          [
           27.2
          ],
          [
           11
          ],
          [
           11.2
          ],
          [
           12.4
          ],
          [
           29
          ],
          [
           23.2
          ],
          [
           26
          ],
          [
           24.8
          ],
          [
           28.2
          ],
          [
           10.3
          ],
          [
           28.2
          ],
          [
           24.9
          ],
          [
           21.6
          ],
          [
           10.7
          ],
          [
           26.1
          ],
          [
           21.8
          ],
          [
           11.1
          ],
          [
           28.1
          ],
          [
           21.3
          ],
          [
           29
          ],
          [
           24.4
          ],
          [
           20.9
          ],
          [
           25.2
          ],
          [
           29.6
          ],
          [
           10.1
          ],
          [
           12.4
          ],
          [
           22.4
          ],
          [
           21.2
          ],
          [
           12.9
          ],
          [
           27.6
          ],
          [
           26.2
          ],
          [
           26.4
          ],
          [
           28.6
          ],
          [
           29.3
          ],
          [
           21.7
          ],
          [
           20.6
          ],
          [
           21.8
          ],
          [
           23.4
          ],
          [
           25.4
          ],
          [
           13.6
          ],
          [
           22.1
          ],
          [
           25.6
          ],
          [
           29
          ],
          [
           21.1
          ],
          [
           24.3
          ],
          [
           22.8
          ],
          [
           23.4
          ],
          [
           25.8
          ],
          [
           21.2
          ],
          [
           10.1
          ],
          [
           28.8
          ],
          [
           20.5
          ],
          [
           27.3
          ],
          [
           24.4
          ],
          [
           28.3
          ],
          [
           24.9
          ],
          [
           28.3
          ],
          [
           23.5
          ],
          [
           24.7
          ],
          [
           25.3
          ],
          [
           15
          ],
          [
           28.4
          ],
          [
           27
          ],
          [
           26.5
          ],
          [
           14.3
          ],
          [
           24.5
          ],
          [
           10.3
          ],
          [
           24.8
          ],
          [
           24.7
          ],
          [
           25
          ],
          [
           21.6
          ],
          [
           28.3
          ],
          [
           27
          ],
          [
           24.7
          ],
          [
           29.6
          ],
          [
           13.8
          ],
          [
           21.8
          ],
          [
           23.6
          ],
          [
           22.8
          ],
          [
           23.7
          ],
          [
           28.3
          ],
          [
           14.3
          ],
          [
           24.2
          ],
          [
           20.7
          ],
          [
           11.7
          ],
          [
           29.6
          ],
          [
           14.4
          ],
          [
           23.2
          ],
          [
           27.5
          ],
          [
           23.8
          ],
          [
           24.7
          ],
          [
           13.2
          ],
          [
           29.1
          ],
          [
           24.2
          ],
          [
           27
          ],
          [
           20
          ],
          [
           27.1
          ],
          [
           20.5
          ],
          [
           11.3
          ],
          [
           25
          ],
          [
           21.9
          ],
          [
           23.3
          ],
          [
           27.3
          ],
          [
           26.7
          ],
          [
           12.7
          ],
          [
           22.6
          ],
          [
           22.6
          ],
          [
           29.8
          ],
          [
           26.4
          ],
          [
           27.3
          ],
          [
           29.1
          ],
          [
           28.4
          ],
          [
           27.4
          ],
          [
           26.9
          ],
          [
           13.8
          ],
          [
           12.7
          ],
          [
           29.5
          ],
          [
           21
          ],
          [
           20.2
          ],
          [
           29.1
          ],
          [
           26.8
          ],
          [
           27.8
          ],
          [
           24.9
          ],
          [
           23.2
          ],
          [
           21.4
          ],
          [
           27.6
          ],
          [
           11.4
          ],
          [
           24.3
          ],
          [
           28.7
          ],
          [
           29.3
          ],
          [
           21.2
          ],
          [
           24.5
          ],
          [
           14.3
          ],
          [
           24.1
          ],
          [
           12.4
          ],
          [
           23.6
          ],
          [
           24.9
          ],
          [
           27.9
          ],
          [
           26.6
          ],
          [
           10.5
          ],
          [
           27
          ],
          [
           25.3
          ],
          [
           13.1
          ],
          [
           29.7
          ],
          [
           23.9
          ],
          [
           22.9
          ],
          [
           27.3
          ],
          [
           26.6
          ],
          [
           28.2
          ],
          [
           10.6
          ],
          [
           28.6
          ],
          [
           25.9
          ],
          [
           23.4
          ],
          [
           28.2
          ],
          [
           28
          ],
          [
           28.5
          ],
          [
           11.8
          ],
          [
           25.6
          ],
          [
           23.6
          ],
          [
           22.9
          ],
          [
           22.6
          ],
          [
           14
          ],
          [
           22.9
          ],
          [
           20.8
          ],
          [
           23.1
          ],
          [
           22
          ],
          [
           21.7
          ],
          [
           22
          ],
          [
           11.4
          ],
          [
           15
          ],
          [
           22.7
          ],
          [
           23.3
          ],
          [
           21.6
          ],
          [
           21.1
          ],
          [
           20.2
          ],
          [
           10.7
          ],
          [
           27.8
          ],
          [
           21.5
          ],
          [
           13.3
          ],
          [
           11.8
          ],
          [
           24
          ],
          [
           10
          ],
          [
           25
          ],
          [
           28.2
          ],
          [
           28.8
          ]
         ],
         "hovertemplate": "Gender=Male<br>Weight (kg)=%{x}<br>Height (m)=%{y}<br>Experience_Level=%{marker.size}<br>Fat_Percentage=%{customdata[0]}<extra></extra>",
         "legendgroup": "Male",
         "marker": {
          "color": "#636efa",
          "size": [
           3,
           1,
           1,
           2,
           2,
           1,
           1,
           2,
           2,
           1,
           2,
           2,
           1,
           1,
           1,
           2,
           3,
           1,
           3,
           1,
           2,
           2,
           2,
           2,
           1,
           1,
           1,
           1,
           3,
           1,
           1,
           2,
           3,
           2,
           3,
           2,
           2,
           2,
           1,
           1,
           2,
           2,
           2,
           3,
           2,
           2,
           1,
           1,
           2,
           2,
           1,
           1,
           1,
           3,
           3,
           3,
           2,
           1,
           3,
           1,
           2,
           2,
           1,
           2,
           3,
           1,
           1,
           3,
           1,
           3,
           2,
           1,
           1,
           1,
           1,
           1,
           3,
           1,
           1,
           2,
           1,
           1,
           2,
           1,
           2,
           2,
           2,
           3,
           3,
           1,
           1,
           2,
           3,
           1,
           2,
           1,
           3,
           1,
           3,
           2,
           2,
           2,
           2,
           1,
           1,
           3,
           1,
           2,
           2,
           3,
           2,
           2,
           3,
           2,
           2,
           1,
           3,
           3,
           2,
           3,
           2,
           2,
           2,
           2,
           2,
           1,
           1,
           1,
           2,
           1,
           2,
           1,
           1,
           1,
           2,
           2,
           1,
           3,
           2,
           2,
           1,
           1,
           2,
           1,
           1,
           1,
           1,
           1,
           1,
           3,
           2,
           1,
           2,
           2,
           2,
           1,
           2,
           1,
           2,
           1,
           2,
           2,
           2,
           3,
           2,
           1,
           1,
           3,
           1,
           1,
           2,
           3,
           1,
           2,
           1,
           1,
           2,
           2,
           2,
           2,
           2,
           1,
           1,
           1,
           1,
           1,
           1,
           1,
           2,
           2,
           1,
           1,
           2,
           2,
           2,
           3,
           1,
           2,
           2,
           1,
           2,
           2,
           3,
           1,
           1,
           3,
           2,
           2,
           1,
           1,
           1,
           3,
           2,
           1,
           2,
           3,
           2,
           3,
           1,
           3,
           1,
           2,
           1,
           2,
           3,
           2,
           1,
           3,
           2,
           2,
           2,
           2,
           1,
           1,
           1,
           3,
           2,
           3,
           2,
           1,
           1,
           2,
           1,
           2,
           1,
           2,
           3,
           1,
           1,
           1,
           1,
           2,
           1,
           3,
           3,
           2,
           1,
           3,
           1,
           1,
           2,
           3,
           2,
           1,
           2,
           2,
           1,
           1,
           3,
           3,
           2,
           3,
           1,
           1,
           2,
           1,
           2,
           2,
           3,
           3,
           2,
           1,
           3,
           3,
           2,
           3,
           2,
           2,
           1,
           2,
           1,
           1,
           1,
           3,
           2,
           1,
           2,
           1,
           1,
           2,
           1,
           1,
           3,
           2,
           1,
           2,
           2,
           1,
           3,
           2,
           2,
           1,
           1,
           3,
           2,
           2,
           3,
           1,
           3,
           3,
           3,
           2,
           2,
           3,
           2,
           2,
           2,
           3,
           3,
           3,
           2,
           2,
           2,
           2,
           2,
           3,
           2,
           2,
           1,
           3,
           1,
           2,
           3,
           2,
           1,
           2,
           2,
           2,
           1,
           1,
           3,
           3,
           2,
           2,
           3,
           2,
           1,
           1,
           2,
           2,
           1,
           2,
           2,
           2,
           2,
           3,
           1,
           1,
           1,
           1,
           2,
           1,
           2,
           1,
           2,
           3,
           2,
           2,
           2,
           2,
           1,
           2,
           1,
           1,
           1,
           1,
           3,
           1,
           1,
           2,
           3,
           1,
           3,
           2,
           2,
           2,
           2,
           2,
           1,
           1,
           1,
           3,
           2,
           1,
           2,
           1,
           1,
           3,
           1,
           2,
           3,
           2,
           3,
           1,
           1,
           2,
           2,
           3,
           2,
           1,
           1,
           1,
           2,
           1,
           3,
           2,
           2,
           2,
           1,
           2,
           3,
           2,
           2,
           2,
           2,
           1,
           1,
           1,
           2,
           1,
           3,
           3,
           1,
           1,
           2,
           2,
           2,
           1,
           1,
           2,
           2,
           2,
           3,
           1,
           1,
           2,
           1,
           2,
           3,
           1,
           3,
           1,
           2,
           2,
           2,
           3,
           2,
           1,
           3,
           2,
           1,
           2,
           1,
           1,
           2,
           3,
           1,
           1,
           1,
           1,
           2,
           2,
           3,
           1,
           2,
           1,
           2,
           3,
           1,
           2,
           2,
           1,
           1,
           2,
           3,
           3,
           2,
           2,
           2,
           1,
           2,
           3,
           2,
           2,
           3,
           3,
           2,
           3,
           1,
           2,
           1
          ],
          "sizemode": "area",
          "sizeref": 0.0075,
          "symbol": "circle"
         },
         "mode": "markers",
         "name": "Male",
         "orientation": "v",
         "showlegend": true,
         "type": "scatter",
         "x": [
          88.3,
          53.2,
          46.1,
          70.3,
          121.7,
          101.8,
          120.8,
          51.7,
          112.5,
          94.5,
          117.7,
          89,
          71.9,
          120.9,
          65.2,
          53.9,
          84.9,
          108.2,
          81.4,
          127.6,
          96.9,
          62.6,
          45.5,
          113.2,
          124.2,
          52.4,
          54.7,
          88.1,
          84.2,
          122.1,
          96.7,
          114.8,
          87.5,
          51.8,
          85.9,
          106.5,
          70.1,
          94.1,
          55.5,
          103.9,
          72.1,
          105,
          81.6,
          81.5,
          74,
          102.6,
          129,
          103.5,
          77.7,
          58.6,
          109.3,
          69.6,
          71.7,
          86,
          85.5,
          87.6,
          82.4,
          67,
          82.7,
          92.4,
          82.7,
          86.6,
          129.5,
          98,
          86.2,
          78.6,
          122.3,
          85.3,
          55.6,
          82.8,
          125.2,
          86.1,
          69.3,
          94.1,
          115.3,
          62,
          88.5,
          50.3,
          83.1,
          46.6,
          103.5,
          113.4,
          62.9,
          70,
          107.9,
          109,
          101,
          88.5,
          80.9,
          51.1,
          89.4,
          51.5,
          87.9,
          79.2,
          64.8,
          128.2,
          83.6,
          87.8,
          85.9,
          51.1,
          114.9,
          57.1,
          68.1,
          69.2,
          108.6,
          88.4,
          66,
          71.9,
          75.6,
          83.8,
          87,
          45.4,
          87.1,
          49.1,
          76.4,
          110.2,
          82.1,
          82.2,
          96.7,
          81.4,
          107.8,
          76.3,
          73.7,
          55.6,
          86.9,
          102.6,
          110.8,
          55.7,
          110.5,
          55.2,
          46.5,
          74.6,
          45.1,
          99.9,
          117,
          78.8,
          50.6,
          82.5,
          108.5,
          49.9,
          125.1,
          126.8,
          97.9,
          105.2,
          90,
          51.5,
          91.5,
          48.7,
          128.4,
          89.6,
          125.9,
          105.5,
          93.4,
          82.1,
          128.4,
          112.4,
          89.3,
          101.7,
          93,
          87.4,
          123.7,
          72.3,
          81.4,
          84.8,
          55.1,
          109.7,
          78.4,
          85.6,
          61.3,
          63.8,
          69,
          85,
          73.2,
          88.1,
          73.2,
          110.5,
          90.8,
          45,
          89.4,
          127.7,
          70.9,
          64.1,
          76.5,
          113.6,
          95.2,
          51.7,
          105.3,
          70.2,
          76.4,
          123.3,
          107,
          68.3,
          106.8,
          125.5,
          77.7,
          88.4,
          104.8,
          82.2,
          91.4,
          92,
          56.2,
          58.4,
          82.9,
          66.3,
          93.6,
          86.7,
          125.3,
          102.1,
          61.9,
          108.8,
          81.7,
          81.8,
          54.6,
          107.7,
          78.8,
          86.6,
          96.3,
          80.8,
          95.9,
          82.5,
          105.1,
          58.2,
          62.2,
          94.5,
          84,
          61,
          45.7,
          80.9,
          67,
          106.5,
          95.1,
          105.7,
          66.1,
          68,
          50.3,
          86.7,
          125.9,
          88.1,
          124.3,
          62,
          76.5,
          94.7,
          67.9,
          121.1,
          98.6,
          124.6,
          89.3,
          110,
          58.6,
          51,
          101.5,
          114.2,
          54.4,
          85.2,
          83.6,
          115.4,
          71.2,
          85.5,
          102.5,
          118,
          82.3,
          81.6,
          60.2,
          52.1,
          65.5,
          89.1,
          65.9,
          63.7,
          86.2,
          85.4,
          90.3,
          86.1,
          73.7,
          78.3,
          112.4,
          98.4,
          66.5,
          106.5,
          88.4,
          88.4,
          84.6,
          78,
          89,
          83.9,
          76.9,
          84.3,
          63.7,
          76.4,
          106.4,
          63.5,
          113.4,
          111.5,
          56.9,
          86.2,
          59.4,
          95.8,
          120.6,
          85.3,
          68,
          63.3,
          61,
          114.9,
          88,
          124.8,
          61.2,
          52.5,
          76.3,
          48.3,
          83.2,
          120.5,
          121.6,
          129.9,
          108.6,
          88.6,
          46.9,
          71.6,
          82.3,
          109.8,
          85.6,
          87.1,
          82.3,
          63,
          128.4,
          88,
          83.7,
          102.6,
          87.5,
          87,
          82.8,
          89.6,
          86.5,
          68.5,
          94.6,
          47.7,
          52.2,
          88.8,
          101,
          118.4,
          121.3,
          88.5,
          73.5,
          127.9,
          88.5,
          64.5,
          59.2,
          68.7,
          64.8,
          102.3,
          62.9,
          52,
          85.8,
          81.4,
          52,
          71,
          80.6,
          111,
          116.4,
          61.6,
          108,
          75.7,
          55.7,
          125.9,
          86.6,
          64.5,
          76.6,
          81.4,
          60.7,
          123.8,
          93.6,
          76.8,
          92.3,
          66.2,
          112.4,
          84,
          123.3,
          82.4,
          84.8,
          109.6,
          86.4,
          115.3,
          73.9,
          97.3,
          49.3,
          91.8,
          47.1,
          65.2,
          87.2,
          96.7,
          110.7,
          102.6,
          80.7,
          115.3,
          87.8,
          74.3,
          72,
          68.9,
          45.9,
          74.2,
          50.3,
          57.8,
          83,
          82.5,
          121.9,
          101.4,
          79.2,
          71.7,
          90.2,
          84.9,
          95.7,
          59,
          86.6,
          45.9,
          88,
          94,
          63.2,
          95.6,
          47.8,
          85.3,
          59.7,
          70.2,
          81.7,
          49.3,
          66.5,
          75.5,
          88.2,
          74.8,
          62.8,
          84.7,
          116.5,
          77.4,
          89.3,
          90.2,
          58.7,
          127.5,
          75.1,
          79.3,
          76.7,
          100.9,
          58.3,
          48.6,
          81.7,
          85.6,
          126.4,
          102.6,
          107.2,
          81.7,
          116.8,
          93.7,
          127.1,
          125.5,
          129.2,
          96.3,
          80.8,
          101.2,
          127.8,
          49.3,
          71,
          76.9,
          80.5,
          114.5,
          81,
          52.1,
          86.9,
          73.4,
          90,
          85.7,
          57.7,
          75.7,
          80.3,
          104.3,
          120.3,
          78.7,
          102.1,
          51.9,
          58.3,
          89.8,
          101.1,
          118.6,
          84.8,
          80,
          73.1,
          117.3,
          88.2,
          118.6,
          55.7,
          102.3,
          72.6,
          86.9,
          98.2,
          63.6,
          117.2,
          107.4,
          46.2,
          67,
          86.3,
          85.5,
          70.2,
          127.1,
          96.1,
          57.2,
          69.9,
          87.9,
          102.8,
          95.4,
          83.4,
          87.3,
          55,
          87.1,
          66.6,
          126.4,
          88.7
         ],
         "xaxis": "x",
         "y": [
          1.71,
          1.7,
          1.79,
          1.72,
          1.94,
          1.84,
          1.67,
          1.7,
          1.61,
          2,
          1.81,
          1.77,
          1.77,
          1.78,
          1.8,
          1.75,
          1.86,
          1.8,
          1.71,
          1.73,
          1.71,
          1.81,
          1.6,
          1.83,
          1.76,
          1.85,
          1.74,
          1.95,
          1.76,
          1.89,
          1.72,
          1.6,
          1.63,
          1.74,
          1.6,
          1.65,
          1.79,
          1.62,
          1.82,
          1.77,
          1.83,
          1.88,
          1.66,
          1.61,
          1.63,
          1.84,
          1.78,
          1.66,
          1.62,
          1.61,
          1.78,
          1.96,
          1.96,
          1.93,
          1.82,
          1.93,
          1.72,
          1.68,
          1.99,
          1.74,
          1.85,
          1.76,
          1.95,
          1.83,
          1.68,
          1.62,
          1.89,
          1.95,
          1.92,
          1.95,
          1.66,
          1.95,
          1.68,
          1.95,
          1.91,
          1.64,
          1.78,
          1.95,
          1.8,
          1.79,
          1.89,
          1.71,
          1.98,
          1.61,
          1.66,
          1.91,
          1.91,
          1.85,
          1.8,
          1.98,
          1.72,
          1.8,
          1.88,
          1.72,
          1.71,
          1.84,
          1.86,
          1.78,
          1.85,
          1.87,
          1.92,
          1.91,
          1.8,
          1.65,
          1.73,
          1.6,
          1.9,
          1.64,
          1.71,
          1.99,
          1.76,
          1.67,
          1.87,
          1.74,
          1.62,
          1.77,
          1.86,
          1.87,
          1.72,
          1.86,
          1.73,
          1.62,
          1.61,
          1.77,
          1.76,
          1.72,
          1.91,
          1.61,
          1.92,
          1.71,
          1.72,
          1.75,
          1.72,
          1.99,
          1.61,
          1.72,
          1.69,
          1.79,
          1.79,
          1.98,
          1.91,
          1.63,
          1.91,
          1.62,
          1.7,
          1.71,
          1.77,
          1.67,
          1.92,
          1.68,
          2,
          1.99,
          1.7,
          1.84,
          1.68,
          1.96,
          1.99,
          1.67,
          1.91,
          1.6,
          1.69,
          1.94,
          1.61,
          1.86,
          1.72,
          1.75,
          1.9,
          1.74,
          1.97,
          1.62,
          1.74,
          1.68,
          1.94,
          1.76,
          1.88,
          1.86,
          1.71,
          1.77,
          1.62,
          1.69,
          1.72,
          1.87,
          1.96,
          1.99,
          1.86,
          1.82,
          1.67,
          1.89,
          1.97,
          1.88,
          1.94,
          1.92,
          1.82,
          1.8,
          1.61,
          1.6,
          1.99,
          1.69,
          1.99,
          1.76,
          1.95,
          1.72,
          1.95,
          1.85,
          1.93,
          1.62,
          1.86,
          1.85,
          1.77,
          1.64,
          1.99,
          1.99,
          1.76,
          1.88,
          1.71,
          1.99,
          1.63,
          1.98,
          1.85,
          1.87,
          1.84,
          1.98,
          1.84,
          1.7,
          1.94,
          1.87,
          1.77,
          1.9,
          1.77,
          1.6,
          1.85,
          1.64,
          1.69,
          1.7,
          1.78,
          1.63,
          1.94,
          1.93,
          1.82,
          1.85,
          1.97,
          1.82,
          1.75,
          1.87,
          1.7,
          1.63,
          1.64,
          1.76,
          1.66,
          1.67,
          1.95,
          1.87,
          1.72,
          1.81,
          1.74,
          1.92,
          1.97,
          1.8,
          1.94,
          1.9,
          1.84,
          1.87,
          1.88,
          1.61,
          1.74,
          1.84,
          1.62,
          1.98,
          1.82,
          1.88,
          1.65,
          1.65,
          1.66,
          1.96,
          1.63,
          1.88,
          1.6,
          1.81,
          1.93,
          1.79,
          1.63,
          1.92,
          1.68,
          1.82,
          1.92,
          2,
          1.74,
          1.79,
          1.86,
          1.86,
          1.91,
          1.9,
          1.87,
          1.9,
          1.68,
          1.86,
          1.83,
          1.89,
          1.68,
          1.77,
          1.63,
          1.86,
          1.71,
          1.85,
          1.88,
          1.88,
          1.77,
          1.87,
          1.96,
          1.73,
          2,
          1.73,
          1.92,
          2,
          1.74,
          1.86,
          1.61,
          1.62,
          1.85,
          1.76,
          1.84,
          2,
          1.86,
          1.89,
          1.87,
          1.75,
          1.88,
          1.86,
          1.66,
          1.81,
          1.76,
          1.97,
          1.84,
          1.77,
          1.84,
          1.95,
          1.68,
          1.95,
          1.85,
          1.62,
          1.63,
          1.93,
          1.98,
          1.79,
          1.66,
          1.92,
          1.65,
          1.63,
          1.92,
          1.79,
          1.8,
          1.85,
          1.78,
          1.93,
          1.77,
          1.94,
          2,
          1.8,
          1.8,
          1.94,
          1.68,
          1.67,
          1.86,
          1.82,
          1.86,
          1.83,
          1.71,
          1.99,
          1.66,
          1.92,
          1.94,
          1.71,
          1.85,
          1.74,
          1.62,
          1.96,
          1.79,
          1.66,
          1.77,
          1.67,
          1.8,
          1.96,
          1.61,
          1.78,
          1.78,
          1.62,
          1.64,
          1.71,
          1.69,
          1.83,
          1.61,
          1.81,
          1.69,
          1.61,
          1.94,
          1.99,
          1.89,
          1.93,
          1.64,
          1.99,
          1.8,
          1.79,
          1.93,
          1.76,
          1.95,
          1.88,
          1.72,
          1.72,
          1.77,
          1.65,
          1.97,
          1.93,
          1.64,
          1.79,
          1.63,
          1.9,
          1.86,
          1.64,
          1.83,
          1.98,
          1.74,
          1.62,
          1.83,
          1.93,
          1.79,
          1.75,
          1.63,
          1.79,
          1.69,
          1.92,
          1.87,
          1.61,
          1.86,
          1.82,
          1.82,
          1.93,
          1.7,
          1.63,
          1.93,
          1.77,
          1.95,
          1.69,
          1.69,
          1.77,
          1.93,
          1.75,
          1.79,
          1.73,
          1.76,
          1.76,
          1.61,
          1.86,
          1.76,
          1.84,
          1.65,
          1.62,
          1.62,
          1.82,
          1.77,
          1.97,
          1.78,
          1.68,
          1.78,
          1.76,
          1.66,
          1.92,
          1.71,
          1.76,
          1.76,
          1.68,
          1.96,
          1.66,
          1.71,
          2,
          2,
          1.92,
          1.83,
          1.72,
          1.85,
          1.77,
          1.83,
          1.68,
          1.62,
          1.64,
          1.99,
          1.94,
          1.87,
          1.69,
          1.9,
          1.62,
          1.62,
          1.74,
          1.63,
          1.61,
          1.77,
          1.67,
          1.87,
          1.62,
          1.74,
          1.89,
          1.81,
          1.87,
          1.98,
          1.61,
          1.65,
          1.91,
          1.6,
          1.74,
          1.61,
          1.83,
          1.63
         ],
         "yaxis": "y"
        },
        {
         "customdata": [
          [
           33.9
          ],
          [
           33.4
          ],
          [
           15.5
          ],
          [
           30.6
          ],
          [
           26.2
          ],
          [
           29.8
          ],
          [
           31.9
          ],
          [
           32.8
          ],
          [
           25.2
          ],
          [
           33.1
          ],
          [
           26.9
          ],
          [
           26.1
          ],
          [
           32.3
          ],
          [
           28
          ],
          [
           28.2
          ],
          [
           31.7
          ],
          [
           33.4
          ],
          [
           28.2
          ],
          [
           34.7
          ],
          [
           30.1
          ],
          [
           34.3
          ],
          [
           26.7
          ],
          [
           30.8
          ],
          [
           27.7
          ],
          [
           31.2
          ],
          [
           32.2
          ],
          [
           17.8
          ],
          [
           32.4
          ],
          [
           26.4
          ],
          [
           33.8
          ],
          [
           17.3
          ],
          [
           33.4
          ],
          [
           27.6
          ],
          [
           18.6
          ],
          [
           15.2
          ],
          [
           30.6
          ],
          [
           31.9
          ],
          [
           29.8
          ],
          [
           25.2
          ],
          [
           16.6
          ],
          [
           29.4
          ],
          [
           16.4
          ],
          [
           30.8
          ],
          [
           25.6
          ],
          [
           32
          ],
          [
           31.4
          ],
          [
           29.1
          ],
          [
           15.5
          ],
          [
           34.3
          ],
          [
           29.2
          ],
          [
           33.1
          ],
          [
           15.9
          ],
          [
           28.9
          ],
          [
           17.6
          ],
          [
           26.6
          ],
          [
           31.7
          ],
          [
           26.3
          ],
          [
           33.1
          ],
          [
           25.1
          ],
          [
           29.5
          ],
          [
           31
          ],
          [
           17.8
          ],
          [
           30.8
          ],
          [
           30.3
          ],
          [
           33.4
          ],
          [
           28.4
          ],
          [
           17.3
          ],
          [
           28
          ],
          [
           27.3
          ],
          [
           32.5
          ],
          [
           31.3
          ],
          [
           16.4
          ],
          [
           27.9
          ],
          [
           30
          ],
          [
           31.8
          ],
          [
           27.6
          ],
          [
           33.6
          ],
          [
           18.4
          ],
          [
           26.9
          ],
          [
           27.7
          ],
          [
           28.8
          ],
          [
           17.5
          ],
          [
           33.4
          ],
          [
           27.4
          ],
          [
           29.2
          ],
          [
           17.3
          ],
          [
           18.3
          ],
          [
           31.3
          ],
          [
           30.6
          ],
          [
           34.3
          ],
          [
           26.8
          ],
          [
           29.4
          ],
          [
           15.2
          ],
          [
           30.3
          ],
          [
           31.6
          ],
          [
           19.5
          ],
          [
           29.7
          ],
          [
           32.3
          ],
          [
           26.3
          ],
          [
           18.4
          ],
          [
           33.4
          ],
          [
           33.7
          ],
          [
           25.3
          ],
          [
           34.1
          ],
          [
           27.5
          ],
          [
           30.1
          ],
          [
           33.8
          ],
          [
           29.1
          ],
          [
           16.4
          ],
          [
           30.7
          ],
          [
           29
          ],
          [
           16.9
          ],
          [
           16.5
          ],
          [
           31
          ],
          [
           32.8
          ],
          [
           31.1
          ],
          [
           28.9
          ],
          [
           30.6
          ],
          [
           29.9
          ],
          [
           27.8
          ],
          [
           32.1
          ],
          [
           29.8
          ],
          [
           34.8
          ],
          [
           29
          ],
          [
           17.1
          ],
          [
           29.1
          ],
          [
           16.6
          ],
          [
           32.8
          ],
          [
           29.8
          ],
          [
           25.4
          ],
          [
           16.5
          ],
          [
           19.1
          ],
          [
           19
          ],
          [
           29.3
          ],
          [
           31.8
          ],
          [
           32.7
          ],
          [
           34.7
          ],
          [
           28.1
          ],
          [
           26.1
          ],
          [
           31.3
          ],
          [
           26
          ],
          [
           19.9
          ],
          [
           17.2
          ],
          [
           28.5
          ],
          [
           17.8
          ],
          [
           18.2
          ],
          [
           34
          ],
          [
           34.7
          ],
          [
           20
          ],
          [
           31.6
          ],
          [
           26.7
          ],
          [
           18.5
          ],
          [
           32.8
          ],
          [
           33.3
          ],
          [
           34.1
          ],
          [
           33.8
          ],
          [
           27.4
          ],
          [
           32.6
          ],
          [
           30.9
          ],
          [
           34.8
          ],
          [
           26.3
          ],
          [
           25.3
          ],
          [
           31
          ],
          [
           25.8
          ],
          [
           15.1
          ],
          [
           25.4
          ],
          [
           27.7
          ],
          [
           19
          ],
          [
           32.5
          ],
          [
           29.5
          ],
          [
           28.1
          ],
          [
           29.8
          ],
          [
           16.5
          ],
          [
           34.1
          ],
          [
           31.1
          ],
          [
           30.6
          ],
          [
           18.1
          ],
          [
           27.6
          ],
          [
           18.5
          ],
          [
           32.4
          ],
          [
           26
          ],
          [
           17
          ],
          [
           25.6
          ],
          [
           31.7
          ],
          [
           25.6
          ],
          [
           29
          ],
          [
           33
          ],
          [
           27.7
          ],
          [
           32.2
          ],
          [
           29.5
          ],
          [
           15.1
          ],
          [
           33.2
          ],
          [
           15.3
          ],
          [
           31.1
          ],
          [
           28.8
          ],
          [
           32.9
          ],
          [
           33.7
          ],
          [
           33.5
          ],
          [
           18.9
          ],
          [
           29.6
          ],
          [
           33.9
          ],
          [
           27.7
          ],
          [
           32.1
          ],
          [
           29.4
          ],
          [
           18.3
          ],
          [
           16.8
          ],
          [
           26.8
          ],
          [
           19.3
          ],
          [
           15.6
          ],
          [
           17.2
          ],
          [
           34.4
          ],
          [
           25.1
          ],
          [
           27.4
          ],
          [
           27.1
          ],
          [
           18.6
          ],
          [
           16.4
          ],
          [
           34.3
          ],
          [
           28.6
          ],
          [
           32.8
          ],
          [
           30.3
          ],
          [
           27.3
          ],
          [
           30.6
          ],
          [
           32.5
          ],
          [
           27.5
          ],
          [
           33.1
          ],
          [
           28.9
          ],
          [
           19.8
          ],
          [
           34.1
          ],
          [
           34.6
          ],
          [
           31.3
          ],
          [
           28.3
          ],
          [
           32.9
          ],
          [
           34.9
          ],
          [
           31.8
          ],
          [
           34.8
          ],
          [
           28.4
          ],
          [
           30.7
          ],
          [
           30.6
          ],
          [
           29.8
          ],
          [
           32.9
          ],
          [
           28.1
          ],
          [
           31.9
          ],
          [
           29.2
          ],
          [
           17.8
          ],
          [
           26.1
          ],
          [
           28.1
          ],
          [
           32.8
          ],
          [
           27
          ],
          [
           26.1
          ],
          [
           32.1
          ],
          [
           33.7
          ],
          [
           32.2
          ],
          [
           34.4
          ],
          [
           25.9
          ],
          [
           34.9
          ],
          [
           31.5
          ],
          [
           27
          ],
          [
           34.1
          ],
          [
           27
          ],
          [
           33.7
          ],
          [
           25
          ],
          [
           28.4
          ],
          [
           34.9
          ],
          [
           27
          ],
          [
           26.4
          ],
          [
           32
          ],
          [
           28.5
          ],
          [
           31.9
          ],
          [
           31.8
          ],
          [
           34.3
          ],
          [
           32.7
          ],
          [
           34.5
          ],
          [
           33.7
          ],
          [
           33.1
          ],
          [
           34.8
          ],
          [
           34.3
          ],
          [
           28.7
          ],
          [
           15.5
          ],
          [
           31.9
          ],
          [
           26.6
          ],
          [
           16.2
          ],
          [
           28.4
          ],
          [
           32.6
          ],
          [
           29.2
          ],
          [
           28.1
          ],
          [
           26.1
          ],
          [
           27.5
          ],
          [
           26
          ],
          [
           25.5
          ],
          [
           15
          ],
          [
           18.7
          ],
          [
           29.5
          ],
          [
           25.4
          ],
          [
           33
          ],
          [
           35
          ],
          [
           26
          ],
          [
           26.8
          ],
          [
           26.3
          ],
          [
           16.6
          ],
          [
           27.1
          ],
          [
           30
          ],
          [
           25.3
          ],
          [
           31
          ],
          [
           26.3
          ],
          [
           33.9
          ],
          [
           31.5
          ],
          [
           25.3
          ],
          [
           25.3
          ],
          [
           32.2
          ],
          [
           33
          ],
          [
           34
          ],
          [
           31.7
          ],
          [
           29.5
          ],
          [
           32.8
          ],
          [
           19.2
          ],
          [
           33.3
          ],
          [
           32
          ],
          [
           27.1
          ],
          [
           30.1
          ],
          [
           32.6
          ],
          [
           34.9
          ],
          [
           32.9
          ],
          [
           34.9
          ],
          [
           34.5
          ],
          [
           28.8
          ],
          [
           25.8
          ],
          [
           26.1
          ],
          [
           18.4
          ],
          [
           32
          ],
          [
           26.8
          ],
          [
           26.3
          ],
          [
           30.7
          ],
          [
           29
          ],
          [
           26.7
          ],
          [
           31.1
          ],
          [
           26.6
          ],
          [
           15.1
          ],
          [
           33.7
          ],
          [
           26
          ],
          [
           19.8
          ],
          [
           32.6
          ],
          [
           33.9
          ],
          [
           28.6
          ],
          [
           25.1
          ],
          [
           18.1
          ],
          [
           19.8
          ],
          [
           31.9
          ],
          [
           31.1
          ],
          [
           30.4
          ],
          [
           27.9
          ],
          [
           27.8
          ],
          [
           28.4
          ],
          [
           28.2
          ],
          [
           30.9
          ],
          [
           25.7
          ],
          [
           17.8
          ],
          [
           31.7
          ],
          [
           27.9
          ],
          [
           34.7
          ],
          [
           32.5
          ],
          [
           25.6
          ],
          [
           30.8
          ],
          [
           33.1
          ],
          [
           16.6
          ],
          [
           33.5
          ],
          [
           33.5
          ],
          [
           28.6
          ],
          [
           15
          ],
          [
           30.2
          ],
          [
           35
          ],
          [
           32.7
          ],
          [
           32.6
          ],
          [
           26.7
          ],
          [
           32.8
          ],
          [
           27.7
          ],
          [
           19.4
          ],
          [
           25.3
          ],
          [
           29.2
          ],
          [
           25.7
          ],
          [
           32.5
          ],
          [
           15.3
          ],
          [
           30.9
          ],
          [
           28.1
          ],
          [
           27.4
          ],
          [
           27.8
          ],
          [
           19.5
          ],
          [
           34.2
          ],
          [
           32.4
          ],
          [
           27
          ],
          [
           27
          ],
          [
           18.2
          ],
          [
           26
          ],
          [
           16.5
          ],
          [
           31.1
          ],
          [
           34.6
          ],
          [
           15.3
          ],
          [
           25.5
          ],
          [
           32.2
          ],
          [
           17.6
          ],
          [
           26.6
          ],
          [
           17
          ],
          [
           26.1
          ],
          [
           29.2
          ],
          [
           25.4
          ],
          [
           25.2
          ],
          [
           19.7
          ],
          [
           25.9
          ],
          [
           33
          ],
          [
           34
          ],
          [
           34.4
          ],
          [
           33.7
          ],
          [
           16.7
          ],
          [
           15.7
          ],
          [
           25.2
          ],
          [
           30.5
          ],
          [
           18
          ],
          [
           31.7
          ],
          [
           31.9
          ],
          [
           32.9
          ],
          [
           16.8
          ],
          [
           19.8
          ],
          [
           34.2
          ],
          [
           19.4
          ],
          [
           25.5
          ],
          [
           26.5
          ],
          [
           27.6
          ],
          [
           26.6
          ],
          [
           29.9
          ],
          [
           17
          ],
          [
           25.9
          ],
          [
           29.1
          ],
          [
           17.9
          ],
          [
           26.5
          ],
          [
           26.8
          ],
          [
           19.8
          ],
          [
           26.2
          ],
          [
           34.7
          ],
          [
           34.6
          ],
          [
           25.7
          ],
          [
           15.8
          ],
          [
           34.9
          ],
          [
           31.6
          ],
          [
           29.2
          ],
          [
           19.8
          ],
          [
           31.8
          ],
          [
           29.9
          ],
          [
           34.5
          ],
          [
           29.4
          ],
          [
           31.6
          ],
          [
           27.9
          ],
          [
           16.1
          ],
          [
           28.1
          ],
          [
           33
          ],
          [
           33
          ],
          [
           17.7
          ],
          [
           28.1
          ],
          [
           32.4
          ],
          [
           31
          ],
          [
           25.1
          ],
          [
           19.6
          ],
          [
           25.7
          ],
          [
           18.8
          ]
         ],
         "hovertemplate": "Gender=Female<br>Weight (kg)=%{x}<br>Height (m)=%{y}<br>Experience_Level=%{marker.size}<br>Fat_Percentage=%{customdata[0]}<extra></extra>",
         "legendgroup": "Female",
         "marker": {
          "color": "#EF553B",
          "size": [
           2,
           2,
           3,
           2,
           1,
           2,
           1,
           2,
           1,
           1,
           2,
           2,
           2,
           2,
           1,
           1,
           2,
           1,
           1,
           1,
           1,
           2,
           2,
           1,
           2,
           1,
           3,
           1,
           2,
           2,
           3,
           1,
           1,
           3,
           3,
           2,
           2,
           1,
           1,
           3,
           1,
           3,
           1,
           1,
           2,
           2,
           1,
           3,
           1,
           1,
           2,
           3,
           2,
           3,
           2,
           2,
           2,
           2,
           2,
           2,
           1,
           3,
           2,
           2,
           2,
           1,
           3,
           2,
           2,
           2,
           1,
           3,
           2,
           2,
           1,
           1,
           2,
           3,
           1,
           1,
           1,
           3,
           1,
           2,
           1,
           3,
           3,
           2,
           1,
           2,
           1,
           2,
           3,
           1,
           2,
           3,
           2,
           2,
           1,
           3,
           2,
           1,
           2,
           1,
           2,
           1,
           2,
           2,
           3,
           1,
           2,
           3,
           3,
           1,
           2,
           1,
           1,
           2,
           2,
           1,
           1,
           2,
           2,
           2,
           3,
           2,
           3,
           1,
           1,
           2,
           3,
           3,
           3,
           2,
           1,
           1,
           1,
           1,
           1,
           2,
           2,
           3,
           3,
           1,
           3,
           3,
           2,
           2,
           3,
           1,
           2,
           3,
           2,
           2,
           1,
           2,
           2,
           1,
           2,
           1,
           1,
           2,
           2,
           2,
           3,
           1,
           2,
           3,
           1,
           2,
           2,
           1,
           3,
           1,
           1,
           2,
           3,
           1,
           3,
           2,
           2,
           3,
           2,
           2,
           1,
           1,
           1,
           2,
           2,
           1,
           3,
           2,
           3,
           2,
           2,
           1,
           2,
           1,
           3,
           1,
           1,
           1,
           2,
           2,
           3,
           3,
           1,
           3,
           3,
           3,
           1,
           2,
           1,
           1,
           3,
           3,
           1,
           1,
           1,
           1,
           2,
           2,
           2,
           1,
           2,
           1,
           3,
           1,
           2,
           1,
           2,
           2,
           2,
           2,
           1,
           2,
           2,
           1,
           2,
           2,
           1,
           1,
           1,
           3,
           2,
           1,
           2,
           2,
           1,
           2,
           1,
           2,
           1,
           2,
           1,
           2,
           2,
           2,
           1,
           2,
           2,
           1,
           2,
           1,
           1,
           1,
           2,
           1,
           2,
           1,
           1,
           2,
           1,
           1,
           2,
           2,
           1,
           3,
           2,
           2,
           3,
           2,
           1,
           1,
           2,
           1,
           1,
           2,
           1,
           3,
           3,
           1,
           2,
           1,
           1,
           1,
           1,
           2,
           3,
           1,
           2,
           2,
           1,
           1,
           2,
           1,
           2,
           1,
           2,
           2,
           1,
           2,
           1,
           1,
           3,
           1,
           1,
           1,
           1,
           2,
           1,
           2,
           2,
           1,
           2,
           2,
           2,
           3,
           2,
           2,
           2,
           2,
           2,
           1,
           1,
           2,
           3,
           2,
           1,
           3,
           2,
           1,
           2,
           1,
           3,
           3,
           2,
           1,
           1,
           2,
           2,
           1,
           2,
           1,
           2,
           3,
           1,
           1,
           1,
           1,
           2,
           2,
           1,
           3,
           1,
           2,
           2,
           3,
           2,
           1,
           2,
           1,
           2,
           1,
           1,
           3,
           2,
           1,
           2,
           1,
           3,
           2,
           2,
           1,
           2,
           3,
           2,
           1,
           1,
           2,
           3,
           2,
           3,
           2,
           1,
           3,
           2,
           1,
           3,
           2,
           3,
           2,
           1,
           2,
           1,
           3,
           2,
           1,
           2,
           2,
           1,
           3,
           3,
           1,
           1,
           3,
           1,
           2,
           2,
           3,
           3,
           2,
           3,
           2,
           2,
           2,
           1,
           1,
           3,
           2,
           2,
           3,
           2,
           1,
           3,
           2,
           2,
           1,
           2,
           3,
           2,
           1,
           1,
           3,
           1,
           2,
           1,
           1,
           2,
           1,
           3,
           2,
           2,
           1,
           3,
           1,
           1,
           2,
           1,
           3,
           1,
           3
          ],
          "sizemode": "area",
          "sizeref": 0.0075,
          "symbol": "circle"
         },
         "mode": "markers",
         "name": "Female",
         "orientation": "v",
         "showlegend": true,
         "type": "scatter",
         "x": [
          74.9,
          68.1,
          58,
          69.7,
          42.5,
          64,
          43.8,
          66.8,
          75.2,
          71,
          64.3,
          63.7,
          78,
          65.4,
          50.2,
          58.9,
          59.3,
          48.8,
          44.3,
          60.5,
          59.7,
          79.7,
          51,
          73,
          65.5,
          50.3,
          61,
          44.6,
          58.2,
          44.8,
          64.4,
          67.1,
          65.4,
          61.1,
          64,
          61.4,
          40.5,
          53.7,
          66.1,
          61.7,
          52.3,
          59.5,
          72.9,
          76.7,
          54.8,
          55,
          75.6,
          61.5,
          56.4,
          54.6,
          59.4,
          60.1,
          41.2,
          56.2,
          79.4,
          78.4,
          55.4,
          61.7,
          42.3,
          63.2,
          59,
          57.3,
          45.2,
          58.5,
          63.5,
          70.5,
          60.1,
          79.2,
          62.9,
          73.9,
          65.1,
          61.9,
          52,
          40.4,
          67.1,
          69.5,
          43.1,
          59.1,
          54,
          72.3,
          42,
          63,
          56.2,
          52.9,
          49,
          56.2,
          57.4,
          62.1,
          65.2,
          40,
          41.9,
          68.3,
          63.4,
          71.6,
          57.4,
          55.9,
          65.3,
          78.6,
          78,
          58,
          71.3,
          78.3,
          57.3,
          48.4,
          72.9,
          58.9,
          65.8,
          68.5,
          63.9,
          44.5,
          50.7,
          55.1,
          60.3,
          40.4,
          78.5,
          60.9,
          70.9,
          75.9,
          71.2,
          79.7,
          54.6,
          47.8,
          63.1,
          72.4,
          58.9,
          50.4,
          64.2,
          58.8,
          45.9,
          65.2,
          56.3,
          60,
          63.1,
          57.8,
          42,
          74.2,
          42.9,
          77.7,
          70.3,
          59.1,
          49.9,
          55.1,
          61.3,
          69.2,
          59,
          64.9,
          76.7,
          63.1,
          62.9,
          66.3,
          44.1,
          55.4,
          74.7,
          78,
          57.5,
          60.7,
          75.8,
          75.7,
          71.2,
          63.6,
          48.3,
          42.8,
          72.4,
          46.1,
          59.3,
          45.1,
          49.2,
          62.3,
          69.7,
          56.9,
          53,
          72.7,
          62.5,
          71.2,
          78.1,
          50.6,
          62.6,
          60.6,
          63.3,
          68.6,
          47.8,
          58.4,
          74.3,
          55.2,
          71.4,
          68.2,
          42.1,
          68.7,
          47.2,
          66.9,
          64.1,
          62,
          58.1,
          64.9,
          69.3,
          42.7,
          51.4,
          67.4,
          55.6,
          51.1,
          42.7,
          56.9,
          48.2,
          50.7,
          58,
          61.5,
          40.6,
          58.1,
          61,
          64.5,
          69.5,
          68,
          56.3,
          58,
          64.8,
          64.1,
          65.5,
          48,
          69.5,
          69.3,
          69.7,
          60.9,
          71.5,
          68.2,
          57.7,
          73,
          59.4,
          52,
          42.2,
          66.2,
          52.4,
          78.1,
          54.2,
          77.6,
          44.1,
          47.8,
          49.2,
          46.6,
          68.7,
          60.6,
          46.6,
          44.2,
          55.6,
          59.2,
          68.1,
          60,
          74.8,
          67.7,
          48.2,
          56.8,
          59,
          53.3,
          58.1,
          74.2,
          42.7,
          78.7,
          65.9,
          62.4,
          54.9,
          68.4,
          59.4,
          61.9,
          70.7,
          72.1,
          75.6,
          76.3,
          65.3,
          52.6,
          76.3,
          67.8,
          67.7,
          53,
          48.7,
          50.6,
          72.6,
          70.4,
          41.2,
          55.3,
          49.7,
          73,
          57.5,
          42.7,
          49.7,
          56.4,
          71.3,
          70.6,
          73.5,
          74.6,
          63.2,
          62.6,
          64.3,
          53.7,
          63.7,
          77.7,
          65.4,
          47.2,
          58.2,
          73.5,
          55.2,
          64.4,
          73.5,
          46.1,
          54.2,
          47.9,
          51.5,
          79.9,
          78.9,
          43.4,
          42.8,
          50.7,
          78.9,
          78.7,
          53.1,
          50.3,
          56.5,
          74.6,
          52.1,
          72.2,
          50.9,
          58.3,
          63,
          52.6,
          75.6,
          59.3,
          56.3,
          58.2,
          62.7,
          57.2,
          73,
          54.7,
          71.8,
          66.9,
          48.7,
          40,
          70,
          43.8,
          57.9,
          63.9,
          70.8,
          55.3,
          60.4,
          73.6,
          46.9,
          72.1,
          62.5,
          64.3,
          78.5,
          77.3,
          64.5,
          77.9,
          69.6,
          68.2,
          79.6,
          53.6,
          57.7,
          64.4,
          54.9,
          46.5,
          66.5,
          70.2,
          70.3,
          40.3,
          75.8,
          57.7,
          47.4,
          57.2,
          44.8,
          60.5,
          53.8,
          72.8,
          66.3,
          56,
          44.7,
          72.7,
          50.4,
          61.9,
          49.1,
          72.2,
          72.9,
          58.4,
          64.3,
          59,
          68.6,
          56.7,
          64.5,
          61.6,
          72.6,
          44.2,
          56.5,
          55.8,
          60,
          75.4,
          64.2,
          65.2,
          70.1,
          56.5,
          61.6,
          76.6,
          60.1,
          41.6,
          55.1,
          69.1,
          66.8,
          71.3,
          67.5,
          64.4,
          64.9,
          52.3,
          56.7,
          46.8,
          70.3,
          56,
          56.6,
          40.9,
          49.3,
          64.3,
          63,
          41.1,
          40.5,
          60.9,
          64.7,
          51,
          57.7,
          73.3,
          49,
          53.5,
          70.1,
          70.4,
          61.8,
          65.7,
          51.9,
          59.1,
          66.9,
          66.9,
          62.4,
          77.4,
          72.9,
          71.2,
          75.6,
          57.9,
          70.6,
          63.8,
          67.3,
          59.3,
          70.7,
          45.2,
          59.1,
          53.3,
          75.6,
          62.6,
          55.7,
          76.7,
          67.9,
          51.8,
          57.7,
          66.5,
          69.2,
          66.6,
          43.8,
          64.2,
          44.1,
          60.4
         ],
         "xaxis": "x",
         "y": [
          1.53,
          1.66,
          1.68,
          1.51,
          1.75,
          1.53,
          1.77,
          1.75,
          1.67,
          1.68,
          1.69,
          1.71,
          1.68,
          1.52,
          1.61,
          1.51,
          1.56,
          1.51,
          1.6,
          1.59,
          1.71,
          1.54,
          1.62,
          1.79,
          1.52,
          1.52,
          1.71,
          1.62,
          1.61,
          1.63,
          1.7,
          1.61,
          1.77,
          1.76,
          1.52,
          1.54,
          1.63,
          1.72,
          1.75,
          1.58,
          1.74,
          1.74,
          1.76,
          1.63,
          1.68,
          1.55,
          1.6,
          1.69,
          1.59,
          1.57,
          1.51,
          1.79,
          1.62,
          1.79,
          1.59,
          1.62,
          1.6,
          1.55,
          1.6,
          1.54,
          1.66,
          1.79,
          1.74,
          1.79,
          1.61,
          1.62,
          1.65,
          1.62,
          1.79,
          1.77,
          1.78,
          1.54,
          1.61,
          1.8,
          1.75,
          1.75,
          1.62,
          1.52,
          1.53,
          1.78,
          1.52,
          1.78,
          1.77,
          1.64,
          1.69,
          1.77,
          1.71,
          1.66,
          1.52,
          1.65,
          1.58,
          1.52,
          1.59,
          1.77,
          1.77,
          1.71,
          1.71,
          1.73,
          1.71,
          1.53,
          1.69,
          1.65,
          1.64,
          1.61,
          1.76,
          1.76,
          1.62,
          1.56,
          1.59,
          1.65,
          1.75,
          1.61,
          1.68,
          1.64,
          1.66,
          1.79,
          1.66,
          1.73,
          1.64,
          1.66,
          1.57,
          1.54,
          1.54,
          1.69,
          1.7,
          1.6,
          1.59,
          1.77,
          1.5,
          1.63,
          1.79,
          1.7,
          1.64,
          1.56,
          1.75,
          1.57,
          1.69,
          1.79,
          1.55,
          1.72,
          1.69,
          1.61,
          1.57,
          1.53,
          1.78,
          1.51,
          1.79,
          1.61,
          1.58,
          1.57,
          1.65,
          1.55,
          1.58,
          1.67,
          1.67,
          1.73,
          1.78,
          1.63,
          1.64,
          1.56,
          1.52,
          1.78,
          1.75,
          1.76,
          1.51,
          1.73,
          1.5,
          1.79,
          1.75,
          1.59,
          1.71,
          1.55,
          1.62,
          1.68,
          1.51,
          1.68,
          1.53,
          1.65,
          1.71,
          1.64,
          1.6,
          1.79,
          1.71,
          1.55,
          1.72,
          1.75,
          1.65,
          1.76,
          1.74,
          1.74,
          1.5,
          1.59,
          1.61,
          1.6,
          1.62,
          1.74,
          1.63,
          1.6,
          1.61,
          1.58,
          1.66,
          1.6,
          1.64,
          1.59,
          1.53,
          1.58,
          1.79,
          1.58,
          1.76,
          1.53,
          1.76,
          1.7,
          1.5,
          1.79,
          1.53,
          1.63,
          1.57,
          1.76,
          1.5,
          1.68,
          1.72,
          1.52,
          1.64,
          1.63,
          1.69,
          1.59,
          1.51,
          1.65,
          1.65,
          1.58,
          1.57,
          1.6,
          1.65,
          1.76,
          1.62,
          1.76,
          1.54,
          1.5,
          1.72,
          1.55,
          1.77,
          1.57,
          1.57,
          1.63,
          1.55,
          1.62,
          1.69,
          1.56,
          1.65,
          1.51,
          1.67,
          1.74,
          1.56,
          1.76,
          1.76,
          1.52,
          1.52,
          1.6,
          1.52,
          1.5,
          1.5,
          1.52,
          1.68,
          1.66,
          1.72,
          1.73,
          1.55,
          1.57,
          1.65,
          1.61,
          1.58,
          1.58,
          1.68,
          1.7,
          1.73,
          1.56,
          1.58,
          1.76,
          1.67,
          1.75,
          1.67,
          1.53,
          1.51,
          1.54,
          1.67,
          1.69,
          1.69,
          1.68,
          1.8,
          1.63,
          1.78,
          1.66,
          1.52,
          1.55,
          1.68,
          1.71,
          1.7,
          1.55,
          1.73,
          1.71,
          1.74,
          1.67,
          1.52,
          1.72,
          1.74,
          1.51,
          1.64,
          1.62,
          1.56,
          1.53,
          1.73,
          1.63,
          1.59,
          1.61,
          1.6,
          1.55,
          1.67,
          1.54,
          1.65,
          1.72,
          1.7,
          1.66,
          1.61,
          1.75,
          1.6,
          1.73,
          1.67,
          1.55,
          1.59,
          1.53,
          1.55,
          1.57,
          1.76,
          1.76,
          1.55,
          1.65,
          1.56,
          1.8,
          1.62,
          1.56,
          1.65,
          1.55,
          1.61,
          1.62,
          1.54,
          1.62,
          1.7,
          1.58,
          1.7,
          1.77,
          1.58,
          1.69,
          1.59,
          1.52,
          1.58,
          1.56,
          1.78,
          1.68,
          1.73,
          1.67,
          1.52,
          1.56,
          1.77,
          1.56,
          1.6,
          1.75,
          1.72,
          1.77,
          1.72,
          1.67,
          1.77,
          1.6,
          1.79,
          1.8,
          1.79,
          1.64,
          1.68,
          1.6,
          1.62,
          1.59,
          1.54,
          1.62,
          1.52,
          1.53,
          1.78,
          1.52,
          1.68,
          1.61,
          1.7,
          1.55,
          1.72,
          1.78,
          1.69,
          1.62,
          1.66,
          1.75,
          1.75,
          1.58,
          1.59,
          1.58,
          1.79,
          1.6,
          1.74,
          1.58,
          1.54,
          1.55,
          1.57,
          1.66,
          1.55,
          1.63,
          1.77,
          1.5,
          1.57,
          1.75,
          1.76,
          1.63,
          1.62,
          1.67,
          1.74,
          1.62,
          1.66,
          1.71,
          1.77,
          1.74,
          1.57,
          1.76,
          1.52,
          1.55,
          1.52,
          1.58,
          1.57,
          1.57,
          1.75,
          1.75,
          1.61,
          1.71,
          1.67,
          1.5,
          1.8,
          1.56,
          1.58,
          1.68,
          1.67,
          1.58,
          1.57,
          1.68,
          1.78,
          1.64,
          1.67,
          1.65,
          1.53,
          1.62,
          1.77,
          1.5,
          1.57,
          1.69,
          1.6,
          1.67,
          1.75,
          1.69,
          1.62,
          1.76
         ],
         "yaxis": "y"
        }
       ],
       "layout": {
        "height": 600,
        "legend": {
         "itemsizing": "constant",
         "title": {
          "text": "Gender"
         },
         "tracegroupgap": 0
        },
        "margin": {
         "t": 60
        },
        "template": {
         "data": {
          "bar": [
           {
            "error_x": {
             "color": "#2a3f5f"
            },
            "error_y": {
             "color": "#2a3f5f"
            },
            "marker": {
             "line": {
              "color": "#E5ECF6",
              "width": 0.5
             },
             "pattern": {
              "fillmode": "overlay",
              "size": 10,
              "solidity": 0.2
             }
            },
            "type": "bar"
           }
          ],
          "barpolar": [
           {
            "marker": {
             "line": {
              "color": "#E5ECF6",
              "width": 0.5
             },
             "pattern": {
              "fillmode": "overlay",
              "size": 10,
              "solidity": 0.2
             }
            },
            "type": "barpolar"
           }
          ],
          "carpet": [
           {
            "aaxis": {
             "endlinecolor": "#2a3f5f",
             "gridcolor": "white",
             "linecolor": "white",
             "minorgridcolor": "white",
             "startlinecolor": "#2a3f5f"
            },
            "baxis": {
             "endlinecolor": "#2a3f5f",
             "gridcolor": "white",
             "linecolor": "white",
             "minorgridcolor": "white",
             "startlinecolor": "#2a3f5f"
            },
            "type": "carpet"
           }
          ],
          "choropleth": [
           {
            "colorbar": {
             "outlinewidth": 0,
             "ticks": ""
            },
            "type": "choropleth"
           }
          ],
          "contour": [
           {
            "colorbar": {
             "outlinewidth": 0,
             "ticks": ""
            },
            "colorscale": [
             [
              0,
              "#0d0887"
             ],
             [
              0.1111111111111111,
              "#46039f"
             ],
             [
              0.2222222222222222,
              "#7201a8"
             ],
             [
              0.3333333333333333,
              "#9c179e"
             ],
             [
              0.4444444444444444,
              "#bd3786"
             ],
             [
              0.5555555555555556,
              "#d8576b"
             ],
             [
              0.6666666666666666,
              "#ed7953"
             ],
             [
              0.7777777777777778,
              "#fb9f3a"
             ],
             [
              0.8888888888888888,
              "#fdca26"
             ],
             [
              1,
              "#f0f921"
             ]
            ],
            "type": "contour"
           }
          ],
          "contourcarpet": [
           {
            "colorbar": {
             "outlinewidth": 0,
             "ticks": ""
            },
            "type": "contourcarpet"
           }
          ],
          "heatmap": [
           {
            "colorbar": {
             "outlinewidth": 0,
             "ticks": ""
            },
            "colorscale": [
             [
              0,
              "#0d0887"
             ],
             [
              0.1111111111111111,
              "#46039f"
             ],
             [
              0.2222222222222222,
              "#7201a8"
             ],
             [
              0.3333333333333333,
              "#9c179e"
             ],
             [
              0.4444444444444444,
              "#bd3786"
             ],
             [
              0.5555555555555556,
              "#d8576b"
             ],
             [
              0.6666666666666666,
              "#ed7953"
             ],
             [
              0.7777777777777778,
              "#fb9f3a"
             ],
             [
              0.8888888888888888,
              "#fdca26"
             ],
             [
              1,
              "#f0f921"
             ]
            ],
            "type": "heatmap"
           }
          ],
          "heatmapgl": [
           {
            "colorbar": {
             "outlinewidth": 0,
             "ticks": ""
            },
            "colorscale": [
             [
              0,
              "#0d0887"
             ],
             [
              0.1111111111111111,
              "#46039f"
             ],
             [
              0.2222222222222222,
              "#7201a8"
             ],
             [
              0.3333333333333333,
              "#9c179e"
             ],
             [
              0.4444444444444444,
              "#bd3786"
             ],
             [
              0.5555555555555556,
              "#d8576b"
             ],
             [
              0.6666666666666666,
              "#ed7953"
             ],
             [
              0.7777777777777778,
              "#fb9f3a"
             ],
             [
              0.8888888888888888,
              "#fdca26"
             ],
             [
              1,
              "#f0f921"
             ]
            ],
            "type": "heatmapgl"
           }
          ],
          "histogram": [
           {
            "marker": {
             "pattern": {
              "fillmode": "overlay",
              "size": 10,
              "solidity": 0.2
             }
            },
            "type": "histogram"
           }
          ],
          "histogram2d": [
           {
            "colorbar": {
             "outlinewidth": 0,
             "ticks": ""
            },
            "colorscale": [
             [
              0,
              "#0d0887"
             ],
             [
              0.1111111111111111,
              "#46039f"
             ],
             [
              0.2222222222222222,
              "#7201a8"
             ],
             [
              0.3333333333333333,
              "#9c179e"
             ],
             [
              0.4444444444444444,
              "#bd3786"
             ],
             [
              0.5555555555555556,
              "#d8576b"
             ],
             [
              0.6666666666666666,
              "#ed7953"
             ],
             [
              0.7777777777777778,
              "#fb9f3a"
             ],
             [
              0.8888888888888888,
              "#fdca26"
             ],
             [
              1,
              "#f0f921"
             ]
            ],
            "type": "histogram2d"
           }
          ],
          "histogram2dcontour": [
           {
            "colorbar": {
             "outlinewidth": 0,
             "ticks": ""
            },
            "colorscale": [
             [
              0,
              "#0d0887"
             ],
             [
              0.1111111111111111,
              "#46039f"
             ],
             [
              0.2222222222222222,
              "#7201a8"
             ],
             [
              0.3333333333333333,
              "#9c179e"
             ],
             [
              0.4444444444444444,
              "#bd3786"
             ],
             [
              0.5555555555555556,
              "#d8576b"
             ],
             [
              0.6666666666666666,
              "#ed7953"
             ],
             [
              0.7777777777777778,
              "#fb9f3a"
             ],
             [
              0.8888888888888888,
              "#fdca26"
             ],
             [
              1,
              "#f0f921"
             ]
            ],
            "type": "histogram2dcontour"
           }
          ],
          "mesh3d": [
           {
            "colorbar": {
             "outlinewidth": 0,
             "ticks": ""
            },
            "type": "mesh3d"
           }
          ],
          "parcoords": [
           {
            "line": {
             "colorbar": {
              "outlinewidth": 0,
              "ticks": ""
             }
            },
            "type": "parcoords"
           }
          ],
          "pie": [
           {
            "automargin": true,
            "type": "pie"
           }
          ],
          "scatter": [
           {
            "fillpattern": {
             "fillmode": "overlay",
             "size": 10,
             "solidity": 0.2
            },
            "type": "scatter"
           }
          ],
          "scatter3d": [
           {
            "line": {
             "colorbar": {
              "outlinewidth": 0,
              "ticks": ""
             }
            },
            "marker": {
             "colorbar": {
              "outlinewidth": 0,
              "ticks": ""
             }
            },
            "type": "scatter3d"
           }
          ],
          "scattercarpet": [
           {
            "marker": {
             "colorbar": {
              "outlinewidth": 0,
              "ticks": ""
             }
            },
            "type": "scattercarpet"
           }
          ],
          "scattergeo": [
           {
            "marker": {
             "colorbar": {
              "outlinewidth": 0,
              "ticks": ""
             }
            },
            "type": "scattergeo"
           }
          ],
          "scattergl": [
           {
            "marker": {
             "colorbar": {
              "outlinewidth": 0,
              "ticks": ""
             }
            },
            "type": "scattergl"
           }
          ],
          "scattermapbox": [
           {
            "marker": {
             "colorbar": {
              "outlinewidth": 0,
              "ticks": ""
             }
            },
            "type": "scattermapbox"
           }
          ],
          "scatterpolar": [
           {
            "marker": {
             "colorbar": {
              "outlinewidth": 0,
              "ticks": ""
             }
            },
            "type": "scatterpolar"
           }
          ],
          "scatterpolargl": [
           {
            "marker": {
             "colorbar": {
              "outlinewidth": 0,
              "ticks": ""
             }
            },
            "type": "scatterpolargl"
           }
          ],
          "scatterternary": [
           {
            "marker": {
             "colorbar": {
              "outlinewidth": 0,
              "ticks": ""
             }
            },
            "type": "scatterternary"
           }
          ],
          "surface": [
           {
            "colorbar": {
             "outlinewidth": 0,
             "ticks": ""
            },
            "colorscale": [
             [
              0,
              "#0d0887"
             ],
             [
              0.1111111111111111,
              "#46039f"
             ],
             [
              0.2222222222222222,
              "#7201a8"
             ],
             [
              0.3333333333333333,
              "#9c179e"
             ],
             [
              0.4444444444444444,
              "#bd3786"
             ],
             [
              0.5555555555555556,
              "#d8576b"
             ],
             [
              0.6666666666666666,
              "#ed7953"
             ],
             [
              0.7777777777777778,
              "#fb9f3a"
             ],
             [
              0.8888888888888888,
              "#fdca26"
             ],
             [
              1,
              "#f0f921"
             ]
            ],
            "type": "surface"
           }
          ],
          "table": [
           {
            "cells": {
             "fill": {
              "color": "#EBF0F8"
             },
             "line": {
              "color": "white"
             }
            },
            "header": {
             "fill": {
              "color": "#C8D4E3"
             },
             "line": {
              "color": "white"
             }
            },
            "type": "table"
           }
          ]
         },
         "layout": {
          "annotationdefaults": {
           "arrowcolor": "#2a3f5f",
           "arrowhead": 0,
           "arrowwidth": 1
          },
          "autotypenumbers": "strict",
          "coloraxis": {
           "colorbar": {
            "outlinewidth": 0,
            "ticks": ""
           }
          },
          "colorscale": {
           "diverging": [
            [
             0,
             "#8e0152"
            ],
            [
             0.1,
             "#c51b7d"
            ],
            [
             0.2,
             "#de77ae"
            ],
            [
             0.3,
             "#f1b6da"
            ],
            [
             0.4,
             "#fde0ef"
            ],
            [
             0.5,
             "#f7f7f7"
            ],
            [
             0.6,
             "#e6f5d0"
            ],
            [
             0.7,
             "#b8e186"
            ],
            [
             0.8,
             "#7fbc41"
            ],
            [
             0.9,
             "#4d9221"
            ],
            [
             1,
             "#276419"
            ]
           ],
           "sequential": [
            [
             0,
             "#0d0887"
            ],
            [
             0.1111111111111111,
             "#46039f"
            ],
            [
             0.2222222222222222,
             "#7201a8"
            ],
            [
             0.3333333333333333,
             "#9c179e"
            ],
            [
             0.4444444444444444,
             "#bd3786"
            ],
            [
             0.5555555555555556,
             "#d8576b"
            ],
            [
             0.6666666666666666,
             "#ed7953"
            ],
            [
             0.7777777777777778,
             "#fb9f3a"
            ],
            [
             0.8888888888888888,
             "#fdca26"
            ],
            [
             1,
             "#f0f921"
            ]
           ],
           "sequentialminus": [
            [
             0,
             "#0d0887"
            ],
            [
             0.1111111111111111,
             "#46039f"
            ],
            [
             0.2222222222222222,
             "#7201a8"
            ],
            [
             0.3333333333333333,
             "#9c179e"
            ],
            [
             0.4444444444444444,
             "#bd3786"
            ],
            [
             0.5555555555555556,
             "#d8576b"
            ],
            [
             0.6666666666666666,
             "#ed7953"
            ],
            [
             0.7777777777777778,
             "#fb9f3a"
            ],
            [
             0.8888888888888888,
             "#fdca26"
            ],
            [
             1,
             "#f0f921"
            ]
           ]
          },
          "colorway": [
           "#636efa",
           "#EF553B",
           "#00cc96",
           "#ab63fa",
           "#FFA15A",
           "#19d3f3",
           "#FF6692",
           "#B6E880",
           "#FF97FF",
           "#FECB52"
          ],
          "font": {
           "color": "#2a3f5f"
          },
          "geo": {
           "bgcolor": "white",
           "lakecolor": "white",
           "landcolor": "#E5ECF6",
           "showlakes": true,
           "showland": true,
           "subunitcolor": "white"
          },
          "hoverlabel": {
           "align": "left"
          },
          "hovermode": "closest",
          "mapbox": {
           "style": "light"
          },
          "paper_bgcolor": "white",
          "plot_bgcolor": "#E5ECF6",
          "polar": {
           "angularaxis": {
            "gridcolor": "white",
            "linecolor": "white",
            "ticks": ""
           },
           "bgcolor": "#E5ECF6",
           "radialaxis": {
            "gridcolor": "white",
            "linecolor": "white",
            "ticks": ""
           }
          },
          "scene": {
           "xaxis": {
            "backgroundcolor": "#E5ECF6",
            "gridcolor": "white",
            "gridwidth": 2,
            "linecolor": "white",
            "showbackground": true,
            "ticks": "",
            "zerolinecolor": "white"
           },
           "yaxis": {
            "backgroundcolor": "#E5ECF6",
            "gridcolor": "white",
            "gridwidth": 2,
            "linecolor": "white",
            "showbackground": true,
            "ticks": "",
            "zerolinecolor": "white"
           },
           "zaxis": {
            "backgroundcolor": "#E5ECF6",
            "gridcolor": "white",
            "gridwidth": 2,
            "linecolor": "white",
            "showbackground": true,
            "ticks": "",
            "zerolinecolor": "white"
           }
          },
          "shapedefaults": {
           "line": {
            "color": "#2a3f5f"
           }
          },
          "ternary": {
           "aaxis": {
            "gridcolor": "white",
            "linecolor": "white",
            "ticks": ""
           },
           "baxis": {
            "gridcolor": "white",
            "linecolor": "white",
            "ticks": ""
           },
           "bgcolor": "#E5ECF6",
           "caxis": {
            "gridcolor": "white",
            "linecolor": "white",
            "ticks": ""
           }
          },
          "title": {
           "x": 0.05
          },
          "xaxis": {
           "automargin": true,
           "gridcolor": "white",
           "linecolor": "white",
           "ticks": "",
           "title": {
            "standoff": 15
           },
           "zerolinecolor": "white",
           "zerolinewidth": 2
          },
          "yaxis": {
           "automargin": true,
           "gridcolor": "white",
           "linecolor": "white",
           "ticks": "",
           "title": {
            "standoff": 15
           },
           "zerolinecolor": "white",
           "zerolinewidth": 2
          }
         }
        },
        "width": 600,
        "xaxis": {
         "anchor": "y",
         "domain": [
          0,
          1
         ],
         "title": {
          "text": "Weight (kg)"
         }
        },
        "yaxis": {
         "anchor": "x",
         "domain": [
          0,
          1
         ],
         "title": {
          "text": "Height (m)"
         }
        }
       }
      }
     },
     "metadata": {},
     "output_type": "display_data"
    }
   ],
   "source": [
    "import plotly.express as px\n",
    "from plotly.graph_objects import Figure\n",
    "from pandas import DataFrame\n",
    "\n",
    "df: DataFrame = px.data.iris()\n",
    "\n",
    "fig: Figure = px.scatter(data_frame = gym_df, \n",
    "                        x = \"Weight (kg)\", \n",
    "                        y = \"Height (m)\", \n",
    "                        color = \"Gender\",\n",
    "                        size = 'Experience_Level', \n",
    "                        hover_data = ['Fat_Percentage'], # Cuando pasemos el por encima de un punto también estará esta info. extra.\n",
    "                        width = 600, \n",
    "                        height = 600)\n",
    "fig.show()"
   ]
  },
  {
   "cell_type": "markdown",
   "metadata": {},
   "source": [
    "En el ejemplo anterior definimos los colores en base a una columna con un finito número de elementos. Podemos además indicar como color una columna de valores continuos, dejando así un gradiente de colores que nos darán un valor en función de esta columna."
   ]
  },
  {
   "cell_type": "code",
   "execution_count": 14,
   "metadata": {},
   "outputs": [
    {
     "data": {
      "application/vnd.plotly.v1+json": {
       "config": {
        "plotlyServerURL": "https://plot.ly"
       },
       "data": [
        {
         "hovertemplate": "Weight (kg)=%{x}<br>Height (m)=%{y}<br>BMI=%{marker.color}<extra></extra>",
         "legendgroup": "",
         "marker": {
          "color": [
           30.2,
           32,
           24.71,
           18.41,
           14.39,
           20.55,
           23.76,
           30.57,
           32.34,
           30.07,
           43.31,
           17.89,
           43.4,
           23.62,
           35.93,
           13.88,
           27.34,
           13.98,
           21.81,
           26.96,
           28.41,
           22.95,
           25.16,
           38.16,
           22.51,
           21.78,
           20.12,
           17.6,
           24.54,
           27.64,
           33.4,
           28.31,
           19.37,
           25.83,
           27.84,
           42.63,
           24.37,
           33.14,
           19.11,
           17.77,
           21.4,
           17.3,
           33.8,
           23.93,
           40.1,
           15.31,
           18.07,
           23.17,
           20.42,
           33.61,
           19.43,
           27.18,
           34.18,
           32.69,
           22.78,
           44.84,
           28.35,
           21.77,
           20.86,
           16.99,
           22.45,
           16.86,
           32.93,
           17.11,
           22.28,
           25.89,
           33.55,
           20.88,
           19.72,
           39.12,
           27.7,
           25.89,
           15.24,
           21.88,
           35.86,
           16.76,
           18.15,
           21.58,
           33.16,
           24.72,
           17.27,
           19.65,
           23.53,
           28.87,
           21.53,
           19.42,
           29.71,
           22.89,
           29.61,
           29.53,
           31.44,
           21.53,
           27.85,
           22.31,
           30.3,
           22.15,
           40.71,
           37.56,
           26.05,
           18.76,
           29.61,
           15.7,
           22.61,
           34.5,
           18.12,
           17.54,
           18.66,
           23.09,
           31.41,
           29.87,
           21.64,
           25.68,
           25.81,
           23.52,
           27.85,
           23.74,
           16.52,
           20.88,
           30.52,
           26.65,
           24.16,
           27.96,
           34.06,
           29.26,
           30.54,
           29.95,
           21.41,
           17.88,
           34.24,
           22.43,
           14.93,
           15.08,
           21.78,
           45.43,
           18.26,
           22.64,
           24.5,
           24.55,
           26.86,
           22.08,
           24.75,
           30.18,
           31.61,
           19.63,
           23.05,
           27.93,
           23.59,
           13.23,
           25.65,
           20.55,
           14.54,
           28.97,
           26.1,
           20.06,
           38.78,
           16.04,
           12.47,
           21.91,
           27.01,
           22.69,
           39.16,
           29.88,
           27.69,
           25.86,
           24.97,
           16.42,
           25.58,
           23.07,
           22.82,
           13.03,
           30.22,
           15.9,
           24.87,
           18.18,
           26.77,
           22.16,
           19.88,
           17.94,
           19.67,
           17.16,
           37.87,
           24.16,
           17.94,
           27.71,
           25.1,
           14.61,
           19.63,
           31.17,
           22.54,
           15.65,
           21.02,
           25.42,
           28.22,
           36.29,
           14.69,
           16.78,
           29.56,
           34.53,
           18.28,
           26.73,
           25.85,
           25.08,
           22.85,
           18.32,
           21.16,
           19.12,
           28.09,
           22.33,
           16.28,
           24.91,
           26.26,
           26.67,
           24.78,
           24.96,
           16.22,
           28.76,
           21.3,
           18.67,
           29.11,
           35.18,
           23.53,
           23.73,
           19.01,
           23.51,
           32.69,
           23.53,
           36.02,
           25.07,
           28.15,
           25.28,
           29.07,
           16.35,
           16.56,
           21.26,
           28.43,
           17.75,
           28.05,
           21.36,
           15.02,
           28.49,
           34.68,
           30.37,
           19.01,
           21.49,
           29.98,
           18.88,
           15.72,
           25.73,
           24.36,
           15.24,
           25.23,
           45.14,
           25.36,
           26.47,
           26.64,
           17.72,
           25.75,
           33.86,
           12.73,
           34.29,
           28.92,
           47.72,
           22.15,
           20.16,
           26.84,
           26.61,
           25.35,
           20.38,
           19.69,
           25.39,
           18.77,
           40.09,
           20.4,
           24.54,
           17.57,
           31.14,
           20.76,
           17.61,
           23.46,
           29.21,
           17.46,
           23.75,
           13.71,
           34.83,
           30.1,
           31.75,
           31.48,
           26.64,
           32.32,
           24.25,
           15.02,
           45.49,
           29.26,
           24.25,
           22.55,
           29.26,
           19.98,
           17.47,
           36.47,
           25.49,
           34.14,
           21.26,
           43.31,
           24.87,
           19.21,
           29.56,
           31.4,
           24.51,
           18.62,
           18.62,
           28.46,
           35.82,
           21.72,
           23.94,
           24.34,
           25.2,
           28.27,
           26.9,
           15.8,
           16.2,
           24.31,
           23.06,
           29.92,
           27.97,
           20.62,
           20.28,
           22.79,
           23.92,
           28.49,
           26.47,
           30.12,
           26.13,
           19.45,
           20.91,
           13.51,
           28.44,
           23.64,
           20.71,
           31.94,
           14.88,
           31.05,
           26.01,
           15.07,
           14.36,
           34.06,
           44.71,
           23.97,
           21.87,
           19.44,
           18.33,
           22.76,
           22.51,
           18.13,
           30.26,
           19.91,
           28.69,
           23.81,
           27.52,
           15.61,
           37.76,
           25.23,
           34.25,
           17.93,
           19.65,
           26.74,
           22.26,
           19.69,
           21.65,
           25.51,
           34.89,
           28.43,
           18.53,
           18.67,
           18.23,
           25.41,
           32.24,
           38.73,
           22.98,
           24.13,
           29.98,
           34.53,
           26.46,
           28.78,
           22.27,
           23.08,
           15.46,
           22.18,
           15.59,
           29.7,
           14.78,
           19.74,
           21.8,
           22.1,
           19.37,
           25.13,
           28.49,
           33.04,
           24.52,
           22.41,
           25.35,
           26.41,
           14.1,
           19.35,
           26.33,
           21.45,
           36.22,
           29.83,
           19.76,
           40.45,
           20.47,
           20.63,
           15.5,
           20.66,
           17.63,
           30.47,
           22.23,
           26.95,
           17.92,
           20.05,
           21.87,
           36.25,
           20.61,
           24.78,
           28.02,
           24.64,
           12.67,
           23.59,
           31.04,
           23.27,
           19.69,
           27.55,
           14.85,
           22.44,
           18.37,
           23.53,
           25.02,
           32.7,
           18.1,
           22.32,
           17.44,
           27.68,
           14.59,
           22.41,
           24.13,
           21.39,
           41.6,
           27.79,
           26.57,
           39.3,
           15.5,
           30.89,
           23.14,
           23.53,
           15.88,
           24.55,
           32.63,
           33.45,
           23.65,
           37.53,
           18.12,
           23.56,
           26.36,
           19.71,
           28.59,
           22.17,
           34.63,
           26.58,
           34.12,
           25.67,
           20.2,
           46.9,
           28.88,
           26.05,
           19.1,
           15.5,
           33.2,
           35.51,
           26.52,
           21.27,
           18.29,
           26.69,
           32.66,
           18.39,
           21.26,
           26.01,
           27.61,
           31.3,
           18.35,
           30.51,
           19.91,
           25.05,
           16.8,
           26.39,
           15.43,
           27.23,
           32.69,
           24.31,
           23.33,
           17.03,
           20.75,
           20.71,
           23.22,
           25.22,
           20.1,
           14.87,
           21.63,
           17.93,
           26.32,
           25.11,
           22.56,
           16.25,
           26.02,
           22.28,
           24.16,
           28.35,
           22.86,
           26.19,
           33.17,
           31.63,
           26.75,
           27.82,
           20.38,
           17.7,
           24.91,
           42.3,
           21.16,
           27.84,
           25.98,
           32.51,
           23.73,
           27.59,
           17.6,
           23.87,
           23.95,
           31.84,
           21.16,
           31.53,
           13.78,
           25.33,
           34.06,
           28.52,
           20.86,
           21.07,
           24.37,
           21.04,
           23.76,
           23.84,
           30.76,
           30.4,
           18.35,
           26.4,
           31.08,
           26.79,
           25.05,
           30.89,
           26.16,
           16.27,
           23.88,
           21.05,
           25.55,
           25.49,
           27.69,
           36.01,
           27.18,
           23.88,
           24.09,
           21.34,
           20.2,
           28.03,
           22.96,
           26.16,
           33.21,
           30.09,
           27.12,
           36.46,
           21.23,
           17.32,
           17.25,
           17.51,
           24.26,
           28.93,
           14.85,
           24.35,
           16.5,
           17.85,
           17.82,
           13.81,
           21.66,
           40.26,
           30.4,
           23.84,
           20.62,
           18.24,
           43.4,
           29.46,
           22.15,
           21.8,
           23.78,
           15.49,
           25.57,
           20.7,
           31.75,
           24.72,
           41.84,
           25.73,
           25.01,
           26.43,
           19.51,
           23.56,
           28.12,
           24.31,
           20.29,
           19.49,
           15.75,
           37.11,
           24.64,
           27.57,
           23.94,
           33.5,
           32.34,
           24.76,
           25.15,
           30.05,
           23.17,
           16.14,
           20.14,
           30.59,
           18.44,
           22.02,
           24.28,
           27.35,
           27.92,
           16.53,
           17.65,
           27.94,
           23.46,
           15.23,
           15.42,
           23.35,
           35.79,
           31.14,
           16.19,
           17.01,
           35.04,
           35.44,
           29.34,
           33.72,
           27.66,
           34.34,
           22.57,
           16.54,
           17.59,
           20.13,
           21.66,
           21.48,
           26.36,
           29.62,
           18.64,
           21,
           23.8,
           19.41,
           38.5,
           17.06,
           22.07,
           31.05,
           16.23,
           18.68,
           30.44,
           26.48,
           23.78,
           18.7,
           16.41,
           19.06,
           25.73,
           19.71,
           21.8,
           29.49,
           19.09,
           29.1,
           29.17,
           19.01,
           33.33,
           19.36,
           20.11,
           21.99,
           19.45,
           19.73,
           45.14,
           22.48,
           25.03,
           19.47,
           22.14,
           24.31,
           20.76,
           23.81,
           28.88,
           31.26,
           33.97,
           20.83,
           23.37,
           24.52,
           29.89,
           27.14,
           15.72,
           22.64,
           12.91,
           32.84,
           29.14,
           27.74,
           16.09,
           46.98,
           23.79,
           21.45,
           26.47,
           39.77,
           27.58,
           19.72,
           26.98,
           41.34,
           22.72,
           22.81,
           25.33,
           22.19,
           19.02,
           28.97,
           30.63,
           14.87,
           24.84,
           32.42,
           33.07,
           18.09,
           27.47,
           26.35,
           38.76,
           30.64,
           24.5,
           31.13,
           35.19,
           30.74,
           28.66,
           27.16,
           30.96,
           22.32,
           19.13,
           24.87,
           27.88,
           17.4,
           12.85,
           23.88,
           31.49,
           23.2,
           23.11,
           19.92,
           26.46,
           17.33,
           18.7,
           16.48,
           14.6,
           25.62,
           25.75,
           22.22,
           25.17,
           32.73,
           30.43,
           16.56,
           32.74,
           20.83,
           24.19,
           20.29,
           23.71,
           18.52,
           18.68,
           15.14,
           30.49,
           28.7,
           30.55,
           21.67,
           19.31,
           18.19,
           22.31,
           26.1,
           21.16,
           21.87,
           12.32,
           32.72,
           29.34,
           13.95,
           23.79,
           26.48,
           13.82,
           31.71,
           17.83,
           17.91,
           22.44,
           15.73,
           26.99,
           18.79,
           23.01,
           17.4,
           19.86,
           20.27,
           27.53,
           24.42,
           28.2,
           23.64,
           26.43,
           40.79,
           21,
           27.78,
           23.1,
           27.11,
           25.54,
           34.8,
           22.48,
           16.97,
           38.49,
           29.69,
           24.22,
           20.36,
           26.66,
           22.67,
           21.29,
           25.72,
           26.54,
           17.05,
           19.55,
           37.98,
           23.23,
           15.65,
           15.51,
           21.49,
           29.97,
           20.28,
           44.26,
           23.8,
           22.48,
           24.84,
           25.44,
           32.75,
           28.78,
           18.45,
           20.11,
           26.68,
           30.68,
           36.45,
           23.77,
           31.31,
           16.66,
           17.2,
           41.03,
           26.99,
           22.06,
           40.52,
           28.56,
           49.84,
           27.84,
           28.46,
           26.81,
           26.33,
           18.98,
           23.6,
           17.61,
           22.44,
           26.08,
           24.89,
           29.89,
           22.96,
           13.36,
           46.94,
           15.92,
           24.2,
           18.79,
           24.01,
           14.74,
           13.38,
           27.05,
           23.21,
           23.48,
           17.44,
           18.42,
           23.22,
           25.7,
           24.21,
           19.88,
           29.5,
           25.56,
           17.27,
           18.46,
           30.34,
           27.43,
           23.7,
           32.66,
           23.25,
           29.3,
           19.73,
           24.44,
           26.75,
           25.92,
           36.95,
           26.32,
           31.32,
           21.06,
           23.98,
           21.84,
           21.84,
           28.56,
           24.07,
           34.92,
           12.97,
           14.57,
           24.36,
           30.19,
           40.09,
           24.78,
           25.54,
           21.83,
           41.56,
           26.47,
           26.14,
           31.64,
           33.61,
           23.33,
           23.79,
           28.28,
           44.1,
           14.07,
           27.18,
           20.76,
           22.6,
           24.13,
           23.75,
           28.68,
           30.43,
           27.2,
           24.23,
           16.01,
           44.66,
           35.47,
           18.65,
           19.82,
           17.39,
           25.85,
           27.55,
           30.66,
           20.07,
           48.43,
           27.11,
           22.99,
           23.79,
           31.74,
           29.23,
           16.01,
           21.34,
           21.67,
           25.14,
           26.22,
           23.02,
           23.41,
           23.28,
           36.8,
           27.03,
           23.88,
           30.63,
           14.3,
           22.48,
           16.8,
           23.93,
           21.48,
           28.77,
           25.69,
           19.5,
           37.74,
           33.38
          ],
          "coloraxis": "coloraxis",
          "symbol": "circle"
         },
         "mode": "markers",
         "name": "",
         "orientation": "v",
         "showlegend": false,
         "type": "scatter",
         "x": [
          88.3,
          74.9,
          68.1,
          53.2,
          46.1,
          58,
          70.3,
          69.7,
          121.7,
          101.8,
          120.8,
          51.7,
          112.5,
          94.5,
          117.7,
          42.5,
          64,
          43.8,
          66.8,
          75.2,
          89,
          71.9,
          71,
          120.9,
          64.3,
          63.7,
          65.2,
          53.9,
          84.9,
          78,
          108.2,
          65.4,
          50.2,
          58.9,
          81.4,
          127.6,
          59.3,
          96.9,
          62.6,
          45.5,
          48.8,
          44.3,
          113.2,
          60.5,
          124.2,
          52.4,
          54.7,
          88.1,
          59.7,
          79.7,
          51,
          84.2,
          122.1,
          96.7,
          73,
          114.8,
          65.5,
          50.3,
          61,
          44.6,
          58.2,
          44.8,
          87.5,
          51.8,
          64.4,
          67.1,
          85.9,
          65.4,
          61.1,
          106.5,
          64,
          61.4,
          40.5,
          70.1,
          94.1,
          55.5,
          53.7,
          66.1,
          103.9,
          61.7,
          52.3,
          59.5,
          72.9,
          76.7,
          72.1,
          54.8,
          105,
          55,
          81.6,
          75.6,
          81.5,
          61.5,
          74,
          56.4,
          102.6,
          54.6,
          129,
          103.5,
          59.4,
          60.1,
          77.7,
          41.2,
          58.6,
          109.3,
          69.6,
          56.2,
          71.7,
          86,
          79.4,
          78.4,
          55.4,
          61.7,
          85.5,
          87.6,
          82.4,
          67,
          42.3,
          82.7,
          92.4,
          63.2,
          82.7,
          86.6,
          129.5,
          98,
          86.2,
          78.6,
          59,
          57.3,
          122.3,
          85.3,
          45.2,
          55.6,
          82.8,
          125.2,
          58.5,
          86.1,
          63.5,
          69.3,
          70.5,
          60.1,
          94.1,
          79.2,
          115.3,
          62.9,
          62,
          88.5,
          73.9,
          50.3,
          83.1,
          65.1,
          46.6,
          103.5,
          61.9,
          52,
          113.4,
          62.9,
          40.4,
          67.1,
          70,
          69.5,
          107.9,
          109,
          101,
          88.5,
          80.9,
          43.1,
          59.1,
          54,
          72.3,
          51.1,
          89.4,
          51.5,
          87.9,
          42,
          79.2,
          64.8,
          63,
          56.2,
          52.9,
          49,
          128.2,
          83.6,
          56.2,
          87.8,
          85.9,
          51.1,
          57.4,
          114.9,
          62.1,
          57.1,
          68.1,
          69.2,
          65.2,
          108.6,
          40,
          41.9,
          68.3,
          88.4,
          66,
          71.9,
          75.6,
          63.4,
          71.6,
          57.4,
          83.8,
          55.9,
          87,
          65.3,
          45.4,
          87.1,
          78.6,
          78,
          58,
          71.3,
          49.1,
          78.3,
          57.3,
          48.4,
          76.4,
          110.2,
          72.9,
          82.1,
          58.9,
          82.2,
          96.7,
          81.4,
          107.8,
          65.8,
          68.5,
          63.9,
          76.3,
          44.5,
          50.7,
          55.1,
          73.7,
          55.6,
          86.9,
          60.3,
          40.4,
          78.5,
          102.6,
          110.8,
          60.9,
          55.7,
          110.5,
          55.2,
          46.5,
          70.9,
          74.6,
          45.1,
          99.9,
          117,
          75.9,
          71.2,
          78.8,
          50.6,
          82.5,
          108.5,
          49.9,
          125.1,
          79.7,
          126.8,
          54.6,
          47.8,
          97.9,
          63.1,
          72.4,
          58.9,
          50.4,
          64.2,
          58.8,
          105.2,
          45.9,
          65.2,
          56.3,
          90,
          60,
          51.5,
          63.1,
          91.5,
          48.7,
          57.8,
          42,
          128.4,
          74.2,
          89.6,
          125.9,
          105.5,
          93.4,
          82.1,
          42.9,
          128.4,
          112.4,
          77.7,
          89.3,
          70.3,
          59.1,
          49.9,
          101.7,
          93,
          87.4,
          55.1,
          123.7,
          61.3,
          72.3,
          69.2,
          81.4,
          84.8,
          55.1,
          59,
          64.9,
          109.7,
          78.4,
          76.7,
          63.1,
          62.9,
          85.6,
          66.3,
          61.3,
          44.1,
          63.8,
          55.4,
          74.7,
          78,
          57.5,
          60.7,
          69,
          75.8,
          75.7,
          71.2,
          85,
          63.6,
          73.2,
          48.3,
          42.8,
          88.1,
          72.4,
          73.2,
          110.5,
          46.1,
          90.8,
          59.3,
          45.1,
          45,
          89.4,
          127.7,
          70.9,
          49.2,
          62.3,
          64.1,
          69.7,
          56.9,
          53,
          72.7,
          76.5,
          113.6,
          62.5,
          95.2,
          51.7,
          105.3,
          71.2,
          78.1,
          50.6,
          70.2,
          62.6,
          60.6,
          76.4,
          63.3,
          68.6,
          123.3,
          107,
          68.3,
          47.8,
          58.4,
          74.3,
          106.8,
          125.5,
          55.2,
          71.4,
          77.7,
          88.4,
          104.8,
          82.2,
          68.2,
          91.4,
          42.1,
          68.7,
          47.2,
          92,
          56.2,
          58.4,
          82.9,
          66.9,
          66.3,
          93.6,
          64.1,
          86.7,
          62,
          58.1,
          64.9,
          69.3,
          42.7,
          51.4,
          67.4,
          55.6,
          125.3,
          102.1,
          61.9,
          108.8,
          51.1,
          81.7,
          42.7,
          81.8,
          54.6,
          107.7,
          56.9,
          78.8,
          48.2,
          50.7,
          86.6,
          96.3,
          80.8,
          58,
          95.9,
          61.5,
          40.6,
          82.5,
          105.1,
          58.1,
          61,
          64.5,
          58.2,
          69.5,
          62.2,
          68,
          56.3,
          94.5,
          58,
          84,
          61,
          64.8,
          45.7,
          80.9,
          64.1,
          67,
          106.5,
          95.1,
          65.5,
          105.7,
          48,
          69.5,
          66.1,
          68,
          50.3,
          69.3,
          86.7,
          125.9,
          88.1,
          124.3,
          62,
          69.7,
          60.9,
          76.5,
          94.7,
          67.9,
          121.1,
          71.5,
          98.6,
          68.2,
          57.7,
          124.6,
          73,
          59.4,
          52,
          42.2,
          89.3,
          110,
          66.2,
          58.6,
          51,
          101.5,
          114.2,
          54.4,
          52.4,
          85.2,
          83.6,
          115.4,
          71.2,
          78.1,
          54.2,
          77.6,
          44.1,
          85.5,
          47.8,
          102.5,
          118,
          82.3,
          81.6,
          60.2,
          49.2,
          46.6,
          68.7,
          60.6,
          52.1,
          46.6,
          65.5,
          44.2,
          89.1,
          65.9,
          55.6,
          63.7,
          86.2,
          59.2,
          85.4,
          68.1,
          60,
          74.8,
          90.3,
          86.1,
          73.7,
          67.7,
          78.3,
          48.2,
          56.8,
          112.4,
          59,
          98.4,
          66.5,
          106.5,
          88.4,
          88.4,
          53.3,
          58.1,
          74.2,
          84.6,
          78,
          89,
          42.7,
          83.9,
          78.7,
          65.9,
          76.9,
          84.3,
          62.4,
          63.7,
          54.9,
          76.4,
          106.4,
          68.4,
          63.5,
          59.4,
          113.4,
          61.9,
          70.7,
          111.5,
          72.1,
          56.9,
          86.2,
          59.4,
          75.6,
          76.3,
          95.8,
          120.6,
          65.3,
          85.3,
          68,
          52.6,
          63.3,
          76.3,
          61,
          67.8,
          114.9,
          88,
          67.7,
          124.8,
          53,
          61.2,
          48.7,
          50.6,
          72.6,
          70.4,
          52.5,
          76.3,
          41.2,
          55.3,
          49.7,
          48.3,
          83.2,
          120.5,
          121.6,
          73,
          57.5,
          42.7,
          129.9,
          108.6,
          88.6,
          49.7,
          56.4,
          46.9,
          71.3,
          71.6,
          82.3,
          70.6,
          109.8,
          73.5,
          85.6,
          74.6,
          63.2,
          62.6,
          87.1,
          82.3,
          64.3,
          53.7,
          63,
          128.4,
          88,
          63.7,
          83.7,
          102.6,
          77.7,
          87.5,
          87,
          82.8,
          65.4,
          47.2,
          58.2,
          73.5,
          55.2,
          64.4,
          73.5,
          89.6,
          86.5,
          46.1,
          68.5,
          94.6,
          54.2,
          47.7,
          52.2,
          88.8,
          101,
          118.4,
          47.9,
          51.5,
          79.9,
          121.3,
          78.9,
          88.5,
          73.5,
          127.9,
          88.5,
          43.4,
          42.8,
          64.5,
          50.7,
          59.2,
          78.9,
          78.7,
          68.7,
          53.1,
          64.8,
          50.3,
          102.3,
          62.9,
          56.5,
          74.6,
          52,
          52.1,
          72.2,
          85.8,
          81.4,
          50.9,
          52,
          71,
          80.6,
          58.3,
          63,
          111,
          52.6,
          116.4,
          75.6,
          61.6,
          108,
          59.3,
          75.7,
          56.3,
          58.2,
          55.7,
          125.9,
          62.7,
          86.6,
          64.5,
          76.6,
          81.4,
          60.7,
          57.2,
          73,
          123.8,
          93.6,
          76.8,
          54.7,
          92.3,
          71.8,
          66.9,
          48.7,
          66.2,
          40,
          112.4,
          70,
          84,
          43.8,
          123.3,
          57.9,
          82.4,
          84.8,
          109.6,
          86.4,
          63.9,
          70.8,
          115.3,
          55.3,
          73.9,
          97.3,
          60.4,
          49.3,
          91.8,
          73.6,
          47.1,
          65.2,
          87.2,
          96.7,
          46.9,
          72.1,
          62.5,
          110.7,
          102.6,
          64.3,
          80.7,
          115.3,
          87.8,
          74.3,
          78.5,
          77.3,
          64.5,
          72,
          77.9,
          69.6,
          68.9,
          45.9,
          68.2,
          79.6,
          53.6,
          57.7,
          74.2,
          64.4,
          54.9,
          50.3,
          46.5,
          57.8,
          83,
          82.5,
          66.5,
          70.2,
          121.9,
          70.3,
          40.3,
          101.4,
          79.2,
          75.8,
          71.7,
          57.7,
          47.4,
          57.2,
          44.8,
          90.2,
          84.9,
          95.7,
          59,
          60.5,
          53.8,
          86.6,
          72.8,
          66.3,
          56,
          45.9,
          88,
          94,
          44.7,
          63.2,
          95.6,
          47.8,
          85.3,
          59.7,
          70.2,
          72.7,
          50.4,
          81.7,
          49.3,
          61.9,
          49.1,
          66.5,
          75.5,
          88.2,
          74.8,
          72.2,
          62.8,
          84.7,
          116.5,
          77.4,
          72.9,
          58.4,
          64.3,
          89.3,
          90.2,
          59,
          58.7,
          127.5,
          68.6,
          56.7,
          64.5,
          61.6,
          75.1,
          79.3,
          72.6,
          76.7,
          44.2,
          56.5,
          100.9,
          55.8,
          58.3,
          48.6,
          81.7,
          85.6,
          60,
          126.4,
          75.4,
          64.2,
          65.2,
          70.1,
          102.6,
          107.2,
          56.5,
          61.6,
          81.7,
          76.6,
          116.8,
          60.1,
          93.7,
          41.6,
          55.1,
          127.1,
          69.1,
          66.8,
          125.5,
          71.3,
          129.2,
          96.3,
          67.5,
          64.4,
          64.9,
          52.3,
          56.7,
          46.8,
          70.3,
          80.8,
          56,
          101.2,
          56.6,
          40.9,
          127.8,
          49.3,
          64.3,
          49.3,
          63,
          41.1,
          40.5,
          71,
          60.9,
          64.7,
          51,
          57.7,
          76.9,
          80.5,
          73.3,
          49,
          114.5,
          81,
          53.5,
          52.1,
          70.1,
          86.9,
          73.4,
          90,
          85.7,
          70.4,
          57.7,
          75.7,
          61.8,
          80.3,
          104.3,
          65.7,
          120.3,
          51.9,
          59.1,
          66.9,
          66.9,
          78.7,
          62.4,
          102.1,
          51.9,
          58.3,
          89.8,
          101.1,
          118.6,
          84.8,
          80,
          73.1,
          117.3,
          77.4,
          72.9,
          71.2,
          88.2,
          75.6,
          57.9,
          70.6,
          118.6,
          55.7,
          102.3,
          72.6,
          63.8,
          67.3,
          59.3,
          70.7,
          86.9,
          98.2,
          63.6,
          45.2,
          117.2,
          107.4,
          59.1,
          53.3,
          46.2,
          67,
          86.3,
          85.5,
          70.2,
          127.1,
          75.6,
          62.6,
          55.7,
          96.1,
          76.7,
          57.2,
          69.9,
          67.9,
          87.9,
          102.8,
          51.8,
          57.7,
          66.5,
          95.4,
          69.2,
          66.6,
          83.4,
          43.8,
          64.2,
          44.1,
          87.3,
          55,
          87.1,
          66.6,
          60.4,
          126.4,
          88.7
         ],
         "xaxis": "x",
         "y": [
          1.71,
          1.53,
          1.66,
          1.7,
          1.79,
          1.68,
          1.72,
          1.51,
          1.94,
          1.84,
          1.67,
          1.7,
          1.61,
          2,
          1.81,
          1.75,
          1.53,
          1.77,
          1.75,
          1.67,
          1.77,
          1.77,
          1.68,
          1.78,
          1.69,
          1.71,
          1.8,
          1.75,
          1.86,
          1.68,
          1.8,
          1.52,
          1.61,
          1.51,
          1.71,
          1.73,
          1.56,
          1.71,
          1.81,
          1.6,
          1.51,
          1.6,
          1.83,
          1.59,
          1.76,
          1.85,
          1.74,
          1.95,
          1.71,
          1.54,
          1.62,
          1.76,
          1.89,
          1.72,
          1.79,
          1.6,
          1.52,
          1.52,
          1.71,
          1.62,
          1.61,
          1.63,
          1.63,
          1.74,
          1.7,
          1.61,
          1.6,
          1.77,
          1.76,
          1.65,
          1.52,
          1.54,
          1.63,
          1.79,
          1.62,
          1.82,
          1.72,
          1.75,
          1.77,
          1.58,
          1.74,
          1.74,
          1.76,
          1.63,
          1.83,
          1.68,
          1.88,
          1.55,
          1.66,
          1.6,
          1.61,
          1.69,
          1.63,
          1.59,
          1.84,
          1.57,
          1.78,
          1.66,
          1.51,
          1.79,
          1.62,
          1.62,
          1.61,
          1.78,
          1.96,
          1.79,
          1.96,
          1.93,
          1.59,
          1.62,
          1.6,
          1.55,
          1.82,
          1.93,
          1.72,
          1.68,
          1.6,
          1.99,
          1.74,
          1.54,
          1.85,
          1.76,
          1.95,
          1.83,
          1.68,
          1.62,
          1.66,
          1.79,
          1.89,
          1.95,
          1.74,
          1.92,
          1.95,
          1.66,
          1.79,
          1.95,
          1.61,
          1.68,
          1.62,
          1.65,
          1.95,
          1.62,
          1.91,
          1.79,
          1.64,
          1.78,
          1.77,
          1.95,
          1.8,
          1.78,
          1.79,
          1.89,
          1.54,
          1.61,
          1.71,
          1.98,
          1.8,
          1.75,
          1.61,
          1.75,
          1.66,
          1.91,
          1.91,
          1.85,
          1.8,
          1.62,
          1.52,
          1.53,
          1.78,
          1.98,
          1.72,
          1.8,
          1.88,
          1.52,
          1.72,
          1.71,
          1.78,
          1.77,
          1.64,
          1.69,
          1.84,
          1.86,
          1.77,
          1.78,
          1.85,
          1.87,
          1.71,
          1.92,
          1.66,
          1.91,
          1.8,
          1.65,
          1.52,
          1.73,
          1.65,
          1.58,
          1.52,
          1.6,
          1.9,
          1.64,
          1.71,
          1.59,
          1.77,
          1.77,
          1.99,
          1.71,
          1.76,
          1.71,
          1.67,
          1.87,
          1.73,
          1.71,
          1.53,
          1.69,
          1.74,
          1.65,
          1.64,
          1.61,
          1.62,
          1.77,
          1.76,
          1.86,
          1.76,
          1.87,
          1.72,
          1.86,
          1.73,
          1.62,
          1.56,
          1.59,
          1.62,
          1.65,
          1.75,
          1.61,
          1.61,
          1.77,
          1.76,
          1.68,
          1.64,
          1.66,
          1.72,
          1.91,
          1.79,
          1.61,
          1.92,
          1.71,
          1.72,
          1.66,
          1.75,
          1.72,
          1.99,
          1.61,
          1.73,
          1.64,
          1.72,
          1.69,
          1.79,
          1.79,
          1.98,
          1.91,
          1.66,
          1.63,
          1.57,
          1.54,
          1.91,
          1.54,
          1.69,
          1.7,
          1.6,
          1.59,
          1.77,
          1.62,
          1.5,
          1.63,
          1.79,
          1.7,
          1.7,
          1.71,
          1.64,
          1.77,
          1.67,
          1.56,
          1.75,
          1.92,
          1.57,
          1.68,
          2,
          1.99,
          1.7,
          1.84,
          1.69,
          1.68,
          1.96,
          1.79,
          1.99,
          1.55,
          1.72,
          1.69,
          1.67,
          1.91,
          1.6,
          1.61,
          1.69,
          1.57,
          1.94,
          1.53,
          1.61,
          1.86,
          1.72,
          1.78,
          1.51,
          1.75,
          1.9,
          1.79,
          1.61,
          1.58,
          1.74,
          1.57,
          1.97,
          1.65,
          1.62,
          1.55,
          1.58,
          1.67,
          1.67,
          1.73,
          1.74,
          1.78,
          1.63,
          1.64,
          1.68,
          1.56,
          1.94,
          1.52,
          1.78,
          1.76,
          1.75,
          1.88,
          1.86,
          1.76,
          1.71,
          1.51,
          1.73,
          1.77,
          1.62,
          1.69,
          1.72,
          1.5,
          1.79,
          1.87,
          1.75,
          1.59,
          1.71,
          1.55,
          1.96,
          1.99,
          1.62,
          1.86,
          1.82,
          1.67,
          1.68,
          1.51,
          1.68,
          1.89,
          1.53,
          1.65,
          1.97,
          1.71,
          1.64,
          1.88,
          1.94,
          1.92,
          1.6,
          1.79,
          1.71,
          1.82,
          1.8,
          1.55,
          1.72,
          1.61,
          1.6,
          1.99,
          1.69,
          1.75,
          1.99,
          1.65,
          1.76,
          1.74,
          1.76,
          1.95,
          1.72,
          1.95,
          1.74,
          1.85,
          1.93,
          1.5,
          1.62,
          1.59,
          1.61,
          1.6,
          1.62,
          1.74,
          1.63,
          1.6,
          1.61,
          1.86,
          1.85,
          1.77,
          1.64,
          1.58,
          1.99,
          1.66,
          1.99,
          1.76,
          1.88,
          1.6,
          1.71,
          1.64,
          1.59,
          1.99,
          1.63,
          1.98,
          1.53,
          1.85,
          1.58,
          1.79,
          1.87,
          1.84,
          1.58,
          1.76,
          1.53,
          1.98,
          1.76,
          1.84,
          1.7,
          1.5,
          1.7,
          1.79,
          1.94,
          1.87,
          1.53,
          1.77,
          1.9,
          1.63,
          1.77,
          1.6,
          1.85,
          1.57,
          1.64,
          1.76,
          1.5,
          1.69,
          1.7,
          1.78,
          1.68,
          1.63,
          1.94,
          1.93,
          1.82,
          1.85,
          1.72,
          1.52,
          1.97,
          1.82,
          1.75,
          1.87,
          1.64,
          1.7,
          1.63,
          1.69,
          1.63,
          1.59,
          1.51,
          1.65,
          1.65,
          1.64,
          1.76,
          1.58,
          1.66,
          1.67,
          1.95,
          1.87,
          1.72,
          1.57,
          1.81,
          1.74,
          1.92,
          1.97,
          1.6,
          1.65,
          1.76,
          1.62,
          1.8,
          1.76,
          1.94,
          1.9,
          1.84,
          1.87,
          1.88,
          1.54,
          1.5,
          1.72,
          1.55,
          1.61,
          1.77,
          1.74,
          1.57,
          1.84,
          1.62,
          1.57,
          1.98,
          1.82,
          1.63,
          1.88,
          1.55,
          1.62,
          1.69,
          1.65,
          1.65,
          1.66,
          1.56,
          1.96,
          1.65,
          1.51,
          1.63,
          1.67,
          1.88,
          1.6,
          1.81,
          1.93,
          1.79,
          1.74,
          1.56,
          1.76,
          1.63,
          1.92,
          1.68,
          1.76,
          1.82,
          1.52,
          1.52,
          1.92,
          2,
          1.6,
          1.74,
          1.52,
          1.79,
          1.86,
          1.5,
          1.86,
          1.5,
          1.91,
          1.52,
          1.68,
          1.9,
          1.66,
          1.87,
          1.9,
          1.68,
          1.72,
          1.73,
          1.86,
          1.83,
          1.55,
          1.89,
          1.68,
          1.57,
          1.77,
          1.65,
          1.63,
          1.61,
          1.86,
          1.71,
          1.58,
          1.85,
          1.58,
          1.88,
          1.68,
          1.7,
          1.73,
          1.56,
          1.88,
          1.77,
          1.58,
          1.76,
          1.67,
          1.87,
          1.96,
          1.73,
          2,
          1.75,
          1.67,
          1.53,
          1.73,
          1.92,
          2,
          1.51,
          1.54,
          1.74,
          1.67,
          1.86,
          1.61,
          1.69,
          1.62,
          1.69,
          1.85,
          1.68,
          1.8,
          1.63,
          1.76,
          1.84,
          1.78,
          1.66,
          2,
          1.86,
          1.89,
          1.52,
          1.87,
          1.75,
          1.55,
          1.88,
          1.86,
          1.66,
          1.68,
          1.71,
          1.7,
          1.55,
          1.73,
          1.71,
          1.74,
          1.81,
          1.76,
          1.67,
          1.97,
          1.84,
          1.52,
          1.77,
          1.84,
          1.95,
          1.68,
          1.95,
          1.72,
          1.74,
          1.51,
          1.85,
          1.64,
          1.62,
          1.63,
          1.93,
          1.98,
          1.62,
          1.56,
          1.79,
          1.53,
          1.66,
          1.73,
          1.63,
          1.92,
          1.59,
          1.65,
          1.61,
          1.63,
          1.92,
          1.6,
          1.55,
          1.79,
          1.67,
          1.54,
          1.8,
          1.85,
          1.65,
          1.78,
          1.93,
          1.77,
          1.72,
          1.7,
          1.94,
          1.66,
          2,
          1.61,
          1.8,
          1.8,
          1.75,
          1.94,
          1.6,
          1.73,
          1.68,
          1.67,
          1.67,
          1.86,
          1.82,
          1.86,
          1.83,
          1.71,
          1.55,
          1.59,
          1.99,
          1.66,
          1.92,
          1.53,
          1.94,
          1.55,
          1.57,
          1.76,
          1.71,
          1.76,
          1.85,
          1.55,
          1.74,
          1.65,
          1.62,
          1.56,
          1.96,
          1.79,
          1.66,
          1.77,
          1.8,
          1.62,
          1.67,
          1.56,
          1.8,
          1.96,
          1.65,
          1.61,
          1.78,
          1.55,
          1.78,
          1.62,
          1.64,
          1.71,
          1.61,
          1.62,
          1.54,
          1.69,
          1.83,
          1.62,
          1.61,
          1.81,
          1.69,
          1.61,
          1.7,
          1.58,
          1.7,
          1.94,
          1.77,
          1.58,
          1.99,
          1.89,
          1.69,
          1.59,
          1.52,
          1.58,
          1.93,
          1.56,
          1.78,
          1.64,
          1.68,
          1.99,
          1.8,
          1.79,
          1.73,
          1.67,
          1.93,
          1.52,
          1.56,
          1.76,
          1.95,
          1.77,
          1.88,
          1.56,
          1.6,
          1.75,
          1.72,
          1.72,
          1.72,
          1.77,
          1.65,
          1.77,
          1.72,
          1.97,
          1.67,
          1.77,
          1.6,
          1.93,
          1.64,
          1.79,
          1.79,
          1.63,
          1.9,
          1.86,
          1.64,
          1.83,
          1.98,
          1.8,
          1.79,
          1.74,
          1.62,
          1.64,
          1.68,
          1.83,
          1.93,
          1.79,
          1.75,
          1.6,
          1.63,
          1.79,
          1.69,
          1.92,
          1.62,
          1.59,
          1.54,
          1.87,
          1.61,
          1.62,
          1.86,
          1.82,
          1.52,
          1.53,
          1.78,
          1.52,
          1.82,
          1.93,
          1.68,
          1.7,
          1.61,
          1.7,
          1.63,
          1.55,
          1.93,
          1.77,
          1.95,
          1.69,
          1.72,
          1.69,
          1.78,
          1.69,
          1.62,
          1.66,
          1.77,
          1.93,
          1.75,
          1.75,
          1.75,
          1.58,
          1.79,
          1.59,
          1.73,
          1.58,
          1.79,
          1.76,
          1.6,
          1.74,
          1.76,
          1.58,
          1.61,
          1.86,
          1.54,
          1.55,
          1.57,
          1.66,
          1.55,
          1.63,
          1.77,
          1.76,
          1.5,
          1.84,
          1.57,
          1.75,
          1.65,
          1.76,
          1.63,
          1.62,
          1.62,
          1.67,
          1.74,
          1.62,
          1.62,
          1.66,
          1.71,
          1.77,
          1.82,
          1.77,
          1.74,
          1.57,
          1.97,
          1.78,
          1.76,
          1.68,
          1.52,
          1.78,
          1.76,
          1.66,
          1.92,
          1.55,
          1.71,
          1.76,
          1.52,
          1.76,
          1.68,
          1.58,
          1.96,
          1.57,
          1.57,
          1.75,
          1.75,
          1.66,
          1.61,
          1.71,
          2,
          2,
          1.92,
          1.83,
          1.72,
          1.85,
          1.77,
          1.83,
          1.68,
          1.71,
          1.67,
          1.5,
          1.62,
          1.8,
          1.56,
          1.58,
          1.64,
          1.99,
          1.94,
          1.87,
          1.68,
          1.67,
          1.58,
          1.57,
          1.69,
          1.9,
          1.62,
          1.68,
          1.62,
          1.74,
          1.78,
          1.64,
          1.63,
          1.61,
          1.77,
          1.67,
          1.87,
          1.62,
          1.67,
          1.65,
          1.53,
          1.74,
          1.62,
          1.89,
          1.81,
          1.77,
          1.87,
          1.98,
          1.5,
          1.57,
          1.69,
          1.61,
          1.6,
          1.67,
          1.65,
          1.75,
          1.69,
          1.62,
          1.91,
          1.6,
          1.74,
          1.61,
          1.76,
          1.83,
          1.63
         ],
         "yaxis": "y"
        }
       ],
       "layout": {
        "coloraxis": {
         "colorbar": {
          "title": {
           "text": "BMI"
          }
         },
         "colorscale": [
          [
           0,
           "#0d0887"
          ],
          [
           0.1111111111111111,
           "#46039f"
          ],
          [
           0.2222222222222222,
           "#7201a8"
          ],
          [
           0.3333333333333333,
           "#9c179e"
          ],
          [
           0.4444444444444444,
           "#bd3786"
          ],
          [
           0.5555555555555556,
           "#d8576b"
          ],
          [
           0.6666666666666666,
           "#ed7953"
          ],
          [
           0.7777777777777778,
           "#fb9f3a"
          ],
          [
           0.8888888888888888,
           "#fdca26"
          ],
          [
           1,
           "#f0f921"
          ]
         ]
        },
        "height": 600,
        "legend": {
         "tracegroupgap": 0
        },
        "margin": {
         "t": 60
        },
        "template": {
         "data": {
          "bar": [
           {
            "error_x": {
             "color": "#2a3f5f"
            },
            "error_y": {
             "color": "#2a3f5f"
            },
            "marker": {
             "line": {
              "color": "#E5ECF6",
              "width": 0.5
             },
             "pattern": {
              "fillmode": "overlay",
              "size": 10,
              "solidity": 0.2
             }
            },
            "type": "bar"
           }
          ],
          "barpolar": [
           {
            "marker": {
             "line": {
              "color": "#E5ECF6",
              "width": 0.5
             },
             "pattern": {
              "fillmode": "overlay",
              "size": 10,
              "solidity": 0.2
             }
            },
            "type": "barpolar"
           }
          ],
          "carpet": [
           {
            "aaxis": {
             "endlinecolor": "#2a3f5f",
             "gridcolor": "white",
             "linecolor": "white",
             "minorgridcolor": "white",
             "startlinecolor": "#2a3f5f"
            },
            "baxis": {
             "endlinecolor": "#2a3f5f",
             "gridcolor": "white",
             "linecolor": "white",
             "minorgridcolor": "white",
             "startlinecolor": "#2a3f5f"
            },
            "type": "carpet"
           }
          ],
          "choropleth": [
           {
            "colorbar": {
             "outlinewidth": 0,
             "ticks": ""
            },
            "type": "choropleth"
           }
          ],
          "contour": [
           {
            "colorbar": {
             "outlinewidth": 0,
             "ticks": ""
            },
            "colorscale": [
             [
              0,
              "#0d0887"
             ],
             [
              0.1111111111111111,
              "#46039f"
             ],
             [
              0.2222222222222222,
              "#7201a8"
             ],
             [
              0.3333333333333333,
              "#9c179e"
             ],
             [
              0.4444444444444444,
              "#bd3786"
             ],
             [
              0.5555555555555556,
              "#d8576b"
             ],
             [
              0.6666666666666666,
              "#ed7953"
             ],
             [
              0.7777777777777778,
              "#fb9f3a"
             ],
             [
              0.8888888888888888,
              "#fdca26"
             ],
             [
              1,
              "#f0f921"
             ]
            ],
            "type": "contour"
           }
          ],
          "contourcarpet": [
           {
            "colorbar": {
             "outlinewidth": 0,
             "ticks": ""
            },
            "type": "contourcarpet"
           }
          ],
          "heatmap": [
           {
            "colorbar": {
             "outlinewidth": 0,
             "ticks": ""
            },
            "colorscale": [
             [
              0,
              "#0d0887"
             ],
             [
              0.1111111111111111,
              "#46039f"
             ],
             [
              0.2222222222222222,
              "#7201a8"
             ],
             [
              0.3333333333333333,
              "#9c179e"
             ],
             [
              0.4444444444444444,
              "#bd3786"
             ],
             [
              0.5555555555555556,
              "#d8576b"
             ],
             [
              0.6666666666666666,
              "#ed7953"
             ],
             [
              0.7777777777777778,
              "#fb9f3a"
             ],
             [
              0.8888888888888888,
              "#fdca26"
             ],
             [
              1,
              "#f0f921"
             ]
            ],
            "type": "heatmap"
           }
          ],
          "heatmapgl": [
           {
            "colorbar": {
             "outlinewidth": 0,
             "ticks": ""
            },
            "colorscale": [
             [
              0,
              "#0d0887"
             ],
             [
              0.1111111111111111,
              "#46039f"
             ],
             [
              0.2222222222222222,
              "#7201a8"
             ],
             [
              0.3333333333333333,
              "#9c179e"
             ],
             [
              0.4444444444444444,
              "#bd3786"
             ],
             [
              0.5555555555555556,
              "#d8576b"
             ],
             [
              0.6666666666666666,
              "#ed7953"
             ],
             [
              0.7777777777777778,
              "#fb9f3a"
             ],
             [
              0.8888888888888888,
              "#fdca26"
             ],
             [
              1,
              "#f0f921"
             ]
            ],
            "type": "heatmapgl"
           }
          ],
          "histogram": [
           {
            "marker": {
             "pattern": {
              "fillmode": "overlay",
              "size": 10,
              "solidity": 0.2
             }
            },
            "type": "histogram"
           }
          ],
          "histogram2d": [
           {
            "colorbar": {
             "outlinewidth": 0,
             "ticks": ""
            },
            "colorscale": [
             [
              0,
              "#0d0887"
             ],
             [
              0.1111111111111111,
              "#46039f"
             ],
             [
              0.2222222222222222,
              "#7201a8"
             ],
             [
              0.3333333333333333,
              "#9c179e"
             ],
             [
              0.4444444444444444,
              "#bd3786"
             ],
             [
              0.5555555555555556,
              "#d8576b"
             ],
             [
              0.6666666666666666,
              "#ed7953"
             ],
             [
              0.7777777777777778,
              "#fb9f3a"
             ],
             [
              0.8888888888888888,
              "#fdca26"
             ],
             [
              1,
              "#f0f921"
             ]
            ],
            "type": "histogram2d"
           }
          ],
          "histogram2dcontour": [
           {
            "colorbar": {
             "outlinewidth": 0,
             "ticks": ""
            },
            "colorscale": [
             [
              0,
              "#0d0887"
             ],
             [
              0.1111111111111111,
              "#46039f"
             ],
             [
              0.2222222222222222,
              "#7201a8"
             ],
             [
              0.3333333333333333,
              "#9c179e"
             ],
             [
              0.4444444444444444,
              "#bd3786"
             ],
             [
              0.5555555555555556,
              "#d8576b"
             ],
             [
              0.6666666666666666,
              "#ed7953"
             ],
             [
              0.7777777777777778,
              "#fb9f3a"
             ],
             [
              0.8888888888888888,
              "#fdca26"
             ],
             [
              1,
              "#f0f921"
             ]
            ],
            "type": "histogram2dcontour"
           }
          ],
          "mesh3d": [
           {
            "colorbar": {
             "outlinewidth": 0,
             "ticks": ""
            },
            "type": "mesh3d"
           }
          ],
          "parcoords": [
           {
            "line": {
             "colorbar": {
              "outlinewidth": 0,
              "ticks": ""
             }
            },
            "type": "parcoords"
           }
          ],
          "pie": [
           {
            "automargin": true,
            "type": "pie"
           }
          ],
          "scatter": [
           {
            "fillpattern": {
             "fillmode": "overlay",
             "size": 10,
             "solidity": 0.2
            },
            "type": "scatter"
           }
          ],
          "scatter3d": [
           {
            "line": {
             "colorbar": {
              "outlinewidth": 0,
              "ticks": ""
             }
            },
            "marker": {
             "colorbar": {
              "outlinewidth": 0,
              "ticks": ""
             }
            },
            "type": "scatter3d"
           }
          ],
          "scattercarpet": [
           {
            "marker": {
             "colorbar": {
              "outlinewidth": 0,
              "ticks": ""
             }
            },
            "type": "scattercarpet"
           }
          ],
          "scattergeo": [
           {
            "marker": {
             "colorbar": {
              "outlinewidth": 0,
              "ticks": ""
             }
            },
            "type": "scattergeo"
           }
          ],
          "scattergl": [
           {
            "marker": {
             "colorbar": {
              "outlinewidth": 0,
              "ticks": ""
             }
            },
            "type": "scattergl"
           }
          ],
          "scattermapbox": [
           {
            "marker": {
             "colorbar": {
              "outlinewidth": 0,
              "ticks": ""
             }
            },
            "type": "scattermapbox"
           }
          ],
          "scatterpolar": [
           {
            "marker": {
             "colorbar": {
              "outlinewidth": 0,
              "ticks": ""
             }
            },
            "type": "scatterpolar"
           }
          ],
          "scatterpolargl": [
           {
            "marker": {
             "colorbar": {
              "outlinewidth": 0,
              "ticks": ""
             }
            },
            "type": "scatterpolargl"
           }
          ],
          "scatterternary": [
           {
            "marker": {
             "colorbar": {
              "outlinewidth": 0,
              "ticks": ""
             }
            },
            "type": "scatterternary"
           }
          ],
          "surface": [
           {
            "colorbar": {
             "outlinewidth": 0,
             "ticks": ""
            },
            "colorscale": [
             [
              0,
              "#0d0887"
             ],
             [
              0.1111111111111111,
              "#46039f"
             ],
             [
              0.2222222222222222,
              "#7201a8"
             ],
             [
              0.3333333333333333,
              "#9c179e"
             ],
             [
              0.4444444444444444,
              "#bd3786"
             ],
             [
              0.5555555555555556,
              "#d8576b"
             ],
             [
              0.6666666666666666,
              "#ed7953"
             ],
             [
              0.7777777777777778,
              "#fb9f3a"
             ],
             [
              0.8888888888888888,
              "#fdca26"
             ],
             [
              1,
              "#f0f921"
             ]
            ],
            "type": "surface"
           }
          ],
          "table": [
           {
            "cells": {
             "fill": {
              "color": "#EBF0F8"
             },
             "line": {
              "color": "white"
             }
            },
            "header": {
             "fill": {
              "color": "#C8D4E3"
             },
             "line": {
              "color": "white"
             }
            },
            "type": "table"
           }
          ]
         },
         "layout": {
          "annotationdefaults": {
           "arrowcolor": "#2a3f5f",
           "arrowhead": 0,
           "arrowwidth": 1
          },
          "autotypenumbers": "strict",
          "coloraxis": {
           "colorbar": {
            "outlinewidth": 0,
            "ticks": ""
           }
          },
          "colorscale": {
           "diverging": [
            [
             0,
             "#8e0152"
            ],
            [
             0.1,
             "#c51b7d"
            ],
            [
             0.2,
             "#de77ae"
            ],
            [
             0.3,
             "#f1b6da"
            ],
            [
             0.4,
             "#fde0ef"
            ],
            [
             0.5,
             "#f7f7f7"
            ],
            [
             0.6,
             "#e6f5d0"
            ],
            [
             0.7,
             "#b8e186"
            ],
            [
             0.8,
             "#7fbc41"
            ],
            [
             0.9,
             "#4d9221"
            ],
            [
             1,
             "#276419"
            ]
           ],
           "sequential": [
            [
             0,
             "#0d0887"
            ],
            [
             0.1111111111111111,
             "#46039f"
            ],
            [
             0.2222222222222222,
             "#7201a8"
            ],
            [
             0.3333333333333333,
             "#9c179e"
            ],
            [
             0.4444444444444444,
             "#bd3786"
            ],
            [
             0.5555555555555556,
             "#d8576b"
            ],
            [
             0.6666666666666666,
             "#ed7953"
            ],
            [
             0.7777777777777778,
             "#fb9f3a"
            ],
            [
             0.8888888888888888,
             "#fdca26"
            ],
            [
             1,
             "#f0f921"
            ]
           ],
           "sequentialminus": [
            [
             0,
             "#0d0887"
            ],
            [
             0.1111111111111111,
             "#46039f"
            ],
            [
             0.2222222222222222,
             "#7201a8"
            ],
            [
             0.3333333333333333,
             "#9c179e"
            ],
            [
             0.4444444444444444,
             "#bd3786"
            ],
            [
             0.5555555555555556,
             "#d8576b"
            ],
            [
             0.6666666666666666,
             "#ed7953"
            ],
            [
             0.7777777777777778,
             "#fb9f3a"
            ],
            [
             0.8888888888888888,
             "#fdca26"
            ],
            [
             1,
             "#f0f921"
            ]
           ]
          },
          "colorway": [
           "#636efa",
           "#EF553B",
           "#00cc96",
           "#ab63fa",
           "#FFA15A",
           "#19d3f3",
           "#FF6692",
           "#B6E880",
           "#FF97FF",
           "#FECB52"
          ],
          "font": {
           "color": "#2a3f5f"
          },
          "geo": {
           "bgcolor": "white",
           "lakecolor": "white",
           "landcolor": "#E5ECF6",
           "showlakes": true,
           "showland": true,
           "subunitcolor": "white"
          },
          "hoverlabel": {
           "align": "left"
          },
          "hovermode": "closest",
          "mapbox": {
           "style": "light"
          },
          "paper_bgcolor": "white",
          "plot_bgcolor": "#E5ECF6",
          "polar": {
           "angularaxis": {
            "gridcolor": "white",
            "linecolor": "white",
            "ticks": ""
           },
           "bgcolor": "#E5ECF6",
           "radialaxis": {
            "gridcolor": "white",
            "linecolor": "white",
            "ticks": ""
           }
          },
          "scene": {
           "xaxis": {
            "backgroundcolor": "#E5ECF6",
            "gridcolor": "white",
            "gridwidth": 2,
            "linecolor": "white",
            "showbackground": true,
            "ticks": "",
            "zerolinecolor": "white"
           },
           "yaxis": {
            "backgroundcolor": "#E5ECF6",
            "gridcolor": "white",
            "gridwidth": 2,
            "linecolor": "white",
            "showbackground": true,
            "ticks": "",
            "zerolinecolor": "white"
           },
           "zaxis": {
            "backgroundcolor": "#E5ECF6",
            "gridcolor": "white",
            "gridwidth": 2,
            "linecolor": "white",
            "showbackground": true,
            "ticks": "",
            "zerolinecolor": "white"
           }
          },
          "shapedefaults": {
           "line": {
            "color": "#2a3f5f"
           }
          },
          "ternary": {
           "aaxis": {
            "gridcolor": "white",
            "linecolor": "white",
            "ticks": ""
           },
           "baxis": {
            "gridcolor": "white",
            "linecolor": "white",
            "ticks": ""
           },
           "bgcolor": "#E5ECF6",
           "caxis": {
            "gridcolor": "white",
            "linecolor": "white",
            "ticks": ""
           }
          },
          "title": {
           "x": 0.05
          },
          "xaxis": {
           "automargin": true,
           "gridcolor": "white",
           "linecolor": "white",
           "ticks": "",
           "title": {
            "standoff": 15
           },
           "zerolinecolor": "white",
           "zerolinewidth": 2
          },
          "yaxis": {
           "automargin": true,
           "gridcolor": "white",
           "linecolor": "white",
           "ticks": "",
           "title": {
            "standoff": 15
           },
           "zerolinecolor": "white",
           "zerolinewidth": 2
          }
         }
        },
        "width": 600,
        "xaxis": {
         "anchor": "y",
         "domain": [
          0,
          1
         ],
         "title": {
          "text": "Weight (kg)"
         }
        },
        "yaxis": {
         "anchor": "x",
         "domain": [
          0,
          1
         ],
         "title": {
          "text": "Height (m)"
         }
        }
       }
      }
     },
     "metadata": {},
     "output_type": "display_data"
    }
   ],
   "source": [
    "import plotly.express as px\n",
    "from plotly.graph_objects import Figure\n",
    "\n",
    "fig: Figure = px.scatter(data_frame = gym_df, \n",
    "                        x = \"Weight (kg)\", \n",
    "                        y = \"Height (m)\", \n",
    "                        color = \"BMI\",\n",
    "                        width = 600, \n",
    "                        height = 600)\n",
    "fig.show()"
   ]
  },
  {
   "cell_type": "markdown",
   "metadata": {},
   "source": [
    "Al igual que antes, no solo podemos jugar con los colores, sino que también con las formas."
   ]
  },
  {
   "cell_type": "code",
   "execution_count": 25,
   "metadata": {},
   "outputs": [
    {
     "data": {
      "application/vnd.plotly.v1+json": {
       "config": {
        "plotlyServerURL": "https://plot.ly"
       },
       "data": [
        {
         "hovertemplate": "Experience_Level=3<br>Weight (kg)=%{x}<br>Height (m)=%{y}<extra></extra>",
         "legendgroup": "3",
         "marker": {
          "color": "#636efa",
          "symbol": "circle"
         },
         "mode": "markers",
         "name": "3",
         "orientation": "v",
         "showlegend": true,
         "type": "scatter",
         "x": [
          88.3,
          58,
          84.9,
          81.4,
          84.2,
          61,
          87.5,
          64.4,
          85.9,
          61.1,
          64,
          61.7,
          59.5,
          81.5,
          61.5,
          60.1,
          56.2,
          86,
          85.5,
          87.6,
          82.7,
          86.2,
          57.3,
          85.3,
          82.8,
          60.1,
          88.5,
          61.9,
          88.5,
          80.9,
          59.1,
          87.9,
          63,
          83.6,
          56.2,
          85.9,
          57.4,
          88.4,
          63.4,
          83.8,
          55.9,
          87.1,
          58,
          82.1,
          82.2,
          81.4,
          63.9,
          55.1,
          60.3,
          82.5,
          58.9,
          64.2,
          56.3,
          60,
          63.1,
          89.6,
          55.1,
          61.3,
          84.8,
          59,
          64.9,
          62.9,
          85.6,
          55.4,
          85,
          59.3,
          62.3,
          62.5,
          62.6,
          63.3,
          58.4,
          88.4,
          82.9,
          64.1,
          86.7,
          58.1,
          55.6,
          81.8,
          86.6,
          80.8,
          58,
          61.5,
          82.5,
          58.1,
          61,
          64.5,
          84,
          64.8,
          80.9,
          64.1,
          86.7,
          88.1,
          59.4,
          89.3,
          85.2,
          83.6,
          85.5,
          81.6,
          86.2,
          59.2,
          85.4,
          86.1,
          88.4,
          88.4,
          89,
          83.9,
          84.3,
          86.2,
          88,
          55.3,
          83.2,
          57.5,
          88.6,
          82.3,
          85.6,
          62.6,
          87.1,
          82.3,
          64.3,
          88,
          87,
          82.8,
          55.2,
          89.6,
          88.8,
          88.5,
          88.5,
          56.5,
          85.8,
          81.4,
          80.6,
          81.4,
          57.2,
          57.9,
          82.4,
          55.3,
          87.2,
          62.5,
          64.3,
          80.7,
          87.8,
          64.4,
          82.5,
          57.7,
          84.9,
          60.5,
          86.6,
          88,
          85.3,
          61.9,
          88.2,
          64.3,
          89.3,
          61.6,
          81.7,
          85.6,
          60,
          64.2,
          56.5,
          60.1,
          55.1,
          64.4,
          80.8,
          56,
          56.6,
          64.3,
          60.9,
          64.7,
          57.7,
          80.5,
          81,
          85.7,
          61.8,
          80.3,
          59.1,
          62.4,
          89.8,
          88.2,
          57.9,
          59.3,
          86.9,
          86.3,
          85.5,
          55.7,
          87.9,
          57.7,
          83.4,
          64.2,
          87.3,
          87.1,
          60.4
         ],
         "xaxis": "x",
         "y": [
          1.71,
          1.68,
          1.86,
          1.71,
          1.76,
          1.71,
          1.63,
          1.7,
          1.6,
          1.76,
          1.52,
          1.58,
          1.74,
          1.61,
          1.69,
          1.79,
          1.79,
          1.93,
          1.82,
          1.93,
          1.99,
          1.68,
          1.79,
          1.95,
          1.95,
          1.65,
          1.78,
          1.54,
          1.85,
          1.8,
          1.52,
          1.88,
          1.78,
          1.86,
          1.77,
          1.85,
          1.71,
          1.6,
          1.59,
          1.99,
          1.71,
          1.87,
          1.53,
          1.86,
          1.87,
          1.86,
          1.59,
          1.61,
          1.68,
          1.79,
          1.7,
          1.59,
          1.79,
          1.7,
          1.64,
          1.68,
          1.61,
          1.57,
          1.86,
          1.78,
          1.51,
          1.58,
          1.74,
          1.55,
          1.68,
          1.51,
          1.79,
          1.62,
          1.53,
          1.71,
          1.79,
          1.6,
          1.95,
          1.5,
          1.62,
          1.61,
          1.61,
          1.99,
          1.99,
          1.98,
          1.53,
          1.58,
          1.87,
          1.58,
          1.76,
          1.53,
          1.94,
          1.53,
          1.9,
          1.63,
          1.63,
          1.93,
          1.51,
          1.64,
          1.81,
          1.74,
          1.8,
          1.87,
          1.82,
          1.63,
          1.88,
          1.65,
          1.93,
          1.79,
          1.68,
          1.82,
          2,
          1.9,
          1.71,
          1.76,
          1.96,
          1.67,
          2,
          1.61,
          1.85,
          1.63,
          1.76,
          1.84,
          1.78,
          1.89,
          1.86,
          1.66,
          1.73,
          1.81,
          1.95,
          1.62,
          1.98,
          1.6,
          1.8,
          1.85,
          1.77,
          1.83,
          1.55,
          1.56,
          1.96,
          1.56,
          1.64,
          1.54,
          1.62,
          1.61,
          1.69,
          1.56,
          1.79,
          1.56,
          1.72,
          1.77,
          1.97,
          1.64,
          1.64,
          1.64,
          1.79,
          1.54,
          1.87,
          1.52,
          1.95,
          1.69,
          1.72,
          1.69,
          1.75,
          1.59,
          1.79,
          1.55,
          1.76,
          1.5,
          1.57,
          1.63,
          1.62,
          1.66,
          1.77,
          1.77,
          1.78,
          1.92,
          1.52,
          1.76,
          1.57,
          1.61,
          1.92,
          1.62,
          1.56,
          1.58,
          1.69,
          1.77,
          1.67,
          1.53,
          1.87,
          1.57,
          1.65,
          1.69,
          1.91,
          1.74,
          1.76
         ],
         "yaxis": "y"
        },
        {
         "hovertemplate": "Experience_Level=2<br>Weight (kg)=%{x}<br>Height (m)=%{y}<extra></extra>",
         "legendgroup": "2",
         "marker": {
          "color": "#636efa",
          "symbol": "diamond"
         },
         "mode": "markers",
         "name": "2",
         "orientation": "v",
         "showlegend": true,
         "type": "scatter",
         "x": [
          74.9,
          68.1,
          70.3,
          69.7,
          121.7,
          51.7,
          112.5,
          117.7,
          64,
          66.8,
          89,
          64.3,
          63.7,
          53.9,
          78,
          65.4,
          59.3,
          96.9,
          62.6,
          45.5,
          113.2,
          79.7,
          51,
          114.8,
          65.5,
          58.2,
          44.8,
          51.8,
          106.5,
          61.4,
          40.5,
          70.1,
          94.1,
          72.1,
          54.8,
          105,
          55,
          81.6,
          74,
          102.6,
          59.4,
          77.7,
          41.2,
          58.6,
          79.4,
          78.4,
          55.4,
          61.7,
          82.4,
          42.3,
          63.2,
          82.7,
          86.6,
          98,
          45.2,
          125.2,
          58.5,
          63.5,
          79.2,
          62.9,
          73.9,
          46.6,
          52,
          62.9,
          40.4,
          107.9,
          109,
          101,
          43.1,
          51.5,
          64.8,
          52.9,
          51.1,
          114.9,
          62.1,
          57.1,
          68.1,
          40,
          68.3,
          71.9,
          75.6,
          57.4,
          87,
          65.3,
          45.4,
          78.6,
          71.3,
          49.1,
          57.3,
          76.4,
          72.9,
          96.7,
          107.8,
          65.8,
          68.5,
          76.3,
          50.7,
          73.7,
          55.6,
          86.9,
          78.5,
          110.5,
          46.5,
          117,
          75.9,
          71.2,
          78.8,
          108.5,
          49.9,
          47.8,
          97.9,
          63.1,
          72.4,
          50.4,
          65.2,
          57.8,
          125.9,
          93.4,
          82.1,
          128.4,
          89.3,
          59.1,
          49.9,
          93,
          123.7,
          72.3,
          81.4,
          55.1,
          76.7,
          63.1,
          44.1,
          74.7,
          78,
          60.7,
          69,
          75.8,
          71.2,
          42.8,
          88.1,
          72.4,
          46.1,
          90.8,
          45,
          89.4,
          127.7,
          70.9,
          49.2,
          56.9,
          53,
          50.6,
          76.4,
          68.6,
          123.3,
          47.8,
          74.3,
          106.8,
          125.5,
          55.2,
          77.7,
          82.2,
          91.4,
          68.7,
          47.2,
          56.2,
          58.4,
          62,
          64.9,
          69.3,
          51.4,
          125.3,
          102.1,
          54.6,
          78.8,
          48.2,
          50.7,
          96.3,
          58.2,
          68,
          94.5,
          61,
          67,
          106.5,
          95.1,
          105.7,
          125.9,
          124.3,
          69.7,
          60.9,
          94.7,
          121.1,
          71.5,
          57.7,
          124.6,
          42.2,
          114.2,
          52.4,
          115.4,
          78.1,
          54.2,
          77.6,
          47.8,
          82.3,
          60.2,
          49.2,
          68.7,
          60.6,
          65.5,
          89.1,
          68.1,
          74.8,
          90.3,
          67.7,
          56.8,
          112.4,
          66.5,
          106.5,
          53.3,
          74.2,
          84.6,
          78.7,
          65.9,
          76.9,
          62.4,
          63.7,
          76.4,
          68.4,
          63.5,
          59.4,
          70.7,
          59.4,
          120.6,
          65.3,
          63.3,
          76.3,
          124.8,
          53,
          72.6,
          70.4,
          52.5,
          76.3,
          49.7,
          120.5,
          121.6,
          73,
          42.7,
          46.9,
          71.3,
          71.6,
          74.6,
          63,
          128.4,
          63.7,
          83.7,
          102.6,
          87.5,
          73.5,
          73.5,
          86.5,
          46.1,
          68.5,
          94.6,
          47.7,
          52.2,
          101,
          118.4,
          51.5,
          78.9,
          127.9,
          42.8,
          64.5,
          50.7,
          78.7,
          68.7,
          64.8,
          102.3,
          52,
          71,
          58.3,
          111,
          52.6,
          75.6,
          108,
          75.7,
          56.3,
          58.2,
          125.9,
          62.7,
          86.6,
          64.5,
          76.6,
          73,
          54.7,
          92.3,
          71.8,
          66.9,
          48.7,
          112.4,
          43.8,
          123.3,
          84.8,
          109.6,
          86.4,
          63.9,
          115.3,
          97.3,
          60.4,
          46.9,
          102.6,
          74.3,
          78.5,
          72,
          77.9,
          69.6,
          68.9,
          45.9,
          79.6,
          57.7,
          74.2,
          121.9,
          70.3,
          40.3,
          79.2,
          57.2,
          44.8,
          59,
          53.8,
          66.3,
          45.9,
          44.7,
          95.6,
          47.8,
          59.7,
          49.1,
          66.5,
          74.8,
          62.8,
          84.7,
          77.4,
          72.9,
          90.2,
          59,
          58.7,
          127.5,
          68.6,
          64.5,
          75.1,
          72.6,
          55.8,
          58.3,
          75.4,
          65.2,
          107.2,
          61.6,
          81.7,
          116.8,
          41.6,
          69.1,
          125.5,
          71.3,
          129.2,
          96.3,
          64.9,
          56.7,
          46.8,
          49.3,
          41.1,
          40.5,
          51,
          76.9,
          73.3,
          49,
          53.5,
          86.9,
          73.4,
          90,
          57.7,
          104.3,
          65.7,
          51.9,
          66.9,
          78.7,
          58.3,
          73.1,
          117.3,
          77.4,
          72.9,
          75.6,
          70.6,
          55.7,
          72.6,
          63.6,
          45.2,
          117.2,
          67,
          70.2,
          127.1,
          75.6,
          96.1,
          76.7,
          69.9,
          67.9,
          102.8,
          95.4,
          66.6,
          55,
          126.4
         ],
         "xaxis": "x",
         "y": [
          1.53,
          1.66,
          1.72,
          1.51,
          1.94,
          1.7,
          1.61,
          1.81,
          1.53,
          1.75,
          1.77,
          1.69,
          1.71,
          1.75,
          1.68,
          1.52,
          1.56,
          1.71,
          1.81,
          1.6,
          1.83,
          1.54,
          1.62,
          1.6,
          1.52,
          1.61,
          1.63,
          1.74,
          1.65,
          1.54,
          1.63,
          1.79,
          1.62,
          1.83,
          1.68,
          1.88,
          1.55,
          1.66,
          1.63,
          1.84,
          1.51,
          1.62,
          1.62,
          1.61,
          1.59,
          1.62,
          1.6,
          1.55,
          1.72,
          1.6,
          1.54,
          1.85,
          1.76,
          1.83,
          1.74,
          1.66,
          1.79,
          1.61,
          1.62,
          1.79,
          1.77,
          1.79,
          1.61,
          1.98,
          1.8,
          1.66,
          1.91,
          1.91,
          1.62,
          1.8,
          1.71,
          1.64,
          1.87,
          1.92,
          1.66,
          1.91,
          1.8,
          1.65,
          1.52,
          1.64,
          1.71,
          1.77,
          1.76,
          1.71,
          1.67,
          1.73,
          1.69,
          1.74,
          1.64,
          1.62,
          1.76,
          1.72,
          1.73,
          1.62,
          1.56,
          1.62,
          1.75,
          1.61,
          1.77,
          1.76,
          1.66,
          1.92,
          1.72,
          1.61,
          1.73,
          1.64,
          1.72,
          1.79,
          1.98,
          1.54,
          1.91,
          1.54,
          1.69,
          1.6,
          1.63,
          1.56,
          2,
          1.7,
          1.84,
          1.68,
          1.99,
          1.72,
          1.69,
          1.91,
          1.69,
          1.94,
          1.61,
          1.72,
          1.79,
          1.61,
          1.65,
          1.58,
          1.67,
          1.73,
          1.74,
          1.78,
          1.64,
          1.78,
          1.76,
          1.75,
          1.76,
          1.71,
          1.77,
          1.62,
          1.69,
          1.72,
          1.5,
          1.59,
          1.71,
          1.68,
          1.97,
          1.64,
          1.88,
          1.6,
          1.71,
          1.82,
          1.8,
          1.55,
          1.61,
          1.69,
          1.99,
          1.76,
          1.74,
          1.95,
          1.72,
          1.59,
          1.6,
          1.62,
          1.63,
          1.86,
          1.85,
          1.76,
          1.71,
          1.64,
          1.59,
          1.63,
          1.98,
          1.7,
          1.7,
          1.87,
          1.77,
          1.6,
          1.85,
          1.64,
          1.94,
          1.82,
          1.72,
          1.52,
          1.82,
          1.87,
          1.64,
          1.69,
          1.63,
          1.65,
          1.87,
          1.57,
          1.92,
          1.6,
          1.65,
          1.76,
          1.76,
          1.84,
          1.88,
          1.54,
          1.72,
          1.55,
          1.74,
          1.84,
          1.55,
          1.69,
          1.65,
          1.56,
          1.51,
          1.63,
          1.6,
          1.81,
          1.74,
          1.76,
          1.63,
          1.52,
          1.52,
          1.92,
          1.6,
          1.74,
          1.79,
          1.5,
          1.86,
          1.5,
          1.68,
          1.68,
          1.83,
          1.55,
          1.77,
          1.65,
          1.85,
          1.58,
          1.73,
          1.56,
          1.88,
          1.77,
          1.67,
          1.73,
          2,
          1.75,
          1.53,
          1.74,
          1.67,
          1.86,
          1.68,
          2,
          1.86,
          1.52,
          1.87,
          1.75,
          1.88,
          1.55,
          1.74,
          1.76,
          1.67,
          1.97,
          1.84,
          1.77,
          1.84,
          1.68,
          1.95,
          1.74,
          1.64,
          1.93,
          1.56,
          1.79,
          1.53,
          1.63,
          1.92,
          1.65,
          1.63,
          1.78,
          1.93,
          1.72,
          1.94,
          1.66,
          1.61,
          1.8,
          1.94,
          1.6,
          1.73,
          1.67,
          1.67,
          1.86,
          1.82,
          1.86,
          1.59,
          1.53,
          1.94,
          1.55,
          1.57,
          1.76,
          1.85,
          1.65,
          1.62,
          1.79,
          1.66,
          1.77,
          1.8,
          1.67,
          1.96,
          1.65,
          1.61,
          1.83,
          1.61,
          1.7,
          1.94,
          1.77,
          1.58,
          1.99,
          1.89,
          1.59,
          1.58,
          1.93,
          1.93,
          1.52,
          1.56,
          1.95,
          1.75,
          1.72,
          1.65,
          1.72,
          1.77,
          1.93,
          1.79,
          1.9,
          1.86,
          1.83,
          1.68,
          1.83,
          1.75,
          1.63,
          1.79,
          1.92,
          1.62,
          1.61,
          1.62,
          1.86,
          1.82,
          1.52,
          1.78,
          1.82,
          1.68,
          1.55,
          1.93,
          1.78,
          1.62,
          1.93,
          1.75,
          1.75,
          1.79,
          1.58,
          1.6,
          1.76,
          1.58,
          1.61,
          1.86,
          1.57,
          1.55,
          1.63,
          1.62,
          1.67,
          1.74,
          1.71,
          1.82,
          1.74,
          1.57,
          1.76,
          1.78,
          1.76,
          1.66,
          1.71,
          1.68,
          1.58,
          1.57,
          1.75,
          1.66,
          2,
          1.83,
          1.68,
          1.71,
          1.67,
          1.8,
          1.58,
          1.99,
          1.87,
          1.62,
          1.68,
          1.62,
          1.61,
          1.87,
          1.62,
          1.67,
          1.74,
          1.62,
          1.81,
          1.77,
          1.98,
          1.61,
          1.67,
          1.6,
          1.83
         ],
         "yaxis": "y"
        },
        {
         "hovertemplate": "Experience_Level=1<br>Weight (kg)=%{x}<br>Height (m)=%{y}<extra></extra>",
         "legendgroup": "1",
         "marker": {
          "color": "#636efa",
          "symbol": "square"
         },
         "mode": "markers",
         "name": "1",
         "orientation": "v",
         "showlegend": true,
         "type": "scatter",
         "x": [
          53.2,
          46.1,
          101.8,
          120.8,
          94.5,
          42.5,
          43.8,
          75.2,
          71.9,
          71,
          120.9,
          65.2,
          108.2,
          50.2,
          58.9,
          127.6,
          48.8,
          44.3,
          60.5,
          124.2,
          52.4,
          54.7,
          88.1,
          59.7,
          122.1,
          96.7,
          73,
          50.3,
          44.6,
          67.1,
          65.4,
          55.5,
          53.7,
          66.1,
          103.9,
          52.3,
          72.9,
          76.7,
          75.6,
          56.4,
          54.6,
          129,
          103.5,
          109.3,
          69.6,
          71.7,
          67,
          92.4,
          129.5,
          78.6,
          59,
          122.3,
          55.6,
          86.1,
          69.3,
          70.5,
          94.1,
          115.3,
          62,
          50.3,
          83.1,
          65.1,
          103.5,
          113.4,
          67.1,
          70,
          69.5,
          54,
          72.3,
          51.1,
          89.4,
          42,
          79.2,
          56.2,
          49,
          128.2,
          87.8,
          69.2,
          65.2,
          108.6,
          41.9,
          66,
          71.6,
          78,
          78.3,
          48.4,
          110.2,
          58.9,
          44.5,
          40.4,
          102.6,
          110.8,
          60.9,
          55.7,
          55.2,
          70.9,
          74.6,
          45.1,
          99.9,
          50.6,
          125.1,
          79.7,
          126.8,
          54.6,
          58.8,
          105.2,
          45.9,
          90,
          51.5,
          91.5,
          48.7,
          42,
          128.4,
          74.2,
          105.5,
          42.9,
          112.4,
          77.7,
          70.3,
          101.7,
          87.4,
          69.2,
          109.7,
          78.4,
          66.3,
          61.3,
          63.8,
          57.5,
          75.7,
          63.6,
          73.2,
          48.3,
          73.2,
          110.5,
          45.1,
          64.1,
          69.7,
          72.7,
          76.5,
          113.6,
          95.2,
          51.7,
          105.3,
          71.2,
          78.1,
          70.2,
          60.6,
          107,
          68.3,
          71.4,
          104.8,
          68.2,
          42.1,
          92,
          66.9,
          66.3,
          93.6,
          42.7,
          67.4,
          61.9,
          108.8,
          51.1,
          81.7,
          42.7,
          107.7,
          56.9,
          95.9,
          40.6,
          105.1,
          69.5,
          62.2,
          56.3,
          58,
          45.7,
          65.5,
          48,
          69.5,
          66.1,
          68,
          50.3,
          69.3,
          62,
          76.5,
          67.9,
          98.6,
          68.2,
          73,
          52,
          110,
          66.2,
          58.6,
          51,
          101.5,
          54.4,
          71.2,
          44.1,
          102.5,
          118,
          46.6,
          52.1,
          46.6,
          44.2,
          65.9,
          55.6,
          63.7,
          60,
          73.7,
          78.3,
          48.2,
          59,
          98.4,
          58.1,
          78,
          42.7,
          54.9,
          106.4,
          113.4,
          61.9,
          111.5,
          72.1,
          56.9,
          75.6,
          76.3,
          95.8,
          85.3,
          68,
          52.6,
          61,
          67.8,
          114.9,
          67.7,
          61.2,
          48.7,
          50.6,
          41.2,
          48.3,
          129.9,
          108.6,
          49.7,
          56.4,
          70.6,
          109.8,
          73.5,
          63.2,
          53.7,
          77.7,
          65.4,
          47.2,
          58.2,
          64.4,
          54.2,
          47.9,
          79.9,
          121.3,
          73.5,
          43.4,
          59.2,
          78.9,
          53.1,
          50.3,
          62.9,
          74.6,
          52,
          52.1,
          72.2,
          50.9,
          63,
          116.4,
          61.6,
          59.3,
          55.7,
          60.7,
          123.8,
          93.6,
          76.8,
          66.2,
          40,
          70,
          84,
          70.8,
          73.9,
          49.3,
          91.8,
          73.6,
          47.1,
          65.2,
          96.7,
          72.1,
          110.7,
          115.3,
          77.3,
          64.5,
          68.2,
          53.6,
          54.9,
          50.3,
          46.5,
          57.8,
          83,
          66.5,
          70.2,
          101.4,
          75.8,
          71.7,
          47.4,
          90.2,
          95.7,
          72.8,
          56,
          94,
          63.2,
          70.2,
          72.7,
          50.4,
          81.7,
          49.3,
          75.5,
          72.2,
          116.5,
          58.4,
          56.7,
          79.3,
          76.7,
          44.2,
          56.5,
          100.9,
          48.6,
          126.4,
          70.1,
          102.6,
          76.6,
          93.7,
          127.1,
          66.8,
          67.5,
          52.3,
          70.3,
          101.2,
          40.9,
          127.8,
          49.3,
          63,
          71,
          114.5,
          52.1,
          70.1,
          70.4,
          75.7,
          120.3,
          66.9,
          102.1,
          51.9,
          101.1,
          118.6,
          84.8,
          80,
          71.2,
          118.6,
          102.3,
          63.8,
          67.3,
          70.7,
          98.2,
          107.4,
          59.1,
          53.3,
          46.2,
          62.6,
          57.2,
          51.8,
          66.5,
          69.2,
          43.8,
          44.1,
          66.6,
          88.7
         ],
         "xaxis": "x",
         "y": [
          1.7,
          1.79,
          1.84,
          1.67,
          2,
          1.75,
          1.77,
          1.67,
          1.77,
          1.68,
          1.78,
          1.8,
          1.8,
          1.61,
          1.51,
          1.73,
          1.51,
          1.6,
          1.59,
          1.76,
          1.85,
          1.74,
          1.95,
          1.71,
          1.89,
          1.72,
          1.79,
          1.52,
          1.62,
          1.61,
          1.77,
          1.82,
          1.72,
          1.75,
          1.77,
          1.74,
          1.76,
          1.63,
          1.6,
          1.59,
          1.57,
          1.78,
          1.66,
          1.78,
          1.96,
          1.96,
          1.68,
          1.74,
          1.95,
          1.62,
          1.66,
          1.89,
          1.92,
          1.95,
          1.68,
          1.62,
          1.95,
          1.91,
          1.64,
          1.95,
          1.8,
          1.78,
          1.89,
          1.71,
          1.75,
          1.61,
          1.75,
          1.53,
          1.78,
          1.98,
          1.72,
          1.52,
          1.72,
          1.77,
          1.69,
          1.84,
          1.78,
          1.65,
          1.52,
          1.73,
          1.58,
          1.9,
          1.77,
          1.71,
          1.65,
          1.61,
          1.77,
          1.76,
          1.65,
          1.64,
          1.72,
          1.91,
          1.79,
          1.61,
          1.71,
          1.66,
          1.75,
          1.72,
          1.99,
          1.69,
          1.91,
          1.66,
          1.63,
          1.57,
          1.77,
          1.62,
          1.5,
          1.7,
          1.71,
          1.77,
          1.67,
          1.75,
          1.92,
          1.57,
          1.99,
          1.69,
          1.96,
          1.79,
          1.55,
          1.67,
          1.6,
          1.53,
          1.75,
          1.9,
          1.57,
          1.97,
          1.62,
          1.67,
          1.63,
          1.56,
          1.94,
          1.52,
          1.88,
          1.86,
          1.73,
          1.87,
          1.75,
          1.55,
          1.96,
          1.99,
          1.86,
          1.82,
          1.67,
          1.68,
          1.51,
          1.89,
          1.65,
          1.94,
          1.92,
          1.72,
          1.99,
          1.75,
          1.65,
          1.76,
          1.74,
          1.85,
          1.93,
          1.74,
          1.6,
          1.77,
          1.64,
          1.58,
          1.99,
          1.66,
          1.88,
          1.6,
          1.85,
          1.79,
          1.84,
          1.76,
          1.84,
          1.5,
          1.79,
          1.77,
          1.57,
          1.76,
          1.5,
          1.69,
          1.7,
          1.78,
          1.68,
          1.85,
          1.97,
          1.75,
          1.7,
          1.63,
          1.59,
          1.65,
          1.76,
          1.58,
          1.66,
          1.67,
          1.95,
          1.72,
          1.97,
          1.62,
          1.94,
          1.9,
          1.5,
          1.61,
          1.77,
          1.57,
          1.62,
          1.57,
          1.98,
          1.62,
          1.66,
          1.96,
          1.65,
          1.67,
          1.88,
          1.56,
          1.92,
          1.76,
          1.52,
          1.86,
          1.91,
          1.52,
          1.9,
          1.66,
          1.87,
          1.72,
          1.73,
          1.86,
          1.89,
          1.68,
          1.57,
          1.63,
          1.61,
          1.86,
          1.58,
          1.88,
          1.68,
          1.7,
          1.58,
          1.87,
          1.73,
          1.92,
          1.51,
          1.54,
          1.69,
          1.62,
          1.69,
          1.8,
          1.66,
          1.55,
          1.68,
          1.71,
          1.7,
          1.71,
          1.52,
          1.72,
          1.51,
          1.85,
          1.63,
          1.62,
          1.66,
          1.73,
          1.59,
          1.61,
          1.92,
          1.55,
          1.79,
          1.67,
          1.54,
          1.65,
          1.7,
          2,
          1.8,
          1.75,
          1.68,
          1.71,
          1.99,
          1.66,
          1.92,
          1.71,
          1.76,
          1.55,
          1.74,
          1.62,
          1.8,
          1.61,
          1.78,
          1.55,
          1.78,
          1.62,
          1.71,
          1.62,
          1.69,
          1.81,
          1.58,
          1.7,
          1.69,
          1.52,
          1.78,
          1.64,
          1.68,
          1.99,
          1.8,
          1.73,
          1.67,
          1.76,
          1.77,
          1.88,
          1.6,
          1.72,
          1.77,
          1.67,
          1.6,
          1.79,
          1.63,
          1.98,
          1.8,
          1.79,
          1.74,
          1.62,
          1.93,
          1.6,
          1.69,
          1.59,
          1.53,
          1.93,
          1.7,
          1.61,
          1.7,
          1.63,
          1.77,
          1.69,
          1.66,
          1.77,
          1.58,
          1.73,
          1.76,
          1.74,
          1.54,
          1.66,
          1.77,
          1.84,
          1.75,
          1.65,
          1.76,
          1.62,
          1.62,
          1.97,
          1.68,
          1.52,
          1.55,
          1.76,
          1.96,
          1.75,
          1.71,
          2,
          1.83,
          1.72,
          1.85,
          1.77,
          1.5,
          1.64,
          1.94,
          1.68,
          1.67,
          1.57,
          1.9,
          1.74,
          1.78,
          1.64,
          1.63,
          1.65,
          1.89,
          1.5,
          1.69,
          1.6,
          1.75,
          1.62,
          1.61,
          1.63
         ],
         "yaxis": "y"
        }
       ],
       "layout": {
        "legend": {
         "title": {
          "text": "Experience_Level"
         },
         "tracegroupgap": 0
        },
        "margin": {
         "t": 60
        },
        "template": {
         "data": {
          "bar": [
           {
            "error_x": {
             "color": "#2a3f5f"
            },
            "error_y": {
             "color": "#2a3f5f"
            },
            "marker": {
             "line": {
              "color": "#E5ECF6",
              "width": 0.5
             },
             "pattern": {
              "fillmode": "overlay",
              "size": 10,
              "solidity": 0.2
             }
            },
            "type": "bar"
           }
          ],
          "barpolar": [
           {
            "marker": {
             "line": {
              "color": "#E5ECF6",
              "width": 0.5
             },
             "pattern": {
              "fillmode": "overlay",
              "size": 10,
              "solidity": 0.2
             }
            },
            "type": "barpolar"
           }
          ],
          "carpet": [
           {
            "aaxis": {
             "endlinecolor": "#2a3f5f",
             "gridcolor": "white",
             "linecolor": "white",
             "minorgridcolor": "white",
             "startlinecolor": "#2a3f5f"
            },
            "baxis": {
             "endlinecolor": "#2a3f5f",
             "gridcolor": "white",
             "linecolor": "white",
             "minorgridcolor": "white",
             "startlinecolor": "#2a3f5f"
            },
            "type": "carpet"
           }
          ],
          "choropleth": [
           {
            "colorbar": {
             "outlinewidth": 0,
             "ticks": ""
            },
            "type": "choropleth"
           }
          ],
          "contour": [
           {
            "colorbar": {
             "outlinewidth": 0,
             "ticks": ""
            },
            "colorscale": [
             [
              0,
              "#0d0887"
             ],
             [
              0.1111111111111111,
              "#46039f"
             ],
             [
              0.2222222222222222,
              "#7201a8"
             ],
             [
              0.3333333333333333,
              "#9c179e"
             ],
             [
              0.4444444444444444,
              "#bd3786"
             ],
             [
              0.5555555555555556,
              "#d8576b"
             ],
             [
              0.6666666666666666,
              "#ed7953"
             ],
             [
              0.7777777777777778,
              "#fb9f3a"
             ],
             [
              0.8888888888888888,
              "#fdca26"
             ],
             [
              1,
              "#f0f921"
             ]
            ],
            "type": "contour"
           }
          ],
          "contourcarpet": [
           {
            "colorbar": {
             "outlinewidth": 0,
             "ticks": ""
            },
            "type": "contourcarpet"
           }
          ],
          "heatmap": [
           {
            "colorbar": {
             "outlinewidth": 0,
             "ticks": ""
            },
            "colorscale": [
             [
              0,
              "#0d0887"
             ],
             [
              0.1111111111111111,
              "#46039f"
             ],
             [
              0.2222222222222222,
              "#7201a8"
             ],
             [
              0.3333333333333333,
              "#9c179e"
             ],
             [
              0.4444444444444444,
              "#bd3786"
             ],
             [
              0.5555555555555556,
              "#d8576b"
             ],
             [
              0.6666666666666666,
              "#ed7953"
             ],
             [
              0.7777777777777778,
              "#fb9f3a"
             ],
             [
              0.8888888888888888,
              "#fdca26"
             ],
             [
              1,
              "#f0f921"
             ]
            ],
            "type": "heatmap"
           }
          ],
          "heatmapgl": [
           {
            "colorbar": {
             "outlinewidth": 0,
             "ticks": ""
            },
            "colorscale": [
             [
              0,
              "#0d0887"
             ],
             [
              0.1111111111111111,
              "#46039f"
             ],
             [
              0.2222222222222222,
              "#7201a8"
             ],
             [
              0.3333333333333333,
              "#9c179e"
             ],
             [
              0.4444444444444444,
              "#bd3786"
             ],
             [
              0.5555555555555556,
              "#d8576b"
             ],
             [
              0.6666666666666666,
              "#ed7953"
             ],
             [
              0.7777777777777778,
              "#fb9f3a"
             ],
             [
              0.8888888888888888,
              "#fdca26"
             ],
             [
              1,
              "#f0f921"
             ]
            ],
            "type": "heatmapgl"
           }
          ],
          "histogram": [
           {
            "marker": {
             "pattern": {
              "fillmode": "overlay",
              "size": 10,
              "solidity": 0.2
             }
            },
            "type": "histogram"
           }
          ],
          "histogram2d": [
           {
            "colorbar": {
             "outlinewidth": 0,
             "ticks": ""
            },
            "colorscale": [
             [
              0,
              "#0d0887"
             ],
             [
              0.1111111111111111,
              "#46039f"
             ],
             [
              0.2222222222222222,
              "#7201a8"
             ],
             [
              0.3333333333333333,
              "#9c179e"
             ],
             [
              0.4444444444444444,
              "#bd3786"
             ],
             [
              0.5555555555555556,
              "#d8576b"
             ],
             [
              0.6666666666666666,
              "#ed7953"
             ],
             [
              0.7777777777777778,
              "#fb9f3a"
             ],
             [
              0.8888888888888888,
              "#fdca26"
             ],
             [
              1,
              "#f0f921"
             ]
            ],
            "type": "histogram2d"
           }
          ],
          "histogram2dcontour": [
           {
            "colorbar": {
             "outlinewidth": 0,
             "ticks": ""
            },
            "colorscale": [
             [
              0,
              "#0d0887"
             ],
             [
              0.1111111111111111,
              "#46039f"
             ],
             [
              0.2222222222222222,
              "#7201a8"
             ],
             [
              0.3333333333333333,
              "#9c179e"
             ],
             [
              0.4444444444444444,
              "#bd3786"
             ],
             [
              0.5555555555555556,
              "#d8576b"
             ],
             [
              0.6666666666666666,
              "#ed7953"
             ],
             [
              0.7777777777777778,
              "#fb9f3a"
             ],
             [
              0.8888888888888888,
              "#fdca26"
             ],
             [
              1,
              "#f0f921"
             ]
            ],
            "type": "histogram2dcontour"
           }
          ],
          "mesh3d": [
           {
            "colorbar": {
             "outlinewidth": 0,
             "ticks": ""
            },
            "type": "mesh3d"
           }
          ],
          "parcoords": [
           {
            "line": {
             "colorbar": {
              "outlinewidth": 0,
              "ticks": ""
             }
            },
            "type": "parcoords"
           }
          ],
          "pie": [
           {
            "automargin": true,
            "type": "pie"
           }
          ],
          "scatter": [
           {
            "fillpattern": {
             "fillmode": "overlay",
             "size": 10,
             "solidity": 0.2
            },
            "type": "scatter"
           }
          ],
          "scatter3d": [
           {
            "line": {
             "colorbar": {
              "outlinewidth": 0,
              "ticks": ""
             }
            },
            "marker": {
             "colorbar": {
              "outlinewidth": 0,
              "ticks": ""
             }
            },
            "type": "scatter3d"
           }
          ],
          "scattercarpet": [
           {
            "marker": {
             "colorbar": {
              "outlinewidth": 0,
              "ticks": ""
             }
            },
            "type": "scattercarpet"
           }
          ],
          "scattergeo": [
           {
            "marker": {
             "colorbar": {
              "outlinewidth": 0,
              "ticks": ""
             }
            },
            "type": "scattergeo"
           }
          ],
          "scattergl": [
           {
            "marker": {
             "colorbar": {
              "outlinewidth": 0,
              "ticks": ""
             }
            },
            "type": "scattergl"
           }
          ],
          "scattermapbox": [
           {
            "marker": {
             "colorbar": {
              "outlinewidth": 0,
              "ticks": ""
             }
            },
            "type": "scattermapbox"
           }
          ],
          "scatterpolar": [
           {
            "marker": {
             "colorbar": {
              "outlinewidth": 0,
              "ticks": ""
             }
            },
            "type": "scatterpolar"
           }
          ],
          "scatterpolargl": [
           {
            "marker": {
             "colorbar": {
              "outlinewidth": 0,
              "ticks": ""
             }
            },
            "type": "scatterpolargl"
           }
          ],
          "scatterternary": [
           {
            "marker": {
             "colorbar": {
              "outlinewidth": 0,
              "ticks": ""
             }
            },
            "type": "scatterternary"
           }
          ],
          "surface": [
           {
            "colorbar": {
             "outlinewidth": 0,
             "ticks": ""
            },
            "colorscale": [
             [
              0,
              "#0d0887"
             ],
             [
              0.1111111111111111,
              "#46039f"
             ],
             [
              0.2222222222222222,
              "#7201a8"
             ],
             [
              0.3333333333333333,
              "#9c179e"
             ],
             [
              0.4444444444444444,
              "#bd3786"
             ],
             [
              0.5555555555555556,
              "#d8576b"
             ],
             [
              0.6666666666666666,
              "#ed7953"
             ],
             [
              0.7777777777777778,
              "#fb9f3a"
             ],
             [
              0.8888888888888888,
              "#fdca26"
             ],
             [
              1,
              "#f0f921"
             ]
            ],
            "type": "surface"
           }
          ],
          "table": [
           {
            "cells": {
             "fill": {
              "color": "#EBF0F8"
             },
             "line": {
              "color": "white"
             }
            },
            "header": {
             "fill": {
              "color": "#C8D4E3"
             },
             "line": {
              "color": "white"
             }
            },
            "type": "table"
           }
          ]
         },
         "layout": {
          "annotationdefaults": {
           "arrowcolor": "#2a3f5f",
           "arrowhead": 0,
           "arrowwidth": 1
          },
          "autotypenumbers": "strict",
          "coloraxis": {
           "colorbar": {
            "outlinewidth": 0,
            "ticks": ""
           }
          },
          "colorscale": {
           "diverging": [
            [
             0,
             "#8e0152"
            ],
            [
             0.1,
             "#c51b7d"
            ],
            [
             0.2,
             "#de77ae"
            ],
            [
             0.3,
             "#f1b6da"
            ],
            [
             0.4,
             "#fde0ef"
            ],
            [
             0.5,
             "#f7f7f7"
            ],
            [
             0.6,
             "#e6f5d0"
            ],
            [
             0.7,
             "#b8e186"
            ],
            [
             0.8,
             "#7fbc41"
            ],
            [
             0.9,
             "#4d9221"
            ],
            [
             1,
             "#276419"
            ]
           ],
           "sequential": [
            [
             0,
             "#0d0887"
            ],
            [
             0.1111111111111111,
             "#46039f"
            ],
            [
             0.2222222222222222,
             "#7201a8"
            ],
            [
             0.3333333333333333,
             "#9c179e"
            ],
            [
             0.4444444444444444,
             "#bd3786"
            ],
            [
             0.5555555555555556,
             "#d8576b"
            ],
            [
             0.6666666666666666,
             "#ed7953"
            ],
            [
             0.7777777777777778,
             "#fb9f3a"
            ],
            [
             0.8888888888888888,
             "#fdca26"
            ],
            [
             1,
             "#f0f921"
            ]
           ],
           "sequentialminus": [
            [
             0,
             "#0d0887"
            ],
            [
             0.1111111111111111,
             "#46039f"
            ],
            [
             0.2222222222222222,
             "#7201a8"
            ],
            [
             0.3333333333333333,
             "#9c179e"
            ],
            [
             0.4444444444444444,
             "#bd3786"
            ],
            [
             0.5555555555555556,
             "#d8576b"
            ],
            [
             0.6666666666666666,
             "#ed7953"
            ],
            [
             0.7777777777777778,
             "#fb9f3a"
            ],
            [
             0.8888888888888888,
             "#fdca26"
            ],
            [
             1,
             "#f0f921"
            ]
           ]
          },
          "colorway": [
           "#636efa",
           "#EF553B",
           "#00cc96",
           "#ab63fa",
           "#FFA15A",
           "#19d3f3",
           "#FF6692",
           "#B6E880",
           "#FF97FF",
           "#FECB52"
          ],
          "font": {
           "color": "#2a3f5f"
          },
          "geo": {
           "bgcolor": "white",
           "lakecolor": "white",
           "landcolor": "#E5ECF6",
           "showlakes": true,
           "showland": true,
           "subunitcolor": "white"
          },
          "hoverlabel": {
           "align": "left"
          },
          "hovermode": "closest",
          "mapbox": {
           "style": "light"
          },
          "paper_bgcolor": "white",
          "plot_bgcolor": "#E5ECF6",
          "polar": {
           "angularaxis": {
            "gridcolor": "white",
            "linecolor": "white",
            "ticks": ""
           },
           "bgcolor": "#E5ECF6",
           "radialaxis": {
            "gridcolor": "white",
            "linecolor": "white",
            "ticks": ""
           }
          },
          "scene": {
           "xaxis": {
            "backgroundcolor": "#E5ECF6",
            "gridcolor": "white",
            "gridwidth": 2,
            "linecolor": "white",
            "showbackground": true,
            "ticks": "",
            "zerolinecolor": "white"
           },
           "yaxis": {
            "backgroundcolor": "#E5ECF6",
            "gridcolor": "white",
            "gridwidth": 2,
            "linecolor": "white",
            "showbackground": true,
            "ticks": "",
            "zerolinecolor": "white"
           },
           "zaxis": {
            "backgroundcolor": "#E5ECF6",
            "gridcolor": "white",
            "gridwidth": 2,
            "linecolor": "white",
            "showbackground": true,
            "ticks": "",
            "zerolinecolor": "white"
           }
          },
          "shapedefaults": {
           "line": {
            "color": "#2a3f5f"
           }
          },
          "ternary": {
           "aaxis": {
            "gridcolor": "white",
            "linecolor": "white",
            "ticks": ""
           },
           "baxis": {
            "gridcolor": "white",
            "linecolor": "white",
            "ticks": ""
           },
           "bgcolor": "#E5ECF6",
           "caxis": {
            "gridcolor": "white",
            "linecolor": "white",
            "ticks": ""
           }
          },
          "title": {
           "x": 0.05
          },
          "xaxis": {
           "automargin": true,
           "gridcolor": "white",
           "linecolor": "white",
           "ticks": "",
           "title": {
            "standoff": 15
           },
           "zerolinecolor": "white",
           "zerolinewidth": 2
          },
          "yaxis": {
           "automargin": true,
           "gridcolor": "white",
           "linecolor": "white",
           "ticks": "",
           "title": {
            "standoff": 15
           },
           "zerolinecolor": "white",
           "zerolinewidth": 2
          }
         }
        },
        "xaxis": {
         "anchor": "y",
         "domain": [
          0,
          1
         ],
         "title": {
          "text": "Weight (kg)"
         }
        },
        "yaxis": {
         "anchor": "x",
         "domain": [
          0,
          1
         ],
         "title": {
          "text": "Height (m)"
         }
        }
       }
      }
     },
     "metadata": {},
     "output_type": "display_data"
    }
   ],
   "source": [
    "import plotly.express as px\n",
    "from plotly.graph_objects import Figure\n",
    "from pandas import DataFrame\n",
    "\n",
    "fig: Figure = px.scatter(data_frame = gym_df, \n",
    "                        x = \"Weight (kg)\", \n",
    "                        y = \"Height (m)\", \n",
    "                        symbol=\"Experience_Level\")\n",
    "\n",
    "fig.show()"
   ]
  },
  {
   "cell_type": "markdown",
   "metadata": {},
   "source": [
    "# 3.1.3 Barras de Error\n",
    "\n",
    "Los gráficos de dispersión admiten barras de error. \n",
    "\n",
    "Las barras de error son líneas visuales que se agregan a los gráficos para representar la incertidumbre o variabilidad en los datos. En un gráfico de dispersión, las barras de error indican cuánto pueden variar los valores de un punto en las direcciones del eje X, el eje Y o ambos, y se extienden hacia arriba, abajo, derecha o izquierda desde el marcador del punto de datos.\n"
   ]
  },
  {
   "cell_type": "code",
   "execution_count": 23,
   "metadata": {},
   "outputs": [
    {
     "data": {
      "application/vnd.plotly.v1+json": {
       "config": {
        "plotlyServerURL": "https://plot.ly"
       },
       "data": [
        {
         "error_x": {
          "array": [
           0.035,
           0.03,
           0.032,
           0.031,
           0.036000000000000004,
           0.039,
           0.034,
           0.034,
           0.028999999999999998,
           0.031,
           0.037000000000000005,
           0.034,
           0.03,
           0.03,
           0.04,
           0.044000000000000004,
           0.039,
           0.035,
           0.038,
           0.038,
           0.034,
           0.037000000000000005,
           0.036000000000000004,
           0.033,
           0.034,
           0.03,
           0.034,
           0.035,
           0.034,
           0.032,
           0.031,
           0.034,
           0.040999999999999995,
           0.042,
           0.031,
           0.032,
           0.035,
           0.031,
           0.03,
           0.034,
           0.035,
           0.023,
           0.032,
           0.035,
           0.038,
           0.03,
           0.038,
           0.032,
           0.037000000000000005,
           0.033
          ]
         },
         "error_y": {
          "array": [
           0.035,
           0.03,
           0.032,
           0.031,
           0.036000000000000004,
           0.039,
           0.034,
           0.034,
           0.028999999999999998,
           0.031,
           0.037000000000000005,
           0.034,
           0.03,
           0.03,
           0.04,
           0.044000000000000004,
           0.039,
           0.035,
           0.038,
           0.038,
           0.034,
           0.037000000000000005,
           0.036000000000000004,
           0.033,
           0.034,
           0.03,
           0.034,
           0.035,
           0.034,
           0.032,
           0.031,
           0.034,
           0.040999999999999995,
           0.042,
           0.031,
           0.032,
           0.035,
           0.031,
           0.03,
           0.034,
           0.035,
           0.023,
           0.032,
           0.035,
           0.038,
           0.03,
           0.038,
           0.032,
           0.037000000000000005,
           0.033
          ]
         },
         "hovertemplate": "species=setosa<br>sepal_width=%{x}<br>sepal_length=%{y}<extra></extra>",
         "legendgroup": "setosa",
         "marker": {
          "color": "#636efa",
          "symbol": "circle"
         },
         "mode": "markers",
         "name": "setosa",
         "orientation": "v",
         "showlegend": true,
         "type": "scatter",
         "x": [
          3.5,
          3,
          3.2,
          3.1,
          3.6,
          3.9,
          3.4,
          3.4,
          2.9,
          3.1,
          3.7,
          3.4,
          3,
          3,
          4,
          4.4,
          3.9,
          3.5,
          3.8,
          3.8,
          3.4,
          3.7,
          3.6,
          3.3,
          3.4,
          3,
          3.4,
          3.5,
          3.4,
          3.2,
          3.1,
          3.4,
          4.1,
          4.2,
          3.1,
          3.2,
          3.5,
          3.1,
          3,
          3.4,
          3.5,
          2.3,
          3.2,
          3.5,
          3.8,
          3,
          3.8,
          3.2,
          3.7,
          3.3
         ],
         "xaxis": "x",
         "y": [
          5.1,
          4.9,
          4.7,
          4.6,
          5,
          5.4,
          4.6,
          5,
          4.4,
          4.9,
          5.4,
          4.8,
          4.8,
          4.3,
          5.8,
          5.7,
          5.4,
          5.1,
          5.7,
          5.1,
          5.4,
          5.1,
          4.6,
          5.1,
          4.8,
          5,
          5,
          5.2,
          5.2,
          4.7,
          4.8,
          5.4,
          5.2,
          5.5,
          4.9,
          5,
          5.5,
          4.9,
          4.4,
          5.1,
          5,
          4.5,
          4.4,
          5,
          5.1,
          4.8,
          5.1,
          4.6,
          5.3,
          5
         ],
         "yaxis": "y"
        },
        {
         "error_x": {
          "array": [
           0.032,
           0.032,
           0.031,
           0.023,
           0.027999999999999997,
           0.027999999999999997,
           0.033,
           0.024,
           0.028999999999999998,
           0.027000000000000003,
           0.02,
           0.03,
           0.022000000000000002,
           0.028999999999999998,
           0.028999999999999998,
           0.031,
           0.03,
           0.027000000000000003,
           0.022000000000000002,
           0.025,
           0.032,
           0.027999999999999997,
           0.025,
           0.027999999999999997,
           0.028999999999999998,
           0.03,
           0.027999999999999997,
           0.03,
           0.028999999999999998,
           0.026000000000000002,
           0.024,
           0.024,
           0.027000000000000003,
           0.027000000000000003,
           0.03,
           0.034,
           0.031,
           0.023,
           0.03,
           0.025,
           0.026000000000000002,
           0.03,
           0.026000000000000002,
           0.023,
           0.027000000000000003,
           0.03,
           0.028999999999999998,
           0.028999999999999998,
           0.025,
           0.027999999999999997
          ]
         },
         "error_y": {
          "array": [
           0.032,
           0.032,
           0.031,
           0.023,
           0.027999999999999997,
           0.027999999999999997,
           0.033,
           0.024,
           0.028999999999999998,
           0.027000000000000003,
           0.02,
           0.03,
           0.022000000000000002,
           0.028999999999999998,
           0.028999999999999998,
           0.031,
           0.03,
           0.027000000000000003,
           0.022000000000000002,
           0.025,
           0.032,
           0.027999999999999997,
           0.025,
           0.027999999999999997,
           0.028999999999999998,
           0.03,
           0.027999999999999997,
           0.03,
           0.028999999999999998,
           0.026000000000000002,
           0.024,
           0.024,
           0.027000000000000003,
           0.027000000000000003,
           0.03,
           0.034,
           0.031,
           0.023,
           0.03,
           0.025,
           0.026000000000000002,
           0.03,
           0.026000000000000002,
           0.023,
           0.027000000000000003,
           0.03,
           0.028999999999999998,
           0.028999999999999998,
           0.025,
           0.027999999999999997
          ]
         },
         "hovertemplate": "species=versicolor<br>sepal_width=%{x}<br>sepal_length=%{y}<extra></extra>",
         "legendgroup": "versicolor",
         "marker": {
          "color": "#EF553B",
          "symbol": "circle"
         },
         "mode": "markers",
         "name": "versicolor",
         "orientation": "v",
         "showlegend": true,
         "type": "scatter",
         "x": [
          3.2,
          3.2,
          3.1,
          2.3,
          2.8,
          2.8,
          3.3,
          2.4,
          2.9,
          2.7,
          2,
          3,
          2.2,
          2.9,
          2.9,
          3.1,
          3,
          2.7,
          2.2,
          2.5,
          3.2,
          2.8,
          2.5,
          2.8,
          2.9,
          3,
          2.8,
          3,
          2.9,
          2.6,
          2.4,
          2.4,
          2.7,
          2.7,
          3,
          3.4,
          3.1,
          2.3,
          3,
          2.5,
          2.6,
          3,
          2.6,
          2.3,
          2.7,
          3,
          2.9,
          2.9,
          2.5,
          2.8
         ],
         "xaxis": "x",
         "y": [
          7,
          6.4,
          6.9,
          5.5,
          6.5,
          5.7,
          6.3,
          4.9,
          6.6,
          5.2,
          5,
          5.9,
          6,
          6.1,
          5.6,
          6.7,
          5.6,
          5.8,
          6.2,
          5.6,
          5.9,
          6.1,
          6.3,
          6.1,
          6.4,
          6.6,
          6.8,
          6.7,
          6,
          5.7,
          5.5,
          5.5,
          5.8,
          6,
          5.4,
          6,
          6.7,
          6.3,
          5.6,
          5.5,
          5.5,
          6.1,
          5.8,
          5,
          5.6,
          5.7,
          5.7,
          6.2,
          5.1,
          5.7
         ],
         "yaxis": "y"
        },
        {
         "error_x": {
          "array": [
           0.033,
           0.027000000000000003,
           0.03,
           0.028999999999999998,
           0.03,
           0.03,
           0.025,
           0.028999999999999998,
           0.025,
           0.036000000000000004,
           0.032,
           0.027000000000000003,
           0.03,
           0.025,
           0.027999999999999997,
           0.032,
           0.03,
           0.038,
           0.026000000000000002,
           0.022000000000000002,
           0.032,
           0.027999999999999997,
           0.027999999999999997,
           0.027000000000000003,
           0.033,
           0.032,
           0.027999999999999997,
           0.03,
           0.027999999999999997,
           0.03,
           0.027999999999999997,
           0.038,
           0.027999999999999997,
           0.027999999999999997,
           0.026000000000000002,
           0.03,
           0.034,
           0.031,
           0.03,
           0.031,
           0.031,
           0.031,
           0.027000000000000003,
           0.032,
           0.033,
           0.03,
           0.025,
           0.03,
           0.034,
           0.03
          ]
         },
         "error_y": {
          "array": [
           0.033,
           0.027000000000000003,
           0.03,
           0.028999999999999998,
           0.03,
           0.03,
           0.025,
           0.028999999999999998,
           0.025,
           0.036000000000000004,
           0.032,
           0.027000000000000003,
           0.03,
           0.025,
           0.027999999999999997,
           0.032,
           0.03,
           0.038,
           0.026000000000000002,
           0.022000000000000002,
           0.032,
           0.027999999999999997,
           0.027999999999999997,
           0.027000000000000003,
           0.033,
           0.032,
           0.027999999999999997,
           0.03,
           0.027999999999999997,
           0.03,
           0.027999999999999997,
           0.038,
           0.027999999999999997,
           0.027999999999999997,
           0.026000000000000002,
           0.03,
           0.034,
           0.031,
           0.03,
           0.031,
           0.031,
           0.031,
           0.027000000000000003,
           0.032,
           0.033,
           0.03,
           0.025,
           0.03,
           0.034,
           0.03
          ]
         },
         "hovertemplate": "species=virginica<br>sepal_width=%{x}<br>sepal_length=%{y}<extra></extra>",
         "legendgroup": "virginica",
         "marker": {
          "color": "#00cc96",
          "symbol": "circle"
         },
         "mode": "markers",
         "name": "virginica",
         "orientation": "v",
         "showlegend": true,
         "type": "scatter",
         "x": [
          3.3,
          2.7,
          3,
          2.9,
          3,
          3,
          2.5,
          2.9,
          2.5,
          3.6,
          3.2,
          2.7,
          3,
          2.5,
          2.8,
          3.2,
          3,
          3.8,
          2.6,
          2.2,
          3.2,
          2.8,
          2.8,
          2.7,
          3.3,
          3.2,
          2.8,
          3,
          2.8,
          3,
          2.8,
          3.8,
          2.8,
          2.8,
          2.6,
          3,
          3.4,
          3.1,
          3,
          3.1,
          3.1,
          3.1,
          2.7,
          3.2,
          3.3,
          3,
          2.5,
          3,
          3.4,
          3
         ],
         "xaxis": "x",
         "y": [
          6.3,
          5.8,
          7.1,
          6.3,
          6.5,
          7.6,
          4.9,
          7.3,
          6.7,
          7.2,
          6.5,
          6.4,
          6.8,
          5.7,
          5.8,
          6.4,
          6.5,
          7.7,
          7.7,
          6,
          6.9,
          5.6,
          7.7,
          6.3,
          6.7,
          7.2,
          6.2,
          6.1,
          6.4,
          7.2,
          7.4,
          7.9,
          6.4,
          6.3,
          6.1,
          7.7,
          6.3,
          6.4,
          6,
          6.9,
          6.7,
          6.9,
          5.8,
          6.8,
          6.7,
          6.7,
          6.3,
          6.5,
          6.2,
          5.9
         ],
         "yaxis": "y"
        }
       ],
       "layout": {
        "legend": {
         "title": {
          "text": "species"
         },
         "tracegroupgap": 0
        },
        "margin": {
         "t": 60
        },
        "template": {
         "data": {
          "bar": [
           {
            "error_x": {
             "color": "#2a3f5f"
            },
            "error_y": {
             "color": "#2a3f5f"
            },
            "marker": {
             "line": {
              "color": "#E5ECF6",
              "width": 0.5
             },
             "pattern": {
              "fillmode": "overlay",
              "size": 10,
              "solidity": 0.2
             }
            },
            "type": "bar"
           }
          ],
          "barpolar": [
           {
            "marker": {
             "line": {
              "color": "#E5ECF6",
              "width": 0.5
             },
             "pattern": {
              "fillmode": "overlay",
              "size": 10,
              "solidity": 0.2
             }
            },
            "type": "barpolar"
           }
          ],
          "carpet": [
           {
            "aaxis": {
             "endlinecolor": "#2a3f5f",
             "gridcolor": "white",
             "linecolor": "white",
             "minorgridcolor": "white",
             "startlinecolor": "#2a3f5f"
            },
            "baxis": {
             "endlinecolor": "#2a3f5f",
             "gridcolor": "white",
             "linecolor": "white",
             "minorgridcolor": "white",
             "startlinecolor": "#2a3f5f"
            },
            "type": "carpet"
           }
          ],
          "choropleth": [
           {
            "colorbar": {
             "outlinewidth": 0,
             "ticks": ""
            },
            "type": "choropleth"
           }
          ],
          "contour": [
           {
            "colorbar": {
             "outlinewidth": 0,
             "ticks": ""
            },
            "colorscale": [
             [
              0,
              "#0d0887"
             ],
             [
              0.1111111111111111,
              "#46039f"
             ],
             [
              0.2222222222222222,
              "#7201a8"
             ],
             [
              0.3333333333333333,
              "#9c179e"
             ],
             [
              0.4444444444444444,
              "#bd3786"
             ],
             [
              0.5555555555555556,
              "#d8576b"
             ],
             [
              0.6666666666666666,
              "#ed7953"
             ],
             [
              0.7777777777777778,
              "#fb9f3a"
             ],
             [
              0.8888888888888888,
              "#fdca26"
             ],
             [
              1,
              "#f0f921"
             ]
            ],
            "type": "contour"
           }
          ],
          "contourcarpet": [
           {
            "colorbar": {
             "outlinewidth": 0,
             "ticks": ""
            },
            "type": "contourcarpet"
           }
          ],
          "heatmap": [
           {
            "colorbar": {
             "outlinewidth": 0,
             "ticks": ""
            },
            "colorscale": [
             [
              0,
              "#0d0887"
             ],
             [
              0.1111111111111111,
              "#46039f"
             ],
             [
              0.2222222222222222,
              "#7201a8"
             ],
             [
              0.3333333333333333,
              "#9c179e"
             ],
             [
              0.4444444444444444,
              "#bd3786"
             ],
             [
              0.5555555555555556,
              "#d8576b"
             ],
             [
              0.6666666666666666,
              "#ed7953"
             ],
             [
              0.7777777777777778,
              "#fb9f3a"
             ],
             [
              0.8888888888888888,
              "#fdca26"
             ],
             [
              1,
              "#f0f921"
             ]
            ],
            "type": "heatmap"
           }
          ],
          "heatmapgl": [
           {
            "colorbar": {
             "outlinewidth": 0,
             "ticks": ""
            },
            "colorscale": [
             [
              0,
              "#0d0887"
             ],
             [
              0.1111111111111111,
              "#46039f"
             ],
             [
              0.2222222222222222,
              "#7201a8"
             ],
             [
              0.3333333333333333,
              "#9c179e"
             ],
             [
              0.4444444444444444,
              "#bd3786"
             ],
             [
              0.5555555555555556,
              "#d8576b"
             ],
             [
              0.6666666666666666,
              "#ed7953"
             ],
             [
              0.7777777777777778,
              "#fb9f3a"
             ],
             [
              0.8888888888888888,
              "#fdca26"
             ],
             [
              1,
              "#f0f921"
             ]
            ],
            "type": "heatmapgl"
           }
          ],
          "histogram": [
           {
            "marker": {
             "pattern": {
              "fillmode": "overlay",
              "size": 10,
              "solidity": 0.2
             }
            },
            "type": "histogram"
           }
          ],
          "histogram2d": [
           {
            "colorbar": {
             "outlinewidth": 0,
             "ticks": ""
            },
            "colorscale": [
             [
              0,
              "#0d0887"
             ],
             [
              0.1111111111111111,
              "#46039f"
             ],
             [
              0.2222222222222222,
              "#7201a8"
             ],
             [
              0.3333333333333333,
              "#9c179e"
             ],
             [
              0.4444444444444444,
              "#bd3786"
             ],
             [
              0.5555555555555556,
              "#d8576b"
             ],
             [
              0.6666666666666666,
              "#ed7953"
             ],
             [
              0.7777777777777778,
              "#fb9f3a"
             ],
             [
              0.8888888888888888,
              "#fdca26"
             ],
             [
              1,
              "#f0f921"
             ]
            ],
            "type": "histogram2d"
           }
          ],
          "histogram2dcontour": [
           {
            "colorbar": {
             "outlinewidth": 0,
             "ticks": ""
            },
            "colorscale": [
             [
              0,
              "#0d0887"
             ],
             [
              0.1111111111111111,
              "#46039f"
             ],
             [
              0.2222222222222222,
              "#7201a8"
             ],
             [
              0.3333333333333333,
              "#9c179e"
             ],
             [
              0.4444444444444444,
              "#bd3786"
             ],
             [
              0.5555555555555556,
              "#d8576b"
             ],
             [
              0.6666666666666666,
              "#ed7953"
             ],
             [
              0.7777777777777778,
              "#fb9f3a"
             ],
             [
              0.8888888888888888,
              "#fdca26"
             ],
             [
              1,
              "#f0f921"
             ]
            ],
            "type": "histogram2dcontour"
           }
          ],
          "mesh3d": [
           {
            "colorbar": {
             "outlinewidth": 0,
             "ticks": ""
            },
            "type": "mesh3d"
           }
          ],
          "parcoords": [
           {
            "line": {
             "colorbar": {
              "outlinewidth": 0,
              "ticks": ""
             }
            },
            "type": "parcoords"
           }
          ],
          "pie": [
           {
            "automargin": true,
            "type": "pie"
           }
          ],
          "scatter": [
           {
            "fillpattern": {
             "fillmode": "overlay",
             "size": 10,
             "solidity": 0.2
            },
            "type": "scatter"
           }
          ],
          "scatter3d": [
           {
            "line": {
             "colorbar": {
              "outlinewidth": 0,
              "ticks": ""
             }
            },
            "marker": {
             "colorbar": {
              "outlinewidth": 0,
              "ticks": ""
             }
            },
            "type": "scatter3d"
           }
          ],
          "scattercarpet": [
           {
            "marker": {
             "colorbar": {
              "outlinewidth": 0,
              "ticks": ""
             }
            },
            "type": "scattercarpet"
           }
          ],
          "scattergeo": [
           {
            "marker": {
             "colorbar": {
              "outlinewidth": 0,
              "ticks": ""
             }
            },
            "type": "scattergeo"
           }
          ],
          "scattergl": [
           {
            "marker": {
             "colorbar": {
              "outlinewidth": 0,
              "ticks": ""
             }
            },
            "type": "scattergl"
           }
          ],
          "scattermapbox": [
           {
            "marker": {
             "colorbar": {
              "outlinewidth": 0,
              "ticks": ""
             }
            },
            "type": "scattermapbox"
           }
          ],
          "scatterpolar": [
           {
            "marker": {
             "colorbar": {
              "outlinewidth": 0,
              "ticks": ""
             }
            },
            "type": "scatterpolar"
           }
          ],
          "scatterpolargl": [
           {
            "marker": {
             "colorbar": {
              "outlinewidth": 0,
              "ticks": ""
             }
            },
            "type": "scatterpolargl"
           }
          ],
          "scatterternary": [
           {
            "marker": {
             "colorbar": {
              "outlinewidth": 0,
              "ticks": ""
             }
            },
            "type": "scatterternary"
           }
          ],
          "surface": [
           {
            "colorbar": {
             "outlinewidth": 0,
             "ticks": ""
            },
            "colorscale": [
             [
              0,
              "#0d0887"
             ],
             [
              0.1111111111111111,
              "#46039f"
             ],
             [
              0.2222222222222222,
              "#7201a8"
             ],
             [
              0.3333333333333333,
              "#9c179e"
             ],
             [
              0.4444444444444444,
              "#bd3786"
             ],
             [
              0.5555555555555556,
              "#d8576b"
             ],
             [
              0.6666666666666666,
              "#ed7953"
             ],
             [
              0.7777777777777778,
              "#fb9f3a"
             ],
             [
              0.8888888888888888,
              "#fdca26"
             ],
             [
              1,
              "#f0f921"
             ]
            ],
            "type": "surface"
           }
          ],
          "table": [
           {
            "cells": {
             "fill": {
              "color": "#EBF0F8"
             },
             "line": {
              "color": "white"
             }
            },
            "header": {
             "fill": {
              "color": "#C8D4E3"
             },
             "line": {
              "color": "white"
             }
            },
            "type": "table"
           }
          ]
         },
         "layout": {
          "annotationdefaults": {
           "arrowcolor": "#2a3f5f",
           "arrowhead": 0,
           "arrowwidth": 1
          },
          "autotypenumbers": "strict",
          "coloraxis": {
           "colorbar": {
            "outlinewidth": 0,
            "ticks": ""
           }
          },
          "colorscale": {
           "diverging": [
            [
             0,
             "#8e0152"
            ],
            [
             0.1,
             "#c51b7d"
            ],
            [
             0.2,
             "#de77ae"
            ],
            [
             0.3,
             "#f1b6da"
            ],
            [
             0.4,
             "#fde0ef"
            ],
            [
             0.5,
             "#f7f7f7"
            ],
            [
             0.6,
             "#e6f5d0"
            ],
            [
             0.7,
             "#b8e186"
            ],
            [
             0.8,
             "#7fbc41"
            ],
            [
             0.9,
             "#4d9221"
            ],
            [
             1,
             "#276419"
            ]
           ],
           "sequential": [
            [
             0,
             "#0d0887"
            ],
            [
             0.1111111111111111,
             "#46039f"
            ],
            [
             0.2222222222222222,
             "#7201a8"
            ],
            [
             0.3333333333333333,
             "#9c179e"
            ],
            [
             0.4444444444444444,
             "#bd3786"
            ],
            [
             0.5555555555555556,
             "#d8576b"
            ],
            [
             0.6666666666666666,
             "#ed7953"
            ],
            [
             0.7777777777777778,
             "#fb9f3a"
            ],
            [
             0.8888888888888888,
             "#fdca26"
            ],
            [
             1,
             "#f0f921"
            ]
           ],
           "sequentialminus": [
            [
             0,
             "#0d0887"
            ],
            [
             0.1111111111111111,
             "#46039f"
            ],
            [
             0.2222222222222222,
             "#7201a8"
            ],
            [
             0.3333333333333333,
             "#9c179e"
            ],
            [
             0.4444444444444444,
             "#bd3786"
            ],
            [
             0.5555555555555556,
             "#d8576b"
            ],
            [
             0.6666666666666666,
             "#ed7953"
            ],
            [
             0.7777777777777778,
             "#fb9f3a"
            ],
            [
             0.8888888888888888,
             "#fdca26"
            ],
            [
             1,
             "#f0f921"
            ]
           ]
          },
          "colorway": [
           "#636efa",
           "#EF553B",
           "#00cc96",
           "#ab63fa",
           "#FFA15A",
           "#19d3f3",
           "#FF6692",
           "#B6E880",
           "#FF97FF",
           "#FECB52"
          ],
          "font": {
           "color": "#2a3f5f"
          },
          "geo": {
           "bgcolor": "white",
           "lakecolor": "white",
           "landcolor": "#E5ECF6",
           "showlakes": true,
           "showland": true,
           "subunitcolor": "white"
          },
          "hoverlabel": {
           "align": "left"
          },
          "hovermode": "closest",
          "mapbox": {
           "style": "light"
          },
          "paper_bgcolor": "white",
          "plot_bgcolor": "#E5ECF6",
          "polar": {
           "angularaxis": {
            "gridcolor": "white",
            "linecolor": "white",
            "ticks": ""
           },
           "bgcolor": "#E5ECF6",
           "radialaxis": {
            "gridcolor": "white",
            "linecolor": "white",
            "ticks": ""
           }
          },
          "scene": {
           "xaxis": {
            "backgroundcolor": "#E5ECF6",
            "gridcolor": "white",
            "gridwidth": 2,
            "linecolor": "white",
            "showbackground": true,
            "ticks": "",
            "zerolinecolor": "white"
           },
           "yaxis": {
            "backgroundcolor": "#E5ECF6",
            "gridcolor": "white",
            "gridwidth": 2,
            "linecolor": "white",
            "showbackground": true,
            "ticks": "",
            "zerolinecolor": "white"
           },
           "zaxis": {
            "backgroundcolor": "#E5ECF6",
            "gridcolor": "white",
            "gridwidth": 2,
            "linecolor": "white",
            "showbackground": true,
            "ticks": "",
            "zerolinecolor": "white"
           }
          },
          "shapedefaults": {
           "line": {
            "color": "#2a3f5f"
           }
          },
          "ternary": {
           "aaxis": {
            "gridcolor": "white",
            "linecolor": "white",
            "ticks": ""
           },
           "baxis": {
            "gridcolor": "white",
            "linecolor": "white",
            "ticks": ""
           },
           "bgcolor": "#E5ECF6",
           "caxis": {
            "gridcolor": "white",
            "linecolor": "white",
            "ticks": ""
           }
          },
          "title": {
           "x": 0.05
          },
          "xaxis": {
           "automargin": true,
           "gridcolor": "white",
           "linecolor": "white",
           "ticks": "",
           "title": {
            "standoff": 15
           },
           "zerolinecolor": "white",
           "zerolinewidth": 2
          },
          "yaxis": {
           "automargin": true,
           "gridcolor": "white",
           "linecolor": "white",
           "ticks": "",
           "title": {
            "standoff": 15
           },
           "zerolinecolor": "white",
           "zerolinewidth": 2
          }
         }
        },
        "xaxis": {
         "anchor": "y",
         "domain": [
          0,
          1
         ],
         "title": {
          "text": "sepal_width"
         }
        },
        "yaxis": {
         "anchor": "x",
         "domain": [
          0,
          1
         ],
         "title": {
          "text": "sepal_length"
         }
        }
       }
      }
     },
     "metadata": {},
     "output_type": "display_data"
    }
   ],
   "source": [
    "import plotly.express as px\n",
    "from plotly.graph_objects import Figure\n",
    "from pandas import DataFrame\n",
    "\n",
    "df: DataFrame = px.data.iris()\n",
    "df[\"e\"] = df[\"sepal_width\"]/100\n",
    "\n",
    "fig: Figure = px.scatter(df, \n",
    "                x=\"sepal_width\", \n",
    "                y=\"sepal_length\", \n",
    "                color=\"species\",\n",
    "                error_x=\"e\", \n",
    "                error_y=\"e\")\n",
    "\n",
    "fig.show()"
   ]
  },
  {
   "cell_type": "markdown",
   "metadata": {},
   "source": [
    "# 3.1.4 Facetting\n",
    "\n",
    "El **faceting** es una técnica en visualización de datos que permite dividir un gráfico en múltiples subgráficos, o **facetas**, cada uno de los cuales representa una categoría diferente de los datos. Esto es útil para analizar y comparar diferentes subconjuntos de un conjunto de datos en un formato organizado y visual.\n",
    "\n",
    "Por ejemplo, en un gráfico de dispersión, se puede utilizar el faceting para crear subgráficos que muestran la relación entre dos variables mientras se agrupan por una tercera categoría, como género o grupo etario. Esto ayuda a identificar patrones y tendencias en los datos que podrían no ser evidentes en un solo gráfico.\n"
   ]
  },
  {
   "cell_type": "code",
   "execution_count": 29,
   "metadata": {},
   "outputs": [
    {
     "data": {
      "application/vnd.plotly.v1+json": {
       "config": {
        "plotlyServerURL": "https://plot.ly"
       },
       "data": [
        {
         "hovertemplate": "Experience_Level=3<br>Weight (kg)=%{x}<br>Height (m)=%{y}<extra></extra>",
         "legendgroup": "",
         "marker": {
          "color": "#636efa",
          "symbol": "circle"
         },
         "mode": "markers",
         "name": "",
         "orientation": "v",
         "showlegend": false,
         "type": "scatter",
         "x": [
          88.3,
          58,
          84.9,
          81.4,
          84.2,
          61,
          87.5,
          64.4,
          85.9,
          61.1,
          64,
          61.7,
          59.5,
          81.5,
          61.5,
          60.1,
          56.2,
          86,
          85.5,
          87.6,
          82.7,
          86.2,
          57.3,
          85.3,
          82.8,
          60.1,
          88.5,
          61.9,
          88.5,
          80.9,
          59.1,
          87.9,
          63,
          83.6,
          56.2,
          85.9,
          57.4,
          88.4,
          63.4,
          83.8,
          55.9,
          87.1,
          58,
          82.1,
          82.2,
          81.4,
          63.9,
          55.1,
          60.3,
          82.5,
          58.9,
          64.2,
          56.3,
          60,
          63.1,
          89.6,
          55.1,
          61.3,
          84.8,
          59,
          64.9,
          62.9,
          85.6,
          55.4,
          85,
          59.3,
          62.3,
          62.5,
          62.6,
          63.3,
          58.4,
          88.4,
          82.9,
          64.1,
          86.7,
          58.1,
          55.6,
          81.8,
          86.6,
          80.8,
          58,
          61.5,
          82.5,
          58.1,
          61,
          64.5,
          84,
          64.8,
          80.9,
          64.1,
          86.7,
          88.1,
          59.4,
          89.3,
          85.2,
          83.6,
          85.5,
          81.6,
          86.2,
          59.2,
          85.4,
          86.1,
          88.4,
          88.4,
          89,
          83.9,
          84.3,
          86.2,
          88,
          55.3,
          83.2,
          57.5,
          88.6,
          82.3,
          85.6,
          62.6,
          87.1,
          82.3,
          64.3,
          88,
          87,
          82.8,
          55.2,
          89.6,
          88.8,
          88.5,
          88.5,
          56.5,
          85.8,
          81.4,
          80.6,
          81.4,
          57.2,
          57.9,
          82.4,
          55.3,
          87.2,
          62.5,
          64.3,
          80.7,
          87.8,
          64.4,
          82.5,
          57.7,
          84.9,
          60.5,
          86.6,
          88,
          85.3,
          61.9,
          88.2,
          64.3,
          89.3,
          61.6,
          81.7,
          85.6,
          60,
          64.2,
          56.5,
          60.1,
          55.1,
          64.4,
          80.8,
          56,
          56.6,
          64.3,
          60.9,
          64.7,
          57.7,
          80.5,
          81,
          85.7,
          61.8,
          80.3,
          59.1,
          62.4,
          89.8,
          88.2,
          57.9,
          59.3,
          86.9,
          86.3,
          85.5,
          55.7,
          87.9,
          57.7,
          83.4,
          64.2,
          87.3,
          87.1,
          60.4
         ],
         "xaxis": "x",
         "y": [
          1.71,
          1.68,
          1.86,
          1.71,
          1.76,
          1.71,
          1.63,
          1.7,
          1.6,
          1.76,
          1.52,
          1.58,
          1.74,
          1.61,
          1.69,
          1.79,
          1.79,
          1.93,
          1.82,
          1.93,
          1.99,
          1.68,
          1.79,
          1.95,
          1.95,
          1.65,
          1.78,
          1.54,
          1.85,
          1.8,
          1.52,
          1.88,
          1.78,
          1.86,
          1.77,
          1.85,
          1.71,
          1.6,
          1.59,
          1.99,
          1.71,
          1.87,
          1.53,
          1.86,
          1.87,
          1.86,
          1.59,
          1.61,
          1.68,
          1.79,
          1.7,
          1.59,
          1.79,
          1.7,
          1.64,
          1.68,
          1.61,
          1.57,
          1.86,
          1.78,
          1.51,
          1.58,
          1.74,
          1.55,
          1.68,
          1.51,
          1.79,
          1.62,
          1.53,
          1.71,
          1.79,
          1.6,
          1.95,
          1.5,
          1.62,
          1.61,
          1.61,
          1.99,
          1.99,
          1.98,
          1.53,
          1.58,
          1.87,
          1.58,
          1.76,
          1.53,
          1.94,
          1.53,
          1.9,
          1.63,
          1.63,
          1.93,
          1.51,
          1.64,
          1.81,
          1.74,
          1.8,
          1.87,
          1.82,
          1.63,
          1.88,
          1.65,
          1.93,
          1.79,
          1.68,
          1.82,
          2,
          1.9,
          1.71,
          1.76,
          1.96,
          1.67,
          2,
          1.61,
          1.85,
          1.63,
          1.76,
          1.84,
          1.78,
          1.89,
          1.86,
          1.66,
          1.73,
          1.81,
          1.95,
          1.62,
          1.98,
          1.6,
          1.8,
          1.85,
          1.77,
          1.83,
          1.55,
          1.56,
          1.96,
          1.56,
          1.64,
          1.54,
          1.62,
          1.61,
          1.69,
          1.56,
          1.79,
          1.56,
          1.72,
          1.77,
          1.97,
          1.64,
          1.64,
          1.64,
          1.79,
          1.54,
          1.87,
          1.52,
          1.95,
          1.69,
          1.72,
          1.69,
          1.75,
          1.59,
          1.79,
          1.55,
          1.76,
          1.5,
          1.57,
          1.63,
          1.62,
          1.66,
          1.77,
          1.77,
          1.78,
          1.92,
          1.52,
          1.76,
          1.57,
          1.61,
          1.92,
          1.62,
          1.56,
          1.58,
          1.69,
          1.77,
          1.67,
          1.53,
          1.87,
          1.57,
          1.65,
          1.69,
          1.91,
          1.74,
          1.76
         ],
         "yaxis": "y"
        },
        {
         "hovertemplate": "Experience_Level=2<br>Weight (kg)=%{x}<br>Height (m)=%{y}<extra></extra>",
         "legendgroup": "",
         "marker": {
          "color": "#636efa",
          "symbol": "circle"
         },
         "mode": "markers",
         "name": "",
         "orientation": "v",
         "showlegend": false,
         "type": "scatter",
         "x": [
          74.9,
          68.1,
          70.3,
          69.7,
          121.7,
          51.7,
          112.5,
          117.7,
          64,
          66.8,
          89,
          64.3,
          63.7,
          53.9,
          78,
          65.4,
          59.3,
          96.9,
          62.6,
          45.5,
          113.2,
          79.7,
          51,
          114.8,
          65.5,
          58.2,
          44.8,
          51.8,
          106.5,
          61.4,
          40.5,
          70.1,
          94.1,
          72.1,
          54.8,
          105,
          55,
          81.6,
          74,
          102.6,
          59.4,
          77.7,
          41.2,
          58.6,
          79.4,
          78.4,
          55.4,
          61.7,
          82.4,
          42.3,
          63.2,
          82.7,
          86.6,
          98,
          45.2,
          125.2,
          58.5,
          63.5,
          79.2,
          62.9,
          73.9,
          46.6,
          52,
          62.9,
          40.4,
          107.9,
          109,
          101,
          43.1,
          51.5,
          64.8,
          52.9,
          51.1,
          114.9,
          62.1,
          57.1,
          68.1,
          40,
          68.3,
          71.9,
          75.6,
          57.4,
          87,
          65.3,
          45.4,
          78.6,
          71.3,
          49.1,
          57.3,
          76.4,
          72.9,
          96.7,
          107.8,
          65.8,
          68.5,
          76.3,
          50.7,
          73.7,
          55.6,
          86.9,
          78.5,
          110.5,
          46.5,
          117,
          75.9,
          71.2,
          78.8,
          108.5,
          49.9,
          47.8,
          97.9,
          63.1,
          72.4,
          50.4,
          65.2,
          57.8,
          125.9,
          93.4,
          82.1,
          128.4,
          89.3,
          59.1,
          49.9,
          93,
          123.7,
          72.3,
          81.4,
          55.1,
          76.7,
          63.1,
          44.1,
          74.7,
          78,
          60.7,
          69,
          75.8,
          71.2,
          42.8,
          88.1,
          72.4,
          46.1,
          90.8,
          45,
          89.4,
          127.7,
          70.9,
          49.2,
          56.9,
          53,
          50.6,
          76.4,
          68.6,
          123.3,
          47.8,
          74.3,
          106.8,
          125.5,
          55.2,
          77.7,
          82.2,
          91.4,
          68.7,
          47.2,
          56.2,
          58.4,
          62,
          64.9,
          69.3,
          51.4,
          125.3,
          102.1,
          54.6,
          78.8,
          48.2,
          50.7,
          96.3,
          58.2,
          68,
          94.5,
          61,
          67,
          106.5,
          95.1,
          105.7,
          125.9,
          124.3,
          69.7,
          60.9,
          94.7,
          121.1,
          71.5,
          57.7,
          124.6,
          42.2,
          114.2,
          52.4,
          115.4,
          78.1,
          54.2,
          77.6,
          47.8,
          82.3,
          60.2,
          49.2,
          68.7,
          60.6,
          65.5,
          89.1,
          68.1,
          74.8,
          90.3,
          67.7,
          56.8,
          112.4,
          66.5,
          106.5,
          53.3,
          74.2,
          84.6,
          78.7,
          65.9,
          76.9,
          62.4,
          63.7,
          76.4,
          68.4,
          63.5,
          59.4,
          70.7,
          59.4,
          120.6,
          65.3,
          63.3,
          76.3,
          124.8,
          53,
          72.6,
          70.4,
          52.5,
          76.3,
          49.7,
          120.5,
          121.6,
          73,
          42.7,
          46.9,
          71.3,
          71.6,
          74.6,
          63,
          128.4,
          63.7,
          83.7,
          102.6,
          87.5,
          73.5,
          73.5,
          86.5,
          46.1,
          68.5,
          94.6,
          47.7,
          52.2,
          101,
          118.4,
          51.5,
          78.9,
          127.9,
          42.8,
          64.5,
          50.7,
          78.7,
          68.7,
          64.8,
          102.3,
          52,
          71,
          58.3,
          111,
          52.6,
          75.6,
          108,
          75.7,
          56.3,
          58.2,
          125.9,
          62.7,
          86.6,
          64.5,
          76.6,
          73,
          54.7,
          92.3,
          71.8,
          66.9,
          48.7,
          112.4,
          43.8,
          123.3,
          84.8,
          109.6,
          86.4,
          63.9,
          115.3,
          97.3,
          60.4,
          46.9,
          102.6,
          74.3,
          78.5,
          72,
          77.9,
          69.6,
          68.9,
          45.9,
          79.6,
          57.7,
          74.2,
          121.9,
          70.3,
          40.3,
          79.2,
          57.2,
          44.8,
          59,
          53.8,
          66.3,
          45.9,
          44.7,
          95.6,
          47.8,
          59.7,
          49.1,
          66.5,
          74.8,
          62.8,
          84.7,
          77.4,
          72.9,
          90.2,
          59,
          58.7,
          127.5,
          68.6,
          64.5,
          75.1,
          72.6,
          55.8,
          58.3,
          75.4,
          65.2,
          107.2,
          61.6,
          81.7,
          116.8,
          41.6,
          69.1,
          125.5,
          71.3,
          129.2,
          96.3,
          64.9,
          56.7,
          46.8,
          49.3,
          41.1,
          40.5,
          51,
          76.9,
          73.3,
          49,
          53.5,
          86.9,
          73.4,
          90,
          57.7,
          104.3,
          65.7,
          51.9,
          66.9,
          78.7,
          58.3,
          73.1,
          117.3,
          77.4,
          72.9,
          75.6,
          70.6,
          55.7,
          72.6,
          63.6,
          45.2,
          117.2,
          67,
          70.2,
          127.1,
          75.6,
          96.1,
          76.7,
          69.9,
          67.9,
          102.8,
          95.4,
          66.6,
          55,
          126.4
         ],
         "xaxis": "x2",
         "y": [
          1.53,
          1.66,
          1.72,
          1.51,
          1.94,
          1.7,
          1.61,
          1.81,
          1.53,
          1.75,
          1.77,
          1.69,
          1.71,
          1.75,
          1.68,
          1.52,
          1.56,
          1.71,
          1.81,
          1.6,
          1.83,
          1.54,
          1.62,
          1.6,
          1.52,
          1.61,
          1.63,
          1.74,
          1.65,
          1.54,
          1.63,
          1.79,
          1.62,
          1.83,
          1.68,
          1.88,
          1.55,
          1.66,
          1.63,
          1.84,
          1.51,
          1.62,
          1.62,
          1.61,
          1.59,
          1.62,
          1.6,
          1.55,
          1.72,
          1.6,
          1.54,
          1.85,
          1.76,
          1.83,
          1.74,
          1.66,
          1.79,
          1.61,
          1.62,
          1.79,
          1.77,
          1.79,
          1.61,
          1.98,
          1.8,
          1.66,
          1.91,
          1.91,
          1.62,
          1.8,
          1.71,
          1.64,
          1.87,
          1.92,
          1.66,
          1.91,
          1.8,
          1.65,
          1.52,
          1.64,
          1.71,
          1.77,
          1.76,
          1.71,
          1.67,
          1.73,
          1.69,
          1.74,
          1.64,
          1.62,
          1.76,
          1.72,
          1.73,
          1.62,
          1.56,
          1.62,
          1.75,
          1.61,
          1.77,
          1.76,
          1.66,
          1.92,
          1.72,
          1.61,
          1.73,
          1.64,
          1.72,
          1.79,
          1.98,
          1.54,
          1.91,
          1.54,
          1.69,
          1.6,
          1.63,
          1.56,
          2,
          1.7,
          1.84,
          1.68,
          1.99,
          1.72,
          1.69,
          1.91,
          1.69,
          1.94,
          1.61,
          1.72,
          1.79,
          1.61,
          1.65,
          1.58,
          1.67,
          1.73,
          1.74,
          1.78,
          1.64,
          1.78,
          1.76,
          1.75,
          1.76,
          1.71,
          1.77,
          1.62,
          1.69,
          1.72,
          1.5,
          1.59,
          1.71,
          1.68,
          1.97,
          1.64,
          1.88,
          1.6,
          1.71,
          1.82,
          1.8,
          1.55,
          1.61,
          1.69,
          1.99,
          1.76,
          1.74,
          1.95,
          1.72,
          1.59,
          1.6,
          1.62,
          1.63,
          1.86,
          1.85,
          1.76,
          1.71,
          1.64,
          1.59,
          1.63,
          1.98,
          1.7,
          1.7,
          1.87,
          1.77,
          1.6,
          1.85,
          1.64,
          1.94,
          1.82,
          1.72,
          1.52,
          1.82,
          1.87,
          1.64,
          1.69,
          1.63,
          1.65,
          1.87,
          1.57,
          1.92,
          1.6,
          1.65,
          1.76,
          1.76,
          1.84,
          1.88,
          1.54,
          1.72,
          1.55,
          1.74,
          1.84,
          1.55,
          1.69,
          1.65,
          1.56,
          1.51,
          1.63,
          1.6,
          1.81,
          1.74,
          1.76,
          1.63,
          1.52,
          1.52,
          1.92,
          1.6,
          1.74,
          1.79,
          1.5,
          1.86,
          1.5,
          1.68,
          1.68,
          1.83,
          1.55,
          1.77,
          1.65,
          1.85,
          1.58,
          1.73,
          1.56,
          1.88,
          1.77,
          1.67,
          1.73,
          2,
          1.75,
          1.53,
          1.74,
          1.67,
          1.86,
          1.68,
          2,
          1.86,
          1.52,
          1.87,
          1.75,
          1.88,
          1.55,
          1.74,
          1.76,
          1.67,
          1.97,
          1.84,
          1.77,
          1.84,
          1.68,
          1.95,
          1.74,
          1.64,
          1.93,
          1.56,
          1.79,
          1.53,
          1.63,
          1.92,
          1.65,
          1.63,
          1.78,
          1.93,
          1.72,
          1.94,
          1.66,
          1.61,
          1.8,
          1.94,
          1.6,
          1.73,
          1.67,
          1.67,
          1.86,
          1.82,
          1.86,
          1.59,
          1.53,
          1.94,
          1.55,
          1.57,
          1.76,
          1.85,
          1.65,
          1.62,
          1.79,
          1.66,
          1.77,
          1.8,
          1.67,
          1.96,
          1.65,
          1.61,
          1.83,
          1.61,
          1.7,
          1.94,
          1.77,
          1.58,
          1.99,
          1.89,
          1.59,
          1.58,
          1.93,
          1.93,
          1.52,
          1.56,
          1.95,
          1.75,
          1.72,
          1.65,
          1.72,
          1.77,
          1.93,
          1.79,
          1.9,
          1.86,
          1.83,
          1.68,
          1.83,
          1.75,
          1.63,
          1.79,
          1.92,
          1.62,
          1.61,
          1.62,
          1.86,
          1.82,
          1.52,
          1.78,
          1.82,
          1.68,
          1.55,
          1.93,
          1.78,
          1.62,
          1.93,
          1.75,
          1.75,
          1.79,
          1.58,
          1.6,
          1.76,
          1.58,
          1.61,
          1.86,
          1.57,
          1.55,
          1.63,
          1.62,
          1.67,
          1.74,
          1.71,
          1.82,
          1.74,
          1.57,
          1.76,
          1.78,
          1.76,
          1.66,
          1.71,
          1.68,
          1.58,
          1.57,
          1.75,
          1.66,
          2,
          1.83,
          1.68,
          1.71,
          1.67,
          1.8,
          1.58,
          1.99,
          1.87,
          1.62,
          1.68,
          1.62,
          1.61,
          1.87,
          1.62,
          1.67,
          1.74,
          1.62,
          1.81,
          1.77,
          1.98,
          1.61,
          1.67,
          1.6,
          1.83
         ],
         "yaxis": "y2"
        },
        {
         "hovertemplate": "Experience_Level=1<br>Weight (kg)=%{x}<br>Height (m)=%{y}<extra></extra>",
         "legendgroup": "",
         "marker": {
          "color": "#636efa",
          "symbol": "circle"
         },
         "mode": "markers",
         "name": "",
         "orientation": "v",
         "showlegend": false,
         "type": "scatter",
         "x": [
          53.2,
          46.1,
          101.8,
          120.8,
          94.5,
          42.5,
          43.8,
          75.2,
          71.9,
          71,
          120.9,
          65.2,
          108.2,
          50.2,
          58.9,
          127.6,
          48.8,
          44.3,
          60.5,
          124.2,
          52.4,
          54.7,
          88.1,
          59.7,
          122.1,
          96.7,
          73,
          50.3,
          44.6,
          67.1,
          65.4,
          55.5,
          53.7,
          66.1,
          103.9,
          52.3,
          72.9,
          76.7,
          75.6,
          56.4,
          54.6,
          129,
          103.5,
          109.3,
          69.6,
          71.7,
          67,
          92.4,
          129.5,
          78.6,
          59,
          122.3,
          55.6,
          86.1,
          69.3,
          70.5,
          94.1,
          115.3,
          62,
          50.3,
          83.1,
          65.1,
          103.5,
          113.4,
          67.1,
          70,
          69.5,
          54,
          72.3,
          51.1,
          89.4,
          42,
          79.2,
          56.2,
          49,
          128.2,
          87.8,
          69.2,
          65.2,
          108.6,
          41.9,
          66,
          71.6,
          78,
          78.3,
          48.4,
          110.2,
          58.9,
          44.5,
          40.4,
          102.6,
          110.8,
          60.9,
          55.7,
          55.2,
          70.9,
          74.6,
          45.1,
          99.9,
          50.6,
          125.1,
          79.7,
          126.8,
          54.6,
          58.8,
          105.2,
          45.9,
          90,
          51.5,
          91.5,
          48.7,
          42,
          128.4,
          74.2,
          105.5,
          42.9,
          112.4,
          77.7,
          70.3,
          101.7,
          87.4,
          69.2,
          109.7,
          78.4,
          66.3,
          61.3,
          63.8,
          57.5,
          75.7,
          63.6,
          73.2,
          48.3,
          73.2,
          110.5,
          45.1,
          64.1,
          69.7,
          72.7,
          76.5,
          113.6,
          95.2,
          51.7,
          105.3,
          71.2,
          78.1,
          70.2,
          60.6,
          107,
          68.3,
          71.4,
          104.8,
          68.2,
          42.1,
          92,
          66.9,
          66.3,
          93.6,
          42.7,
          67.4,
          61.9,
          108.8,
          51.1,
          81.7,
          42.7,
          107.7,
          56.9,
          95.9,
          40.6,
          105.1,
          69.5,
          62.2,
          56.3,
          58,
          45.7,
          65.5,
          48,
          69.5,
          66.1,
          68,
          50.3,
          69.3,
          62,
          76.5,
          67.9,
          98.6,
          68.2,
          73,
          52,
          110,
          66.2,
          58.6,
          51,
          101.5,
          54.4,
          71.2,
          44.1,
          102.5,
          118,
          46.6,
          52.1,
          46.6,
          44.2,
          65.9,
          55.6,
          63.7,
          60,
          73.7,
          78.3,
          48.2,
          59,
          98.4,
          58.1,
          78,
          42.7,
          54.9,
          106.4,
          113.4,
          61.9,
          111.5,
          72.1,
          56.9,
          75.6,
          76.3,
          95.8,
          85.3,
          68,
          52.6,
          61,
          67.8,
          114.9,
          67.7,
          61.2,
          48.7,
          50.6,
          41.2,
          48.3,
          129.9,
          108.6,
          49.7,
          56.4,
          70.6,
          109.8,
          73.5,
          63.2,
          53.7,
          77.7,
          65.4,
          47.2,
          58.2,
          64.4,
          54.2,
          47.9,
          79.9,
          121.3,
          73.5,
          43.4,
          59.2,
          78.9,
          53.1,
          50.3,
          62.9,
          74.6,
          52,
          52.1,
          72.2,
          50.9,
          63,
          116.4,
          61.6,
          59.3,
          55.7,
          60.7,
          123.8,
          93.6,
          76.8,
          66.2,
          40,
          70,
          84,
          70.8,
          73.9,
          49.3,
          91.8,
          73.6,
          47.1,
          65.2,
          96.7,
          72.1,
          110.7,
          115.3,
          77.3,
          64.5,
          68.2,
          53.6,
          54.9,
          50.3,
          46.5,
          57.8,
          83,
          66.5,
          70.2,
          101.4,
          75.8,
          71.7,
          47.4,
          90.2,
          95.7,
          72.8,
          56,
          94,
          63.2,
          70.2,
          72.7,
          50.4,
          81.7,
          49.3,
          75.5,
          72.2,
          116.5,
          58.4,
          56.7,
          79.3,
          76.7,
          44.2,
          56.5,
          100.9,
          48.6,
          126.4,
          70.1,
          102.6,
          76.6,
          93.7,
          127.1,
          66.8,
          67.5,
          52.3,
          70.3,
          101.2,
          40.9,
          127.8,
          49.3,
          63,
          71,
          114.5,
          52.1,
          70.1,
          70.4,
          75.7,
          120.3,
          66.9,
          102.1,
          51.9,
          101.1,
          118.6,
          84.8,
          80,
          71.2,
          118.6,
          102.3,
          63.8,
          67.3,
          70.7,
          98.2,
          107.4,
          59.1,
          53.3,
          46.2,
          62.6,
          57.2,
          51.8,
          66.5,
          69.2,
          43.8,
          44.1,
          66.6,
          88.7
         ],
         "xaxis": "x3",
         "y": [
          1.7,
          1.79,
          1.84,
          1.67,
          2,
          1.75,
          1.77,
          1.67,
          1.77,
          1.68,
          1.78,
          1.8,
          1.8,
          1.61,
          1.51,
          1.73,
          1.51,
          1.6,
          1.59,
          1.76,
          1.85,
          1.74,
          1.95,
          1.71,
          1.89,
          1.72,
          1.79,
          1.52,
          1.62,
          1.61,
          1.77,
          1.82,
          1.72,
          1.75,
          1.77,
          1.74,
          1.76,
          1.63,
          1.6,
          1.59,
          1.57,
          1.78,
          1.66,
          1.78,
          1.96,
          1.96,
          1.68,
          1.74,
          1.95,
          1.62,
          1.66,
          1.89,
          1.92,
          1.95,
          1.68,
          1.62,
          1.95,
          1.91,
          1.64,
          1.95,
          1.8,
          1.78,
          1.89,
          1.71,
          1.75,
          1.61,
          1.75,
          1.53,
          1.78,
          1.98,
          1.72,
          1.52,
          1.72,
          1.77,
          1.69,
          1.84,
          1.78,
          1.65,
          1.52,
          1.73,
          1.58,
          1.9,
          1.77,
          1.71,
          1.65,
          1.61,
          1.77,
          1.76,
          1.65,
          1.64,
          1.72,
          1.91,
          1.79,
          1.61,
          1.71,
          1.66,
          1.75,
          1.72,
          1.99,
          1.69,
          1.91,
          1.66,
          1.63,
          1.57,
          1.77,
          1.62,
          1.5,
          1.7,
          1.71,
          1.77,
          1.67,
          1.75,
          1.92,
          1.57,
          1.99,
          1.69,
          1.96,
          1.79,
          1.55,
          1.67,
          1.6,
          1.53,
          1.75,
          1.9,
          1.57,
          1.97,
          1.62,
          1.67,
          1.63,
          1.56,
          1.94,
          1.52,
          1.88,
          1.86,
          1.73,
          1.87,
          1.75,
          1.55,
          1.96,
          1.99,
          1.86,
          1.82,
          1.67,
          1.68,
          1.51,
          1.89,
          1.65,
          1.94,
          1.92,
          1.72,
          1.99,
          1.75,
          1.65,
          1.76,
          1.74,
          1.85,
          1.93,
          1.74,
          1.6,
          1.77,
          1.64,
          1.58,
          1.99,
          1.66,
          1.88,
          1.6,
          1.85,
          1.79,
          1.84,
          1.76,
          1.84,
          1.5,
          1.79,
          1.77,
          1.57,
          1.76,
          1.5,
          1.69,
          1.7,
          1.78,
          1.68,
          1.85,
          1.97,
          1.75,
          1.7,
          1.63,
          1.59,
          1.65,
          1.76,
          1.58,
          1.66,
          1.67,
          1.95,
          1.72,
          1.97,
          1.62,
          1.94,
          1.9,
          1.5,
          1.61,
          1.77,
          1.57,
          1.62,
          1.57,
          1.98,
          1.62,
          1.66,
          1.96,
          1.65,
          1.67,
          1.88,
          1.56,
          1.92,
          1.76,
          1.52,
          1.86,
          1.91,
          1.52,
          1.9,
          1.66,
          1.87,
          1.72,
          1.73,
          1.86,
          1.89,
          1.68,
          1.57,
          1.63,
          1.61,
          1.86,
          1.58,
          1.88,
          1.68,
          1.7,
          1.58,
          1.87,
          1.73,
          1.92,
          1.51,
          1.54,
          1.69,
          1.62,
          1.69,
          1.8,
          1.66,
          1.55,
          1.68,
          1.71,
          1.7,
          1.71,
          1.52,
          1.72,
          1.51,
          1.85,
          1.63,
          1.62,
          1.66,
          1.73,
          1.59,
          1.61,
          1.92,
          1.55,
          1.79,
          1.67,
          1.54,
          1.65,
          1.7,
          2,
          1.8,
          1.75,
          1.68,
          1.71,
          1.99,
          1.66,
          1.92,
          1.71,
          1.76,
          1.55,
          1.74,
          1.62,
          1.8,
          1.61,
          1.78,
          1.55,
          1.78,
          1.62,
          1.71,
          1.62,
          1.69,
          1.81,
          1.58,
          1.7,
          1.69,
          1.52,
          1.78,
          1.64,
          1.68,
          1.99,
          1.8,
          1.73,
          1.67,
          1.76,
          1.77,
          1.88,
          1.6,
          1.72,
          1.77,
          1.67,
          1.6,
          1.79,
          1.63,
          1.98,
          1.8,
          1.79,
          1.74,
          1.62,
          1.93,
          1.6,
          1.69,
          1.59,
          1.53,
          1.93,
          1.7,
          1.61,
          1.7,
          1.63,
          1.77,
          1.69,
          1.66,
          1.77,
          1.58,
          1.73,
          1.76,
          1.74,
          1.54,
          1.66,
          1.77,
          1.84,
          1.75,
          1.65,
          1.76,
          1.62,
          1.62,
          1.97,
          1.68,
          1.52,
          1.55,
          1.76,
          1.96,
          1.75,
          1.71,
          2,
          1.83,
          1.72,
          1.85,
          1.77,
          1.5,
          1.64,
          1.94,
          1.68,
          1.67,
          1.57,
          1.9,
          1.74,
          1.78,
          1.64,
          1.63,
          1.65,
          1.89,
          1.5,
          1.69,
          1.6,
          1.75,
          1.62,
          1.61,
          1.63
         ],
         "yaxis": "y3"
        }
       ],
       "layout": {
        "annotations": [
         {
          "font": {},
          "showarrow": false,
          "text": "Experience_Level=3",
          "x": 0.15999999999999998,
          "xanchor": "center",
          "xref": "paper",
          "y": 1,
          "yanchor": "bottom",
          "yref": "paper"
         },
         {
          "font": {},
          "showarrow": false,
          "text": "Experience_Level=2",
          "x": 0.49999999999999994,
          "xanchor": "center",
          "xref": "paper",
          "y": 1,
          "yanchor": "bottom",
          "yref": "paper"
         },
         {
          "font": {},
          "showarrow": false,
          "text": "Experience_Level=1",
          "x": 0.8399999999999999,
          "xanchor": "center",
          "xref": "paper",
          "y": 1,
          "yanchor": "bottom",
          "yref": "paper"
         }
        ],
        "legend": {
         "tracegroupgap": 0
        },
        "margin": {
         "t": 60
        },
        "template": {
         "data": {
          "bar": [
           {
            "error_x": {
             "color": "#2a3f5f"
            },
            "error_y": {
             "color": "#2a3f5f"
            },
            "marker": {
             "line": {
              "color": "#E5ECF6",
              "width": 0.5
             },
             "pattern": {
              "fillmode": "overlay",
              "size": 10,
              "solidity": 0.2
             }
            },
            "type": "bar"
           }
          ],
          "barpolar": [
           {
            "marker": {
             "line": {
              "color": "#E5ECF6",
              "width": 0.5
             },
             "pattern": {
              "fillmode": "overlay",
              "size": 10,
              "solidity": 0.2
             }
            },
            "type": "barpolar"
           }
          ],
          "carpet": [
           {
            "aaxis": {
             "endlinecolor": "#2a3f5f",
             "gridcolor": "white",
             "linecolor": "white",
             "minorgridcolor": "white",
             "startlinecolor": "#2a3f5f"
            },
            "baxis": {
             "endlinecolor": "#2a3f5f",
             "gridcolor": "white",
             "linecolor": "white",
             "minorgridcolor": "white",
             "startlinecolor": "#2a3f5f"
            },
            "type": "carpet"
           }
          ],
          "choropleth": [
           {
            "colorbar": {
             "outlinewidth": 0,
             "ticks": ""
            },
            "type": "choropleth"
           }
          ],
          "contour": [
           {
            "colorbar": {
             "outlinewidth": 0,
             "ticks": ""
            },
            "colorscale": [
             [
              0,
              "#0d0887"
             ],
             [
              0.1111111111111111,
              "#46039f"
             ],
             [
              0.2222222222222222,
              "#7201a8"
             ],
             [
              0.3333333333333333,
              "#9c179e"
             ],
             [
              0.4444444444444444,
              "#bd3786"
             ],
             [
              0.5555555555555556,
              "#d8576b"
             ],
             [
              0.6666666666666666,
              "#ed7953"
             ],
             [
              0.7777777777777778,
              "#fb9f3a"
             ],
             [
              0.8888888888888888,
              "#fdca26"
             ],
             [
              1,
              "#f0f921"
             ]
            ],
            "type": "contour"
           }
          ],
          "contourcarpet": [
           {
            "colorbar": {
             "outlinewidth": 0,
             "ticks": ""
            },
            "type": "contourcarpet"
           }
          ],
          "heatmap": [
           {
            "colorbar": {
             "outlinewidth": 0,
             "ticks": ""
            },
            "colorscale": [
             [
              0,
              "#0d0887"
             ],
             [
              0.1111111111111111,
              "#46039f"
             ],
             [
              0.2222222222222222,
              "#7201a8"
             ],
             [
              0.3333333333333333,
              "#9c179e"
             ],
             [
              0.4444444444444444,
              "#bd3786"
             ],
             [
              0.5555555555555556,
              "#d8576b"
             ],
             [
              0.6666666666666666,
              "#ed7953"
             ],
             [
              0.7777777777777778,
              "#fb9f3a"
             ],
             [
              0.8888888888888888,
              "#fdca26"
             ],
             [
              1,
              "#f0f921"
             ]
            ],
            "type": "heatmap"
           }
          ],
          "heatmapgl": [
           {
            "colorbar": {
             "outlinewidth": 0,
             "ticks": ""
            },
            "colorscale": [
             [
              0,
              "#0d0887"
             ],
             [
              0.1111111111111111,
              "#46039f"
             ],
             [
              0.2222222222222222,
              "#7201a8"
             ],
             [
              0.3333333333333333,
              "#9c179e"
             ],
             [
              0.4444444444444444,
              "#bd3786"
             ],
             [
              0.5555555555555556,
              "#d8576b"
             ],
             [
              0.6666666666666666,
              "#ed7953"
             ],
             [
              0.7777777777777778,
              "#fb9f3a"
             ],
             [
              0.8888888888888888,
              "#fdca26"
             ],
             [
              1,
              "#f0f921"
             ]
            ],
            "type": "heatmapgl"
           }
          ],
          "histogram": [
           {
            "marker": {
             "pattern": {
              "fillmode": "overlay",
              "size": 10,
              "solidity": 0.2
             }
            },
            "type": "histogram"
           }
          ],
          "histogram2d": [
           {
            "colorbar": {
             "outlinewidth": 0,
             "ticks": ""
            },
            "colorscale": [
             [
              0,
              "#0d0887"
             ],
             [
              0.1111111111111111,
              "#46039f"
             ],
             [
              0.2222222222222222,
              "#7201a8"
             ],
             [
              0.3333333333333333,
              "#9c179e"
             ],
             [
              0.4444444444444444,
              "#bd3786"
             ],
             [
              0.5555555555555556,
              "#d8576b"
             ],
             [
              0.6666666666666666,
              "#ed7953"
             ],
             [
              0.7777777777777778,
              "#fb9f3a"
             ],
             [
              0.8888888888888888,
              "#fdca26"
             ],
             [
              1,
              "#f0f921"
             ]
            ],
            "type": "histogram2d"
           }
          ],
          "histogram2dcontour": [
           {
            "colorbar": {
             "outlinewidth": 0,
             "ticks": ""
            },
            "colorscale": [
             [
              0,
              "#0d0887"
             ],
             [
              0.1111111111111111,
              "#46039f"
             ],
             [
              0.2222222222222222,
              "#7201a8"
             ],
             [
              0.3333333333333333,
              "#9c179e"
             ],
             [
              0.4444444444444444,
              "#bd3786"
             ],
             [
              0.5555555555555556,
              "#d8576b"
             ],
             [
              0.6666666666666666,
              "#ed7953"
             ],
             [
              0.7777777777777778,
              "#fb9f3a"
             ],
             [
              0.8888888888888888,
              "#fdca26"
             ],
             [
              1,
              "#f0f921"
             ]
            ],
            "type": "histogram2dcontour"
           }
          ],
          "mesh3d": [
           {
            "colorbar": {
             "outlinewidth": 0,
             "ticks": ""
            },
            "type": "mesh3d"
           }
          ],
          "parcoords": [
           {
            "line": {
             "colorbar": {
              "outlinewidth": 0,
              "ticks": ""
             }
            },
            "type": "parcoords"
           }
          ],
          "pie": [
           {
            "automargin": true,
            "type": "pie"
           }
          ],
          "scatter": [
           {
            "fillpattern": {
             "fillmode": "overlay",
             "size": 10,
             "solidity": 0.2
            },
            "type": "scatter"
           }
          ],
          "scatter3d": [
           {
            "line": {
             "colorbar": {
              "outlinewidth": 0,
              "ticks": ""
             }
            },
            "marker": {
             "colorbar": {
              "outlinewidth": 0,
              "ticks": ""
             }
            },
            "type": "scatter3d"
           }
          ],
          "scattercarpet": [
           {
            "marker": {
             "colorbar": {
              "outlinewidth": 0,
              "ticks": ""
             }
            },
            "type": "scattercarpet"
           }
          ],
          "scattergeo": [
           {
            "marker": {
             "colorbar": {
              "outlinewidth": 0,
              "ticks": ""
             }
            },
            "type": "scattergeo"
           }
          ],
          "scattergl": [
           {
            "marker": {
             "colorbar": {
              "outlinewidth": 0,
              "ticks": ""
             }
            },
            "type": "scattergl"
           }
          ],
          "scattermapbox": [
           {
            "marker": {
             "colorbar": {
              "outlinewidth": 0,
              "ticks": ""
             }
            },
            "type": "scattermapbox"
           }
          ],
          "scatterpolar": [
           {
            "marker": {
             "colorbar": {
              "outlinewidth": 0,
              "ticks": ""
             }
            },
            "type": "scatterpolar"
           }
          ],
          "scatterpolargl": [
           {
            "marker": {
             "colorbar": {
              "outlinewidth": 0,
              "ticks": ""
             }
            },
            "type": "scatterpolargl"
           }
          ],
          "scatterternary": [
           {
            "marker": {
             "colorbar": {
              "outlinewidth": 0,
              "ticks": ""
             }
            },
            "type": "scatterternary"
           }
          ],
          "surface": [
           {
            "colorbar": {
             "outlinewidth": 0,
             "ticks": ""
            },
            "colorscale": [
             [
              0,
              "#0d0887"
             ],
             [
              0.1111111111111111,
              "#46039f"
             ],
             [
              0.2222222222222222,
              "#7201a8"
             ],
             [
              0.3333333333333333,
              "#9c179e"
             ],
             [
              0.4444444444444444,
              "#bd3786"
             ],
             [
              0.5555555555555556,
              "#d8576b"
             ],
             [
              0.6666666666666666,
              "#ed7953"
             ],
             [
              0.7777777777777778,
              "#fb9f3a"
             ],
             [
              0.8888888888888888,
              "#fdca26"
             ],
             [
              1,
              "#f0f921"
             ]
            ],
            "type": "surface"
           }
          ],
          "table": [
           {
            "cells": {
             "fill": {
              "color": "#EBF0F8"
             },
             "line": {
              "color": "white"
             }
            },
            "header": {
             "fill": {
              "color": "#C8D4E3"
             },
             "line": {
              "color": "white"
             }
            },
            "type": "table"
           }
          ]
         },
         "layout": {
          "annotationdefaults": {
           "arrowcolor": "#2a3f5f",
           "arrowhead": 0,
           "arrowwidth": 1
          },
          "autotypenumbers": "strict",
          "coloraxis": {
           "colorbar": {
            "outlinewidth": 0,
            "ticks": ""
           }
          },
          "colorscale": {
           "diverging": [
            [
             0,
             "#8e0152"
            ],
            [
             0.1,
             "#c51b7d"
            ],
            [
             0.2,
             "#de77ae"
            ],
            [
             0.3,
             "#f1b6da"
            ],
            [
             0.4,
             "#fde0ef"
            ],
            [
             0.5,
             "#f7f7f7"
            ],
            [
             0.6,
             "#e6f5d0"
            ],
            [
             0.7,
             "#b8e186"
            ],
            [
             0.8,
             "#7fbc41"
            ],
            [
             0.9,
             "#4d9221"
            ],
            [
             1,
             "#276419"
            ]
           ],
           "sequential": [
            [
             0,
             "#0d0887"
            ],
            [
             0.1111111111111111,
             "#46039f"
            ],
            [
             0.2222222222222222,
             "#7201a8"
            ],
            [
             0.3333333333333333,
             "#9c179e"
            ],
            [
             0.4444444444444444,
             "#bd3786"
            ],
            [
             0.5555555555555556,
             "#d8576b"
            ],
            [
             0.6666666666666666,
             "#ed7953"
            ],
            [
             0.7777777777777778,
             "#fb9f3a"
            ],
            [
             0.8888888888888888,
             "#fdca26"
            ],
            [
             1,
             "#f0f921"
            ]
           ],
           "sequentialminus": [
            [
             0,
             "#0d0887"
            ],
            [
             0.1111111111111111,
             "#46039f"
            ],
            [
             0.2222222222222222,
             "#7201a8"
            ],
            [
             0.3333333333333333,
             "#9c179e"
            ],
            [
             0.4444444444444444,
             "#bd3786"
            ],
            [
             0.5555555555555556,
             "#d8576b"
            ],
            [
             0.6666666666666666,
             "#ed7953"
            ],
            [
             0.7777777777777778,
             "#fb9f3a"
            ],
            [
             0.8888888888888888,
             "#fdca26"
            ],
            [
             1,
             "#f0f921"
            ]
           ]
          },
          "colorway": [
           "#636efa",
           "#EF553B",
           "#00cc96",
           "#ab63fa",
           "#FFA15A",
           "#19d3f3",
           "#FF6692",
           "#B6E880",
           "#FF97FF",
           "#FECB52"
          ],
          "font": {
           "color": "#2a3f5f"
          },
          "geo": {
           "bgcolor": "white",
           "lakecolor": "white",
           "landcolor": "#E5ECF6",
           "showlakes": true,
           "showland": true,
           "subunitcolor": "white"
          },
          "hoverlabel": {
           "align": "left"
          },
          "hovermode": "closest",
          "mapbox": {
           "style": "light"
          },
          "paper_bgcolor": "white",
          "plot_bgcolor": "#E5ECF6",
          "polar": {
           "angularaxis": {
            "gridcolor": "white",
            "linecolor": "white",
            "ticks": ""
           },
           "bgcolor": "#E5ECF6",
           "radialaxis": {
            "gridcolor": "white",
            "linecolor": "white",
            "ticks": ""
           }
          },
          "scene": {
           "xaxis": {
            "backgroundcolor": "#E5ECF6",
            "gridcolor": "white",
            "gridwidth": 2,
            "linecolor": "white",
            "showbackground": true,
            "ticks": "",
            "zerolinecolor": "white"
           },
           "yaxis": {
            "backgroundcolor": "#E5ECF6",
            "gridcolor": "white",
            "gridwidth": 2,
            "linecolor": "white",
            "showbackground": true,
            "ticks": "",
            "zerolinecolor": "white"
           },
           "zaxis": {
            "backgroundcolor": "#E5ECF6",
            "gridcolor": "white",
            "gridwidth": 2,
            "linecolor": "white",
            "showbackground": true,
            "ticks": "",
            "zerolinecolor": "white"
           }
          },
          "shapedefaults": {
           "line": {
            "color": "#2a3f5f"
           }
          },
          "ternary": {
           "aaxis": {
            "gridcolor": "white",
            "linecolor": "white",
            "ticks": ""
           },
           "baxis": {
            "gridcolor": "white",
            "linecolor": "white",
            "ticks": ""
           },
           "bgcolor": "#E5ECF6",
           "caxis": {
            "gridcolor": "white",
            "linecolor": "white",
            "ticks": ""
           }
          },
          "title": {
           "x": 0.05
          },
          "xaxis": {
           "automargin": true,
           "gridcolor": "white",
           "linecolor": "white",
           "ticks": "",
           "title": {
            "standoff": 15
           },
           "zerolinecolor": "white",
           "zerolinewidth": 2
          },
          "yaxis": {
           "automargin": true,
           "gridcolor": "white",
           "linecolor": "white",
           "ticks": "",
           "title": {
            "standoff": 15
           },
           "zerolinecolor": "white",
           "zerolinewidth": 2
          }
         }
        },
        "xaxis": {
         "anchor": "y",
         "domain": [
          0,
          0.31999999999999995
         ],
         "title": {
          "text": "Weight (kg)"
         }
        },
        "xaxis2": {
         "anchor": "y2",
         "domain": [
          0.33999999999999997,
          0.6599999999999999
         ],
         "matches": "x",
         "title": {
          "text": "Weight (kg)"
         }
        },
        "xaxis3": {
         "anchor": "y3",
         "domain": [
          0.6799999999999999,
          0.9999999999999999
         ],
         "matches": "x",
         "title": {
          "text": "Weight (kg)"
         }
        },
        "yaxis": {
         "anchor": "x",
         "domain": [
          0,
          1
         ],
         "title": {
          "text": "Height (m)"
         }
        },
        "yaxis2": {
         "anchor": "x2",
         "domain": [
          0,
          1
         ],
         "matches": "y",
         "showticklabels": false
        },
        "yaxis3": {
         "anchor": "x3",
         "domain": [
          0,
          1
         ],
         "matches": "y",
         "showticklabels": false
        }
       }
      }
     },
     "metadata": {},
     "output_type": "display_data"
    }
   ],
   "source": [
    "import plotly.express as px\n",
    "from plotly.graph_objects import Figure\n",
    "\n",
    "fig: Figure = px.scatter(data_frame = gym_df, \n",
    "                        x = \"Weight (kg)\", \n",
    "                        y = \"Height (m)\", \n",
    "                        facet_col=\"Experience_Level\")\n",
    "\n",
    "\n",
    "fig.show()  "
   ]
  },
  {
   "cell_type": "markdown",
   "metadata": {},
   "source": [
    "# 3.1.5 Regresión Lineal\n",
    "\n",
    "La **regresión lineal** es una técnica estadística utilizada para modelar la relación entre una variable dependiente y una o más variables independientes. En un gráfico de dispersión, la regresión lineal se representa como una línea que mejor se ajusta a los puntos de datos, permitiendo visualizar la tendencia general de los datos.\n"
   ]
  },
  {
   "cell_type": "code",
   "execution_count": 7,
   "metadata": {},
   "outputs": [
    {
     "data": {
      "application/vnd.plotly.v1+json": {
       "config": {
        "plotlyServerURL": "https://plot.ly"
       },
       "data": [
        {
         "hovertemplate": "total_bill=%{x}<br>tip=%{y}<extra></extra>",
         "legendgroup": "",
         "marker": {
          "color": "#636efa",
          "symbol": "circle"
         },
         "mode": "markers",
         "name": "",
         "orientation": "v",
         "showlegend": false,
         "type": "scatter",
         "x": [
          16.99,
          10.34,
          21.01,
          23.68,
          24.59,
          25.29,
          8.77,
          26.88,
          15.04,
          14.78,
          10.27,
          35.26,
          15.42,
          18.43,
          14.83,
          21.58,
          10.33,
          16.29,
          16.97,
          20.65,
          17.92,
          20.29,
          15.77,
          39.42,
          19.82,
          17.81,
          13.37,
          12.69,
          21.7,
          19.65,
          9.55,
          18.35,
          15.06,
          20.69,
          17.78,
          24.06,
          16.31,
          16.93,
          18.69,
          31.27,
          16.04,
          17.46,
          13.94,
          9.68,
          30.4,
          18.29,
          22.23,
          32.4,
          28.55,
          18.04,
          12.54,
          10.29,
          34.81,
          9.94,
          25.56,
          19.49,
          38.01,
          26.41,
          11.24,
          48.27,
          20.29,
          13.81,
          11.02,
          18.29,
          17.59,
          20.08,
          16.45,
          3.07,
          20.23,
          15.01,
          12.02,
          17.07,
          26.86,
          25.28,
          14.73,
          10.51,
          17.92,
          27.2,
          22.76,
          17.29,
          19.44,
          16.66,
          10.07,
          32.68,
          15.98,
          34.83,
          13.03,
          18.28,
          24.71,
          21.16,
          28.97,
          22.49,
          5.75,
          16.32,
          22.75,
          40.17,
          27.28,
          12.03,
          21.01,
          12.46,
          11.35,
          15.38,
          44.3,
          22.42,
          20.92,
          15.36,
          20.49,
          25.21,
          18.24,
          14.31,
          14,
          7.25,
          38.07,
          23.95,
          25.71,
          17.31,
          29.93,
          10.65,
          12.43,
          24.08,
          11.69,
          13.42,
          14.26,
          15.95,
          12.48,
          29.8,
          8.52,
          14.52,
          11.38,
          22.82,
          19.08,
          20.27,
          11.17,
          12.26,
          18.26,
          8.51,
          10.33,
          14.15,
          16,
          13.16,
          17.47,
          34.3,
          41.19,
          27.05,
          16.43,
          8.35,
          18.64,
          11.87,
          9.78,
          7.51,
          14.07,
          13.13,
          17.26,
          24.55,
          19.77,
          29.85,
          48.17,
          25,
          13.39,
          16.49,
          21.5,
          12.66,
          16.21,
          13.81,
          17.51,
          24.52,
          20.76,
          31.71,
          10.59,
          10.63,
          50.81,
          15.81,
          7.25,
          31.85,
          16.82,
          32.9,
          17.89,
          14.48,
          9.6,
          34.63,
          34.65,
          23.33,
          45.35,
          23.17,
          40.55,
          20.69,
          20.9,
          30.46,
          18.15,
          23.1,
          15.69,
          19.81,
          28.44,
          15.48,
          16.58,
          7.56,
          10.34,
          43.11,
          13,
          13.51,
          18.71,
          12.74,
          13,
          16.4,
          20.53,
          16.47,
          26.59,
          38.73,
          24.27,
          12.76,
          30.06,
          25.89,
          48.33,
          13.27,
          28.17,
          12.9,
          28.15,
          11.59,
          7.74,
          30.14,
          12.16,
          13.42,
          8.58,
          15.98,
          13.42,
          16.27,
          10.09,
          20.45,
          13.28,
          22.12,
          24.01,
          15.69,
          11.61,
          10.77,
          15.53,
          10.07,
          12.6,
          32.83,
          35.83,
          29.03,
          27.18,
          22.67,
          17.82,
          18.78
         ],
         "xaxis": "x",
         "y": [
          1.01,
          1.66,
          3.5,
          3.31,
          3.61,
          4.71,
          2,
          3.12,
          1.96,
          3.23,
          1.71,
          5,
          1.57,
          3,
          3.02,
          3.92,
          1.67,
          3.71,
          3.5,
          3.35,
          4.08,
          2.75,
          2.23,
          7.58,
          3.18,
          2.34,
          2,
          2,
          4.3,
          3,
          1.45,
          2.5,
          3,
          2.45,
          3.27,
          3.6,
          2,
          3.07,
          2.31,
          5,
          2.24,
          2.54,
          3.06,
          1.32,
          5.6,
          3,
          5,
          6,
          2.05,
          3,
          2.5,
          2.6,
          5.2,
          1.56,
          4.34,
          3.51,
          3,
          1.5,
          1.76,
          6.73,
          3.21,
          2,
          1.98,
          3.76,
          2.64,
          3.15,
          2.47,
          1,
          2.01,
          2.09,
          1.97,
          3,
          3.14,
          5,
          2.2,
          1.25,
          3.08,
          4,
          3,
          2.71,
          3,
          3.4,
          1.83,
          5,
          2.03,
          5.17,
          2,
          4,
          5.85,
          3,
          3,
          3.5,
          1,
          4.3,
          3.25,
          4.73,
          4,
          1.5,
          3,
          1.5,
          2.5,
          3,
          2.5,
          3.48,
          4.08,
          1.64,
          4.06,
          4.29,
          3.76,
          4,
          3,
          1,
          4,
          2.55,
          4,
          3.5,
          5.07,
          1.5,
          1.8,
          2.92,
          2.31,
          1.68,
          2.5,
          2,
          2.52,
          4.2,
          1.48,
          2,
          2,
          2.18,
          1.5,
          2.83,
          1.5,
          2,
          3.25,
          1.25,
          2,
          2,
          2,
          2.75,
          3.5,
          6.7,
          5,
          5,
          2.3,
          1.5,
          1.36,
          1.63,
          1.73,
          2,
          2.5,
          2,
          2.74,
          2,
          2,
          5.14,
          5,
          3.75,
          2.61,
          2,
          3.5,
          2.5,
          2,
          2,
          3,
          3.48,
          2.24,
          4.5,
          1.61,
          2,
          10,
          3.16,
          5.15,
          3.18,
          4,
          3.11,
          2,
          2,
          4,
          3.55,
          3.68,
          5.65,
          3.5,
          6.5,
          3,
          5,
          3.5,
          2,
          3.5,
          4,
          1.5,
          4.19,
          2.56,
          2.02,
          4,
          1.44,
          2,
          5,
          2,
          2,
          4,
          2.01,
          2,
          2.5,
          4,
          3.23,
          3.41,
          3,
          2.03,
          2.23,
          2,
          5.16,
          9,
          2.5,
          6.5,
          1.1,
          3,
          1.5,
          1.44,
          3.09,
          2.2,
          3.48,
          1.92,
          3,
          1.58,
          2.5,
          2,
          3,
          2.72,
          2.88,
          2,
          3,
          3.39,
          1.47,
          3,
          1.25,
          1,
          1.17,
          4.67,
          5.92,
          2,
          2,
          1.75,
          3
         ],
         "yaxis": "y"
        },
        {
         "hovertemplate": "<b>OLS trendline</b><br>tip = 0.105025 * total_bill + 0.92027<br>R<sup>2</sup>=0.456617<br><br>total_bill=%{x}<br>tip=%{y} <b>(trend)</b><extra></extra>",
         "legendgroup": "",
         "marker": {
          "color": "#636efa",
          "symbol": "circle"
         },
         "mode": "lines",
         "name": "",
         "showlegend": false,
         "type": "scatter",
         "x": [
          3.07,
          5.75,
          7.25,
          7.25,
          7.51,
          7.56,
          7.74,
          8.35,
          8.51,
          8.52,
          8.58,
          8.77,
          9.55,
          9.6,
          9.68,
          9.78,
          9.94,
          10.07,
          10.07,
          10.09,
          10.27,
          10.29,
          10.33,
          10.33,
          10.34,
          10.34,
          10.51,
          10.59,
          10.63,
          10.65,
          10.77,
          11.02,
          11.17,
          11.24,
          11.35,
          11.38,
          11.59,
          11.61,
          11.69,
          11.87,
          12.02,
          12.03,
          12.16,
          12.26,
          12.43,
          12.46,
          12.48,
          12.54,
          12.6,
          12.66,
          12.69,
          12.74,
          12.76,
          12.9,
          13,
          13,
          13.03,
          13.13,
          13.16,
          13.27,
          13.28,
          13.37,
          13.39,
          13.42,
          13.42,
          13.42,
          13.51,
          13.81,
          13.81,
          13.94,
          14,
          14.07,
          14.15,
          14.26,
          14.31,
          14.48,
          14.52,
          14.73,
          14.78,
          14.83,
          15.01,
          15.04,
          15.06,
          15.36,
          15.38,
          15.42,
          15.48,
          15.53,
          15.69,
          15.69,
          15.77,
          15.81,
          15.95,
          15.98,
          15.98,
          16,
          16.04,
          16.21,
          16.27,
          16.29,
          16.31,
          16.32,
          16.4,
          16.43,
          16.45,
          16.47,
          16.49,
          16.58,
          16.66,
          16.82,
          16.93,
          16.97,
          16.99,
          17.07,
          17.26,
          17.29,
          17.31,
          17.46,
          17.47,
          17.51,
          17.59,
          17.78,
          17.81,
          17.82,
          17.89,
          17.92,
          17.92,
          18.04,
          18.15,
          18.24,
          18.26,
          18.28,
          18.29,
          18.29,
          18.35,
          18.43,
          18.64,
          18.69,
          18.71,
          18.78,
          19.08,
          19.44,
          19.49,
          19.65,
          19.77,
          19.81,
          19.82,
          20.08,
          20.23,
          20.27,
          20.29,
          20.29,
          20.45,
          20.49,
          20.53,
          20.65,
          20.69,
          20.69,
          20.76,
          20.9,
          20.92,
          21.01,
          21.01,
          21.16,
          21.5,
          21.58,
          21.7,
          22.12,
          22.23,
          22.42,
          22.49,
          22.67,
          22.75,
          22.76,
          22.82,
          23.1,
          23.17,
          23.33,
          23.68,
          23.95,
          24.01,
          24.06,
          24.08,
          24.27,
          24.52,
          24.55,
          24.59,
          24.71,
          25,
          25.21,
          25.28,
          25.29,
          25.56,
          25.71,
          25.89,
          26.41,
          26.59,
          26.86,
          26.88,
          27.05,
          27.18,
          27.2,
          27.28,
          28.15,
          28.17,
          28.44,
          28.55,
          28.97,
          29.03,
          29.8,
          29.85,
          29.93,
          30.06,
          30.14,
          30.4,
          30.46,
          31.27,
          31.71,
          31.85,
          32.4,
          32.68,
          32.83,
          32.9,
          34.3,
          34.63,
          34.65,
          34.81,
          34.83,
          35.26,
          35.83,
          38.01,
          38.07,
          38.73,
          39.42,
          40.17,
          40.55,
          41.19,
          43.11,
          44.3,
          45.35,
          48.17,
          48.27,
          48.33,
          50.81
         ],
         "xaxis": "x",
         "y": [
          1.2426948819246368,
          1.5241605885147038,
          1.681697364591234,
          1.681697364591234,
          1.7090037391111659,
          1.7142549649803835,
          1.7331593781095673,
          1.7972243337140228,
          1.8140282564955195,
          1.8150785016693627,
          1.8213799727124242,
          1.8413346310154513,
          1.923253754575247,
          1.9285049804444645,
          1.9369069418352127,
          1.947409393573648,
          1.9642133163551447,
          1.9778665036151106,
          1.9778665036151106,
          1.9799669939627977,
          1.9988714070919813,
          2.000971897439668,
          2.005172878135043,
          2.005172878135043,
          2.006223123308886,
          2.006223123308886,
          2.024077291264226,
          2.0324792526549746,
          2.0366802333503484,
          2.0387807236980358,
          2.051383665784158,
          2.0776397951302465,
          2.0933934727378993,
          2.100745188954804,
          2.1122978858670827,
          2.1154486213886137,
          2.137503770039328,
          2.139604260387015,
          2.148006221777763,
          2.1669106349069467,
          2.1826643125146,
          2.183714557688443,
          2.1973677449484095,
          2.2078701966868444,
          2.2257243646421845,
          2.228875100163715,
          2.2309755905114024,
          2.2372770615544635,
          2.2435785325975246,
          2.2498800036405857,
          2.2530307391621163,
          2.258281965031334,
          2.2603824553790215,
          2.275085887812831,
          2.285588339551266,
          2.285588339551266,
          2.2887390750727965,
          2.2992415268112323,
          2.302392262332763,
          2.3139449592450414,
          2.314995204418885,
          2.3244474109834767,
          2.326547901331164,
          2.3296986368526946,
          2.3296986368526946,
          2.3296986368526946,
          2.3391508434172863,
          2.3706581986325923,
          2.3706581986325923,
          2.384311385892558,
          2.3906128569356193,
          2.3979645731525245,
          2.4063665345432725,
          2.417919231455551,
          2.423170457324769,
          2.441024625280109,
          2.445225605975483,
          2.4672807546261977,
          2.472531980495415,
          2.4777832063646326,
          2.4966876194938163,
          2.499838355015347,
          2.5019388453630342,
          2.5334462005783402,
          2.535546690926027,
          2.5397476716214014,
          2.5460491426644625,
          2.5513003685336804,
          2.5681042913151764,
          2.5681042913151764,
          2.576506252705925,
          2.5807072334012995,
          2.5954106658351086,
          2.598561401356639,
          2.598561401356639,
          2.600661891704326,
          2.6048628723997003,
          2.622717040355041,
          2.629018511398102,
          2.6311190017457884,
          2.6332194920934757,
          2.6342697372673194,
          2.6426716986580674,
          2.645822434179598,
          2.6479229245272853,
          2.650023414874972,
          2.652123905222659,
          2.6615761117872507,
          2.6699780731779996,
          2.686781995959496,
          2.698334692871775,
          2.702535673567149,
          2.704636163914836,
          2.7130381253055846,
          2.7329927836086116,
          2.7361435191301418,
          2.738244009477829,
          2.7539976870854823,
          2.7550479322593255,
          2.7592489129546998,
          2.767650874345448,
          2.7876055326484757,
          2.7907562681700058,
          2.7918065133438494,
          2.799158229560754,
          2.802308965082285,
          2.802308965082285,
          2.814911907168407,
          2.826464604080686,
          2.8359168106452777,
          2.838017300992965,
          2.840117791340652,
          2.841168036514495,
          2.841168036514495,
          2.847469507557557,
          2.8558714689483047,
          2.8779266175990195,
          2.8831778434682374,
          2.885278333815924,
          2.892630050032829,
          2.9241374052481346,
          2.961946231506502,
          2.967197457375719,
          2.984001380157216,
          2.9966043222433383,
          3.000805302938713,
          3.001855548112556,
          3.029161922632488,
          3.0449156002401407,
          3.0491165809355154,
          3.051217071283202,
          3.051217071283202,
          3.0680209940646987,
          3.0722219747600725,
          3.076422955455447,
          3.0890258975415694,
          3.093226878236944,
          3.093226878236944,
          3.1005785944538484,
          3.115282026887658,
          3.1173825172353453,
          3.126834723799937,
          3.126834723799937,
          3.1425884014075898,
          3.17829673731827,
          3.1866986987090185,
          3.1993016407951407,
          3.2434119380965694,
          3.2549646350088484,
          3.274919293311875,
          3.2822710095287793,
          3.3011754226579635,
          3.309577384048712,
          3.310627629222555,
          3.3169291002656163,
          3.3463359651332354,
          3.3536876813501406,
          3.3704916041316366,
          3.40725018521616,
          3.435606804909936,
          3.441908275952997,
          3.447159501822214,
          3.4492599921699014,
          3.469214650472929,
          3.4954707798190174,
          3.498621515340548,
          3.5028224960359218,
          3.515425438122044,
          3.5458825481635072,
          3.567937696814221,
          3.5752894130311255,
          3.5763396582049696,
          3.6046962778987446,
          3.6204499555063983,
          3.6393543686355816,
          3.693967117675445,
          3.7128715308046285,
          3.7412281504984044,
          3.743328640846091,
          3.761182808801431,
          3.7748359960613973,
          3.7769364864090846,
          3.785338447799833,
          3.87670977792422,
          3.8788102682719074,
          3.9071668879656825,
          3.9187195848779615,
          3.9628298821793893,
          3.9691313532224513,
          4.050000231608403,
          4.055251457477621,
          4.063653418868369,
          4.077306606128335,
          4.085708567519084,
          4.113014942039015,
          4.1193164130820765,
          4.204386272163402,
          4.2505970598125185,
          4.265300492246328,
          4.323063976807722,
          4.352470841675341,
          4.368224519282994,
          4.375576235499898,
          4.522610559837993,
          4.55726865057483,
          4.5593691409225166,
          4.576173063704013,
          4.578273554051701,
          4.623434096526973,
          4.683298071436054,
          4.912251519333944,
          4.918552990377005,
          4.9878691718506785,
          5.060336088845883,
          5.139104476884148,
          5.179013793490202,
          5.2462294846161885,
          5.447876557994147,
          5.572855733681528,
          5.683131476935099,
          5.979300615958976,
          5.9898030676974106,
          5.996104538740472,
          6.256565341853668
         ],
         "yaxis": "y"
        }
       ],
       "layout": {
        "height": 600,
        "legend": {
         "tracegroupgap": 0
        },
        "margin": {
         "t": 60
        },
        "template": {
         "data": {
          "bar": [
           {
            "error_x": {
             "color": "#2a3f5f"
            },
            "error_y": {
             "color": "#2a3f5f"
            },
            "marker": {
             "line": {
              "color": "#E5ECF6",
              "width": 0.5
             },
             "pattern": {
              "fillmode": "overlay",
              "size": 10,
              "solidity": 0.2
             }
            },
            "type": "bar"
           }
          ],
          "barpolar": [
           {
            "marker": {
             "line": {
              "color": "#E5ECF6",
              "width": 0.5
             },
             "pattern": {
              "fillmode": "overlay",
              "size": 10,
              "solidity": 0.2
             }
            },
            "type": "barpolar"
           }
          ],
          "carpet": [
           {
            "aaxis": {
             "endlinecolor": "#2a3f5f",
             "gridcolor": "white",
             "linecolor": "white",
             "minorgridcolor": "white",
             "startlinecolor": "#2a3f5f"
            },
            "baxis": {
             "endlinecolor": "#2a3f5f",
             "gridcolor": "white",
             "linecolor": "white",
             "minorgridcolor": "white",
             "startlinecolor": "#2a3f5f"
            },
            "type": "carpet"
           }
          ],
          "choropleth": [
           {
            "colorbar": {
             "outlinewidth": 0,
             "ticks": ""
            },
            "type": "choropleth"
           }
          ],
          "contour": [
           {
            "colorbar": {
             "outlinewidth": 0,
             "ticks": ""
            },
            "colorscale": [
             [
              0,
              "#0d0887"
             ],
             [
              0.1111111111111111,
              "#46039f"
             ],
             [
              0.2222222222222222,
              "#7201a8"
             ],
             [
              0.3333333333333333,
              "#9c179e"
             ],
             [
              0.4444444444444444,
              "#bd3786"
             ],
             [
              0.5555555555555556,
              "#d8576b"
             ],
             [
              0.6666666666666666,
              "#ed7953"
             ],
             [
              0.7777777777777778,
              "#fb9f3a"
             ],
             [
              0.8888888888888888,
              "#fdca26"
             ],
             [
              1,
              "#f0f921"
             ]
            ],
            "type": "contour"
           }
          ],
          "contourcarpet": [
           {
            "colorbar": {
             "outlinewidth": 0,
             "ticks": ""
            },
            "type": "contourcarpet"
           }
          ],
          "heatmap": [
           {
            "colorbar": {
             "outlinewidth": 0,
             "ticks": ""
            },
            "colorscale": [
             [
              0,
              "#0d0887"
             ],
             [
              0.1111111111111111,
              "#46039f"
             ],
             [
              0.2222222222222222,
              "#7201a8"
             ],
             [
              0.3333333333333333,
              "#9c179e"
             ],
             [
              0.4444444444444444,
              "#bd3786"
             ],
             [
              0.5555555555555556,
              "#d8576b"
             ],
             [
              0.6666666666666666,
              "#ed7953"
             ],
             [
              0.7777777777777778,
              "#fb9f3a"
             ],
             [
              0.8888888888888888,
              "#fdca26"
             ],
             [
              1,
              "#f0f921"
             ]
            ],
            "type": "heatmap"
           }
          ],
          "heatmapgl": [
           {
            "colorbar": {
             "outlinewidth": 0,
             "ticks": ""
            },
            "colorscale": [
             [
              0,
              "#0d0887"
             ],
             [
              0.1111111111111111,
              "#46039f"
             ],
             [
              0.2222222222222222,
              "#7201a8"
             ],
             [
              0.3333333333333333,
              "#9c179e"
             ],
             [
              0.4444444444444444,
              "#bd3786"
             ],
             [
              0.5555555555555556,
              "#d8576b"
             ],
             [
              0.6666666666666666,
              "#ed7953"
             ],
             [
              0.7777777777777778,
              "#fb9f3a"
             ],
             [
              0.8888888888888888,
              "#fdca26"
             ],
             [
              1,
              "#f0f921"
             ]
            ],
            "type": "heatmapgl"
           }
          ],
          "histogram": [
           {
            "marker": {
             "pattern": {
              "fillmode": "overlay",
              "size": 10,
              "solidity": 0.2
             }
            },
            "type": "histogram"
           }
          ],
          "histogram2d": [
           {
            "colorbar": {
             "outlinewidth": 0,
             "ticks": ""
            },
            "colorscale": [
             [
              0,
              "#0d0887"
             ],
             [
              0.1111111111111111,
              "#46039f"
             ],
             [
              0.2222222222222222,
              "#7201a8"
             ],
             [
              0.3333333333333333,
              "#9c179e"
             ],
             [
              0.4444444444444444,
              "#bd3786"
             ],
             [
              0.5555555555555556,
              "#d8576b"
             ],
             [
              0.6666666666666666,
              "#ed7953"
             ],
             [
              0.7777777777777778,
              "#fb9f3a"
             ],
             [
              0.8888888888888888,
              "#fdca26"
             ],
             [
              1,
              "#f0f921"
             ]
            ],
            "type": "histogram2d"
           }
          ],
          "histogram2dcontour": [
           {
            "colorbar": {
             "outlinewidth": 0,
             "ticks": ""
            },
            "colorscale": [
             [
              0,
              "#0d0887"
             ],
             [
              0.1111111111111111,
              "#46039f"
             ],
             [
              0.2222222222222222,
              "#7201a8"
             ],
             [
              0.3333333333333333,
              "#9c179e"
             ],
             [
              0.4444444444444444,
              "#bd3786"
             ],
             [
              0.5555555555555556,
              "#d8576b"
             ],
             [
              0.6666666666666666,
              "#ed7953"
             ],
             [
              0.7777777777777778,
              "#fb9f3a"
             ],
             [
              0.8888888888888888,
              "#fdca26"
             ],
             [
              1,
              "#f0f921"
             ]
            ],
            "type": "histogram2dcontour"
           }
          ],
          "mesh3d": [
           {
            "colorbar": {
             "outlinewidth": 0,
             "ticks": ""
            },
            "type": "mesh3d"
           }
          ],
          "parcoords": [
           {
            "line": {
             "colorbar": {
              "outlinewidth": 0,
              "ticks": ""
             }
            },
            "type": "parcoords"
           }
          ],
          "pie": [
           {
            "automargin": true,
            "type": "pie"
           }
          ],
          "scatter": [
           {
            "fillpattern": {
             "fillmode": "overlay",
             "size": 10,
             "solidity": 0.2
            },
            "type": "scatter"
           }
          ],
          "scatter3d": [
           {
            "line": {
             "colorbar": {
              "outlinewidth": 0,
              "ticks": ""
             }
            },
            "marker": {
             "colorbar": {
              "outlinewidth": 0,
              "ticks": ""
             }
            },
            "type": "scatter3d"
           }
          ],
          "scattercarpet": [
           {
            "marker": {
             "colorbar": {
              "outlinewidth": 0,
              "ticks": ""
             }
            },
            "type": "scattercarpet"
           }
          ],
          "scattergeo": [
           {
            "marker": {
             "colorbar": {
              "outlinewidth": 0,
              "ticks": ""
             }
            },
            "type": "scattergeo"
           }
          ],
          "scattergl": [
           {
            "marker": {
             "colorbar": {
              "outlinewidth": 0,
              "ticks": ""
             }
            },
            "type": "scattergl"
           }
          ],
          "scattermapbox": [
           {
            "marker": {
             "colorbar": {
              "outlinewidth": 0,
              "ticks": ""
             }
            },
            "type": "scattermapbox"
           }
          ],
          "scatterpolar": [
           {
            "marker": {
             "colorbar": {
              "outlinewidth": 0,
              "ticks": ""
             }
            },
            "type": "scatterpolar"
           }
          ],
          "scatterpolargl": [
           {
            "marker": {
             "colorbar": {
              "outlinewidth": 0,
              "ticks": ""
             }
            },
            "type": "scatterpolargl"
           }
          ],
          "scatterternary": [
           {
            "marker": {
             "colorbar": {
              "outlinewidth": 0,
              "ticks": ""
             }
            },
            "type": "scatterternary"
           }
          ],
          "surface": [
           {
            "colorbar": {
             "outlinewidth": 0,
             "ticks": ""
            },
            "colorscale": [
             [
              0,
              "#0d0887"
             ],
             [
              0.1111111111111111,
              "#46039f"
             ],
             [
              0.2222222222222222,
              "#7201a8"
             ],
             [
              0.3333333333333333,
              "#9c179e"
             ],
             [
              0.4444444444444444,
              "#bd3786"
             ],
             [
              0.5555555555555556,
              "#d8576b"
             ],
             [
              0.6666666666666666,
              "#ed7953"
             ],
             [
              0.7777777777777778,
              "#fb9f3a"
             ],
             [
              0.8888888888888888,
              "#fdca26"
             ],
             [
              1,
              "#f0f921"
             ]
            ],
            "type": "surface"
           }
          ],
          "table": [
           {
            "cells": {
             "fill": {
              "color": "#EBF0F8"
             },
             "line": {
              "color": "white"
             }
            },
            "header": {
             "fill": {
              "color": "#C8D4E3"
             },
             "line": {
              "color": "white"
             }
            },
            "type": "table"
           }
          ]
         },
         "layout": {
          "annotationdefaults": {
           "arrowcolor": "#2a3f5f",
           "arrowhead": 0,
           "arrowwidth": 1
          },
          "autotypenumbers": "strict",
          "coloraxis": {
           "colorbar": {
            "outlinewidth": 0,
            "ticks": ""
           }
          },
          "colorscale": {
           "diverging": [
            [
             0,
             "#8e0152"
            ],
            [
             0.1,
             "#c51b7d"
            ],
            [
             0.2,
             "#de77ae"
            ],
            [
             0.3,
             "#f1b6da"
            ],
            [
             0.4,
             "#fde0ef"
            ],
            [
             0.5,
             "#f7f7f7"
            ],
            [
             0.6,
             "#e6f5d0"
            ],
            [
             0.7,
             "#b8e186"
            ],
            [
             0.8,
             "#7fbc41"
            ],
            [
             0.9,
             "#4d9221"
            ],
            [
             1,
             "#276419"
            ]
           ],
           "sequential": [
            [
             0,
             "#0d0887"
            ],
            [
             0.1111111111111111,
             "#46039f"
            ],
            [
             0.2222222222222222,
             "#7201a8"
            ],
            [
             0.3333333333333333,
             "#9c179e"
            ],
            [
             0.4444444444444444,
             "#bd3786"
            ],
            [
             0.5555555555555556,
             "#d8576b"
            ],
            [
             0.6666666666666666,
             "#ed7953"
            ],
            [
             0.7777777777777778,
             "#fb9f3a"
            ],
            [
             0.8888888888888888,
             "#fdca26"
            ],
            [
             1,
             "#f0f921"
            ]
           ],
           "sequentialminus": [
            [
             0,
             "#0d0887"
            ],
            [
             0.1111111111111111,
             "#46039f"
            ],
            [
             0.2222222222222222,
             "#7201a8"
            ],
            [
             0.3333333333333333,
             "#9c179e"
            ],
            [
             0.4444444444444444,
             "#bd3786"
            ],
            [
             0.5555555555555556,
             "#d8576b"
            ],
            [
             0.6666666666666666,
             "#ed7953"
            ],
            [
             0.7777777777777778,
             "#fb9f3a"
            ],
            [
             0.8888888888888888,
             "#fdca26"
            ],
            [
             1,
             "#f0f921"
            ]
           ]
          },
          "colorway": [
           "#636efa",
           "#EF553B",
           "#00cc96",
           "#ab63fa",
           "#FFA15A",
           "#19d3f3",
           "#FF6692",
           "#B6E880",
           "#FF97FF",
           "#FECB52"
          ],
          "font": {
           "color": "#2a3f5f"
          },
          "geo": {
           "bgcolor": "white",
           "lakecolor": "white",
           "landcolor": "#E5ECF6",
           "showlakes": true,
           "showland": true,
           "subunitcolor": "white"
          },
          "hoverlabel": {
           "align": "left"
          },
          "hovermode": "closest",
          "mapbox": {
           "style": "light"
          },
          "paper_bgcolor": "white",
          "plot_bgcolor": "#E5ECF6",
          "polar": {
           "angularaxis": {
            "gridcolor": "white",
            "linecolor": "white",
            "ticks": ""
           },
           "bgcolor": "#E5ECF6",
           "radialaxis": {
            "gridcolor": "white",
            "linecolor": "white",
            "ticks": ""
           }
          },
          "scene": {
           "xaxis": {
            "backgroundcolor": "#E5ECF6",
            "gridcolor": "white",
            "gridwidth": 2,
            "linecolor": "white",
            "showbackground": true,
            "ticks": "",
            "zerolinecolor": "white"
           },
           "yaxis": {
            "backgroundcolor": "#E5ECF6",
            "gridcolor": "white",
            "gridwidth": 2,
            "linecolor": "white",
            "showbackground": true,
            "ticks": "",
            "zerolinecolor": "white"
           },
           "zaxis": {
            "backgroundcolor": "#E5ECF6",
            "gridcolor": "white",
            "gridwidth": 2,
            "linecolor": "white",
            "showbackground": true,
            "ticks": "",
            "zerolinecolor": "white"
           }
          },
          "shapedefaults": {
           "line": {
            "color": "#2a3f5f"
           }
          },
          "ternary": {
           "aaxis": {
            "gridcolor": "white",
            "linecolor": "white",
            "ticks": ""
           },
           "baxis": {
            "gridcolor": "white",
            "linecolor": "white",
            "ticks": ""
           },
           "bgcolor": "#E5ECF6",
           "caxis": {
            "gridcolor": "white",
            "linecolor": "white",
            "ticks": ""
           }
          },
          "title": {
           "x": 0.05
          },
          "xaxis": {
           "automargin": true,
           "gridcolor": "white",
           "linecolor": "white",
           "ticks": "",
           "title": {
            "standoff": 15
           },
           "zerolinecolor": "white",
           "zerolinewidth": 2
          },
          "yaxis": {
           "automargin": true,
           "gridcolor": "white",
           "linecolor": "white",
           "ticks": "",
           "title": {
            "standoff": 15
           },
           "zerolinecolor": "white",
           "zerolinewidth": 2
          }
         }
        },
        "width": 600,
        "xaxis": {
         "anchor": "y",
         "domain": [
          0,
          1
         ],
         "title": {
          "text": "total_bill"
         }
        },
        "yaxis": {
         "anchor": "x",
         "domain": [
          0,
          1
         ],
         "title": {
          "text": "tip"
         }
        }
       }
      }
     },
     "metadata": {},
     "output_type": "display_data"
    }
   ],
   "source": [
    "import plotly.express as px\n",
    "from plotly.graph_objects import Figure\n",
    "from pandas import DataFrame\n",
    "\n",
    "df: DataFrame = px.data.tips()\n",
    "\n",
    "fig: Figure = px.scatter(df, \n",
    "                        x=\"total_bill\", \n",
    "                        y=\"tip\", \n",
    "                        trendline=\"ols\")\n",
    "\n",
    "fig.update_layout(width=600, height=600) \n",
    "fig.show()"
   ]
  }
 ],
 "metadata": {
  "kernelspec": {
   "display_name": "tad-vd",
   "language": "python",
   "name": "python3"
  },
  "language_info": {
   "codemirror_mode": {
    "name": "ipython",
    "version": 3
   },
   "file_extension": ".py",
   "mimetype": "text/x-python",
   "name": "python",
   "nbconvert_exporter": "python",
   "pygments_lexer": "ipython3",
   "version": "3.10.15"
  }
 },
 "nbformat": 4,
 "nbformat_minor": 2
}
