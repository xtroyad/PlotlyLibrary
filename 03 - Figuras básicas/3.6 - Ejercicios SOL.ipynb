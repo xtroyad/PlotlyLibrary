{
 "cells": [
  {
   "cell_type": "code",
   "execution_count": 1,
   "metadata": {},
   "outputs": [],
   "source": [
    "import pandas as pd\n",
    "\n",
    "folder = '../datasets'\n",
    "\n",
    "# Cargar los datasets en variables con el separador adecuado\n",
    "data_science_salaries = pd.read_csv(f\"{folder}/ds_salary.csv\", sep=';')  \n",
    "gym_members_exercise = pd.read_csv(f\"{folder}/gym_ex.csv\", sep=';')  \n",
    "sleep_health_lifestyle = pd.read_csv(f\"{folder}/health_lifestyle.csv\")  \n",
    "covid19_epidemiology = pd.read_csv(f\"{folder}/covid.csv\")  "
   ]
  },
  {
   "cell_type": "markdown",
   "metadata": {},
   "source": [
    "# Ejercicio 1: Análisis de categorías en los salarios de Data Science\n",
    "Crea un gráfico de barras para comparar los promedios de salario según el nivel de experiencia.\n",
    "\n",
    "### Instrucciones\n",
    "1. Agrupa los datos por nivel de experiencia (`experience_level`).\n",
    "2. Calcula el salario promedio para cada grupo.\n",
    "3. Crea un gráfico de barras con los resultados.\n",
    "\n",
    "**Dataset:** `Data Science Salaries 2023`\n"
   ]
  },
  {
   "cell_type": "code",
   "execution_count": 11,
   "metadata": {},
   "outputs": [
    {
     "data": {
      "application/vnd.plotly.v1+json": {
       "config": {
        "plotlyServerURL": "https://plot.ly"
       },
       "data": [
        {
         "alignmentgroup": "True",
         "hovertemplate": "Nivel de experiencia=%{x}<br>Salario promedio (USD)=%{y}<extra></extra>",
         "legendgroup": "EN",
         "marker": {
          "color": "#636efa",
          "pattern": {
           "shape": ""
          }
         },
         "name": "EN",
         "offsetgroup": "EN",
         "orientation": "v",
         "showlegend": true,
         "textposition": "auto",
         "type": "bar",
         "x": [
          "EN"
         ],
         "xaxis": "x",
         "y": [
          78546.284375
         ],
         "yaxis": "y"
        },
        {
         "alignmentgroup": "True",
         "hovertemplate": "Nivel de experiencia=%{x}<br>Salario promedio (USD)=%{y}<extra></extra>",
         "legendgroup": "EX",
         "marker": {
          "color": "#EF553B",
          "pattern": {
           "shape": ""
          }
         },
         "name": "EX",
         "offsetgroup": "EX",
         "orientation": "v",
         "showlegend": true,
         "textposition": "auto",
         "type": "bar",
         "x": [
          "EX"
         ],
         "xaxis": "x",
         "y": [
          194930.9298245614
         ],
         "yaxis": "y"
        },
        {
         "alignmentgroup": "True",
         "hovertemplate": "Nivel de experiencia=%{x}<br>Salario promedio (USD)=%{y}<extra></extra>",
         "legendgroup": "MI",
         "marker": {
          "color": "#00cc96",
          "pattern": {
           "shape": ""
          }
         },
         "name": "MI",
         "offsetgroup": "MI",
         "orientation": "v",
         "showlegend": true,
         "textposition": "auto",
         "type": "bar",
         "x": [
          "MI"
         ],
         "xaxis": "x",
         "y": [
          104525.93913043478
         ],
         "yaxis": "y"
        },
        {
         "alignmentgroup": "True",
         "hovertemplate": "Nivel de experiencia=%{x}<br>Salario promedio (USD)=%{y}<extra></extra>",
         "legendgroup": "SE",
         "marker": {
          "color": "#ab63fa",
          "pattern": {
           "shape": ""
          }
         },
         "name": "SE",
         "offsetgroup": "SE",
         "orientation": "v",
         "showlegend": true,
         "textposition": "auto",
         "type": "bar",
         "x": [
          "SE"
         ],
         "xaxis": "x",
         "y": [
          153051.07154213038
         ],
         "yaxis": "y"
        }
       ],
       "layout": {
        "barmode": "relative",
        "legend": {
         "title": {
          "text": "Nivel de experiencia"
         },
         "tracegroupgap": 0
        },
        "template": {
         "data": {
          "bar": [
           {
            "error_x": {
             "color": "#2a3f5f"
            },
            "error_y": {
             "color": "#2a3f5f"
            },
            "marker": {
             "line": {
              "color": "#E5ECF6",
              "width": 0.5
             },
             "pattern": {
              "fillmode": "overlay",
              "size": 10,
              "solidity": 0.2
             }
            },
            "type": "bar"
           }
          ],
          "barpolar": [
           {
            "marker": {
             "line": {
              "color": "#E5ECF6",
              "width": 0.5
             },
             "pattern": {
              "fillmode": "overlay",
              "size": 10,
              "solidity": 0.2
             }
            },
            "type": "barpolar"
           }
          ],
          "carpet": [
           {
            "aaxis": {
             "endlinecolor": "#2a3f5f",
             "gridcolor": "white",
             "linecolor": "white",
             "minorgridcolor": "white",
             "startlinecolor": "#2a3f5f"
            },
            "baxis": {
             "endlinecolor": "#2a3f5f",
             "gridcolor": "white",
             "linecolor": "white",
             "minorgridcolor": "white",
             "startlinecolor": "#2a3f5f"
            },
            "type": "carpet"
           }
          ],
          "choropleth": [
           {
            "colorbar": {
             "outlinewidth": 0,
             "ticks": ""
            },
            "type": "choropleth"
           }
          ],
          "contour": [
           {
            "colorbar": {
             "outlinewidth": 0,
             "ticks": ""
            },
            "colorscale": [
             [
              0,
              "#0d0887"
             ],
             [
              0.1111111111111111,
              "#46039f"
             ],
             [
              0.2222222222222222,
              "#7201a8"
             ],
             [
              0.3333333333333333,
              "#9c179e"
             ],
             [
              0.4444444444444444,
              "#bd3786"
             ],
             [
              0.5555555555555556,
              "#d8576b"
             ],
             [
              0.6666666666666666,
              "#ed7953"
             ],
             [
              0.7777777777777778,
              "#fb9f3a"
             ],
             [
              0.8888888888888888,
              "#fdca26"
             ],
             [
              1,
              "#f0f921"
             ]
            ],
            "type": "contour"
           }
          ],
          "contourcarpet": [
           {
            "colorbar": {
             "outlinewidth": 0,
             "ticks": ""
            },
            "type": "contourcarpet"
           }
          ],
          "heatmap": [
           {
            "colorbar": {
             "outlinewidth": 0,
             "ticks": ""
            },
            "colorscale": [
             [
              0,
              "#0d0887"
             ],
             [
              0.1111111111111111,
              "#46039f"
             ],
             [
              0.2222222222222222,
              "#7201a8"
             ],
             [
              0.3333333333333333,
              "#9c179e"
             ],
             [
              0.4444444444444444,
              "#bd3786"
             ],
             [
              0.5555555555555556,
              "#d8576b"
             ],
             [
              0.6666666666666666,
              "#ed7953"
             ],
             [
              0.7777777777777778,
              "#fb9f3a"
             ],
             [
              0.8888888888888888,
              "#fdca26"
             ],
             [
              1,
              "#f0f921"
             ]
            ],
            "type": "heatmap"
           }
          ],
          "heatmapgl": [
           {
            "colorbar": {
             "outlinewidth": 0,
             "ticks": ""
            },
            "colorscale": [
             [
              0,
              "#0d0887"
             ],
             [
              0.1111111111111111,
              "#46039f"
             ],
             [
              0.2222222222222222,
              "#7201a8"
             ],
             [
              0.3333333333333333,
              "#9c179e"
             ],
             [
              0.4444444444444444,
              "#bd3786"
             ],
             [
              0.5555555555555556,
              "#d8576b"
             ],
             [
              0.6666666666666666,
              "#ed7953"
             ],
             [
              0.7777777777777778,
              "#fb9f3a"
             ],
             [
              0.8888888888888888,
              "#fdca26"
             ],
             [
              1,
              "#f0f921"
             ]
            ],
            "type": "heatmapgl"
           }
          ],
          "histogram": [
           {
            "marker": {
             "pattern": {
              "fillmode": "overlay",
              "size": 10,
              "solidity": 0.2
             }
            },
            "type": "histogram"
           }
          ],
          "histogram2d": [
           {
            "colorbar": {
             "outlinewidth": 0,
             "ticks": ""
            },
            "colorscale": [
             [
              0,
              "#0d0887"
             ],
             [
              0.1111111111111111,
              "#46039f"
             ],
             [
              0.2222222222222222,
              "#7201a8"
             ],
             [
              0.3333333333333333,
              "#9c179e"
             ],
             [
              0.4444444444444444,
              "#bd3786"
             ],
             [
              0.5555555555555556,
              "#d8576b"
             ],
             [
              0.6666666666666666,
              "#ed7953"
             ],
             [
              0.7777777777777778,
              "#fb9f3a"
             ],
             [
              0.8888888888888888,
              "#fdca26"
             ],
             [
              1,
              "#f0f921"
             ]
            ],
            "type": "histogram2d"
           }
          ],
          "histogram2dcontour": [
           {
            "colorbar": {
             "outlinewidth": 0,
             "ticks": ""
            },
            "colorscale": [
             [
              0,
              "#0d0887"
             ],
             [
              0.1111111111111111,
              "#46039f"
             ],
             [
              0.2222222222222222,
              "#7201a8"
             ],
             [
              0.3333333333333333,
              "#9c179e"
             ],
             [
              0.4444444444444444,
              "#bd3786"
             ],
             [
              0.5555555555555556,
              "#d8576b"
             ],
             [
              0.6666666666666666,
              "#ed7953"
             ],
             [
              0.7777777777777778,
              "#fb9f3a"
             ],
             [
              0.8888888888888888,
              "#fdca26"
             ],
             [
              1,
              "#f0f921"
             ]
            ],
            "type": "histogram2dcontour"
           }
          ],
          "mesh3d": [
           {
            "colorbar": {
             "outlinewidth": 0,
             "ticks": ""
            },
            "type": "mesh3d"
           }
          ],
          "parcoords": [
           {
            "line": {
             "colorbar": {
              "outlinewidth": 0,
              "ticks": ""
             }
            },
            "type": "parcoords"
           }
          ],
          "pie": [
           {
            "automargin": true,
            "type": "pie"
           }
          ],
          "scatter": [
           {
            "fillpattern": {
             "fillmode": "overlay",
             "size": 10,
             "solidity": 0.2
            },
            "type": "scatter"
           }
          ],
          "scatter3d": [
           {
            "line": {
             "colorbar": {
              "outlinewidth": 0,
              "ticks": ""
             }
            },
            "marker": {
             "colorbar": {
              "outlinewidth": 0,
              "ticks": ""
             }
            },
            "type": "scatter3d"
           }
          ],
          "scattercarpet": [
           {
            "marker": {
             "colorbar": {
              "outlinewidth": 0,
              "ticks": ""
             }
            },
            "type": "scattercarpet"
           }
          ],
          "scattergeo": [
           {
            "marker": {
             "colorbar": {
              "outlinewidth": 0,
              "ticks": ""
             }
            },
            "type": "scattergeo"
           }
          ],
          "scattergl": [
           {
            "marker": {
             "colorbar": {
              "outlinewidth": 0,
              "ticks": ""
             }
            },
            "type": "scattergl"
           }
          ],
          "scattermapbox": [
           {
            "marker": {
             "colorbar": {
              "outlinewidth": 0,
              "ticks": ""
             }
            },
            "type": "scattermapbox"
           }
          ],
          "scatterpolar": [
           {
            "marker": {
             "colorbar": {
              "outlinewidth": 0,
              "ticks": ""
             }
            },
            "type": "scatterpolar"
           }
          ],
          "scatterpolargl": [
           {
            "marker": {
             "colorbar": {
              "outlinewidth": 0,
              "ticks": ""
             }
            },
            "type": "scatterpolargl"
           }
          ],
          "scatterternary": [
           {
            "marker": {
             "colorbar": {
              "outlinewidth": 0,
              "ticks": ""
             }
            },
            "type": "scatterternary"
           }
          ],
          "surface": [
           {
            "colorbar": {
             "outlinewidth": 0,
             "ticks": ""
            },
            "colorscale": [
             [
              0,
              "#0d0887"
             ],
             [
              0.1111111111111111,
              "#46039f"
             ],
             [
              0.2222222222222222,
              "#7201a8"
             ],
             [
              0.3333333333333333,
              "#9c179e"
             ],
             [
              0.4444444444444444,
              "#bd3786"
             ],
             [
              0.5555555555555556,
              "#d8576b"
             ],
             [
              0.6666666666666666,
              "#ed7953"
             ],
             [
              0.7777777777777778,
              "#fb9f3a"
             ],
             [
              0.8888888888888888,
              "#fdca26"
             ],
             [
              1,
              "#f0f921"
             ]
            ],
            "type": "surface"
           }
          ],
          "table": [
           {
            "cells": {
             "fill": {
              "color": "#EBF0F8"
             },
             "line": {
              "color": "white"
             }
            },
            "header": {
             "fill": {
              "color": "#C8D4E3"
             },
             "line": {
              "color": "white"
             }
            },
            "type": "table"
           }
          ]
         },
         "layout": {
          "annotationdefaults": {
           "arrowcolor": "#2a3f5f",
           "arrowhead": 0,
           "arrowwidth": 1
          },
          "autotypenumbers": "strict",
          "coloraxis": {
           "colorbar": {
            "outlinewidth": 0,
            "ticks": ""
           }
          },
          "colorscale": {
           "diverging": [
            [
             0,
             "#8e0152"
            ],
            [
             0.1,
             "#c51b7d"
            ],
            [
             0.2,
             "#de77ae"
            ],
            [
             0.3,
             "#f1b6da"
            ],
            [
             0.4,
             "#fde0ef"
            ],
            [
             0.5,
             "#f7f7f7"
            ],
            [
             0.6,
             "#e6f5d0"
            ],
            [
             0.7,
             "#b8e186"
            ],
            [
             0.8,
             "#7fbc41"
            ],
            [
             0.9,
             "#4d9221"
            ],
            [
             1,
             "#276419"
            ]
           ],
           "sequential": [
            [
             0,
             "#0d0887"
            ],
            [
             0.1111111111111111,
             "#46039f"
            ],
            [
             0.2222222222222222,
             "#7201a8"
            ],
            [
             0.3333333333333333,
             "#9c179e"
            ],
            [
             0.4444444444444444,
             "#bd3786"
            ],
            [
             0.5555555555555556,
             "#d8576b"
            ],
            [
             0.6666666666666666,
             "#ed7953"
            ],
            [
             0.7777777777777778,
             "#fb9f3a"
            ],
            [
             0.8888888888888888,
             "#fdca26"
            ],
            [
             1,
             "#f0f921"
            ]
           ],
           "sequentialminus": [
            [
             0,
             "#0d0887"
            ],
            [
             0.1111111111111111,
             "#46039f"
            ],
            [
             0.2222222222222222,
             "#7201a8"
            ],
            [
             0.3333333333333333,
             "#9c179e"
            ],
            [
             0.4444444444444444,
             "#bd3786"
            ],
            [
             0.5555555555555556,
             "#d8576b"
            ],
            [
             0.6666666666666666,
             "#ed7953"
            ],
            [
             0.7777777777777778,
             "#fb9f3a"
            ],
            [
             0.8888888888888888,
             "#fdca26"
            ],
            [
             1,
             "#f0f921"
            ]
           ]
          },
          "colorway": [
           "#636efa",
           "#EF553B",
           "#00cc96",
           "#ab63fa",
           "#FFA15A",
           "#19d3f3",
           "#FF6692",
           "#B6E880",
           "#FF97FF",
           "#FECB52"
          ],
          "font": {
           "color": "#2a3f5f"
          },
          "geo": {
           "bgcolor": "white",
           "lakecolor": "white",
           "landcolor": "#E5ECF6",
           "showlakes": true,
           "showland": true,
           "subunitcolor": "white"
          },
          "hoverlabel": {
           "align": "left"
          },
          "hovermode": "closest",
          "mapbox": {
           "style": "light"
          },
          "paper_bgcolor": "white",
          "plot_bgcolor": "#E5ECF6",
          "polar": {
           "angularaxis": {
            "gridcolor": "white",
            "linecolor": "white",
            "ticks": ""
           },
           "bgcolor": "#E5ECF6",
           "radialaxis": {
            "gridcolor": "white",
            "linecolor": "white",
            "ticks": ""
           }
          },
          "scene": {
           "xaxis": {
            "backgroundcolor": "#E5ECF6",
            "gridcolor": "white",
            "gridwidth": 2,
            "linecolor": "white",
            "showbackground": true,
            "ticks": "",
            "zerolinecolor": "white"
           },
           "yaxis": {
            "backgroundcolor": "#E5ECF6",
            "gridcolor": "white",
            "gridwidth": 2,
            "linecolor": "white",
            "showbackground": true,
            "ticks": "",
            "zerolinecolor": "white"
           },
           "zaxis": {
            "backgroundcolor": "#E5ECF6",
            "gridcolor": "white",
            "gridwidth": 2,
            "linecolor": "white",
            "showbackground": true,
            "ticks": "",
            "zerolinecolor": "white"
           }
          },
          "shapedefaults": {
           "line": {
            "color": "#2a3f5f"
           }
          },
          "ternary": {
           "aaxis": {
            "gridcolor": "white",
            "linecolor": "white",
            "ticks": ""
           },
           "baxis": {
            "gridcolor": "white",
            "linecolor": "white",
            "ticks": ""
           },
           "bgcolor": "#E5ECF6",
           "caxis": {
            "gridcolor": "white",
            "linecolor": "white",
            "ticks": ""
           }
          },
          "title": {
           "x": 0.05
          },
          "xaxis": {
           "automargin": true,
           "gridcolor": "white",
           "linecolor": "white",
           "ticks": "",
           "title": {
            "standoff": 15
           },
           "zerolinecolor": "white",
           "zerolinewidth": 2
          },
          "yaxis": {
           "automargin": true,
           "gridcolor": "white",
           "linecolor": "white",
           "ticks": "",
           "title": {
            "standoff": 15
           },
           "zerolinecolor": "white",
           "zerolinewidth": 2
          }
         }
        },
        "title": {
         "text": "Salario promedio por nivel de experiencia"
        },
        "xaxis": {
         "anchor": "y",
         "categoryarray": [
          "EN",
          "EX",
          "MI",
          "SE"
         ],
         "categoryorder": "array",
         "domain": [
          0,
          1
         ],
         "title": {
          "text": "Nivel de experiencia"
         }
        },
        "yaxis": {
         "anchor": "x",
         "domain": [
          0,
          1
         ],
         "title": {
          "text": "Salario promedio (USD)"
         }
        }
       }
      }
     },
     "metadata": {},
     "output_type": "display_data"
    }
   ],
   "source": [
    "import plotly.express as px\n",
    "\n",
    "# Agrupar los datos por nivel de experiencia y calcular el salario promedio\n",
    "average_salary = data_science_salaries.groupby(\"experience_level\")[\"salary_in_usd\"].mean().reset_index()\n",
    "\n",
    "fig = px.bar(average_salary, \n",
    "             x=\"experience_level\", \n",
    "             y=\"salary_in_usd\",\n",
    "             title=\"Salario promedio por nivel de experiencia\",\n",
    "             labels={\"experience_level\": \"Nivel de experiencia\", \"salary_in_usd\": \"Salario promedio (USD)\"},\n",
    "             color=\"experience_level\")\n",
    "             \n",
    "# Mostrar el gráfico\n",
    "fig.show()\n"
   ]
  },
  {
   "cell_type": "markdown",
   "metadata": {},
   "source": [
    "# Ejercicio 2: Relación entre género y tipo de ejercicio\n",
    "Crea un gráfico de pastel para visualizar la proporción de tipos de ejercicio según el género.\n",
    "\n",
    "### Instrucciones\n",
    "1. Filtra los datos por tipo de ejercicio.\n",
    "2. Muestra las proporciones por género utilizando un gráfico de pastel.\n",
    "\n",
    "**Dataset:** `Gym Members Exercise Dataset`\n"
   ]
  },
  {
   "cell_type": "code",
   "execution_count": 14,
   "metadata": {},
   "outputs": [
    {
     "data": {
      "application/vnd.plotly.v1+json": {
       "config": {
        "plotlyServerURL": "https://plot.ly"
       },
       "data": [
        {
         "customdata": [
          [
           "Female"
          ],
          [
           "Female"
          ],
          [
           "Female"
          ],
          [
           "Female"
          ],
          [
           "Male"
          ],
          [
           "Male"
          ],
          [
           "Male"
          ],
          [
           "Male"
          ]
         ],
         "domain": {
          "x": [
           0,
           1
          ],
          "y": [
           0,
           1
          ]
         },
         "hole": 0.4,
         "hovertemplate": "Tipo de ejercicio=%{label}<br>Frecuencia=%{value}<br>Gender=%{customdata[0]}<extra></extra>",
         "labels": [
          "Cardio",
          "HIIT",
          "Strength",
          "Yoga",
          "Cardio",
          "HIIT",
          "Strength",
          "Yoga"
         ],
         "legendgroup": "",
         "marker": {
          "colors": [
           "#636efa",
           "#636efa",
           "#636efa",
           "#636efa",
           "#EF553B",
           "#EF553B",
           "#EF553B",
           "#EF553B"
          ]
         },
         "name": "",
         "showlegend": true,
         "type": "pie",
         "values": [
          126,
          107,
          123,
          106,
          129,
          114,
          135,
          133
         ]
        }
       ],
       "layout": {
        "legend": {
         "tracegroupgap": 0
        },
        "template": {
         "data": {
          "bar": [
           {
            "error_x": {
             "color": "#2a3f5f"
            },
            "error_y": {
             "color": "#2a3f5f"
            },
            "marker": {
             "line": {
              "color": "#E5ECF6",
              "width": 0.5
             },
             "pattern": {
              "fillmode": "overlay",
              "size": 10,
              "solidity": 0.2
             }
            },
            "type": "bar"
           }
          ],
          "barpolar": [
           {
            "marker": {
             "line": {
              "color": "#E5ECF6",
              "width": 0.5
             },
             "pattern": {
              "fillmode": "overlay",
              "size": 10,
              "solidity": 0.2
             }
            },
            "type": "barpolar"
           }
          ],
          "carpet": [
           {
            "aaxis": {
             "endlinecolor": "#2a3f5f",
             "gridcolor": "white",
             "linecolor": "white",
             "minorgridcolor": "white",
             "startlinecolor": "#2a3f5f"
            },
            "baxis": {
             "endlinecolor": "#2a3f5f",
             "gridcolor": "white",
             "linecolor": "white",
             "minorgridcolor": "white",
             "startlinecolor": "#2a3f5f"
            },
            "type": "carpet"
           }
          ],
          "choropleth": [
           {
            "colorbar": {
             "outlinewidth": 0,
             "ticks": ""
            },
            "type": "choropleth"
           }
          ],
          "contour": [
           {
            "colorbar": {
             "outlinewidth": 0,
             "ticks": ""
            },
            "colorscale": [
             [
              0,
              "#0d0887"
             ],
             [
              0.1111111111111111,
              "#46039f"
             ],
             [
              0.2222222222222222,
              "#7201a8"
             ],
             [
              0.3333333333333333,
              "#9c179e"
             ],
             [
              0.4444444444444444,
              "#bd3786"
             ],
             [
              0.5555555555555556,
              "#d8576b"
             ],
             [
              0.6666666666666666,
              "#ed7953"
             ],
             [
              0.7777777777777778,
              "#fb9f3a"
             ],
             [
              0.8888888888888888,
              "#fdca26"
             ],
             [
              1,
              "#f0f921"
             ]
            ],
            "type": "contour"
           }
          ],
          "contourcarpet": [
           {
            "colorbar": {
             "outlinewidth": 0,
             "ticks": ""
            },
            "type": "contourcarpet"
           }
          ],
          "heatmap": [
           {
            "colorbar": {
             "outlinewidth": 0,
             "ticks": ""
            },
            "colorscale": [
             [
              0,
              "#0d0887"
             ],
             [
              0.1111111111111111,
              "#46039f"
             ],
             [
              0.2222222222222222,
              "#7201a8"
             ],
             [
              0.3333333333333333,
              "#9c179e"
             ],
             [
              0.4444444444444444,
              "#bd3786"
             ],
             [
              0.5555555555555556,
              "#d8576b"
             ],
             [
              0.6666666666666666,
              "#ed7953"
             ],
             [
              0.7777777777777778,
              "#fb9f3a"
             ],
             [
              0.8888888888888888,
              "#fdca26"
             ],
             [
              1,
              "#f0f921"
             ]
            ],
            "type": "heatmap"
           }
          ],
          "heatmapgl": [
           {
            "colorbar": {
             "outlinewidth": 0,
             "ticks": ""
            },
            "colorscale": [
             [
              0,
              "#0d0887"
             ],
             [
              0.1111111111111111,
              "#46039f"
             ],
             [
              0.2222222222222222,
              "#7201a8"
             ],
             [
              0.3333333333333333,
              "#9c179e"
             ],
             [
              0.4444444444444444,
              "#bd3786"
             ],
             [
              0.5555555555555556,
              "#d8576b"
             ],
             [
              0.6666666666666666,
              "#ed7953"
             ],
             [
              0.7777777777777778,
              "#fb9f3a"
             ],
             [
              0.8888888888888888,
              "#fdca26"
             ],
             [
              1,
              "#f0f921"
             ]
            ],
            "type": "heatmapgl"
           }
          ],
          "histogram": [
           {
            "marker": {
             "pattern": {
              "fillmode": "overlay",
              "size": 10,
              "solidity": 0.2
             }
            },
            "type": "histogram"
           }
          ],
          "histogram2d": [
           {
            "colorbar": {
             "outlinewidth": 0,
             "ticks": ""
            },
            "colorscale": [
             [
              0,
              "#0d0887"
             ],
             [
              0.1111111111111111,
              "#46039f"
             ],
             [
              0.2222222222222222,
              "#7201a8"
             ],
             [
              0.3333333333333333,
              "#9c179e"
             ],
             [
              0.4444444444444444,
              "#bd3786"
             ],
             [
              0.5555555555555556,
              "#d8576b"
             ],
             [
              0.6666666666666666,
              "#ed7953"
             ],
             [
              0.7777777777777778,
              "#fb9f3a"
             ],
             [
              0.8888888888888888,
              "#fdca26"
             ],
             [
              1,
              "#f0f921"
             ]
            ],
            "type": "histogram2d"
           }
          ],
          "histogram2dcontour": [
           {
            "colorbar": {
             "outlinewidth": 0,
             "ticks": ""
            },
            "colorscale": [
             [
              0,
              "#0d0887"
             ],
             [
              0.1111111111111111,
              "#46039f"
             ],
             [
              0.2222222222222222,
              "#7201a8"
             ],
             [
              0.3333333333333333,
              "#9c179e"
             ],
             [
              0.4444444444444444,
              "#bd3786"
             ],
             [
              0.5555555555555556,
              "#d8576b"
             ],
             [
              0.6666666666666666,
              "#ed7953"
             ],
             [
              0.7777777777777778,
              "#fb9f3a"
             ],
             [
              0.8888888888888888,
              "#fdca26"
             ],
             [
              1,
              "#f0f921"
             ]
            ],
            "type": "histogram2dcontour"
           }
          ],
          "mesh3d": [
           {
            "colorbar": {
             "outlinewidth": 0,
             "ticks": ""
            },
            "type": "mesh3d"
           }
          ],
          "parcoords": [
           {
            "line": {
             "colorbar": {
              "outlinewidth": 0,
              "ticks": ""
             }
            },
            "type": "parcoords"
           }
          ],
          "pie": [
           {
            "automargin": true,
            "type": "pie"
           }
          ],
          "scatter": [
           {
            "fillpattern": {
             "fillmode": "overlay",
             "size": 10,
             "solidity": 0.2
            },
            "type": "scatter"
           }
          ],
          "scatter3d": [
           {
            "line": {
             "colorbar": {
              "outlinewidth": 0,
              "ticks": ""
             }
            },
            "marker": {
             "colorbar": {
              "outlinewidth": 0,
              "ticks": ""
             }
            },
            "type": "scatter3d"
           }
          ],
          "scattercarpet": [
           {
            "marker": {
             "colorbar": {
              "outlinewidth": 0,
              "ticks": ""
             }
            },
            "type": "scattercarpet"
           }
          ],
          "scattergeo": [
           {
            "marker": {
             "colorbar": {
              "outlinewidth": 0,
              "ticks": ""
             }
            },
            "type": "scattergeo"
           }
          ],
          "scattergl": [
           {
            "marker": {
             "colorbar": {
              "outlinewidth": 0,
              "ticks": ""
             }
            },
            "type": "scattergl"
           }
          ],
          "scattermapbox": [
           {
            "marker": {
             "colorbar": {
              "outlinewidth": 0,
              "ticks": ""
             }
            },
            "type": "scattermapbox"
           }
          ],
          "scatterpolar": [
           {
            "marker": {
             "colorbar": {
              "outlinewidth": 0,
              "ticks": ""
             }
            },
            "type": "scatterpolar"
           }
          ],
          "scatterpolargl": [
           {
            "marker": {
             "colorbar": {
              "outlinewidth": 0,
              "ticks": ""
             }
            },
            "type": "scatterpolargl"
           }
          ],
          "scatterternary": [
           {
            "marker": {
             "colorbar": {
              "outlinewidth": 0,
              "ticks": ""
             }
            },
            "type": "scatterternary"
           }
          ],
          "surface": [
           {
            "colorbar": {
             "outlinewidth": 0,
             "ticks": ""
            },
            "colorscale": [
             [
              0,
              "#0d0887"
             ],
             [
              0.1111111111111111,
              "#46039f"
             ],
             [
              0.2222222222222222,
              "#7201a8"
             ],
             [
              0.3333333333333333,
              "#9c179e"
             ],
             [
              0.4444444444444444,
              "#bd3786"
             ],
             [
              0.5555555555555556,
              "#d8576b"
             ],
             [
              0.6666666666666666,
              "#ed7953"
             ],
             [
              0.7777777777777778,
              "#fb9f3a"
             ],
             [
              0.8888888888888888,
              "#fdca26"
             ],
             [
              1,
              "#f0f921"
             ]
            ],
            "type": "surface"
           }
          ],
          "table": [
           {
            "cells": {
             "fill": {
              "color": "#EBF0F8"
             },
             "line": {
              "color": "white"
             }
            },
            "header": {
             "fill": {
              "color": "#C8D4E3"
             },
             "line": {
              "color": "white"
             }
            },
            "type": "table"
           }
          ]
         },
         "layout": {
          "annotationdefaults": {
           "arrowcolor": "#2a3f5f",
           "arrowhead": 0,
           "arrowwidth": 1
          },
          "autotypenumbers": "strict",
          "coloraxis": {
           "colorbar": {
            "outlinewidth": 0,
            "ticks": ""
           }
          },
          "colorscale": {
           "diverging": [
            [
             0,
             "#8e0152"
            ],
            [
             0.1,
             "#c51b7d"
            ],
            [
             0.2,
             "#de77ae"
            ],
            [
             0.3,
             "#f1b6da"
            ],
            [
             0.4,
             "#fde0ef"
            ],
            [
             0.5,
             "#f7f7f7"
            ],
            [
             0.6,
             "#e6f5d0"
            ],
            [
             0.7,
             "#b8e186"
            ],
            [
             0.8,
             "#7fbc41"
            ],
            [
             0.9,
             "#4d9221"
            ],
            [
             1,
             "#276419"
            ]
           ],
           "sequential": [
            [
             0,
             "#0d0887"
            ],
            [
             0.1111111111111111,
             "#46039f"
            ],
            [
             0.2222222222222222,
             "#7201a8"
            ],
            [
             0.3333333333333333,
             "#9c179e"
            ],
            [
             0.4444444444444444,
             "#bd3786"
            ],
            [
             0.5555555555555556,
             "#d8576b"
            ],
            [
             0.6666666666666666,
             "#ed7953"
            ],
            [
             0.7777777777777778,
             "#fb9f3a"
            ],
            [
             0.8888888888888888,
             "#fdca26"
            ],
            [
             1,
             "#f0f921"
            ]
           ],
           "sequentialminus": [
            [
             0,
             "#0d0887"
            ],
            [
             0.1111111111111111,
             "#46039f"
            ],
            [
             0.2222222222222222,
             "#7201a8"
            ],
            [
             0.3333333333333333,
             "#9c179e"
            ],
            [
             0.4444444444444444,
             "#bd3786"
            ],
            [
             0.5555555555555556,
             "#d8576b"
            ],
            [
             0.6666666666666666,
             "#ed7953"
            ],
            [
             0.7777777777777778,
             "#fb9f3a"
            ],
            [
             0.8888888888888888,
             "#fdca26"
            ],
            [
             1,
             "#f0f921"
            ]
           ]
          },
          "colorway": [
           "#636efa",
           "#EF553B",
           "#00cc96",
           "#ab63fa",
           "#FFA15A",
           "#19d3f3",
           "#FF6692",
           "#B6E880",
           "#FF97FF",
           "#FECB52"
          ],
          "font": {
           "color": "#2a3f5f"
          },
          "geo": {
           "bgcolor": "white",
           "lakecolor": "white",
           "landcolor": "#E5ECF6",
           "showlakes": true,
           "showland": true,
           "subunitcolor": "white"
          },
          "hoverlabel": {
           "align": "left"
          },
          "hovermode": "closest",
          "mapbox": {
           "style": "light"
          },
          "paper_bgcolor": "white",
          "plot_bgcolor": "#E5ECF6",
          "polar": {
           "angularaxis": {
            "gridcolor": "white",
            "linecolor": "white",
            "ticks": ""
           },
           "bgcolor": "#E5ECF6",
           "radialaxis": {
            "gridcolor": "white",
            "linecolor": "white",
            "ticks": ""
           }
          },
          "scene": {
           "xaxis": {
            "backgroundcolor": "#E5ECF6",
            "gridcolor": "white",
            "gridwidth": 2,
            "linecolor": "white",
            "showbackground": true,
            "ticks": "",
            "zerolinecolor": "white"
           },
           "yaxis": {
            "backgroundcolor": "#E5ECF6",
            "gridcolor": "white",
            "gridwidth": 2,
            "linecolor": "white",
            "showbackground": true,
            "ticks": "",
            "zerolinecolor": "white"
           },
           "zaxis": {
            "backgroundcolor": "#E5ECF6",
            "gridcolor": "white",
            "gridwidth": 2,
            "linecolor": "white",
            "showbackground": true,
            "ticks": "",
            "zerolinecolor": "white"
           }
          },
          "shapedefaults": {
           "line": {
            "color": "#2a3f5f"
           }
          },
          "ternary": {
           "aaxis": {
            "gridcolor": "white",
            "linecolor": "white",
            "ticks": ""
           },
           "baxis": {
            "gridcolor": "white",
            "linecolor": "white",
            "ticks": ""
           },
           "bgcolor": "#E5ECF6",
           "caxis": {
            "gridcolor": "white",
            "linecolor": "white",
            "ticks": ""
           }
          },
          "title": {
           "x": 0.05
          },
          "xaxis": {
           "automargin": true,
           "gridcolor": "white",
           "linecolor": "white",
           "ticks": "",
           "title": {
            "standoff": 15
           },
           "zerolinecolor": "white",
           "zerolinewidth": 2
          },
          "yaxis": {
           "automargin": true,
           "gridcolor": "white",
           "linecolor": "white",
           "ticks": "",
           "title": {
            "standoff": 15
           },
           "zerolinecolor": "white",
           "zerolinewidth": 2
          }
         }
        },
        "title": {
         "text": "Distribución de tipos de ejercicio por género"
        }
       }
      }
     },
     "metadata": {},
     "output_type": "display_data"
    }
   ],
   "source": [
    "import plotly.express as px\n",
    "\n",
    "# Agrupar los datos por género y tipo de ejercicio, y calcular la frecuencia\n",
    "exercise_distribution = gym_members_exercise.groupby([\"Gender\", \"Workout_Type\"]).size().reset_index(name=\"count\")\n",
    "\n",
    "fig = px.pie(exercise_distribution, \n",
    "             values=\"count\", \n",
    "             names=\"Workout_Type\", \n",
    "             color=\"Gender\",\n",
    "             title=\"Distribución de tipos de ejercicio por género\",\n",
    "             labels={\"Workout_Type\": \"Tipo de ejercicio\", \"count\": \"Frecuencia\"},\n",
    "             hole=0.4)\n",
    "\n",
    "# Mostrar el gráfico\n",
    "fig.show()\n"
   ]
  },
  {
   "cell_type": "markdown",
   "metadata": {},
   "source": [
    "# Ejercicio 3: Tendencias en la duración del sueño\n",
    "Crea un gráfico de líneas para observar cómo varía la duración promedio del sueño según la edad.\n",
    "\n",
    "### Instrucciones\n",
    "1. Agrupa los datos por rango de edad.\n",
    "2. Calcula el promedio de horas de sueño.\n",
    "3. Representa los datos con un gráfico de líneas.\n",
    "\n",
    "**Dataset:** `Sleep Health and Lifestyle Dataset`\n"
   ]
  },
  {
   "cell_type": "code",
   "execution_count": 27,
   "metadata": {},
   "outputs": [
    {
     "name": "stderr",
     "output_type": "stream",
     "text": [
      "C:\\Users\\Cristian\\AppData\\Local\\Temp\\ipykernel_19544\\2191730442.py:12: FutureWarning:\n",
      "\n",
      "The default of observed=False is deprecated and will be changed to True in a future version of pandas. Pass observed=False to retain current behavior or observed=True to adopt the future default and silence this warning.\n",
      "\n"
     ]
    },
    {
     "data": {
      "application/vnd.plotly.v1+json": {
       "config": {
        "plotlyServerURL": "https://plot.ly"
       },
       "data": [
        {
         "hovertemplate": "Rango de edad=%{x}<br>Duración promedio del sueño (horas)=%{y}<extra></extra>",
         "legendgroup": "",
         "line": {
          "color": "#636efa",
          "dash": "solid"
         },
         "marker": {
          "symbol": "circle"
         },
         "mode": "lines+markers",
         "name": "",
         "orientation": "v",
         "showlegend": false,
         "type": "scatter",
         "x": [
          "24-28",
          "29-33",
          "34-38",
          "39-43",
          "44-48",
          "49-53",
          "54-58",
          "59-63"
         ],
         "xaxis": "x",
         "y": [
          6.033333333333334,
          6.89054054054054,
          7.1469696969696965,
          7.286486486486487,
          6.519148936170212,
          7.101538461538462,
          8.188461538461539,
          8.09375
         ],
         "yaxis": "y"
        }
       ],
       "layout": {
        "legend": {
         "tracegroupgap": 0
        },
        "template": {
         "data": {
          "bar": [
           {
            "error_x": {
             "color": "#2a3f5f"
            },
            "error_y": {
             "color": "#2a3f5f"
            },
            "marker": {
             "line": {
              "color": "#E5ECF6",
              "width": 0.5
             },
             "pattern": {
              "fillmode": "overlay",
              "size": 10,
              "solidity": 0.2
             }
            },
            "type": "bar"
           }
          ],
          "barpolar": [
           {
            "marker": {
             "line": {
              "color": "#E5ECF6",
              "width": 0.5
             },
             "pattern": {
              "fillmode": "overlay",
              "size": 10,
              "solidity": 0.2
             }
            },
            "type": "barpolar"
           }
          ],
          "carpet": [
           {
            "aaxis": {
             "endlinecolor": "#2a3f5f",
             "gridcolor": "white",
             "linecolor": "white",
             "minorgridcolor": "white",
             "startlinecolor": "#2a3f5f"
            },
            "baxis": {
             "endlinecolor": "#2a3f5f",
             "gridcolor": "white",
             "linecolor": "white",
             "minorgridcolor": "white",
             "startlinecolor": "#2a3f5f"
            },
            "type": "carpet"
           }
          ],
          "choropleth": [
           {
            "colorbar": {
             "outlinewidth": 0,
             "ticks": ""
            },
            "type": "choropleth"
           }
          ],
          "contour": [
           {
            "colorbar": {
             "outlinewidth": 0,
             "ticks": ""
            },
            "colorscale": [
             [
              0,
              "#0d0887"
             ],
             [
              0.1111111111111111,
              "#46039f"
             ],
             [
              0.2222222222222222,
              "#7201a8"
             ],
             [
              0.3333333333333333,
              "#9c179e"
             ],
             [
              0.4444444444444444,
              "#bd3786"
             ],
             [
              0.5555555555555556,
              "#d8576b"
             ],
             [
              0.6666666666666666,
              "#ed7953"
             ],
             [
              0.7777777777777778,
              "#fb9f3a"
             ],
             [
              0.8888888888888888,
              "#fdca26"
             ],
             [
              1,
              "#f0f921"
             ]
            ],
            "type": "contour"
           }
          ],
          "contourcarpet": [
           {
            "colorbar": {
             "outlinewidth": 0,
             "ticks": ""
            },
            "type": "contourcarpet"
           }
          ],
          "heatmap": [
           {
            "colorbar": {
             "outlinewidth": 0,
             "ticks": ""
            },
            "colorscale": [
             [
              0,
              "#0d0887"
             ],
             [
              0.1111111111111111,
              "#46039f"
             ],
             [
              0.2222222222222222,
              "#7201a8"
             ],
             [
              0.3333333333333333,
              "#9c179e"
             ],
             [
              0.4444444444444444,
              "#bd3786"
             ],
             [
              0.5555555555555556,
              "#d8576b"
             ],
             [
              0.6666666666666666,
              "#ed7953"
             ],
             [
              0.7777777777777778,
              "#fb9f3a"
             ],
             [
              0.8888888888888888,
              "#fdca26"
             ],
             [
              1,
              "#f0f921"
             ]
            ],
            "type": "heatmap"
           }
          ],
          "heatmapgl": [
           {
            "colorbar": {
             "outlinewidth": 0,
             "ticks": ""
            },
            "colorscale": [
             [
              0,
              "#0d0887"
             ],
             [
              0.1111111111111111,
              "#46039f"
             ],
             [
              0.2222222222222222,
              "#7201a8"
             ],
             [
              0.3333333333333333,
              "#9c179e"
             ],
             [
              0.4444444444444444,
              "#bd3786"
             ],
             [
              0.5555555555555556,
              "#d8576b"
             ],
             [
              0.6666666666666666,
              "#ed7953"
             ],
             [
              0.7777777777777778,
              "#fb9f3a"
             ],
             [
              0.8888888888888888,
              "#fdca26"
             ],
             [
              1,
              "#f0f921"
             ]
            ],
            "type": "heatmapgl"
           }
          ],
          "histogram": [
           {
            "marker": {
             "pattern": {
              "fillmode": "overlay",
              "size": 10,
              "solidity": 0.2
             }
            },
            "type": "histogram"
           }
          ],
          "histogram2d": [
           {
            "colorbar": {
             "outlinewidth": 0,
             "ticks": ""
            },
            "colorscale": [
             [
              0,
              "#0d0887"
             ],
             [
              0.1111111111111111,
              "#46039f"
             ],
             [
              0.2222222222222222,
              "#7201a8"
             ],
             [
              0.3333333333333333,
              "#9c179e"
             ],
             [
              0.4444444444444444,
              "#bd3786"
             ],
             [
              0.5555555555555556,
              "#d8576b"
             ],
             [
              0.6666666666666666,
              "#ed7953"
             ],
             [
              0.7777777777777778,
              "#fb9f3a"
             ],
             [
              0.8888888888888888,
              "#fdca26"
             ],
             [
              1,
              "#f0f921"
             ]
            ],
            "type": "histogram2d"
           }
          ],
          "histogram2dcontour": [
           {
            "colorbar": {
             "outlinewidth": 0,
             "ticks": ""
            },
            "colorscale": [
             [
              0,
              "#0d0887"
             ],
             [
              0.1111111111111111,
              "#46039f"
             ],
             [
              0.2222222222222222,
              "#7201a8"
             ],
             [
              0.3333333333333333,
              "#9c179e"
             ],
             [
              0.4444444444444444,
              "#bd3786"
             ],
             [
              0.5555555555555556,
              "#d8576b"
             ],
             [
              0.6666666666666666,
              "#ed7953"
             ],
             [
              0.7777777777777778,
              "#fb9f3a"
             ],
             [
              0.8888888888888888,
              "#fdca26"
             ],
             [
              1,
              "#f0f921"
             ]
            ],
            "type": "histogram2dcontour"
           }
          ],
          "mesh3d": [
           {
            "colorbar": {
             "outlinewidth": 0,
             "ticks": ""
            },
            "type": "mesh3d"
           }
          ],
          "parcoords": [
           {
            "line": {
             "colorbar": {
              "outlinewidth": 0,
              "ticks": ""
             }
            },
            "type": "parcoords"
           }
          ],
          "pie": [
           {
            "automargin": true,
            "type": "pie"
           }
          ],
          "scatter": [
           {
            "fillpattern": {
             "fillmode": "overlay",
             "size": 10,
             "solidity": 0.2
            },
            "type": "scatter"
           }
          ],
          "scatter3d": [
           {
            "line": {
             "colorbar": {
              "outlinewidth": 0,
              "ticks": ""
             }
            },
            "marker": {
             "colorbar": {
              "outlinewidth": 0,
              "ticks": ""
             }
            },
            "type": "scatter3d"
           }
          ],
          "scattercarpet": [
           {
            "marker": {
             "colorbar": {
              "outlinewidth": 0,
              "ticks": ""
             }
            },
            "type": "scattercarpet"
           }
          ],
          "scattergeo": [
           {
            "marker": {
             "colorbar": {
              "outlinewidth": 0,
              "ticks": ""
             }
            },
            "type": "scattergeo"
           }
          ],
          "scattergl": [
           {
            "marker": {
             "colorbar": {
              "outlinewidth": 0,
              "ticks": ""
             }
            },
            "type": "scattergl"
           }
          ],
          "scattermapbox": [
           {
            "marker": {
             "colorbar": {
              "outlinewidth": 0,
              "ticks": ""
             }
            },
            "type": "scattermapbox"
           }
          ],
          "scatterpolar": [
           {
            "marker": {
             "colorbar": {
              "outlinewidth": 0,
              "ticks": ""
             }
            },
            "type": "scatterpolar"
           }
          ],
          "scatterpolargl": [
           {
            "marker": {
             "colorbar": {
              "outlinewidth": 0,
              "ticks": ""
             }
            },
            "type": "scatterpolargl"
           }
          ],
          "scatterternary": [
           {
            "marker": {
             "colorbar": {
              "outlinewidth": 0,
              "ticks": ""
             }
            },
            "type": "scatterternary"
           }
          ],
          "surface": [
           {
            "colorbar": {
             "outlinewidth": 0,
             "ticks": ""
            },
            "colorscale": [
             [
              0,
              "#0d0887"
             ],
             [
              0.1111111111111111,
              "#46039f"
             ],
             [
              0.2222222222222222,
              "#7201a8"
             ],
             [
              0.3333333333333333,
              "#9c179e"
             ],
             [
              0.4444444444444444,
              "#bd3786"
             ],
             [
              0.5555555555555556,
              "#d8576b"
             ],
             [
              0.6666666666666666,
              "#ed7953"
             ],
             [
              0.7777777777777778,
              "#fb9f3a"
             ],
             [
              0.8888888888888888,
              "#fdca26"
             ],
             [
              1,
              "#f0f921"
             ]
            ],
            "type": "surface"
           }
          ],
          "table": [
           {
            "cells": {
             "fill": {
              "color": "#EBF0F8"
             },
             "line": {
              "color": "white"
             }
            },
            "header": {
             "fill": {
              "color": "#C8D4E3"
             },
             "line": {
              "color": "white"
             }
            },
            "type": "table"
           }
          ]
         },
         "layout": {
          "annotationdefaults": {
           "arrowcolor": "#2a3f5f",
           "arrowhead": 0,
           "arrowwidth": 1
          },
          "autotypenumbers": "strict",
          "coloraxis": {
           "colorbar": {
            "outlinewidth": 0,
            "ticks": ""
           }
          },
          "colorscale": {
           "diverging": [
            [
             0,
             "#8e0152"
            ],
            [
             0.1,
             "#c51b7d"
            ],
            [
             0.2,
             "#de77ae"
            ],
            [
             0.3,
             "#f1b6da"
            ],
            [
             0.4,
             "#fde0ef"
            ],
            [
             0.5,
             "#f7f7f7"
            ],
            [
             0.6,
             "#e6f5d0"
            ],
            [
             0.7,
             "#b8e186"
            ],
            [
             0.8,
             "#7fbc41"
            ],
            [
             0.9,
             "#4d9221"
            ],
            [
             1,
             "#276419"
            ]
           ],
           "sequential": [
            [
             0,
             "#0d0887"
            ],
            [
             0.1111111111111111,
             "#46039f"
            ],
            [
             0.2222222222222222,
             "#7201a8"
            ],
            [
             0.3333333333333333,
             "#9c179e"
            ],
            [
             0.4444444444444444,
             "#bd3786"
            ],
            [
             0.5555555555555556,
             "#d8576b"
            ],
            [
             0.6666666666666666,
             "#ed7953"
            ],
            [
             0.7777777777777778,
             "#fb9f3a"
            ],
            [
             0.8888888888888888,
             "#fdca26"
            ],
            [
             1,
             "#f0f921"
            ]
           ],
           "sequentialminus": [
            [
             0,
             "#0d0887"
            ],
            [
             0.1111111111111111,
             "#46039f"
            ],
            [
             0.2222222222222222,
             "#7201a8"
            ],
            [
             0.3333333333333333,
             "#9c179e"
            ],
            [
             0.4444444444444444,
             "#bd3786"
            ],
            [
             0.5555555555555556,
             "#d8576b"
            ],
            [
             0.6666666666666666,
             "#ed7953"
            ],
            [
             0.7777777777777778,
             "#fb9f3a"
            ],
            [
             0.8888888888888888,
             "#fdca26"
            ],
            [
             1,
             "#f0f921"
            ]
           ]
          },
          "colorway": [
           "#636efa",
           "#EF553B",
           "#00cc96",
           "#ab63fa",
           "#FFA15A",
           "#19d3f3",
           "#FF6692",
           "#B6E880",
           "#FF97FF",
           "#FECB52"
          ],
          "font": {
           "color": "#2a3f5f"
          },
          "geo": {
           "bgcolor": "white",
           "lakecolor": "white",
           "landcolor": "#E5ECF6",
           "showlakes": true,
           "showland": true,
           "subunitcolor": "white"
          },
          "hoverlabel": {
           "align": "left"
          },
          "hovermode": "closest",
          "mapbox": {
           "style": "light"
          },
          "paper_bgcolor": "white",
          "plot_bgcolor": "#E5ECF6",
          "polar": {
           "angularaxis": {
            "gridcolor": "white",
            "linecolor": "white",
            "ticks": ""
           },
           "bgcolor": "#E5ECF6",
           "radialaxis": {
            "gridcolor": "white",
            "linecolor": "white",
            "ticks": ""
           }
          },
          "scene": {
           "xaxis": {
            "backgroundcolor": "#E5ECF6",
            "gridcolor": "white",
            "gridwidth": 2,
            "linecolor": "white",
            "showbackground": true,
            "ticks": "",
            "zerolinecolor": "white"
           },
           "yaxis": {
            "backgroundcolor": "#E5ECF6",
            "gridcolor": "white",
            "gridwidth": 2,
            "linecolor": "white",
            "showbackground": true,
            "ticks": "",
            "zerolinecolor": "white"
           },
           "zaxis": {
            "backgroundcolor": "#E5ECF6",
            "gridcolor": "white",
            "gridwidth": 2,
            "linecolor": "white",
            "showbackground": true,
            "ticks": "",
            "zerolinecolor": "white"
           }
          },
          "shapedefaults": {
           "line": {
            "color": "#2a3f5f"
           }
          },
          "ternary": {
           "aaxis": {
            "gridcolor": "white",
            "linecolor": "white",
            "ticks": ""
           },
           "baxis": {
            "gridcolor": "white",
            "linecolor": "white",
            "ticks": ""
           },
           "bgcolor": "#E5ECF6",
           "caxis": {
            "gridcolor": "white",
            "linecolor": "white",
            "ticks": ""
           }
          },
          "title": {
           "x": 0.05
          },
          "xaxis": {
           "automargin": true,
           "gridcolor": "white",
           "linecolor": "white",
           "ticks": "",
           "title": {
            "standoff": 15
           },
           "zerolinecolor": "white",
           "zerolinewidth": 2
          },
          "yaxis": {
           "automargin": true,
           "gridcolor": "white",
           "linecolor": "white",
           "ticks": "",
           "title": {
            "standoff": 15
           },
           "zerolinecolor": "white",
           "zerolinewidth": 2
          }
         }
        },
        "title": {
         "text": "Duración promedio del sueño según rango de edad"
        },
        "xaxis": {
         "anchor": "y",
         "domain": [
          0,
          1
         ],
         "title": {
          "text": "Rango de edad"
         }
        },
        "yaxis": {
         "anchor": "x",
         "domain": [
          0,
          1
         ],
         "title": {
          "text": "Duración promedio del sueño (horas)"
         }
        }
       }
      }
     },
     "metadata": {},
     "output_type": "display_data"
    }
   ],
   "source": [
    "import plotly.express as px\n",
    "import pandas as pd\n",
    "\n",
    "# Crear los rangos de edad con divisiones más pequeñas\n",
    "sleep_health_lifestyle[\"Age_Group\"] = pd.cut(sleep_health_lifestyle[\"Age\"], \n",
    "                                             bins=[23, 28, 33, 38, 43, 48, 53, 58, 63],  \n",
    "                                             labels=[ \"24-28\", \"29-33\", \"34-38\", \"39-43\", \n",
    "                                                     \"44-48\", \"49-53\", \"54-58\", \"59-63\"],\n",
    "                                             include_lowest=True)\n",
    "\n",
    "# Agrupar y calcular la duración promedio del sueño por rango de edad\n",
    "sleep_avg_by_age = sleep_health_lifestyle.groupby(\"Age_Group\")[\"Sleep Duration\"].mean().reset_index()\n",
    "\n",
    "# Crear el gráfico\n",
    "fig = px.line(sleep_avg_by_age, x=\"Age_Group\", \n",
    "              y=\"Sleep Duration\",\n",
    "              title=\"Duración promedio del sueño según rango de edad\",\n",
    "              labels={\"Age_Group\": \"Rango de edad\", \"Sleep Duration\": \"Duración promedio del sueño (horas)\"},\n",
    "              markers=True)\n",
    "\n",
    "fig.show()\n"
   ]
  },
  {
   "cell_type": "markdown",
   "metadata": {},
   "source": [
    "# Ejercicio 4: Comparación de salarios por región\n",
    "Crea un gráfico de barras agrupadas para comparar el salario promedio en diferentes regiones.\n",
    "\n",
    "### Instrucciones\n",
    "1. Agrupa los datos por región (`company_location`) y nivel de experiencia (`experience_level`).\n",
    "2. Calcula el salario promedio para cada combinación.\n",
    "3. Crea un gráfico de barras agrupadas mostrando las regiones y los niveles de experiencia.\n",
    "\n",
    "**Dataset:** `Data Science Salaries 2023`\n"
   ]
  },
  {
   "cell_type": "code",
   "execution_count": 29,
   "metadata": {},
   "outputs": [
    {
     "data": {
      "application/vnd.plotly.v1+json": {
       "config": {
        "plotlyServerURL": "https://plot.ly"
       },
       "data": [
        {
         "alignmentgroup": "True",
         "hovertemplate": "Nivel de experiencia=MI<br>Región=%{x}<br>Salario (USD)=%{y}<extra></extra>",
         "legendgroup": "MI",
         "marker": {
          "color": "#636efa",
          "pattern": {
           "shape": ""
          }
         },
         "name": "MI",
         "offsetgroup": "MI",
         "orientation": "v",
         "showlegend": true,
         "textposition": "auto",
         "type": "bar",
         "x": [
          "AE",
          "AM",
          "AT",
          "AU",
          "BE",
          "BO",
          "BR",
          "BS",
          "CA",
          "CH",
          "CL",
          "CZ",
          "DE",
          "EE",
          "EG",
          "ES",
          "FI",
          "FR",
          "GB",
          "GH",
          "GR",
          "HK",
          "HN",
          "HR",
          "HU",
          "ID",
          "IE",
          "IL",
          "IN",
          "IT",
          "JP",
          "KE",
          "LT",
          "LU",
          "MD",
          "MT",
          "MX",
          "NG",
          "NL",
          "PK",
          "PL",
          "PT",
          "RO",
          "SG",
          "SI",
          "TH",
          "TR",
          "US"
         ],
         "xaxis": "x",
         "y": [
          115000,
          50000,
          71723,
          68100.6,
          88654,
          7500,
          53219,
          45555,
          88669.6,
          112549.5,
          40038,
          37565.5,
          71716.36842105263,
          31520,
          22800,
          58226.8,
          75020,
          62469.78571428572,
          83286.63247863248,
          30000,
          55359.916666666664,
          65062,
          20000,
          91142.5,
          35735,
          53416,
          88529.5,
          119059,
          21243.12,
          51064,
          71691.66666666667,
          80000,
          94812,
          62726,
          18000,
          28369,
          49500,
          50000,
          77824.14285714286,
          10000,
          38261.75,
          52932.5,
          56827,
          61770,
          49409.333333333336,
          24740,
          18779.75,
          127822.53923541248
         ],
         "yaxis": "y"
        },
        {
         "alignmentgroup": "True",
         "hovertemplate": "Nivel de experiencia=SE<br>Región=%{x}<br>Salario (USD)=%{y}<extra></extra>",
         "legendgroup": "SE",
         "marker": {
          "color": "#EF553B",
          "pattern": {
           "shape": ""
          }
         },
         "name": "SE",
         "offsetgroup": "SE",
         "orientation": "v",
         "showlegend": true,
         "textposition": "auto",
         "type": "bar",
         "x": [
          "AE",
          "AL",
          "AT",
          "AU",
          "BE",
          "BR",
          "CA",
          "CF",
          "CO",
          "DE",
          "DK",
          "EE",
          "ES",
          "FI",
          "FR",
          "GB",
          "GR",
          "HR",
          "IE",
          "IL",
          "IN",
          "IT",
          "JP",
          "LV",
          "MX",
          "NG",
          "NL",
          "NZ",
          "PH",
          "PR",
          "PT",
          "SG",
          "SI",
          "SK",
          "TH",
          "TR",
          "UA",
          "US"
         ],
         "xaxis": "x",
         "y": [
          92500,
          10000,
          91237,
          118255.33333333333,
          82744,
          21453.5,
          150201.9836065574,
          48609,
          79333.33333333333,
          139041.66666666666,
          88654,
          63312,
          60095.5,
          65679,
          85383.54545454546,
          103448.15,
          47899,
          45618,
          125509,
          423834,
          54000.555555555555,
          68293,
          214000,
          57946.5,
          128918.5,
          200000,
          97629.33333333333,
          125000,
          50000,
          167500,
          55785.5,
          8000,
          102839,
          12608,
          29453,
          20171,
          72666.66666666667,
          158683.52298850575
         ],
         "yaxis": "y"
        },
        {
         "alignmentgroup": "True",
         "hovertemplate": "Nivel de experiencia=EN<br>Región=%{x}<br>Salario (USD)=%{y}<extra></extra>",
         "legendgroup": "EN",
         "marker": {
          "color": "#00cc96",
          "pattern": {
           "shape": ""
          }
         },
         "name": "EN",
         "offsetgroup": "EN",
         "orientation": "v",
         "showlegend": true,
         "textposition": "auto",
         "type": "bar",
         "x": [
          "AR",
          "AS",
          "AT",
          "AU",
          "BA",
          "BE",
          "BR",
          "CA",
          "CH",
          "CN",
          "CO",
          "CR",
          "CZ",
          "DE",
          "DK",
          "DZ",
          "ES",
          "FR",
          "GB",
          "GH",
          "GR",
          "HU",
          "ID",
          "IN",
          "IQ",
          "IR",
          "IT",
          "JP",
          "KE",
          "LU",
          "MA",
          "MK",
          "MY",
          "NG",
          "NL",
          "PK",
          "PT",
          "SE",
          "SG",
          "TH",
          "UA",
          "US",
          "VN"
         ],
         "xaxis": "x",
         "y": [
          25000,
          29351,
          50000,
          70866.5,
          120000,
          68030.5,
          11197,
          76605.57142857143,
          61170.333333333336,
          100000,
          21844,
          50000,
          30469,
          61203.25,
          31192.666666666668,
          100000,
          24434.4,
          48324.555555555555,
          59605.53846153846,
          7000,
          12877,
          17684,
          15000,
          28612.043478260868,
          100000,
          100000,
          22917,
          41689,
          9272,
          34551,
          10000,
          6304,
          40000,
          46666.666666666664,
          50944,
          30000,
          21911,
          105000,
          66970,
          15000,
          13400,
          102400.6393442623,
          12000
         ],
         "yaxis": "y"
        },
        {
         "alignmentgroup": "True",
         "hovertemplate": "Nivel de experiencia=EX<br>Región=%{x}<br>Salario (USD)=%{y}<extra></extra>",
         "legendgroup": "EX",
         "marker": {
          "color": "#ab63fa",
          "pattern": {
           "shape": ""
          }
         },
         "name": "EX",
         "offsetgroup": "EX",
         "orientation": "v",
         "showlegend": true,
         "textposition": "auto",
         "type": "bar",
         "x": [
          "CA",
          "DE",
          "ES",
          "GB",
          "IN",
          "NL",
          "PL",
          "RU",
          "US"
         ],
         "xaxis": "x",
         "y": [
          112058.75,
          135936,
          74787,
          143877.5,
          76309,
          84053,
          153667,
          140333.33333333334,
          207445.52040816325
         ],
         "yaxis": "y"
        }
       ],
       "layout": {
        "barmode": "relative",
        "legend": {
         "title": {
          "text": "Nivel de experiencia"
         },
         "tracegroupgap": 0
        },
        "template": {
         "data": {
          "bar": [
           {
            "error_x": {
             "color": "#2a3f5f"
            },
            "error_y": {
             "color": "#2a3f5f"
            },
            "marker": {
             "line": {
              "color": "#E5ECF6",
              "width": 0.5
             },
             "pattern": {
              "fillmode": "overlay",
              "size": 10,
              "solidity": 0.2
             }
            },
            "type": "bar"
           }
          ],
          "barpolar": [
           {
            "marker": {
             "line": {
              "color": "#E5ECF6",
              "width": 0.5
             },
             "pattern": {
              "fillmode": "overlay",
              "size": 10,
              "solidity": 0.2
             }
            },
            "type": "barpolar"
           }
          ],
          "carpet": [
           {
            "aaxis": {
             "endlinecolor": "#2a3f5f",
             "gridcolor": "white",
             "linecolor": "white",
             "minorgridcolor": "white",
             "startlinecolor": "#2a3f5f"
            },
            "baxis": {
             "endlinecolor": "#2a3f5f",
             "gridcolor": "white",
             "linecolor": "white",
             "minorgridcolor": "white",
             "startlinecolor": "#2a3f5f"
            },
            "type": "carpet"
           }
          ],
          "choropleth": [
           {
            "colorbar": {
             "outlinewidth": 0,
             "ticks": ""
            },
            "type": "choropleth"
           }
          ],
          "contour": [
           {
            "colorbar": {
             "outlinewidth": 0,
             "ticks": ""
            },
            "colorscale": [
             [
              0,
              "#0d0887"
             ],
             [
              0.1111111111111111,
              "#46039f"
             ],
             [
              0.2222222222222222,
              "#7201a8"
             ],
             [
              0.3333333333333333,
              "#9c179e"
             ],
             [
              0.4444444444444444,
              "#bd3786"
             ],
             [
              0.5555555555555556,
              "#d8576b"
             ],
             [
              0.6666666666666666,
              "#ed7953"
             ],
             [
              0.7777777777777778,
              "#fb9f3a"
             ],
             [
              0.8888888888888888,
              "#fdca26"
             ],
             [
              1,
              "#f0f921"
             ]
            ],
            "type": "contour"
           }
          ],
          "contourcarpet": [
           {
            "colorbar": {
             "outlinewidth": 0,
             "ticks": ""
            },
            "type": "contourcarpet"
           }
          ],
          "heatmap": [
           {
            "colorbar": {
             "outlinewidth": 0,
             "ticks": ""
            },
            "colorscale": [
             [
              0,
              "#0d0887"
             ],
             [
              0.1111111111111111,
              "#46039f"
             ],
             [
              0.2222222222222222,
              "#7201a8"
             ],
             [
              0.3333333333333333,
              "#9c179e"
             ],
             [
              0.4444444444444444,
              "#bd3786"
             ],
             [
              0.5555555555555556,
              "#d8576b"
             ],
             [
              0.6666666666666666,
              "#ed7953"
             ],
             [
              0.7777777777777778,
              "#fb9f3a"
             ],
             [
              0.8888888888888888,
              "#fdca26"
             ],
             [
              1,
              "#f0f921"
             ]
            ],
            "type": "heatmap"
           }
          ],
          "heatmapgl": [
           {
            "colorbar": {
             "outlinewidth": 0,
             "ticks": ""
            },
            "colorscale": [
             [
              0,
              "#0d0887"
             ],
             [
              0.1111111111111111,
              "#46039f"
             ],
             [
              0.2222222222222222,
              "#7201a8"
             ],
             [
              0.3333333333333333,
              "#9c179e"
             ],
             [
              0.4444444444444444,
              "#bd3786"
             ],
             [
              0.5555555555555556,
              "#d8576b"
             ],
             [
              0.6666666666666666,
              "#ed7953"
             ],
             [
              0.7777777777777778,
              "#fb9f3a"
             ],
             [
              0.8888888888888888,
              "#fdca26"
             ],
             [
              1,
              "#f0f921"
             ]
            ],
            "type": "heatmapgl"
           }
          ],
          "histogram": [
           {
            "marker": {
             "pattern": {
              "fillmode": "overlay",
              "size": 10,
              "solidity": 0.2
             }
            },
            "type": "histogram"
           }
          ],
          "histogram2d": [
           {
            "colorbar": {
             "outlinewidth": 0,
             "ticks": ""
            },
            "colorscale": [
             [
              0,
              "#0d0887"
             ],
             [
              0.1111111111111111,
              "#46039f"
             ],
             [
              0.2222222222222222,
              "#7201a8"
             ],
             [
              0.3333333333333333,
              "#9c179e"
             ],
             [
              0.4444444444444444,
              "#bd3786"
             ],
             [
              0.5555555555555556,
              "#d8576b"
             ],
             [
              0.6666666666666666,
              "#ed7953"
             ],
             [
              0.7777777777777778,
              "#fb9f3a"
             ],
             [
              0.8888888888888888,
              "#fdca26"
             ],
             [
              1,
              "#f0f921"
             ]
            ],
            "type": "histogram2d"
           }
          ],
          "histogram2dcontour": [
           {
            "colorbar": {
             "outlinewidth": 0,
             "ticks": ""
            },
            "colorscale": [
             [
              0,
              "#0d0887"
             ],
             [
              0.1111111111111111,
              "#46039f"
             ],
             [
              0.2222222222222222,
              "#7201a8"
             ],
             [
              0.3333333333333333,
              "#9c179e"
             ],
             [
              0.4444444444444444,
              "#bd3786"
             ],
             [
              0.5555555555555556,
              "#d8576b"
             ],
             [
              0.6666666666666666,
              "#ed7953"
             ],
             [
              0.7777777777777778,
              "#fb9f3a"
             ],
             [
              0.8888888888888888,
              "#fdca26"
             ],
             [
              1,
              "#f0f921"
             ]
            ],
            "type": "histogram2dcontour"
           }
          ],
          "mesh3d": [
           {
            "colorbar": {
             "outlinewidth": 0,
             "ticks": ""
            },
            "type": "mesh3d"
           }
          ],
          "parcoords": [
           {
            "line": {
             "colorbar": {
              "outlinewidth": 0,
              "ticks": ""
             }
            },
            "type": "parcoords"
           }
          ],
          "pie": [
           {
            "automargin": true,
            "type": "pie"
           }
          ],
          "scatter": [
           {
            "fillpattern": {
             "fillmode": "overlay",
             "size": 10,
             "solidity": 0.2
            },
            "type": "scatter"
           }
          ],
          "scatter3d": [
           {
            "line": {
             "colorbar": {
              "outlinewidth": 0,
              "ticks": ""
             }
            },
            "marker": {
             "colorbar": {
              "outlinewidth": 0,
              "ticks": ""
             }
            },
            "type": "scatter3d"
           }
          ],
          "scattercarpet": [
           {
            "marker": {
             "colorbar": {
              "outlinewidth": 0,
              "ticks": ""
             }
            },
            "type": "scattercarpet"
           }
          ],
          "scattergeo": [
           {
            "marker": {
             "colorbar": {
              "outlinewidth": 0,
              "ticks": ""
             }
            },
            "type": "scattergeo"
           }
          ],
          "scattergl": [
           {
            "marker": {
             "colorbar": {
              "outlinewidth": 0,
              "ticks": ""
             }
            },
            "type": "scattergl"
           }
          ],
          "scattermapbox": [
           {
            "marker": {
             "colorbar": {
              "outlinewidth": 0,
              "ticks": ""
             }
            },
            "type": "scattermapbox"
           }
          ],
          "scatterpolar": [
           {
            "marker": {
             "colorbar": {
              "outlinewidth": 0,
              "ticks": ""
             }
            },
            "type": "scatterpolar"
           }
          ],
          "scatterpolargl": [
           {
            "marker": {
             "colorbar": {
              "outlinewidth": 0,
              "ticks": ""
             }
            },
            "type": "scatterpolargl"
           }
          ],
          "scatterternary": [
           {
            "marker": {
             "colorbar": {
              "outlinewidth": 0,
              "ticks": ""
             }
            },
            "type": "scatterternary"
           }
          ],
          "surface": [
           {
            "colorbar": {
             "outlinewidth": 0,
             "ticks": ""
            },
            "colorscale": [
             [
              0,
              "#0d0887"
             ],
             [
              0.1111111111111111,
              "#46039f"
             ],
             [
              0.2222222222222222,
              "#7201a8"
             ],
             [
              0.3333333333333333,
              "#9c179e"
             ],
             [
              0.4444444444444444,
              "#bd3786"
             ],
             [
              0.5555555555555556,
              "#d8576b"
             ],
             [
              0.6666666666666666,
              "#ed7953"
             ],
             [
              0.7777777777777778,
              "#fb9f3a"
             ],
             [
              0.8888888888888888,
              "#fdca26"
             ],
             [
              1,
              "#f0f921"
             ]
            ],
            "type": "surface"
           }
          ],
          "table": [
           {
            "cells": {
             "fill": {
              "color": "#EBF0F8"
             },
             "line": {
              "color": "white"
             }
            },
            "header": {
             "fill": {
              "color": "#C8D4E3"
             },
             "line": {
              "color": "white"
             }
            },
            "type": "table"
           }
          ]
         },
         "layout": {
          "annotationdefaults": {
           "arrowcolor": "#2a3f5f",
           "arrowhead": 0,
           "arrowwidth": 1
          },
          "autotypenumbers": "strict",
          "coloraxis": {
           "colorbar": {
            "outlinewidth": 0,
            "ticks": ""
           }
          },
          "colorscale": {
           "diverging": [
            [
             0,
             "#8e0152"
            ],
            [
             0.1,
             "#c51b7d"
            ],
            [
             0.2,
             "#de77ae"
            ],
            [
             0.3,
             "#f1b6da"
            ],
            [
             0.4,
             "#fde0ef"
            ],
            [
             0.5,
             "#f7f7f7"
            ],
            [
             0.6,
             "#e6f5d0"
            ],
            [
             0.7,
             "#b8e186"
            ],
            [
             0.8,
             "#7fbc41"
            ],
            [
             0.9,
             "#4d9221"
            ],
            [
             1,
             "#276419"
            ]
           ],
           "sequential": [
            [
             0,
             "#0d0887"
            ],
            [
             0.1111111111111111,
             "#46039f"
            ],
            [
             0.2222222222222222,
             "#7201a8"
            ],
            [
             0.3333333333333333,
             "#9c179e"
            ],
            [
             0.4444444444444444,
             "#bd3786"
            ],
            [
             0.5555555555555556,
             "#d8576b"
            ],
            [
             0.6666666666666666,
             "#ed7953"
            ],
            [
             0.7777777777777778,
             "#fb9f3a"
            ],
            [
             0.8888888888888888,
             "#fdca26"
            ],
            [
             1,
             "#f0f921"
            ]
           ],
           "sequentialminus": [
            [
             0,
             "#0d0887"
            ],
            [
             0.1111111111111111,
             "#46039f"
            ],
            [
             0.2222222222222222,
             "#7201a8"
            ],
            [
             0.3333333333333333,
             "#9c179e"
            ],
            [
             0.4444444444444444,
             "#bd3786"
            ],
            [
             0.5555555555555556,
             "#d8576b"
            ],
            [
             0.6666666666666666,
             "#ed7953"
            ],
            [
             0.7777777777777778,
             "#fb9f3a"
            ],
            [
             0.8888888888888888,
             "#fdca26"
            ],
            [
             1,
             "#f0f921"
            ]
           ]
          },
          "colorway": [
           "#636efa",
           "#EF553B",
           "#00cc96",
           "#ab63fa",
           "#FFA15A",
           "#19d3f3",
           "#FF6692",
           "#B6E880",
           "#FF97FF",
           "#FECB52"
          ],
          "font": {
           "color": "#2a3f5f"
          },
          "geo": {
           "bgcolor": "white",
           "lakecolor": "white",
           "landcolor": "#E5ECF6",
           "showlakes": true,
           "showland": true,
           "subunitcolor": "white"
          },
          "hoverlabel": {
           "align": "left"
          },
          "hovermode": "closest",
          "mapbox": {
           "style": "light"
          },
          "paper_bgcolor": "white",
          "plot_bgcolor": "#E5ECF6",
          "polar": {
           "angularaxis": {
            "gridcolor": "white",
            "linecolor": "white",
            "ticks": ""
           },
           "bgcolor": "#E5ECF6",
           "radialaxis": {
            "gridcolor": "white",
            "linecolor": "white",
            "ticks": ""
           }
          },
          "scene": {
           "xaxis": {
            "backgroundcolor": "#E5ECF6",
            "gridcolor": "white",
            "gridwidth": 2,
            "linecolor": "white",
            "showbackground": true,
            "ticks": "",
            "zerolinecolor": "white"
           },
           "yaxis": {
            "backgroundcolor": "#E5ECF6",
            "gridcolor": "white",
            "gridwidth": 2,
            "linecolor": "white",
            "showbackground": true,
            "ticks": "",
            "zerolinecolor": "white"
           },
           "zaxis": {
            "backgroundcolor": "#E5ECF6",
            "gridcolor": "white",
            "gridwidth": 2,
            "linecolor": "white",
            "showbackground": true,
            "ticks": "",
            "zerolinecolor": "white"
           }
          },
          "shapedefaults": {
           "line": {
            "color": "#2a3f5f"
           }
          },
          "ternary": {
           "aaxis": {
            "gridcolor": "white",
            "linecolor": "white",
            "ticks": ""
           },
           "baxis": {
            "gridcolor": "white",
            "linecolor": "white",
            "ticks": ""
           },
           "bgcolor": "#E5ECF6",
           "caxis": {
            "gridcolor": "white",
            "linecolor": "white",
            "ticks": ""
           }
          },
          "title": {
           "x": 0.05
          },
          "xaxis": {
           "automargin": true,
           "gridcolor": "white",
           "linecolor": "white",
           "ticks": "",
           "title": {
            "standoff": 15
           },
           "zerolinecolor": "white",
           "zerolinewidth": 2
          },
          "yaxis": {
           "automargin": true,
           "gridcolor": "white",
           "linecolor": "white",
           "ticks": "",
           "title": {
            "standoff": 15
           },
           "zerolinecolor": "white",
           "zerolinewidth": 2
          }
         }
        },
        "title": {
         "text": "Salario promedio por región y nivel de experiencia"
        },
        "xaxis": {
         "anchor": "y",
         "domain": [
          0,
          1
         ],
         "title": {
          "text": "Región"
         }
        },
        "yaxis": {
         "anchor": "x",
         "domain": [
          0,
          1
         ],
         "title": {
          "text": "Salario (USD)"
         }
        }
       }
      }
     },
     "metadata": {},
     "output_type": "display_data"
    }
   ],
   "source": [
    "salary_by_region = data_science_salaries.groupby([\"company_location\", \"experience_level\"])[\"salary_in_usd\"].mean().reset_index()\n",
    "\n",
    "fig = px.bar(salary_by_region, \n",
    "             x=\"company_location\", \n",
    "             y=\"salary_in_usd\", \n",
    "             color=\"experience_level\",\n",
    "             title=\"Salario promedio por región y nivel de experiencia\",\n",
    "             labels={\"company_location\": \"Región\", \"salary_in_usd\": \"Salario (USD)\", \"experience_level\": \"Nivel de experiencia\"})\n",
    "fig.show()\n"
   ]
  },
  {
   "cell_type": "markdown",
   "metadata": {},
   "source": [
    "# Ejercicio 5: Frecuencia de tipos de ejercicio\n",
    "Crea un gráfico de barras apiladas para mostrar la frecuencia de cada tipo de ejercicio por género.\n",
    "\n",
    "### Instrucciones\n",
    "1. Agrupa los datos por tipo de ejercicio (`Workout_Type`) y género (`Gender`).\n",
    "2. Cuenta la frecuencia de cada combinación.\n",
    "3. Representa los datos con un gráfico de barras apiladas.\n",
    "\n",
    "**Dataset:** `Gym Members Exercise Dataset`\n"
   ]
  },
  {
   "cell_type": "code",
   "execution_count": 35,
   "metadata": {},
   "outputs": [
    {
     "data": {
      "application/vnd.plotly.v1+json": {
       "config": {
        "plotlyServerURL": "https://plot.ly"
       },
       "data": [
        {
         "alignmentgroup": "True",
         "hovertemplate": "Género=Female<br>Tipo de ejercicio=%{x}<br>Frecuencia=%{y}<extra></extra>",
         "legendgroup": "Female",
         "marker": {
          "color": "#636efa",
          "pattern": {
           "shape": ""
          }
         },
         "name": "Female",
         "offsetgroup": "Female",
         "orientation": "v",
         "showlegend": true,
         "textposition": "auto",
         "type": "bar",
         "x": [
          "Cardio",
          "HIIT",
          "Strength",
          "Yoga"
         ],
         "xaxis": "x",
         "y": [
          126,
          107,
          123,
          106
         ],
         "yaxis": "y"
        },
        {
         "alignmentgroup": "True",
         "hovertemplate": "Género=Male<br>Tipo de ejercicio=%{x}<br>Frecuencia=%{y}<extra></extra>",
         "legendgroup": "Male",
         "marker": {
          "color": "#EF553B",
          "pattern": {
           "shape": ""
          }
         },
         "name": "Male",
         "offsetgroup": "Male",
         "orientation": "v",
         "showlegend": true,
         "textposition": "auto",
         "type": "bar",
         "x": [
          "Cardio",
          "HIIT",
          "Strength",
          "Yoga"
         ],
         "xaxis": "x",
         "y": [
          129,
          114,
          135,
          133
         ],
         "yaxis": "y"
        }
       ],
       "layout": {
        "barmode": "relative",
        "legend": {
         "title": {
          "text": "Género"
         },
         "tracegroupgap": 0
        },
        "template": {
         "data": {
          "bar": [
           {
            "error_x": {
             "color": "#2a3f5f"
            },
            "error_y": {
             "color": "#2a3f5f"
            },
            "marker": {
             "line": {
              "color": "#E5ECF6",
              "width": 0.5
             },
             "pattern": {
              "fillmode": "overlay",
              "size": 10,
              "solidity": 0.2
             }
            },
            "type": "bar"
           }
          ],
          "barpolar": [
           {
            "marker": {
             "line": {
              "color": "#E5ECF6",
              "width": 0.5
             },
             "pattern": {
              "fillmode": "overlay",
              "size": 10,
              "solidity": 0.2
             }
            },
            "type": "barpolar"
           }
          ],
          "carpet": [
           {
            "aaxis": {
             "endlinecolor": "#2a3f5f",
             "gridcolor": "white",
             "linecolor": "white",
             "minorgridcolor": "white",
             "startlinecolor": "#2a3f5f"
            },
            "baxis": {
             "endlinecolor": "#2a3f5f",
             "gridcolor": "white",
             "linecolor": "white",
             "minorgridcolor": "white",
             "startlinecolor": "#2a3f5f"
            },
            "type": "carpet"
           }
          ],
          "choropleth": [
           {
            "colorbar": {
             "outlinewidth": 0,
             "ticks": ""
            },
            "type": "choropleth"
           }
          ],
          "contour": [
           {
            "colorbar": {
             "outlinewidth": 0,
             "ticks": ""
            },
            "colorscale": [
             [
              0,
              "#0d0887"
             ],
             [
              0.1111111111111111,
              "#46039f"
             ],
             [
              0.2222222222222222,
              "#7201a8"
             ],
             [
              0.3333333333333333,
              "#9c179e"
             ],
             [
              0.4444444444444444,
              "#bd3786"
             ],
             [
              0.5555555555555556,
              "#d8576b"
             ],
             [
              0.6666666666666666,
              "#ed7953"
             ],
             [
              0.7777777777777778,
              "#fb9f3a"
             ],
             [
              0.8888888888888888,
              "#fdca26"
             ],
             [
              1,
              "#f0f921"
             ]
            ],
            "type": "contour"
           }
          ],
          "contourcarpet": [
           {
            "colorbar": {
             "outlinewidth": 0,
             "ticks": ""
            },
            "type": "contourcarpet"
           }
          ],
          "heatmap": [
           {
            "colorbar": {
             "outlinewidth": 0,
             "ticks": ""
            },
            "colorscale": [
             [
              0,
              "#0d0887"
             ],
             [
              0.1111111111111111,
              "#46039f"
             ],
             [
              0.2222222222222222,
              "#7201a8"
             ],
             [
              0.3333333333333333,
              "#9c179e"
             ],
             [
              0.4444444444444444,
              "#bd3786"
             ],
             [
              0.5555555555555556,
              "#d8576b"
             ],
             [
              0.6666666666666666,
              "#ed7953"
             ],
             [
              0.7777777777777778,
              "#fb9f3a"
             ],
             [
              0.8888888888888888,
              "#fdca26"
             ],
             [
              1,
              "#f0f921"
             ]
            ],
            "type": "heatmap"
           }
          ],
          "heatmapgl": [
           {
            "colorbar": {
             "outlinewidth": 0,
             "ticks": ""
            },
            "colorscale": [
             [
              0,
              "#0d0887"
             ],
             [
              0.1111111111111111,
              "#46039f"
             ],
             [
              0.2222222222222222,
              "#7201a8"
             ],
             [
              0.3333333333333333,
              "#9c179e"
             ],
             [
              0.4444444444444444,
              "#bd3786"
             ],
             [
              0.5555555555555556,
              "#d8576b"
             ],
             [
              0.6666666666666666,
              "#ed7953"
             ],
             [
              0.7777777777777778,
              "#fb9f3a"
             ],
             [
              0.8888888888888888,
              "#fdca26"
             ],
             [
              1,
              "#f0f921"
             ]
            ],
            "type": "heatmapgl"
           }
          ],
          "histogram": [
           {
            "marker": {
             "pattern": {
              "fillmode": "overlay",
              "size": 10,
              "solidity": 0.2
             }
            },
            "type": "histogram"
           }
          ],
          "histogram2d": [
           {
            "colorbar": {
             "outlinewidth": 0,
             "ticks": ""
            },
            "colorscale": [
             [
              0,
              "#0d0887"
             ],
             [
              0.1111111111111111,
              "#46039f"
             ],
             [
              0.2222222222222222,
              "#7201a8"
             ],
             [
              0.3333333333333333,
              "#9c179e"
             ],
             [
              0.4444444444444444,
              "#bd3786"
             ],
             [
              0.5555555555555556,
              "#d8576b"
             ],
             [
              0.6666666666666666,
              "#ed7953"
             ],
             [
              0.7777777777777778,
              "#fb9f3a"
             ],
             [
              0.8888888888888888,
              "#fdca26"
             ],
             [
              1,
              "#f0f921"
             ]
            ],
            "type": "histogram2d"
           }
          ],
          "histogram2dcontour": [
           {
            "colorbar": {
             "outlinewidth": 0,
             "ticks": ""
            },
            "colorscale": [
             [
              0,
              "#0d0887"
             ],
             [
              0.1111111111111111,
              "#46039f"
             ],
             [
              0.2222222222222222,
              "#7201a8"
             ],
             [
              0.3333333333333333,
              "#9c179e"
             ],
             [
              0.4444444444444444,
              "#bd3786"
             ],
             [
              0.5555555555555556,
              "#d8576b"
             ],
             [
              0.6666666666666666,
              "#ed7953"
             ],
             [
              0.7777777777777778,
              "#fb9f3a"
             ],
             [
              0.8888888888888888,
              "#fdca26"
             ],
             [
              1,
              "#f0f921"
             ]
            ],
            "type": "histogram2dcontour"
           }
          ],
          "mesh3d": [
           {
            "colorbar": {
             "outlinewidth": 0,
             "ticks": ""
            },
            "type": "mesh3d"
           }
          ],
          "parcoords": [
           {
            "line": {
             "colorbar": {
              "outlinewidth": 0,
              "ticks": ""
             }
            },
            "type": "parcoords"
           }
          ],
          "pie": [
           {
            "automargin": true,
            "type": "pie"
           }
          ],
          "scatter": [
           {
            "fillpattern": {
             "fillmode": "overlay",
             "size": 10,
             "solidity": 0.2
            },
            "type": "scatter"
           }
          ],
          "scatter3d": [
           {
            "line": {
             "colorbar": {
              "outlinewidth": 0,
              "ticks": ""
             }
            },
            "marker": {
             "colorbar": {
              "outlinewidth": 0,
              "ticks": ""
             }
            },
            "type": "scatter3d"
           }
          ],
          "scattercarpet": [
           {
            "marker": {
             "colorbar": {
              "outlinewidth": 0,
              "ticks": ""
             }
            },
            "type": "scattercarpet"
           }
          ],
          "scattergeo": [
           {
            "marker": {
             "colorbar": {
              "outlinewidth": 0,
              "ticks": ""
             }
            },
            "type": "scattergeo"
           }
          ],
          "scattergl": [
           {
            "marker": {
             "colorbar": {
              "outlinewidth": 0,
              "ticks": ""
             }
            },
            "type": "scattergl"
           }
          ],
          "scattermapbox": [
           {
            "marker": {
             "colorbar": {
              "outlinewidth": 0,
              "ticks": ""
             }
            },
            "type": "scattermapbox"
           }
          ],
          "scatterpolar": [
           {
            "marker": {
             "colorbar": {
              "outlinewidth": 0,
              "ticks": ""
             }
            },
            "type": "scatterpolar"
           }
          ],
          "scatterpolargl": [
           {
            "marker": {
             "colorbar": {
              "outlinewidth": 0,
              "ticks": ""
             }
            },
            "type": "scatterpolargl"
           }
          ],
          "scatterternary": [
           {
            "marker": {
             "colorbar": {
              "outlinewidth": 0,
              "ticks": ""
             }
            },
            "type": "scatterternary"
           }
          ],
          "surface": [
           {
            "colorbar": {
             "outlinewidth": 0,
             "ticks": ""
            },
            "colorscale": [
             [
              0,
              "#0d0887"
             ],
             [
              0.1111111111111111,
              "#46039f"
             ],
             [
              0.2222222222222222,
              "#7201a8"
             ],
             [
              0.3333333333333333,
              "#9c179e"
             ],
             [
              0.4444444444444444,
              "#bd3786"
             ],
             [
              0.5555555555555556,
              "#d8576b"
             ],
             [
              0.6666666666666666,
              "#ed7953"
             ],
             [
              0.7777777777777778,
              "#fb9f3a"
             ],
             [
              0.8888888888888888,
              "#fdca26"
             ],
             [
              1,
              "#f0f921"
             ]
            ],
            "type": "surface"
           }
          ],
          "table": [
           {
            "cells": {
             "fill": {
              "color": "#EBF0F8"
             },
             "line": {
              "color": "white"
             }
            },
            "header": {
             "fill": {
              "color": "#C8D4E3"
             },
             "line": {
              "color": "white"
             }
            },
            "type": "table"
           }
          ]
         },
         "layout": {
          "annotationdefaults": {
           "arrowcolor": "#2a3f5f",
           "arrowhead": 0,
           "arrowwidth": 1
          },
          "autotypenumbers": "strict",
          "coloraxis": {
           "colorbar": {
            "outlinewidth": 0,
            "ticks": ""
           }
          },
          "colorscale": {
           "diverging": [
            [
             0,
             "#8e0152"
            ],
            [
             0.1,
             "#c51b7d"
            ],
            [
             0.2,
             "#de77ae"
            ],
            [
             0.3,
             "#f1b6da"
            ],
            [
             0.4,
             "#fde0ef"
            ],
            [
             0.5,
             "#f7f7f7"
            ],
            [
             0.6,
             "#e6f5d0"
            ],
            [
             0.7,
             "#b8e186"
            ],
            [
             0.8,
             "#7fbc41"
            ],
            [
             0.9,
             "#4d9221"
            ],
            [
             1,
             "#276419"
            ]
           ],
           "sequential": [
            [
             0,
             "#0d0887"
            ],
            [
             0.1111111111111111,
             "#46039f"
            ],
            [
             0.2222222222222222,
             "#7201a8"
            ],
            [
             0.3333333333333333,
             "#9c179e"
            ],
            [
             0.4444444444444444,
             "#bd3786"
            ],
            [
             0.5555555555555556,
             "#d8576b"
            ],
            [
             0.6666666666666666,
             "#ed7953"
            ],
            [
             0.7777777777777778,
             "#fb9f3a"
            ],
            [
             0.8888888888888888,
             "#fdca26"
            ],
            [
             1,
             "#f0f921"
            ]
           ],
           "sequentialminus": [
            [
             0,
             "#0d0887"
            ],
            [
             0.1111111111111111,
             "#46039f"
            ],
            [
             0.2222222222222222,
             "#7201a8"
            ],
            [
             0.3333333333333333,
             "#9c179e"
            ],
            [
             0.4444444444444444,
             "#bd3786"
            ],
            [
             0.5555555555555556,
             "#d8576b"
            ],
            [
             0.6666666666666666,
             "#ed7953"
            ],
            [
             0.7777777777777778,
             "#fb9f3a"
            ],
            [
             0.8888888888888888,
             "#fdca26"
            ],
            [
             1,
             "#f0f921"
            ]
           ]
          },
          "colorway": [
           "#636efa",
           "#EF553B",
           "#00cc96",
           "#ab63fa",
           "#FFA15A",
           "#19d3f3",
           "#FF6692",
           "#B6E880",
           "#FF97FF",
           "#FECB52"
          ],
          "font": {
           "color": "#2a3f5f"
          },
          "geo": {
           "bgcolor": "white",
           "lakecolor": "white",
           "landcolor": "#E5ECF6",
           "showlakes": true,
           "showland": true,
           "subunitcolor": "white"
          },
          "hoverlabel": {
           "align": "left"
          },
          "hovermode": "closest",
          "mapbox": {
           "style": "light"
          },
          "paper_bgcolor": "white",
          "plot_bgcolor": "#E5ECF6",
          "polar": {
           "angularaxis": {
            "gridcolor": "white",
            "linecolor": "white",
            "ticks": ""
           },
           "bgcolor": "#E5ECF6",
           "radialaxis": {
            "gridcolor": "white",
            "linecolor": "white",
            "ticks": ""
           }
          },
          "scene": {
           "xaxis": {
            "backgroundcolor": "#E5ECF6",
            "gridcolor": "white",
            "gridwidth": 2,
            "linecolor": "white",
            "showbackground": true,
            "ticks": "",
            "zerolinecolor": "white"
           },
           "yaxis": {
            "backgroundcolor": "#E5ECF6",
            "gridcolor": "white",
            "gridwidth": 2,
            "linecolor": "white",
            "showbackground": true,
            "ticks": "",
            "zerolinecolor": "white"
           },
           "zaxis": {
            "backgroundcolor": "#E5ECF6",
            "gridcolor": "white",
            "gridwidth": 2,
            "linecolor": "white",
            "showbackground": true,
            "ticks": "",
            "zerolinecolor": "white"
           }
          },
          "shapedefaults": {
           "line": {
            "color": "#2a3f5f"
           }
          },
          "ternary": {
           "aaxis": {
            "gridcolor": "white",
            "linecolor": "white",
            "ticks": ""
           },
           "baxis": {
            "gridcolor": "white",
            "linecolor": "white",
            "ticks": ""
           },
           "bgcolor": "#E5ECF6",
           "caxis": {
            "gridcolor": "white",
            "linecolor": "white",
            "ticks": ""
           }
          },
          "title": {
           "x": 0.05
          },
          "xaxis": {
           "automargin": true,
           "gridcolor": "white",
           "linecolor": "white",
           "ticks": "",
           "title": {
            "standoff": 15
           },
           "zerolinecolor": "white",
           "zerolinewidth": 2
          },
          "yaxis": {
           "automargin": true,
           "gridcolor": "white",
           "linecolor": "white",
           "ticks": "",
           "title": {
            "standoff": 15
           },
           "zerolinecolor": "white",
           "zerolinewidth": 2
          }
         }
        },
        "title": {
         "text": "Frecuencia de tipos de ejercicio por género"
        },
        "xaxis": {
         "anchor": "y",
         "domain": [
          0,
          1
         ],
         "title": {
          "text": "Tipo de ejercicio"
         }
        },
        "yaxis": {
         "anchor": "x",
         "domain": [
          0,
          1
         ],
         "title": {
          "text": "Frecuencia"
         }
        }
       }
      }
     },
     "metadata": {},
     "output_type": "display_data"
    }
   ],
   "source": [
    "exercise_freq = gym_members_exercise.groupby([\"Workout_Type\", \"Gender\"]).size().reset_index(name=\"count\")\n",
    "\n",
    "fig = px.bar(exercise_freq, \n",
    "             x=\"Workout_Type\", \n",
    "             y=\"count\", \n",
    "             color=\"Gender\",\n",
    "             title=\"Frecuencia de tipos de ejercicio por género\",\n",
    "             labels={\"Workout_Type\": \"Tipo de ejercicio\", \"count\": \"Frecuencia\", \"Gender\": \"Género\"})\n",
    "fig.show()\n"
   ]
  },
  {
   "cell_type": "markdown",
   "metadata": {},
   "source": [
    "# Ejercicio 6: Comparación de horas de sueño entre grupos de edad\n",
    "Crea un gráfico de barras horizontales para comparar las horas promedio de sueño entre grupos de edad (Ejercicio 3).\n",
    "\n",
    "### Instrucciones\n",
    "1. Agrupa los datos en rangos de edad.\n",
    "2. Calcula el promedio de horas de sueño para cada grupo.\n",
    "3. Crea un gráfico de barras horizontales.\n",
    "\n",
    "**Dataset:** `Sleep Health and Lifestyle Dataset`\n"
   ]
  },
  {
   "cell_type": "code",
   "execution_count": 40,
   "metadata": {},
   "outputs": [
    {
     "name": "stderr",
     "output_type": "stream",
     "text": [
      "C:\\Users\\Cristian\\AppData\\Local\\Temp\\ipykernel_19544\\2388599548.py:9: FutureWarning:\n",
      "\n",
      "The default of observed=False is deprecated and will be changed to True in a future version of pandas. Pass observed=False to retain current behavior or observed=True to adopt the future default and silence this warning.\n",
      "\n"
     ]
    },
    {
     "data": {
      "application/vnd.plotly.v1+json": {
       "config": {
        "plotlyServerURL": "https://plot.ly"
       },
       "data": [
        {
         "alignmentgroup": "True",
         "hovertemplate": "Horas de sueño=%{x}<br>Grupo de edad=%{y}<extra></extra>",
         "legendgroup": "",
         "marker": {
          "color": "#636efa",
          "pattern": {
           "shape": ""
          }
         },
         "name": "",
         "offsetgroup": "",
         "orientation": "h",
         "showlegend": false,
         "textposition": "auto",
         "type": "bar",
         "x": [
          6.033333333333334,
          6.89054054054054,
          7.1469696969696965,
          7.286486486486487,
          6.519148936170212,
          7.101538461538462,
          8.188461538461539,
          8.09375
         ],
         "xaxis": "x",
         "y": [
          "24-28",
          "29-33",
          "34-38",
          "39-43",
          "44-48",
          "49-53",
          "54-58",
          "59-63"
         ],
         "yaxis": "y"
        }
       ],
       "layout": {
        "barmode": "relative",
        "legend": {
         "tracegroupgap": 0
        },
        "template": {
         "data": {
          "bar": [
           {
            "error_x": {
             "color": "#2a3f5f"
            },
            "error_y": {
             "color": "#2a3f5f"
            },
            "marker": {
             "line": {
              "color": "#E5ECF6",
              "width": 0.5
             },
             "pattern": {
              "fillmode": "overlay",
              "size": 10,
              "solidity": 0.2
             }
            },
            "type": "bar"
           }
          ],
          "barpolar": [
           {
            "marker": {
             "line": {
              "color": "#E5ECF6",
              "width": 0.5
             },
             "pattern": {
              "fillmode": "overlay",
              "size": 10,
              "solidity": 0.2
             }
            },
            "type": "barpolar"
           }
          ],
          "carpet": [
           {
            "aaxis": {
             "endlinecolor": "#2a3f5f",
             "gridcolor": "white",
             "linecolor": "white",
             "minorgridcolor": "white",
             "startlinecolor": "#2a3f5f"
            },
            "baxis": {
             "endlinecolor": "#2a3f5f",
             "gridcolor": "white",
             "linecolor": "white",
             "minorgridcolor": "white",
             "startlinecolor": "#2a3f5f"
            },
            "type": "carpet"
           }
          ],
          "choropleth": [
           {
            "colorbar": {
             "outlinewidth": 0,
             "ticks": ""
            },
            "type": "choropleth"
           }
          ],
          "contour": [
           {
            "colorbar": {
             "outlinewidth": 0,
             "ticks": ""
            },
            "colorscale": [
             [
              0,
              "#0d0887"
             ],
             [
              0.1111111111111111,
              "#46039f"
             ],
             [
              0.2222222222222222,
              "#7201a8"
             ],
             [
              0.3333333333333333,
              "#9c179e"
             ],
             [
              0.4444444444444444,
              "#bd3786"
             ],
             [
              0.5555555555555556,
              "#d8576b"
             ],
             [
              0.6666666666666666,
              "#ed7953"
             ],
             [
              0.7777777777777778,
              "#fb9f3a"
             ],
             [
              0.8888888888888888,
              "#fdca26"
             ],
             [
              1,
              "#f0f921"
             ]
            ],
            "type": "contour"
           }
          ],
          "contourcarpet": [
           {
            "colorbar": {
             "outlinewidth": 0,
             "ticks": ""
            },
            "type": "contourcarpet"
           }
          ],
          "heatmap": [
           {
            "colorbar": {
             "outlinewidth": 0,
             "ticks": ""
            },
            "colorscale": [
             [
              0,
              "#0d0887"
             ],
             [
              0.1111111111111111,
              "#46039f"
             ],
             [
              0.2222222222222222,
              "#7201a8"
             ],
             [
              0.3333333333333333,
              "#9c179e"
             ],
             [
              0.4444444444444444,
              "#bd3786"
             ],
             [
              0.5555555555555556,
              "#d8576b"
             ],
             [
              0.6666666666666666,
              "#ed7953"
             ],
             [
              0.7777777777777778,
              "#fb9f3a"
             ],
             [
              0.8888888888888888,
              "#fdca26"
             ],
             [
              1,
              "#f0f921"
             ]
            ],
            "type": "heatmap"
           }
          ],
          "heatmapgl": [
           {
            "colorbar": {
             "outlinewidth": 0,
             "ticks": ""
            },
            "colorscale": [
             [
              0,
              "#0d0887"
             ],
             [
              0.1111111111111111,
              "#46039f"
             ],
             [
              0.2222222222222222,
              "#7201a8"
             ],
             [
              0.3333333333333333,
              "#9c179e"
             ],
             [
              0.4444444444444444,
              "#bd3786"
             ],
             [
              0.5555555555555556,
              "#d8576b"
             ],
             [
              0.6666666666666666,
              "#ed7953"
             ],
             [
              0.7777777777777778,
              "#fb9f3a"
             ],
             [
              0.8888888888888888,
              "#fdca26"
             ],
             [
              1,
              "#f0f921"
             ]
            ],
            "type": "heatmapgl"
           }
          ],
          "histogram": [
           {
            "marker": {
             "pattern": {
              "fillmode": "overlay",
              "size": 10,
              "solidity": 0.2
             }
            },
            "type": "histogram"
           }
          ],
          "histogram2d": [
           {
            "colorbar": {
             "outlinewidth": 0,
             "ticks": ""
            },
            "colorscale": [
             [
              0,
              "#0d0887"
             ],
             [
              0.1111111111111111,
              "#46039f"
             ],
             [
              0.2222222222222222,
              "#7201a8"
             ],
             [
              0.3333333333333333,
              "#9c179e"
             ],
             [
              0.4444444444444444,
              "#bd3786"
             ],
             [
              0.5555555555555556,
              "#d8576b"
             ],
             [
              0.6666666666666666,
              "#ed7953"
             ],
             [
              0.7777777777777778,
              "#fb9f3a"
             ],
             [
              0.8888888888888888,
              "#fdca26"
             ],
             [
              1,
              "#f0f921"
             ]
            ],
            "type": "histogram2d"
           }
          ],
          "histogram2dcontour": [
           {
            "colorbar": {
             "outlinewidth": 0,
             "ticks": ""
            },
            "colorscale": [
             [
              0,
              "#0d0887"
             ],
             [
              0.1111111111111111,
              "#46039f"
             ],
             [
              0.2222222222222222,
              "#7201a8"
             ],
             [
              0.3333333333333333,
              "#9c179e"
             ],
             [
              0.4444444444444444,
              "#bd3786"
             ],
             [
              0.5555555555555556,
              "#d8576b"
             ],
             [
              0.6666666666666666,
              "#ed7953"
             ],
             [
              0.7777777777777778,
              "#fb9f3a"
             ],
             [
              0.8888888888888888,
              "#fdca26"
             ],
             [
              1,
              "#f0f921"
             ]
            ],
            "type": "histogram2dcontour"
           }
          ],
          "mesh3d": [
           {
            "colorbar": {
             "outlinewidth": 0,
             "ticks": ""
            },
            "type": "mesh3d"
           }
          ],
          "parcoords": [
           {
            "line": {
             "colorbar": {
              "outlinewidth": 0,
              "ticks": ""
             }
            },
            "type": "parcoords"
           }
          ],
          "pie": [
           {
            "automargin": true,
            "type": "pie"
           }
          ],
          "scatter": [
           {
            "fillpattern": {
             "fillmode": "overlay",
             "size": 10,
             "solidity": 0.2
            },
            "type": "scatter"
           }
          ],
          "scatter3d": [
           {
            "line": {
             "colorbar": {
              "outlinewidth": 0,
              "ticks": ""
             }
            },
            "marker": {
             "colorbar": {
              "outlinewidth": 0,
              "ticks": ""
             }
            },
            "type": "scatter3d"
           }
          ],
          "scattercarpet": [
           {
            "marker": {
             "colorbar": {
              "outlinewidth": 0,
              "ticks": ""
             }
            },
            "type": "scattercarpet"
           }
          ],
          "scattergeo": [
           {
            "marker": {
             "colorbar": {
              "outlinewidth": 0,
              "ticks": ""
             }
            },
            "type": "scattergeo"
           }
          ],
          "scattergl": [
           {
            "marker": {
             "colorbar": {
              "outlinewidth": 0,
              "ticks": ""
             }
            },
            "type": "scattergl"
           }
          ],
          "scattermapbox": [
           {
            "marker": {
             "colorbar": {
              "outlinewidth": 0,
              "ticks": ""
             }
            },
            "type": "scattermapbox"
           }
          ],
          "scatterpolar": [
           {
            "marker": {
             "colorbar": {
              "outlinewidth": 0,
              "ticks": ""
             }
            },
            "type": "scatterpolar"
           }
          ],
          "scatterpolargl": [
           {
            "marker": {
             "colorbar": {
              "outlinewidth": 0,
              "ticks": ""
             }
            },
            "type": "scatterpolargl"
           }
          ],
          "scatterternary": [
           {
            "marker": {
             "colorbar": {
              "outlinewidth": 0,
              "ticks": ""
             }
            },
            "type": "scatterternary"
           }
          ],
          "surface": [
           {
            "colorbar": {
             "outlinewidth": 0,
             "ticks": ""
            },
            "colorscale": [
             [
              0,
              "#0d0887"
             ],
             [
              0.1111111111111111,
              "#46039f"
             ],
             [
              0.2222222222222222,
              "#7201a8"
             ],
             [
              0.3333333333333333,
              "#9c179e"
             ],
             [
              0.4444444444444444,
              "#bd3786"
             ],
             [
              0.5555555555555556,
              "#d8576b"
             ],
             [
              0.6666666666666666,
              "#ed7953"
             ],
             [
              0.7777777777777778,
              "#fb9f3a"
             ],
             [
              0.8888888888888888,
              "#fdca26"
             ],
             [
              1,
              "#f0f921"
             ]
            ],
            "type": "surface"
           }
          ],
          "table": [
           {
            "cells": {
             "fill": {
              "color": "#EBF0F8"
             },
             "line": {
              "color": "white"
             }
            },
            "header": {
             "fill": {
              "color": "#C8D4E3"
             },
             "line": {
              "color": "white"
             }
            },
            "type": "table"
           }
          ]
         },
         "layout": {
          "annotationdefaults": {
           "arrowcolor": "#2a3f5f",
           "arrowhead": 0,
           "arrowwidth": 1
          },
          "autotypenumbers": "strict",
          "coloraxis": {
           "colorbar": {
            "outlinewidth": 0,
            "ticks": ""
           }
          },
          "colorscale": {
           "diverging": [
            [
             0,
             "#8e0152"
            ],
            [
             0.1,
             "#c51b7d"
            ],
            [
             0.2,
             "#de77ae"
            ],
            [
             0.3,
             "#f1b6da"
            ],
            [
             0.4,
             "#fde0ef"
            ],
            [
             0.5,
             "#f7f7f7"
            ],
            [
             0.6,
             "#e6f5d0"
            ],
            [
             0.7,
             "#b8e186"
            ],
            [
             0.8,
             "#7fbc41"
            ],
            [
             0.9,
             "#4d9221"
            ],
            [
             1,
             "#276419"
            ]
           ],
           "sequential": [
            [
             0,
             "#0d0887"
            ],
            [
             0.1111111111111111,
             "#46039f"
            ],
            [
             0.2222222222222222,
             "#7201a8"
            ],
            [
             0.3333333333333333,
             "#9c179e"
            ],
            [
             0.4444444444444444,
             "#bd3786"
            ],
            [
             0.5555555555555556,
             "#d8576b"
            ],
            [
             0.6666666666666666,
             "#ed7953"
            ],
            [
             0.7777777777777778,
             "#fb9f3a"
            ],
            [
             0.8888888888888888,
             "#fdca26"
            ],
            [
             1,
             "#f0f921"
            ]
           ],
           "sequentialminus": [
            [
             0,
             "#0d0887"
            ],
            [
             0.1111111111111111,
             "#46039f"
            ],
            [
             0.2222222222222222,
             "#7201a8"
            ],
            [
             0.3333333333333333,
             "#9c179e"
            ],
            [
             0.4444444444444444,
             "#bd3786"
            ],
            [
             0.5555555555555556,
             "#d8576b"
            ],
            [
             0.6666666666666666,
             "#ed7953"
            ],
            [
             0.7777777777777778,
             "#fb9f3a"
            ],
            [
             0.8888888888888888,
             "#fdca26"
            ],
            [
             1,
             "#f0f921"
            ]
           ]
          },
          "colorway": [
           "#636efa",
           "#EF553B",
           "#00cc96",
           "#ab63fa",
           "#FFA15A",
           "#19d3f3",
           "#FF6692",
           "#B6E880",
           "#FF97FF",
           "#FECB52"
          ],
          "font": {
           "color": "#2a3f5f"
          },
          "geo": {
           "bgcolor": "white",
           "lakecolor": "white",
           "landcolor": "#E5ECF6",
           "showlakes": true,
           "showland": true,
           "subunitcolor": "white"
          },
          "hoverlabel": {
           "align": "left"
          },
          "hovermode": "closest",
          "mapbox": {
           "style": "light"
          },
          "paper_bgcolor": "white",
          "plot_bgcolor": "#E5ECF6",
          "polar": {
           "angularaxis": {
            "gridcolor": "white",
            "linecolor": "white",
            "ticks": ""
           },
           "bgcolor": "#E5ECF6",
           "radialaxis": {
            "gridcolor": "white",
            "linecolor": "white",
            "ticks": ""
           }
          },
          "scene": {
           "xaxis": {
            "backgroundcolor": "#E5ECF6",
            "gridcolor": "white",
            "gridwidth": 2,
            "linecolor": "white",
            "showbackground": true,
            "ticks": "",
            "zerolinecolor": "white"
           },
           "yaxis": {
            "backgroundcolor": "#E5ECF6",
            "gridcolor": "white",
            "gridwidth": 2,
            "linecolor": "white",
            "showbackground": true,
            "ticks": "",
            "zerolinecolor": "white"
           },
           "zaxis": {
            "backgroundcolor": "#E5ECF6",
            "gridcolor": "white",
            "gridwidth": 2,
            "linecolor": "white",
            "showbackground": true,
            "ticks": "",
            "zerolinecolor": "white"
           }
          },
          "shapedefaults": {
           "line": {
            "color": "#2a3f5f"
           }
          },
          "ternary": {
           "aaxis": {
            "gridcolor": "white",
            "linecolor": "white",
            "ticks": ""
           },
           "baxis": {
            "gridcolor": "white",
            "linecolor": "white",
            "ticks": ""
           },
           "bgcolor": "#E5ECF6",
           "caxis": {
            "gridcolor": "white",
            "linecolor": "white",
            "ticks": ""
           }
          },
          "title": {
           "x": 0.05
          },
          "xaxis": {
           "automargin": true,
           "gridcolor": "white",
           "linecolor": "white",
           "ticks": "",
           "title": {
            "standoff": 15
           },
           "zerolinecolor": "white",
           "zerolinewidth": 2
          },
          "yaxis": {
           "automargin": true,
           "gridcolor": "white",
           "linecolor": "white",
           "ticks": "",
           "title": {
            "standoff": 15
           },
           "zerolinecolor": "white",
           "zerolinewidth": 2
          }
         }
        },
        "title": {
         "text": "Promedio de horas de sueño por grupo de edad"
        },
        "xaxis": {
         "anchor": "y",
         "domain": [
          0,
          1
         ],
         "title": {
          "text": "Horas de sueño"
         }
        },
        "yaxis": {
         "anchor": "x",
         "domain": [
          0,
          1
         ],
         "title": {
          "text": "Grupo de edad"
         }
        }
       }
      }
     },
     "metadata": {},
     "output_type": "display_data"
    }
   ],
   "source": [
    "# Crear los nuevos rangos de edad\n",
    "sleep_health_lifestyle[\"Age_Group\"] = pd.cut(sleep_health_lifestyle[\"Age\"], \n",
    "                                             bins=[23, 28, 33, 38, 43, 48, 53, 58, 63],  \n",
    "                                             labels=[\"24-28\", \"29-33\", \"34-38\", \"39-43\", \n",
    "                                                     \"44-48\", \"49-53\", \"54-58\", \"59-63\"],\n",
    "                                             include_lowest=True)\n",
    "\n",
    "# Agrupar y calcular la duración promedio del sueño por rango de edad\n",
    "sleep_by_age = sleep_health_lifestyle.groupby(\"Age_Group\")[\"Sleep Duration\"].mean().reset_index()\n",
    "\n",
    "# Crear el gráfico de barras horizontal\n",
    "fig = px.bar(sleep_by_age, \n",
    "             x=\"Sleep Duration\", \n",
    "             y=\"Age_Group\", \n",
    "             orientation=\"h\",\n",
    "             title=\"Promedio de horas de sueño por grupo de edad\",\n",
    "             labels={\"Sleep Duration\": \"Horas de sueño\", \"Age_Group\": \"Grupo de edad\"})\n",
    "\n",
    "# Mostrar el gráfico\n",
    "fig.show()\n"
   ]
  },
  {
   "cell_type": "markdown",
   "metadata": {},
   "source": [
    "# Ejercicio 7: Evolución de casos confirmados de COVID-19\n",
    "Crea un gráfico de líneas para mostrar la evolución de los casos confirmados en un país específico.\n",
    "\n",
    "### Instrucciones\n",
    "1. Filtra los datos para un país de tu elección.\n",
    "2. Agrupa los datos por fecha (`date`).\n",
    "3. Suma los casos confirmados diarios (`confirmed_cases`) para cada fecha.\n",
    "4. Representa los resultados en un gráfico de líneas.\n",
    "\n",
    "**Dataset:** `COVID-19 Epidemiology Dataset`\n"
   ]
  },
  {
   "cell_type": "code",
   "execution_count": 8,
   "metadata": {},
   "outputs": [
    {
     "data": {
      "application/vnd.plotly.v1+json": {
       "config": {
        "plotlyServerURL": "https://plot.ly"
       },
       "data": [
        {
         "hovertemplate": "Fecha=%{x}<br>Casos confirmados=%{y}<extra></extra>",
         "legendgroup": "",
         "line": {
          "color": "#636efa",
          "dash": "solid"
         },
         "marker": {
          "symbol": "circle"
         },
         "mode": "lines",
         "name": "",
         "orientation": "v",
         "showlegend": false,
         "type": "scatter",
         "x": [
          "2020-01-01",
          "2020-01-02",
          "2020-01-03",
          "2020-01-04",
          "2020-01-05",
          "2020-01-06",
          "2020-01-07",
          "2020-01-08",
          "2020-01-09",
          "2020-01-10",
          "2020-01-11",
          "2020-01-12",
          "2020-01-13",
          "2020-01-14",
          "2020-01-15",
          "2020-01-16",
          "2020-01-17",
          "2020-01-18",
          "2020-01-19",
          "2020-01-20",
          "2020-01-21",
          "2020-01-22",
          "2020-01-23",
          "2020-01-24",
          "2020-01-25",
          "2020-01-26",
          "2020-01-27",
          "2020-01-28",
          "2020-01-29",
          "2020-01-30",
          "2020-01-31",
          "2020-02-01",
          "2020-02-02",
          "2020-02-03",
          "2020-02-04",
          "2020-02-05",
          "2020-02-06",
          "2020-02-07",
          "2020-02-08",
          "2020-02-09",
          "2020-02-10",
          "2020-02-11",
          "2020-02-12",
          "2020-02-13",
          "2020-02-14",
          "2020-02-15",
          "2020-02-16",
          "2020-02-17",
          "2020-02-18",
          "2020-02-19",
          "2020-02-20",
          "2020-02-21",
          "2020-02-22",
          "2020-02-23",
          "2020-02-24",
          "2020-02-25",
          "2020-02-26",
          "2020-02-27",
          "2020-02-28",
          "2020-02-29",
          "2020-03-01",
          "2020-03-02",
          "2020-03-03",
          "2020-03-04",
          "2020-03-05",
          "2020-03-06",
          "2020-03-07",
          "2020-03-08",
          "2020-03-09",
          "2020-03-10",
          "2020-03-11",
          "2020-03-12",
          "2020-03-13",
          "2020-03-14",
          "2020-03-15",
          "2020-03-16",
          "2020-03-17",
          "2020-03-18",
          "2020-03-19",
          "2020-03-20",
          "2020-03-21",
          "2020-03-22",
          "2020-03-23",
          "2020-03-24",
          "2020-03-25",
          "2020-03-26",
          "2020-03-27",
          "2020-03-28",
          "2020-03-29",
          "2020-03-30",
          "2020-03-31",
          "2020-04-01",
          "2020-04-02",
          "2020-04-03",
          "2020-04-04",
          "2020-04-05",
          "2020-04-06",
          "2020-04-07",
          "2020-04-08",
          "2020-04-09",
          "2020-04-10",
          "2020-04-11",
          "2020-04-12",
          "2020-04-13",
          "2020-04-14",
          "2020-04-15",
          "2020-04-16",
          "2020-04-17",
          "2020-04-18",
          "2020-04-19",
          "2020-04-20",
          "2020-04-21",
          "2020-04-22",
          "2020-04-23",
          "2020-04-24",
          "2020-04-25",
          "2020-04-26",
          "2020-04-27",
          "2020-04-28",
          "2020-04-29",
          "2020-04-30",
          "2020-05-01",
          "2020-05-02",
          "2020-05-03",
          "2020-05-04",
          "2020-05-05",
          "2020-05-06",
          "2020-05-07",
          "2020-05-08",
          "2020-05-09",
          "2020-05-10",
          "2020-05-11",
          "2020-05-12",
          "2020-05-13",
          "2020-05-14",
          "2020-05-15",
          "2020-05-16",
          "2020-05-17",
          "2020-05-18",
          "2020-05-19",
          "2020-05-20",
          "2020-05-21",
          "2020-05-22",
          "2020-05-23",
          "2020-05-24",
          "2020-05-25",
          "2020-05-26",
          "2020-05-27",
          "2020-05-28",
          "2020-05-29",
          "2020-05-30",
          "2020-05-31",
          "2020-06-01",
          "2020-06-02",
          "2020-06-03",
          "2020-06-04",
          "2020-06-05",
          "2020-06-06",
          "2020-06-07",
          "2020-06-08",
          "2020-06-09",
          "2020-06-10",
          "2020-06-11",
          "2020-06-12",
          "2020-06-13",
          "2020-06-14",
          "2020-06-15",
          "2020-06-16",
          "2020-06-17",
          "2020-06-18",
          "2020-06-19",
          "2020-06-20",
          "2020-06-21",
          "2020-06-22",
          "2020-06-23",
          "2020-06-24",
          "2020-06-25",
          "2020-06-26",
          "2020-06-27",
          "2020-06-28",
          "2020-06-29",
          "2020-06-30",
          "2020-07-01",
          "2020-07-02",
          "2020-07-03",
          "2020-07-04",
          "2020-07-05",
          "2020-07-06",
          "2020-07-07",
          "2020-07-08",
          "2020-07-09",
          "2020-07-10",
          "2020-07-11",
          "2020-07-12",
          "2020-07-13",
          "2020-07-14",
          "2020-07-15",
          "2020-07-16",
          "2020-07-17",
          "2020-07-18",
          "2020-07-19",
          "2020-07-20",
          "2020-07-21",
          "2020-07-22",
          "2020-07-23",
          "2020-07-24",
          "2020-07-25",
          "2020-07-26",
          "2020-07-27",
          "2020-07-28",
          "2020-07-29",
          "2020-07-30",
          "2020-07-31",
          "2020-08-01",
          "2020-08-02",
          "2020-08-03",
          "2020-08-04",
          "2020-08-05",
          "2020-08-06",
          "2020-08-07",
          "2020-08-08",
          "2020-08-09",
          "2020-08-10",
          "2020-08-11",
          "2020-08-12",
          "2020-08-13",
          "2020-08-14",
          "2020-08-15",
          "2020-08-16",
          "2020-08-17",
          "2020-08-18",
          "2020-08-19",
          "2020-08-20",
          "2020-08-21",
          "2020-08-22",
          "2020-08-23",
          "2020-08-24",
          "2020-08-25",
          "2020-08-26",
          "2020-08-27",
          "2020-08-28",
          "2020-08-29",
          "2020-08-30",
          "2020-08-31",
          "2020-09-01",
          "2020-09-02",
          "2020-09-03",
          "2020-09-04",
          "2020-09-05",
          "2020-09-06",
          "2020-09-07",
          "2020-09-08",
          "2020-09-09",
          "2020-09-10",
          "2020-09-11",
          "2020-09-12",
          "2020-09-13",
          "2020-09-14",
          "2020-09-15",
          "2020-09-16",
          "2020-09-17",
          "2020-09-18",
          "2020-09-19",
          "2020-09-20",
          "2020-09-21",
          "2020-09-22",
          "2020-09-23",
          "2020-09-24",
          "2020-09-25",
          "2020-09-26",
          "2020-09-27",
          "2020-09-28",
          "2020-09-29",
          "2020-09-30",
          "2020-10-01",
          "2020-10-02",
          "2020-10-03",
          "2020-10-04",
          "2020-10-05",
          "2020-10-06",
          "2020-10-07",
          "2020-10-08",
          "2020-10-09",
          "2020-10-10",
          "2020-10-11",
          "2020-10-12",
          "2020-10-13",
          "2020-10-14",
          "2020-10-15",
          "2020-10-16",
          "2020-10-17",
          "2020-10-18",
          "2020-10-19",
          "2020-10-20",
          "2020-10-21",
          "2020-10-22",
          "2020-10-23",
          "2020-10-24",
          "2020-10-25",
          "2020-10-26",
          "2020-10-27",
          "2020-10-28",
          "2020-10-29",
          "2020-10-30",
          "2020-10-31",
          "2020-11-01",
          "2020-11-02",
          "2020-11-03",
          "2020-11-04",
          "2020-11-05",
          "2020-11-06",
          "2020-11-07",
          "2020-11-08",
          "2020-11-09",
          "2020-11-10",
          "2020-11-11",
          "2020-11-12",
          "2020-11-13",
          "2020-11-14",
          "2020-11-15",
          "2020-11-16",
          "2020-11-17",
          "2020-11-18",
          "2020-11-19",
          "2020-11-20",
          "2020-11-21",
          "2020-11-22",
          "2020-11-23",
          "2020-11-24",
          "2020-11-25",
          "2020-11-26",
          "2020-11-27",
          "2020-11-28",
          "2020-11-29",
          "2020-11-30",
          "2020-12-01",
          "2020-12-02",
          "2020-12-03",
          "2020-12-04",
          "2020-12-05",
          "2020-12-06",
          "2020-12-07",
          "2020-12-08",
          "2020-12-09",
          "2020-12-10",
          "2020-12-11",
          "2020-12-12",
          "2020-12-13",
          "2020-12-14",
          "2020-12-15",
          "2020-12-16",
          "2020-12-17",
          "2020-12-18",
          "2020-12-19",
          "2020-12-20",
          "2020-12-21",
          "2020-12-22",
          "2020-12-23",
          "2020-12-24",
          "2020-12-25",
          "2020-12-26",
          "2020-12-27",
          "2020-12-28",
          "2020-12-29",
          "2020-12-30",
          "2020-12-31",
          "2021-01-01",
          "2021-01-02",
          "2021-01-03",
          "2021-01-04",
          "2021-01-05",
          "2021-01-06",
          "2021-01-07",
          "2021-01-08",
          "2021-01-09",
          "2021-01-10",
          "2021-01-11",
          "2021-01-12",
          "2021-01-13",
          "2021-01-14",
          "2021-01-15",
          "2021-01-16",
          "2021-01-17",
          "2021-01-18",
          "2021-01-19",
          "2021-01-20",
          "2021-01-21",
          "2021-01-22",
          "2021-01-23",
          "2021-01-24",
          "2021-01-25",
          "2021-01-26",
          "2021-01-27",
          "2021-01-28",
          "2021-01-29",
          "2021-01-30",
          "2021-01-31",
          "2021-02-01",
          "2021-02-02",
          "2021-02-03",
          "2021-02-04",
          "2021-02-05",
          "2021-02-06",
          "2021-02-07",
          "2021-02-08",
          "2021-02-09",
          "2021-02-10",
          "2021-02-11",
          "2021-02-12",
          "2021-02-13",
          "2021-02-14",
          "2021-02-15",
          "2021-02-16",
          "2021-02-17",
          "2021-02-18",
          "2021-02-19",
          "2021-02-20",
          "2021-02-21",
          "2021-02-22",
          "2021-02-23",
          "2021-02-24",
          "2021-02-25",
          "2021-02-26",
          "2021-02-27",
          "2021-02-28",
          "2021-03-01",
          "2021-03-02",
          "2021-03-03",
          "2021-03-04",
          "2021-03-05",
          "2021-03-06",
          "2021-03-07",
          "2021-03-08",
          "2021-03-09",
          "2021-03-10",
          "2021-03-11",
          "2021-03-12",
          "2021-03-13",
          "2021-03-14",
          "2021-03-15",
          "2021-03-16",
          "2021-03-17",
          "2021-03-18",
          "2021-03-19",
          "2021-03-20",
          "2021-03-21",
          "2021-03-22",
          "2021-03-23",
          "2021-03-24",
          "2021-03-25",
          "2021-03-26",
          "2021-03-27",
          "2021-03-28",
          "2021-03-29",
          "2021-03-30",
          "2021-03-31",
          "2021-04-01",
          "2021-04-02",
          "2021-04-03",
          "2021-04-04",
          "2021-04-05",
          "2021-04-06",
          "2021-04-07",
          "2021-04-08",
          "2021-04-09",
          "2021-04-10",
          "2021-04-11",
          "2021-04-12",
          "2021-04-13",
          "2021-04-14",
          "2021-04-15",
          "2021-04-16",
          "2021-04-17",
          "2021-04-18",
          "2021-04-19",
          "2021-04-20",
          "2021-04-21",
          "2021-04-22",
          "2021-04-23",
          "2021-04-24",
          "2021-04-25",
          "2021-04-26",
          "2021-04-27",
          "2021-04-28",
          "2021-04-29",
          "2021-04-30",
          "2021-05-01",
          "2021-05-02",
          "2021-05-03",
          "2021-05-04",
          "2021-05-05",
          "2021-05-06",
          "2021-05-07",
          "2021-05-08",
          "2021-05-09",
          "2021-05-10",
          "2021-05-11",
          "2021-05-12",
          "2021-05-13",
          "2021-05-14",
          "2021-05-15",
          "2021-05-16",
          "2021-05-17",
          "2021-05-18",
          "2021-05-19",
          "2021-05-20",
          "2021-05-21",
          "2021-05-22",
          "2021-05-23",
          "2021-05-24",
          "2021-05-25",
          "2021-05-26",
          "2021-05-27",
          "2021-05-28",
          "2021-05-29",
          "2021-05-30",
          "2021-05-31",
          "2021-06-01",
          "2021-06-02",
          "2021-06-03",
          "2021-06-04",
          "2021-06-05",
          "2021-06-06",
          "2021-06-07",
          "2021-06-08",
          "2021-06-09",
          "2021-06-10",
          "2021-06-11",
          "2021-06-12",
          "2021-06-13",
          "2021-06-14",
          "2021-06-15",
          "2021-06-16",
          "2021-06-17",
          "2021-06-18",
          "2021-06-19",
          "2021-06-20",
          "2021-06-21",
          "2021-06-22",
          "2021-06-23",
          "2021-06-24",
          "2021-06-25",
          "2021-06-26",
          "2021-06-27",
          "2021-06-28",
          "2021-06-29",
          "2021-06-30",
          "2021-07-01",
          "2021-07-02",
          "2021-07-03",
          "2021-07-04",
          "2021-07-05",
          "2021-07-06",
          "2021-07-07",
          "2021-07-08",
          "2021-07-09",
          "2021-07-10",
          "2021-07-11",
          "2021-07-12",
          "2021-07-13",
          "2021-07-14",
          "2021-07-15",
          "2021-07-16",
          "2021-07-17",
          "2021-07-18",
          "2021-07-19",
          "2021-07-20",
          "2021-07-21",
          "2021-07-22",
          "2021-07-23",
          "2021-07-24",
          "2021-07-25",
          "2021-07-26",
          "2021-07-27",
          "2021-07-28",
          "2021-07-29",
          "2021-07-30",
          "2021-07-31",
          "2021-08-01",
          "2021-08-02",
          "2021-08-03",
          "2021-08-04",
          "2021-08-05",
          "2021-08-06",
          "2021-08-07",
          "2021-08-08",
          "2021-08-09",
          "2021-08-10",
          "2021-08-11",
          "2021-08-12",
          "2021-08-13",
          "2021-08-14",
          "2021-08-15",
          "2021-08-16",
          "2021-08-17",
          "2021-08-18",
          "2021-08-19",
          "2021-08-20",
          "2021-08-21",
          "2021-08-22",
          "2021-08-23",
          "2021-08-24",
          "2021-08-25",
          "2021-08-26",
          "2021-08-27",
          "2021-08-28",
          "2021-08-29",
          "2021-08-30",
          "2021-08-31",
          "2021-09-01",
          "2021-09-02",
          "2021-09-03",
          "2021-09-04",
          "2021-09-05",
          "2021-09-06",
          "2021-09-07",
          "2021-09-08",
          "2021-09-09",
          "2021-09-10",
          "2021-09-11",
          "2021-09-12",
          "2021-09-13",
          "2021-09-14",
          "2021-09-15",
          "2021-09-16",
          "2021-09-17",
          "2021-09-18",
          "2021-09-19",
          "2021-09-20",
          "2021-09-21",
          "2021-09-22",
          "2021-09-23",
          "2021-09-24",
          "2021-09-25",
          "2021-09-26",
          "2021-09-27",
          "2021-09-28",
          "2021-09-29",
          "2021-09-30",
          "2021-10-01",
          "2021-10-02",
          "2021-10-03",
          "2021-10-04",
          "2021-10-05",
          "2021-10-06",
          "2021-10-07",
          "2021-10-08",
          "2021-10-09",
          "2021-10-10",
          "2021-10-11",
          "2021-10-12",
          "2021-10-13",
          "2021-10-14",
          "2021-10-15",
          "2021-10-16",
          "2021-10-17",
          "2021-10-18",
          "2021-10-19",
          "2021-10-20",
          "2021-10-21",
          "2021-10-22",
          "2021-10-23",
          "2021-10-24",
          "2021-10-25",
          "2021-10-26",
          "2021-10-27",
          "2021-10-28",
          "2021-10-29",
          "2021-10-30",
          "2021-10-31",
          "2021-11-01",
          "2021-11-02",
          "2021-11-03",
          "2021-11-04",
          "2021-11-05",
          "2021-11-06",
          "2021-11-07",
          "2021-11-08",
          "2021-11-09",
          "2021-11-10",
          "2021-11-11",
          "2021-11-12",
          "2021-11-13",
          "2021-11-14",
          "2021-11-15",
          "2021-11-16",
          "2021-11-17",
          "2021-11-18",
          "2021-11-19",
          "2021-11-20",
          "2021-11-21",
          "2021-11-22",
          "2021-11-23",
          "2021-11-24",
          "2021-11-25",
          "2021-11-26",
          "2021-11-27",
          "2021-11-28",
          "2021-11-29",
          "2021-11-30",
          "2021-12-01",
          "2021-12-02",
          "2021-12-03",
          "2021-12-04",
          "2021-12-05",
          "2021-12-06",
          "2021-12-07",
          "2021-12-08",
          "2021-12-09",
          "2021-12-10",
          "2021-12-11",
          "2021-12-12",
          "2021-12-13",
          "2021-12-14",
          "2021-12-15",
          "2021-12-16",
          "2021-12-17",
          "2021-12-18",
          "2021-12-19",
          "2021-12-20",
          "2021-12-21",
          "2021-12-22",
          "2021-12-23",
          "2021-12-24",
          "2021-12-25",
          "2021-12-26",
          "2021-12-27",
          "2021-12-28",
          "2021-12-29",
          "2021-12-30",
          "2021-12-31",
          "2022-01-01",
          "2022-01-02",
          "2022-01-03",
          "2022-01-04",
          "2022-01-05",
          "2022-01-06",
          "2022-01-07",
          "2022-01-08",
          "2022-01-09",
          "2022-01-10",
          "2022-01-11",
          "2022-01-12",
          "2022-01-13",
          "2022-01-14",
          "2022-01-15",
          "2022-01-16",
          "2022-01-17",
          "2022-01-18",
          "2022-01-19",
          "2022-01-20",
          "2022-01-21",
          "2022-01-22",
          "2022-01-23",
          "2022-01-24",
          "2022-01-25",
          "2022-01-26",
          "2022-01-27",
          "2022-01-28",
          "2022-01-29",
          "2022-01-30",
          "2022-01-31",
          "2022-02-01",
          "2022-02-02",
          "2022-02-03",
          "2022-02-04",
          "2022-02-05",
          "2022-02-06",
          "2022-02-07",
          "2022-02-08",
          "2022-02-09",
          "2022-02-10",
          "2022-02-11",
          "2022-02-12",
          "2022-02-13",
          "2022-02-14",
          "2022-02-15",
          "2022-02-16",
          "2022-02-17",
          "2022-02-18",
          "2022-02-19",
          "2022-02-20",
          "2022-02-21",
          "2022-02-22",
          "2022-02-23",
          "2022-02-24",
          "2022-02-25",
          "2022-02-26",
          "2022-02-27",
          "2022-02-28",
          "2022-03-01",
          "2022-03-02",
          "2022-03-03",
          "2022-03-04",
          "2022-03-05",
          "2022-03-06",
          "2022-03-07",
          "2022-03-08",
          "2022-03-09",
          "2022-03-10",
          "2022-03-11",
          "2022-03-12",
          "2022-03-13",
          "2022-03-14",
          "2022-03-15",
          "2022-03-16",
          "2022-03-17",
          "2022-03-18",
          "2022-03-19",
          "2022-03-20",
          "2022-03-21",
          "2022-03-22",
          "2022-03-23",
          "2022-03-24",
          "2022-03-25",
          "2022-03-26",
          "2022-03-27",
          "2022-03-28",
          "2022-03-29",
          "2022-03-30",
          "2022-03-31",
          "2022-04-01",
          "2022-04-02",
          "2022-04-03",
          "2022-04-04",
          "2022-04-05",
          "2022-04-06",
          "2022-04-07",
          "2022-04-08",
          "2022-04-09",
          "2022-04-10",
          "2022-04-11",
          "2022-04-12",
          "2022-04-13",
          "2022-04-14",
          "2022-04-15",
          "2022-04-16",
          "2022-04-17",
          "2022-04-18",
          "2022-04-19",
          "2022-04-20",
          "2022-04-21",
          "2022-04-22",
          "2022-04-23",
          "2022-04-24",
          "2022-04-25",
          "2022-04-26",
          "2022-04-27",
          "2022-04-28",
          "2022-04-29",
          "2022-04-30",
          "2022-05-01",
          "2022-05-02",
          "2022-05-03",
          "2022-05-04",
          "2022-05-05",
          "2022-05-06",
          "2022-05-07",
          "2022-05-08",
          "2022-05-09",
          "2022-05-10",
          "2022-05-11",
          "2022-05-12",
          "2022-05-13",
          "2022-05-14",
          "2022-05-15",
          "2022-05-16",
          "2022-05-17",
          "2022-05-18",
          "2022-05-19",
          "2022-05-20",
          "2022-05-21",
          "2022-05-22",
          "2022-05-23",
          "2022-05-24",
          "2022-05-25",
          "2022-05-26",
          "2022-05-27",
          "2022-05-28",
          "2022-05-29",
          "2022-05-30",
          "2022-05-31",
          "2022-06-01",
          "2022-06-02",
          "2022-06-03",
          "2022-06-04",
          "2022-06-05",
          "2022-06-06",
          "2022-06-07",
          "2022-06-08",
          "2022-06-09",
          "2022-06-10",
          "2022-06-11",
          "2022-06-12",
          "2022-06-13",
          "2022-06-14",
          "2022-06-15",
          "2022-06-16",
          "2022-06-17",
          "2022-06-18",
          "2022-06-19",
          "2022-06-20",
          "2022-06-21",
          "2022-06-22",
          "2022-06-23",
          "2022-06-24",
          "2022-06-25",
          "2022-06-26",
          "2022-06-27",
          "2022-06-28",
          "2022-06-29",
          "2022-06-30",
          "2022-07-01",
          "2022-07-02",
          "2022-07-03",
          "2022-07-04",
          "2022-07-05",
          "2022-07-06",
          "2022-07-07",
          "2022-07-08",
          "2022-07-09",
          "2022-07-10",
          "2022-07-11",
          "2022-07-12",
          "2022-07-13",
          "2022-07-14",
          "2022-07-15",
          "2022-07-16",
          "2022-07-17",
          "2022-07-18",
          "2022-07-19",
          "2022-07-20",
          "2022-07-21",
          "2022-07-22",
          "2022-07-23",
          "2022-07-24",
          "2022-07-25",
          "2022-07-26",
          "2022-07-27",
          "2022-07-28",
          "2022-07-29",
          "2022-07-30",
          "2022-07-31",
          "2022-08-01",
          "2022-08-02",
          "2022-08-03",
          "2022-08-04",
          "2022-08-05",
          "2022-08-06",
          "2022-08-07",
          "2022-08-08",
          "2022-08-09",
          "2022-08-10",
          "2022-08-11",
          "2022-08-12",
          "2022-08-13",
          "2022-08-14",
          "2022-08-15",
          "2022-08-16",
          "2022-08-17",
          "2022-08-18",
          "2022-08-19",
          "2022-08-20",
          "2022-08-21",
          "2022-08-22",
          "2022-08-23",
          "2022-08-24",
          "2022-08-25",
          "2022-08-26",
          "2022-08-27",
          "2022-08-28",
          "2022-08-29",
          "2022-08-30",
          "2022-08-31",
          "2022-09-01",
          "2022-09-02",
          "2022-09-03",
          "2022-09-04",
          "2022-09-05",
          "2022-09-06",
          "2022-09-07",
          "2022-09-08",
          "2022-09-09",
          "2022-09-10",
          "2022-09-11",
          "2022-09-12",
          "2022-09-13",
          "2022-09-14"
         ],
         "xaxis": "x",
         "y": [
          0,
          0,
          0,
          0,
          0,
          0,
          0,
          0,
          1,
          2,
          2,
          2,
          2,
          2,
          2,
          2,
          2,
          3,
          3,
          3,
          4,
          4,
          4,
          4,
          4,
          4,
          4,
          4,
          4,
          4,
          5,
          5,
          5,
          5,
          5,
          5,
          5,
          5,
          5,
          6,
          6,
          6,
          9,
          9,
          9,
          9,
          9,
          9,
          9,
          9,
          9,
          10,
          11,
          13,
          15,
          16,
          23,
          46,
          69,
          88,
          125,
          197,
          282,
          381,
          571,
          845,
          1135,
          1504,
          2155,
          3191,
          4537,
          6348,
          8527,
          10559,
          12869,
          16133,
          20616,
          25402,
          31282,
          37812,
          43606,
          48933,
          57141,
          66867,
          77008,
          87124,
          96222,
          103323,
          108418,
          116426,
          124353,
          131417,
          138325,
          145147,
          149820,
          152967,
          158365,
          163689,
          169177,
          173790,
          178233,
          181308,
          183687,
          186814,
          190811,
          194517,
          197934,
          201396,
          203578,
          205023,
          207542,
          210272,
          213039,
          215262,
          217548,
          218838,
          219659,
          221312,
          223049,
          224533,
          225971,
          226764,
          227330,
          227781,
          228793,
          229774,
          230759,
          231714,
          232632,
          233123,
          233440,
          234935,
          235674,
          236479,
          237265,
          238066,
          238414,
          238658,
          239289,
          240144,
          240898,
          241675,
          242500,
          242811,
          243071,
          243620,
          244357,
          244978,
          245639,
          246374,
          246712,
          246894,
          247257,
          247735,
          248341,
          248858,
          249511,
          249787,
          249932,
          250281,
          250732,
          251197,
          251582,
          252078,
          252203,
          252290,
          252592,
          252995,
          253358,
          253748,
          254100,
          254331,
          254498,
          254749,
          255202,
          255550,
          255925,
          256409,
          256672,
          256863,
          257146,
          257601,
          258061,
          258558,
          259156,
          259462,
          259672,
          260019,
          260743,
          261506,
          262372,
          263544,
          264165,
          264559,
          265449,
          266774,
          268367,
          270011,
          272144,
          273706,
          274863,
          276485,
          278839,
          281200,
          283577,
          286425,
          288142,
          289514,
          291561,
          294493,
          297704,
          301193,
          305072,
          308125,
          309966,
          312757,
          317194,
          321515,
          326404,
          332144,
          335674,
          338306,
          342236,
          348425,
          354866,
          361954,
          370365,
          375193,
          378485,
          383484,
          392026,
          400717,
          409762,
          420280,
          426338,
          430625,
          436685,
          447025,
          457357,
          467707,
          479692,
          486581,
          491774,
          498430,
          508949,
          519689,
          530686,
          543893,
          551782,
          557280,
          564337,
          576318,
          589151,
          602203,
          616641,
          624966,
          631371,
          639587,
          653443,
          667504,
          681318,
          698058,
          706390,
          712255,
          720293,
          733118,
          745897,
          758568,
          772118,
          779778,
          784824,
          791880,
          803249,
          814470,
          825563,
          837973,
          844866,
          850010,
          858928,
          871179,
          883625,
          897502,
          912304,
          921046,
          927817,
          934156,
          946577,
          963003,
          980532,
          998847,
          1010800,
          1019041,
          1034760,
          1055702,
          1078946,
          1102789,
          1127819,
          1143261,
          1154517,
          1174529,
          1198875,
          1223506,
          1247700,
          1272652,
          1288701,
          1299680,
          1315195,
          1337285,
          1361468,
          1385072,
          1408624,
          1423216,
          1433058,
          1449621,
          1470241,
          1490274,
          1509475,
          1527917,
          1538501,
          1545177,
          1558013,
          1573911,
          1588733,
          1601930,
          1614596,
          1621839,
          1626459,
          1635617,
          1646575,
          1656596,
          1666244,
          1676172,
          1681664,
          1685079,
          1692520,
          1702035,
          1710951,
          1719116,
          1727552,
          1732518,
          1735797,
          1741039,
          1745090,
          1753530,
          1764307,
          1775646,
          1782244,
          1786491,
          1796411,
          1808604,
          1820376,
          1831368,
          1843590,
          1850528,
          1854913,
          1865933,
          1879369,
          1893906,
          1903902,
          1908722,
          1915155,
          1921126,
          1936255,
          1955248,
          1976357,
          1991951,
          1999613,
          2010143,
          2020102,
          2042284,
          2073045,
          2087671,
          2114477,
          2147386,
          2166704,
          2180653,
          2213194,
          2250595,
          2289602,
          2328036,
          2371046,
          2396079,
          2414746,
          2450556,
          2493055,
          2535039,
          2575946,
          2618238,
          2642085,
          2659440,
          2692298,
          2729865,
          2765754,
          2799203,
          2831628,
          2849863,
          2861625,
          2884202,
          2910300,
          2934172,
          2955364,
          2975605,
          2985954,
          2992066,
          3005896,
          3021298,
          3034703,
          3046603,
          3058350,
          3064116,
          3067705,
          3076596,
          3086494,
          3095150,
          3103372,
          3111371,
          3115402,
          3118088,
          3124951,
          3132355,
          3138862,
          3145061,
          3151558,
          3154784,
          3157033,
          3162439,
          3168347,
          3174333,
          3179981,
          3185743,
          3188627,
          3190686,
          3195835,
          3201536,
          3207082,
          3212479,
          3218338,
          3221183,
          3223174,
          3228796,
          3234934,
          3240812,
          3247240,
          3251959,
          3254921,
          3257237,
          3263433,
          3270875,
          3277858,
          3285241,
          3292953,
          3297102,
          3300080,
          3307521,
          3315799,
          3324862,
          3330605,
          3334494,
          3339111,
          3343404,
          3351158,
          3362109,
          3372797,
          3383233,
          3393835,
          3399530,
          3403503,
          3412564,
          3422792,
          3433170,
          3442969,
          3453087,
          3458453,
          3462411,
          3471187,
          3481880,
          3491692,
          3501479,
          3511478,
          3516533,
          3520395,
          3529280,
          3539053,
          3548334,
          3557223,
          3566248,
          3570176,
          3573301,
          3579322,
          3586888,
          3594800,
          3601779,
          3609302,
          3612747,
          3615185,
          3621201,
          3627193,
          3633135,
          3638819,
          3644785,
          3647649,
          3649864,
          3655012,
          3660977,
          3666396,
          3671855,
          3677501,
          3680213,
          3682202,
          3686748,
          3692191,
          3697463,
          3702806,
          3708142,
          3711064,
          3713019,
          3717848,
          3722979,
          3728103,
          3732565,
          3737147,
          3739589,
          3741304,
          3745475,
          3749630,
          3753744,
          3757866,
          3761870,
          3764084,
          3765638,
          3769258,
          3773323,
          3777301,
          3781296,
          3785308,
          3787574,
          3789242,
          3793104,
          3797529,
          3802554,
          3806450,
          3812143,
          3815900,
          3819026,
          3827165,
          3837889,
          3851005,
          3865075,
          3880055,
          3890350,
          3897991,
          3914927,
          3935450,
          3958545,
          3981349,
          4005920,
          4021003,
          4033318,
          4059157,
          4087625,
          4117559,
          4147153,
          4176891,
          4195464,
          4209968,
          4239800,
          4271652,
          4303555,
          4334641,
          4364868,
          4383078,
          4395789,
          4421594,
          4450532,
          4477634,
          4503305,
          4529121,
          4543948,
          4553571,
          4573418,
          4595073,
          4615698,
          4635315,
          4654514,
          4665527,
          4672799,
          4687924,
          4705181,
          4721013,
          4735896,
          4749826,
          4757891,
          4763468,
          4773106,
          4785134,
          4797763,
          4809531,
          4821308,
          4827815,
          4831921,
          4841760,
          4851630,
          4860718,
          4868910,
          4877021,
          4881052,
          4883746,
          4890015,
          4897151,
          4903113,
          4908375,
          4913296,
          4916014,
          4917919,
          4922156,
          4926873,
          4930592,
          4934303,
          4938079,
          4939808,
          4941088,
          4944448,
          4947864,
          4950764,
          4953659,
          4956609,
          4958000,
          4958900,
          4961294,
          4964017,
          4966516,
          4968822,
          4971284,
          4972517,
          4973338,
          4975797,
          4978021,
          4980057,
          4981906,
          4983770,
          4984754,
          4985444,
          4987313,
          4989116,
          4990866,
          4992531,
          4994345,
          4995239,
          4995768,
          4997742,
          4998570,
          5000439,
          5002474,
          5004485,
          5005599,
          5006373,
          5008494,
          5010597,
          5012703,
          5014693,
          5016800,
          5017938,
          5018783,
          5021038,
          5023147,
          5025273,
          5027442,
          5029878,
          5031246,
          5032199,
          5033210,
          5036079,
          5039015,
          5042017,
          5045205,
          5047043,
          5048253,
          5051696,
          5055522,
          5059413,
          5063750,
          5068655,
          5071556,
          5073697,
          5079284,
          5085612,
          5092087,
          5098948,
          5106700,
          5111186,
          5114349,
          5122497,
          5131623,
          5141277,
          5151207,
          5162278,
          5169058,
          5173598,
          5185151,
          5198473,
          5212834,
          5228436,
          5244621,
          5255732,
          5263411,
          5271445,
          5289745,
          5301813,
          5323162,
          5349504,
          5366284,
          5379281,
          5406630,
          5439257,
          5476627,
          5515900,
          5560624,
          5587566,
          5610130,
          5665547,
          5740374,
          5827178,
          5924611,
          6000387,
          6047764,
          6100793,
          6217830,
          6356749,
          6507507,
          6655973,
          6761966,
          6821512,
          6893305,
          7040711,
          7208480,
          7371830,
          7448194,
          7598562,
          7690347,
          7783450,
          7959669,
          8131692,
          8292599,
          8442547,
          8577097,
          8662854,
          8738560,
          8894735,
          9043548,
          9185617,
          9318249,
          9445743,
          9518565,
          9585065,
          9716356,
          9834915,
          9944954,
          10038802,
          10123447,
          10170468,
          10210376,
          10291050,
          10363225,
          10429750,
          10488110,
          10541717,
          10569714,
          10593485,
          10646665,
          10693348,
          10736293,
          10773763,
          10806730,
          10823368,
          10837748,
          10870488,
          10900504,
          10927767,
          10951934,
          10974565,
          10986130,
          10996220,
          11019926,
          11041976,
          11062950,
          11081187,
          11097565,
          11106409,
          11114005,
          11131218,
          11148038,
          11168459,
          11188220,
          11206687,
          11216509,
          11225047,
          11244561,
          11263437,
          11282280,
          11299987,
          11317049,
          11326485,
          11335477,
          11356445,
          11376378,
          11396738,
          11415473,
          11434658,
          11444424,
          11454028,
          11478128,
          11502564,
          11525695,
          11544727,
          11562204,
          11570619,
          11577341,
          11575169,
          11588842,
          11600565,
          11612200,
          11622326,
          11632230,
          11637089,
          11641101,
          11653298,
          11664586,
          11676451,
          11688246,
          11700199,
          11706592,
          11711922,
          11726686,
          11740989,
          11755524,
          11763369,
          11769742,
          11777508,
          11784794,
          11799643,
          11819389,
          11837528,
          11854317,
          11871122,
          11878820,
          11885605,
          11906045,
          11926927,
          11947967,
          11967540,
          11987197,
          11995696,
          12002947,
          12018992,
          12041881,
          12063754,
          12084562,
          12105065,
          12113656,
          12121122,
          12146133,
          12168533,
          12189752,
          12209284,
          12227924,
          12235464,
          12241799,
          12261388,
          12280492,
          12298110,
          12314073,
          12329216,
          12335191,
          12340162,
          12357245,
          12371399,
          12384409,
          12396027,
          12407927,
          12412969,
          12417567,
          12432522,
          12445786,
          12459218,
          12471639,
          12483510,
          12488353,
          12492705,
          12506370,
          12520507,
          12533692,
          12545412,
          12555665,
          12559444,
          12562165,
          12562165,
          12562165,
          12562165,
          12566013,
          12566013,
          12566013,
          12566013,
          12614323,
          12614323,
          12614323,
          12681840,
          12681840,
          12681840,
          12681840,
          12734058,
          12734058,
          12734058,
          12815537,
          12815537,
          12815537,
          12815537,
          12887355,
          12887355,
          12887355,
          12970968,
          12970968,
          12970968,
          12970968,
          13030194,
          13030194,
          13030194,
          13087829,
          13087829,
          13087829,
          13087829,
          13129512,
          13129512,
          13129512,
          13161492,
          13161492,
          13161492,
          13161492,
          13200581,
          13200581,
          13200581,
          13226599,
          13226599,
          13226599,
          13226599,
          13246016,
          13246016,
          13246016,
          13266204,
          13266204,
          13266204,
          13266204,
          13280557,
          13280557,
          13280557,
          13294139,
          13294139,
          13294139,
          13294139,
          13306301,
          13306301,
          13306301,
          13314764,
          13314764,
          13314764,
          13314764,
          13323784,
          13323784,
          13323784,
          13332976,
          13332976,
          13332976,
          13332976,
          13342530,
          13342530,
          13342530,
          13352019,
          13352019,
          13352019,
          13352019,
          13359231,
          13359231,
          13359231,
          13367647,
          13367647,
          13367647,
          13367647,
          13374116,
          13374116
         ],
         "yaxis": "y"
        }
       ],
       "layout": {
        "legend": {
         "tracegroupgap": 0
        },
        "template": {
         "data": {
          "bar": [
           {
            "error_x": {
             "color": "#2a3f5f"
            },
            "error_y": {
             "color": "#2a3f5f"
            },
            "marker": {
             "line": {
              "color": "#E5ECF6",
              "width": 0.5
             },
             "pattern": {
              "fillmode": "overlay",
              "size": 10,
              "solidity": 0.2
             }
            },
            "type": "bar"
           }
          ],
          "barpolar": [
           {
            "marker": {
             "line": {
              "color": "#E5ECF6",
              "width": 0.5
             },
             "pattern": {
              "fillmode": "overlay",
              "size": 10,
              "solidity": 0.2
             }
            },
            "type": "barpolar"
           }
          ],
          "carpet": [
           {
            "aaxis": {
             "endlinecolor": "#2a3f5f",
             "gridcolor": "white",
             "linecolor": "white",
             "minorgridcolor": "white",
             "startlinecolor": "#2a3f5f"
            },
            "baxis": {
             "endlinecolor": "#2a3f5f",
             "gridcolor": "white",
             "linecolor": "white",
             "minorgridcolor": "white",
             "startlinecolor": "#2a3f5f"
            },
            "type": "carpet"
           }
          ],
          "choropleth": [
           {
            "colorbar": {
             "outlinewidth": 0,
             "ticks": ""
            },
            "type": "choropleth"
           }
          ],
          "contour": [
           {
            "colorbar": {
             "outlinewidth": 0,
             "ticks": ""
            },
            "colorscale": [
             [
              0,
              "#0d0887"
             ],
             [
              0.1111111111111111,
              "#46039f"
             ],
             [
              0.2222222222222222,
              "#7201a8"
             ],
             [
              0.3333333333333333,
              "#9c179e"
             ],
             [
              0.4444444444444444,
              "#bd3786"
             ],
             [
              0.5555555555555556,
              "#d8576b"
             ],
             [
              0.6666666666666666,
              "#ed7953"
             ],
             [
              0.7777777777777778,
              "#fb9f3a"
             ],
             [
              0.8888888888888888,
              "#fdca26"
             ],
             [
              1,
              "#f0f921"
             ]
            ],
            "type": "contour"
           }
          ],
          "contourcarpet": [
           {
            "colorbar": {
             "outlinewidth": 0,
             "ticks": ""
            },
            "type": "contourcarpet"
           }
          ],
          "heatmap": [
           {
            "colorbar": {
             "outlinewidth": 0,
             "ticks": ""
            },
            "colorscale": [
             [
              0,
              "#0d0887"
             ],
             [
              0.1111111111111111,
              "#46039f"
             ],
             [
              0.2222222222222222,
              "#7201a8"
             ],
             [
              0.3333333333333333,
              "#9c179e"
             ],
             [
              0.4444444444444444,
              "#bd3786"
             ],
             [
              0.5555555555555556,
              "#d8576b"
             ],
             [
              0.6666666666666666,
              "#ed7953"
             ],
             [
              0.7777777777777778,
              "#fb9f3a"
             ],
             [
              0.8888888888888888,
              "#fdca26"
             ],
             [
              1,
              "#f0f921"
             ]
            ],
            "type": "heatmap"
           }
          ],
          "heatmapgl": [
           {
            "colorbar": {
             "outlinewidth": 0,
             "ticks": ""
            },
            "colorscale": [
             [
              0,
              "#0d0887"
             ],
             [
              0.1111111111111111,
              "#46039f"
             ],
             [
              0.2222222222222222,
              "#7201a8"
             ],
             [
              0.3333333333333333,
              "#9c179e"
             ],
             [
              0.4444444444444444,
              "#bd3786"
             ],
             [
              0.5555555555555556,
              "#d8576b"
             ],
             [
              0.6666666666666666,
              "#ed7953"
             ],
             [
              0.7777777777777778,
              "#fb9f3a"
             ],
             [
              0.8888888888888888,
              "#fdca26"
             ],
             [
              1,
              "#f0f921"
             ]
            ],
            "type": "heatmapgl"
           }
          ],
          "histogram": [
           {
            "marker": {
             "pattern": {
              "fillmode": "overlay",
              "size": 10,
              "solidity": 0.2
             }
            },
            "type": "histogram"
           }
          ],
          "histogram2d": [
           {
            "colorbar": {
             "outlinewidth": 0,
             "ticks": ""
            },
            "colorscale": [
             [
              0,
              "#0d0887"
             ],
             [
              0.1111111111111111,
              "#46039f"
             ],
             [
              0.2222222222222222,
              "#7201a8"
             ],
             [
              0.3333333333333333,
              "#9c179e"
             ],
             [
              0.4444444444444444,
              "#bd3786"
             ],
             [
              0.5555555555555556,
              "#d8576b"
             ],
             [
              0.6666666666666666,
              "#ed7953"
             ],
             [
              0.7777777777777778,
              "#fb9f3a"
             ],
             [
              0.8888888888888888,
              "#fdca26"
             ],
             [
              1,
              "#f0f921"
             ]
            ],
            "type": "histogram2d"
           }
          ],
          "histogram2dcontour": [
           {
            "colorbar": {
             "outlinewidth": 0,
             "ticks": ""
            },
            "colorscale": [
             [
              0,
              "#0d0887"
             ],
             [
              0.1111111111111111,
              "#46039f"
             ],
             [
              0.2222222222222222,
              "#7201a8"
             ],
             [
              0.3333333333333333,
              "#9c179e"
             ],
             [
              0.4444444444444444,
              "#bd3786"
             ],
             [
              0.5555555555555556,
              "#d8576b"
             ],
             [
              0.6666666666666666,
              "#ed7953"
             ],
             [
              0.7777777777777778,
              "#fb9f3a"
             ],
             [
              0.8888888888888888,
              "#fdca26"
             ],
             [
              1,
              "#f0f921"
             ]
            ],
            "type": "histogram2dcontour"
           }
          ],
          "mesh3d": [
           {
            "colorbar": {
             "outlinewidth": 0,
             "ticks": ""
            },
            "type": "mesh3d"
           }
          ],
          "parcoords": [
           {
            "line": {
             "colorbar": {
              "outlinewidth": 0,
              "ticks": ""
             }
            },
            "type": "parcoords"
           }
          ],
          "pie": [
           {
            "automargin": true,
            "type": "pie"
           }
          ],
          "scatter": [
           {
            "fillpattern": {
             "fillmode": "overlay",
             "size": 10,
             "solidity": 0.2
            },
            "type": "scatter"
           }
          ],
          "scatter3d": [
           {
            "line": {
             "colorbar": {
              "outlinewidth": 0,
              "ticks": ""
             }
            },
            "marker": {
             "colorbar": {
              "outlinewidth": 0,
              "ticks": ""
             }
            },
            "type": "scatter3d"
           }
          ],
          "scattercarpet": [
           {
            "marker": {
             "colorbar": {
              "outlinewidth": 0,
              "ticks": ""
             }
            },
            "type": "scattercarpet"
           }
          ],
          "scattergeo": [
           {
            "marker": {
             "colorbar": {
              "outlinewidth": 0,
              "ticks": ""
             }
            },
            "type": "scattergeo"
           }
          ],
          "scattergl": [
           {
            "marker": {
             "colorbar": {
              "outlinewidth": 0,
              "ticks": ""
             }
            },
            "type": "scattergl"
           }
          ],
          "scattermapbox": [
           {
            "marker": {
             "colorbar": {
              "outlinewidth": 0,
              "ticks": ""
             }
            },
            "type": "scattermapbox"
           }
          ],
          "scatterpolar": [
           {
            "marker": {
             "colorbar": {
              "outlinewidth": 0,
              "ticks": ""
             }
            },
            "type": "scatterpolar"
           }
          ],
          "scatterpolargl": [
           {
            "marker": {
             "colorbar": {
              "outlinewidth": 0,
              "ticks": ""
             }
            },
            "type": "scatterpolargl"
           }
          ],
          "scatterternary": [
           {
            "marker": {
             "colorbar": {
              "outlinewidth": 0,
              "ticks": ""
             }
            },
            "type": "scatterternary"
           }
          ],
          "surface": [
           {
            "colorbar": {
             "outlinewidth": 0,
             "ticks": ""
            },
            "colorscale": [
             [
              0,
              "#0d0887"
             ],
             [
              0.1111111111111111,
              "#46039f"
             ],
             [
              0.2222222222222222,
              "#7201a8"
             ],
             [
              0.3333333333333333,
              "#9c179e"
             ],
             [
              0.4444444444444444,
              "#bd3786"
             ],
             [
              0.5555555555555556,
              "#d8576b"
             ],
             [
              0.6666666666666666,
              "#ed7953"
             ],
             [
              0.7777777777777778,
              "#fb9f3a"
             ],
             [
              0.8888888888888888,
              "#fdca26"
             ],
             [
              1,
              "#f0f921"
             ]
            ],
            "type": "surface"
           }
          ],
          "table": [
           {
            "cells": {
             "fill": {
              "color": "#EBF0F8"
             },
             "line": {
              "color": "white"
             }
            },
            "header": {
             "fill": {
              "color": "#C8D4E3"
             },
             "line": {
              "color": "white"
             }
            },
            "type": "table"
           }
          ]
         },
         "layout": {
          "annotationdefaults": {
           "arrowcolor": "#2a3f5f",
           "arrowhead": 0,
           "arrowwidth": 1
          },
          "autotypenumbers": "strict",
          "coloraxis": {
           "colorbar": {
            "outlinewidth": 0,
            "ticks": ""
           }
          },
          "colorscale": {
           "diverging": [
            [
             0,
             "#8e0152"
            ],
            [
             0.1,
             "#c51b7d"
            ],
            [
             0.2,
             "#de77ae"
            ],
            [
             0.3,
             "#f1b6da"
            ],
            [
             0.4,
             "#fde0ef"
            ],
            [
             0.5,
             "#f7f7f7"
            ],
            [
             0.6,
             "#e6f5d0"
            ],
            [
             0.7,
             "#b8e186"
            ],
            [
             0.8,
             "#7fbc41"
            ],
            [
             0.9,
             "#4d9221"
            ],
            [
             1,
             "#276419"
            ]
           ],
           "sequential": [
            [
             0,
             "#0d0887"
            ],
            [
             0.1111111111111111,
             "#46039f"
            ],
            [
             0.2222222222222222,
             "#7201a8"
            ],
            [
             0.3333333333333333,
             "#9c179e"
            ],
            [
             0.4444444444444444,
             "#bd3786"
            ],
            [
             0.5555555555555556,
             "#d8576b"
            ],
            [
             0.6666666666666666,
             "#ed7953"
            ],
            [
             0.7777777777777778,
             "#fb9f3a"
            ],
            [
             0.8888888888888888,
             "#fdca26"
            ],
            [
             1,
             "#f0f921"
            ]
           ],
           "sequentialminus": [
            [
             0,
             "#0d0887"
            ],
            [
             0.1111111111111111,
             "#46039f"
            ],
            [
             0.2222222222222222,
             "#7201a8"
            ],
            [
             0.3333333333333333,
             "#9c179e"
            ],
            [
             0.4444444444444444,
             "#bd3786"
            ],
            [
             0.5555555555555556,
             "#d8576b"
            ],
            [
             0.6666666666666666,
             "#ed7953"
            ],
            [
             0.7777777777777778,
             "#fb9f3a"
            ],
            [
             0.8888888888888888,
             "#fdca26"
            ],
            [
             1,
             "#f0f921"
            ]
           ]
          },
          "colorway": [
           "#636efa",
           "#EF553B",
           "#00cc96",
           "#ab63fa",
           "#FFA15A",
           "#19d3f3",
           "#FF6692",
           "#B6E880",
           "#FF97FF",
           "#FECB52"
          ],
          "font": {
           "color": "#2a3f5f"
          },
          "geo": {
           "bgcolor": "white",
           "lakecolor": "white",
           "landcolor": "#E5ECF6",
           "showlakes": true,
           "showland": true,
           "subunitcolor": "white"
          },
          "hoverlabel": {
           "align": "left"
          },
          "hovermode": "closest",
          "mapbox": {
           "style": "light"
          },
          "paper_bgcolor": "white",
          "plot_bgcolor": "#E5ECF6",
          "polar": {
           "angularaxis": {
            "gridcolor": "white",
            "linecolor": "white",
            "ticks": ""
           },
           "bgcolor": "#E5ECF6",
           "radialaxis": {
            "gridcolor": "white",
            "linecolor": "white",
            "ticks": ""
           }
          },
          "scene": {
           "xaxis": {
            "backgroundcolor": "#E5ECF6",
            "gridcolor": "white",
            "gridwidth": 2,
            "linecolor": "white",
            "showbackground": true,
            "ticks": "",
            "zerolinecolor": "white"
           },
           "yaxis": {
            "backgroundcolor": "#E5ECF6",
            "gridcolor": "white",
            "gridwidth": 2,
            "linecolor": "white",
            "showbackground": true,
            "ticks": "",
            "zerolinecolor": "white"
           },
           "zaxis": {
            "backgroundcolor": "#E5ECF6",
            "gridcolor": "white",
            "gridwidth": 2,
            "linecolor": "white",
            "showbackground": true,
            "ticks": "",
            "zerolinecolor": "white"
           }
          },
          "shapedefaults": {
           "line": {
            "color": "#2a3f5f"
           }
          },
          "ternary": {
           "aaxis": {
            "gridcolor": "white",
            "linecolor": "white",
            "ticks": ""
           },
           "baxis": {
            "gridcolor": "white",
            "linecolor": "white",
            "ticks": ""
           },
           "bgcolor": "#E5ECF6",
           "caxis": {
            "gridcolor": "white",
            "linecolor": "white",
            "ticks": ""
           }
          },
          "title": {
           "x": 0.05
          },
          "xaxis": {
           "automargin": true,
           "gridcolor": "white",
           "linecolor": "white",
           "ticks": "",
           "title": {
            "standoff": 15
           },
           "zerolinecolor": "white",
           "zerolinewidth": 2
          },
          "yaxis": {
           "automargin": true,
           "gridcolor": "white",
           "linecolor": "white",
           "ticks": "",
           "title": {
            "standoff": 15
           },
           "zerolinecolor": "white",
           "zerolinewidth": 2
          }
         }
        },
        "title": {
         "text": "Evolución de casos confirmados de COVID-19 en España"
        },
        "xaxis": {
         "anchor": "y",
         "domain": [
          0,
          1
         ],
         "title": {
          "text": "Fecha"
         }
        },
        "yaxis": {
         "anchor": "x",
         "domain": [
          0,
          1
         ],
         "title": {
          "text": "Casos confirmados"
         }
        }
       }
      }
     },
     "metadata": {},
     "output_type": "display_data"
    }
   ],
   "source": [
    "location_data = covid19_epidemiology[covid19_epidemiology[\"location_key\"] == \"ES\"]\n",
    "\n",
    "covid_trend = location_data.groupby(\"date\")[\"cumulative_confirmed\"].sum().reset_index()\n",
    "\n",
    "fig = px.line(covid_trend, \n",
    "              x=\"date\", \n",
    "              y=\"cumulative_confirmed\",\n",
    "              title=\"Evolución de casos confirmados de COVID-19 en España\",\n",
    "              labels={\"date\": \"Fecha\", \"cumulative_confirmed\": \"Casos confirmados\"})\n",
    "fig.show()"
   ]
  },
  {
   "cell_type": "markdown",
   "metadata": {},
   "source": [
    "### Ejercicio 10: Relación entre calorías quemadas y duración de la sesión\n",
    "Crea un gráfico de dispersión para analizar cómo la duración de la sesión afecta la cantidad de calorías quemadas.\n",
    "\n",
    "### Instrucciones\n",
    "1. Utiliza las columnas `Calories_Burned` (calorías quemadas) y `Session_Duration (hours)` (duración de la sesión en horas).\n",
    "2. Diferencia los datos según el género (`Gender`) utilizando colores.\n",
    "3. Agrega detalles adicionales como el nivel de experiencia (`Experience_Level`) y el tipo de entrenamiento (`Workout_Type`) en la información mostrada al pasar el cursor sobre los puntos.\n",
    "\n",
    "**Dataset:** `Gym Members Exercise Dataset`\n"
   ]
  },
  {
   "cell_type": "code",
   "execution_count": 49,
   "metadata": {},
   "outputs": [
    {
     "data": {
      "application/vnd.plotly.v1+json": {
       "config": {
        "plotlyServerURL": "https://plot.ly"
       },
       "data": [
        {
         "customdata": [
          [
           3,
           "Yoga"
          ],
          [
           1,
           "Strength"
          ],
          [
           1,
           "Strength"
          ],
          [
           2,
           "Cardio"
          ],
          [
           2,
           "Strength"
          ],
          [
           1,
           "Cardio"
          ],
          [
           1,
           "HIIT"
          ],
          [
           2,
           "HIIT"
          ],
          [
           2,
           "Cardio"
          ],
          [
           1,
           "HIIT"
          ],
          [
           2,
           "Yoga"
          ],
          [
           2,
           "Strength"
          ],
          [
           1,
           "Cardio"
          ],
          [
           1,
           "Yoga"
          ],
          [
           1,
           "HIIT"
          ],
          [
           2,
           "Strength"
          ],
          [
           3,
           "HIIT"
          ],
          [
           1,
           "HIIT"
          ],
          [
           3,
           "HIIT"
          ],
          [
           1,
           "Strength"
          ],
          [
           2,
           "Strength"
          ],
          [
           2,
           "Strength"
          ],
          [
           2,
           "Strength"
          ],
          [
           2,
           "Yoga"
          ],
          [
           1,
           "HIIT"
          ],
          [
           1,
           "Strength"
          ],
          [
           1,
           "Yoga"
          ],
          [
           1,
           "Cardio"
          ],
          [
           3,
           "Cardio"
          ],
          [
           1,
           "Cardio"
          ],
          [
           1,
           "Strength"
          ],
          [
           2,
           "Cardio"
          ],
          [
           3,
           "Strength"
          ],
          [
           2,
           "Strength"
          ],
          [
           3,
           "HIIT"
          ],
          [
           2,
           "HIIT"
          ],
          [
           2,
           "Cardio"
          ],
          [
           2,
           "Cardio"
          ],
          [
           1,
           "Strength"
          ],
          [
           1,
           "Yoga"
          ],
          [
           2,
           "Yoga"
          ],
          [
           2,
           "Cardio"
          ],
          [
           2,
           "Yoga"
          ],
          [
           3,
           "HIIT"
          ],
          [
           2,
           "Cardio"
          ],
          [
           2,
           "Strength"
          ],
          [
           1,
           "Yoga"
          ],
          [
           1,
           "Cardio"
          ],
          [
           2,
           "Yoga"
          ],
          [
           2,
           "Yoga"
          ],
          [
           1,
           "Strength"
          ],
          [
           1,
           "Strength"
          ],
          [
           1,
           "Yoga"
          ],
          [
           3,
           "Strength"
          ],
          [
           3,
           "Yoga"
          ],
          [
           3,
           "HIIT"
          ],
          [
           2,
           "Strength"
          ],
          [
           1,
           "Yoga"
          ],
          [
           3,
           "HIIT"
          ],
          [
           1,
           "Yoga"
          ],
          [
           2,
           "Yoga"
          ],
          [
           2,
           "Strength"
          ],
          [
           1,
           "Strength"
          ],
          [
           2,
           "Cardio"
          ],
          [
           3,
           "Strength"
          ],
          [
           1,
           "Yoga"
          ],
          [
           1,
           "Yoga"
          ],
          [
           3,
           "Yoga"
          ],
          [
           1,
           "Strength"
          ],
          [
           3,
           "Yoga"
          ],
          [
           2,
           "HIIT"
          ],
          [
           1,
           "Yoga"
          ],
          [
           1,
           "Yoga"
          ],
          [
           1,
           "HIIT"
          ],
          [
           1,
           "HIIT"
          ],
          [
           1,
           "Cardio"
          ],
          [
           3,
           "HIIT"
          ],
          [
           1,
           "Strength"
          ],
          [
           1,
           "Strength"
          ],
          [
           2,
           "Yoga"
          ],
          [
           1,
           "Cardio"
          ],
          [
           1,
           "Strength"
          ],
          [
           2,
           "Yoga"
          ],
          [
           1,
           "Strength"
          ],
          [
           2,
           "Cardio"
          ],
          [
           2,
           "Yoga"
          ],
          [
           2,
           "Cardio"
          ],
          [
           3,
           "Cardio"
          ],
          [
           3,
           "Cardio"
          ],
          [
           1,
           "Yoga"
          ],
          [
           1,
           "Yoga"
          ],
          [
           2,
           "Strength"
          ],
          [
           3,
           "Cardio"
          ],
          [
           1,
           "Yoga"
          ],
          [
           2,
           "Strength"
          ],
          [
           1,
           "HIIT"
          ],
          [
           3,
           "HIIT"
          ],
          [
           1,
           "Cardio"
          ],
          [
           3,
           "Strength"
          ],
          [
           2,
           "Cardio"
          ],
          [
           2,
           "HIIT"
          ],
          [
           2,
           "Yoga"
          ],
          [
           2,
           "Yoga"
          ],
          [
           1,
           "Strength"
          ],
          [
           1,
           "Cardio"
          ],
          [
           3,
           "HIIT"
          ],
          [
           1,
           "HIIT"
          ],
          [
           2,
           "Cardio"
          ],
          [
           2,
           "Strength"
          ],
          [
           3,
           "Cardio"
          ],
          [
           2,
           "Yoga"
          ],
          [
           2,
           "Yoga"
          ],
          [
           3,
           "Yoga"
          ],
          [
           2,
           "Yoga"
          ],
          [
           2,
           "Cardio"
          ],
          [
           1,
           "HIIT"
          ],
          [
           3,
           "Strength"
          ],
          [
           3,
           "HIIT"
          ],
          [
           2,
           "Strength"
          ],
          [
           3,
           "Cardio"
          ],
          [
           2,
           "Yoga"
          ],
          [
           2,
           "Strength"
          ],
          [
           2,
           "Cardio"
          ],
          [
           2,
           "Cardio"
          ],
          [
           2,
           "Strength"
          ],
          [
           1,
           "Strength"
          ],
          [
           1,
           "Strength"
          ],
          [
           1,
           "Strength"
          ],
          [
           2,
           "HIIT"
          ],
          [
           1,
           "Cardio"
          ],
          [
           2,
           "Yoga"
          ],
          [
           1,
           "HIIT"
          ],
          [
           1,
           "Cardio"
          ],
          [
           1,
           "Yoga"
          ],
          [
           2,
           "HIIT"
          ],
          [
           2,
           "Cardio"
          ],
          [
           1,
           "Cardio"
          ],
          [
           3,
           "Cardio"
          ],
          [
           2,
           "HIIT"
          ],
          [
           2,
           "Yoga"
          ],
          [
           1,
           "Strength"
          ],
          [
           1,
           "Yoga"
          ],
          [
           2,
           "Strength"
          ],
          [
           1,
           "HIIT"
          ],
          [
           1,
           "Cardio"
          ],
          [
           1,
           "Yoga"
          ],
          [
           1,
           "Yoga"
          ],
          [
           1,
           "Yoga"
          ],
          [
           1,
           "Cardio"
          ],
          [
           3,
           "Cardio"
          ],
          [
           2,
           "Strength"
          ],
          [
           1,
           "HIIT"
          ],
          [
           2,
           "Strength"
          ],
          [
           2,
           "Strength"
          ],
          [
           2,
           "Cardio"
          ],
          [
           1,
           "Cardio"
          ],
          [
           2,
           "HIIT"
          ],
          [
           1,
           "HIIT"
          ],
          [
           2,
           "Cardio"
          ],
          [
           1,
           "Strength"
          ],
          [
           2,
           "Cardio"
          ],
          [
           2,
           "Yoga"
          ],
          [
           2,
           "Cardio"
          ],
          [
           3,
           "HIIT"
          ],
          [
           2,
           "Yoga"
          ],
          [
           1,
           "HIIT"
          ],
          [
           1,
           "Yoga"
          ],
          [
           3,
           "Yoga"
          ],
          [
           1,
           "Cardio"
          ],
          [
           1,
           "HIIT"
          ],
          [
           2,
           "HIIT"
          ],
          [
           3,
           "HIIT"
          ],
          [
           1,
           "Strength"
          ],
          [
           2,
           "Strength"
          ],
          [
           1,
           "Cardio"
          ],
          [
           1,
           "Cardio"
          ],
          [
           2,
           "Yoga"
          ],
          [
           2,
           "Cardio"
          ],
          [
           2,
           "Strength"
          ],
          [
           2,
           "Cardio"
          ],
          [
           2,
           "Strength"
          ],
          [
           1,
           "Yoga"
          ],
          [
           1,
           "Strength"
          ],
          [
           1,
           "Strength"
          ],
          [
           1,
           "Yoga"
          ],
          [
           1,
           "Strength"
          ],
          [
           1,
           "Cardio"
          ],
          [
           1,
           "Yoga"
          ],
          [
           2,
           "HIIT"
          ],
          [
           2,
           "HIIT"
          ],
          [
           1,
           "HIIT"
          ],
          [
           1,
           "Strength"
          ],
          [
           2,
           "Yoga"
          ],
          [
           2,
           "Strength"
          ],
          [
           2,
           "Strength"
          ],
          [
           3,
           "HIIT"
          ],
          [
           1,
           "Cardio"
          ],
          [
           2,
           "Strength"
          ],
          [
           2,
           "HIIT"
          ],
          [
           1,
           "Yoga"
          ],
          [
           2,
           "Strength"
          ],
          [
           2,
           "HIIT"
          ],
          [
           3,
           "Cardio"
          ],
          [
           1,
           "Cardio"
          ],
          [
           1,
           "Cardio"
          ],
          [
           3,
           "Strength"
          ],
          [
           2,
           "Yoga"
          ],
          [
           2,
           "Cardio"
          ],
          [
           1,
           "Strength"
          ],
          [
           1,
           "Strength"
          ],
          [
           1,
           "Strength"
          ],
          [
           3,
           "Strength"
          ],
          [
           2,
           "Cardio"
          ],
          [
           1,
           "Strength"
          ],
          [
           2,
           "HIIT"
          ],
          [
           3,
           "Strength"
          ],
          [
           2,
           "Cardio"
          ],
          [
           3,
           "Strength"
          ],
          [
           1,
           "Yoga"
          ],
          [
           3,
           "Yoga"
          ],
          [
           1,
           "Cardio"
          ],
          [
           2,
           "Cardio"
          ],
          [
           1,
           "Strength"
          ],
          [
           2,
           "Cardio"
          ],
          [
           3,
           "HIIT"
          ],
          [
           2,
           "Strength"
          ],
          [
           1,
           "HIIT"
          ],
          [
           3,
           "Yoga"
          ],
          [
           2,
           "HIIT"
          ],
          [
           2,
           "Strength"
          ],
          [
           2,
           "Yoga"
          ],
          [
           2,
           "Cardio"
          ],
          [
           1,
           "Yoga"
          ],
          [
           1,
           "HIIT"
          ],
          [
           1,
           "HIIT"
          ],
          [
           3,
           "Cardio"
          ],
          [
           2,
           "Strength"
          ],
          [
           3,
           "Cardio"
          ],
          [
           2,
           "Cardio"
          ],
          [
           1,
           "Strength"
          ],
          [
           1,
           "Strength"
          ],
          [
           2,
           "Cardio"
          ],
          [
           1,
           "Yoga"
          ],
          [
           2,
           "HIIT"
          ],
          [
           1,
           "Cardio"
          ],
          [
           2,
           "HIIT"
          ],
          [
           3,
           "HIIT"
          ],
          [
           1,
           "Yoga"
          ],
          [
           1,
           "HIIT"
          ],
          [
           1,
           "Strength"
          ],
          [
           1,
           "Yoga"
          ],
          [
           2,
           "Strength"
          ],
          [
           1,
           "Cardio"
          ],
          [
           3,
           "Yoga"
          ],
          [
           3,
           "Cardio"
          ],
          [
           2,
           "Yoga"
          ],
          [
           1,
           "HIIT"
          ],
          [
           3,
           "Strength"
          ],
          [
           1,
           "Cardio"
          ],
          [
           1,
           "HIIT"
          ],
          [
           2,
           "Strength"
          ],
          [
           3,
           "HIIT"
          ],
          [
           2,
           "Cardio"
          ],
          [
           1,
           "HIIT"
          ],
          [
           2,
           "Strength"
          ],
          [
           2,
           "Yoga"
          ],
          [
           1,
           "Yoga"
          ],
          [
           1,
           "Yoga"
          ],
          [
           3,
           "Strength"
          ],
          [
           3,
           "Yoga"
          ],
          [
           2,
           "Cardio"
          ],
          [
           3,
           "HIIT"
          ],
          [
           1,
           "Yoga"
          ],
          [
           1,
           "Cardio"
          ],
          [
           2,
           "Cardio"
          ],
          [
           1,
           "Cardio"
          ],
          [
           2,
           "HIIT"
          ],
          [
           2,
           "Cardio"
          ],
          [
           3,
           "Yoga"
          ],
          [
           3,
           "Yoga"
          ],
          [
           2,
           "HIIT"
          ],
          [
           1,
           "Cardio"
          ],
          [
           3,
           "Yoga"
          ],
          [
           3,
           "HIIT"
          ],
          [
           2,
           "Yoga"
          ],
          [
           3,
           "HIIT"
          ],
          [
           2,
           "HIIT"
          ],
          [
           2,
           "Strength"
          ],
          [
           1,
           "Cardio"
          ],
          [
           2,
           "Strength"
          ],
          [
           1,
           "HIIT"
          ],
          [
           1,
           "Yoga"
          ],
          [
           1,
           "Cardio"
          ],
          [
           3,
           "Strength"
          ],
          [
           2,
           "Strength"
          ],
          [
           1,
           "HIIT"
          ],
          [
           2,
           "Cardio"
          ],
          [
           1,
           "Strength"
          ],
          [
           1,
           "Cardio"
          ],
          [
           2,
           "HIIT"
          ],
          [
           1,
           "Cardio"
          ],
          [
           1,
           "Cardio"
          ],
          [
           3,
           "HIIT"
          ],
          [
           2,
           "Strength"
          ],
          [
           1,
           "Yoga"
          ],
          [
           2,
           "Strength"
          ],
          [
           2,
           "HIIT"
          ],
          [
           1,
           "HIIT"
          ],
          [
           3,
           "HIIT"
          ],
          [
           2,
           "Cardio"
          ],
          [
           2,
           "Cardio"
          ],
          [
           1,
           "Yoga"
          ],
          [
           1,
           "Yoga"
          ],
          [
           3,
           "Cardio"
          ],
          [
           2,
           "Strength"
          ],
          [
           2,
           "Yoga"
          ],
          [
           3,
           "Strength"
          ],
          [
           1,
           "HIIT"
          ],
          [
           3,
           "Strength"
          ],
          [
           3,
           "Strength"
          ],
          [
           3,
           "HIIT"
          ],
          [
           2,
           "Strength"
          ],
          [
           2,
           "Strength"
          ],
          [
           3,
           "Cardio"
          ],
          [
           2,
           "HIIT"
          ],
          [
           2,
           "HIIT"
          ],
          [
           2,
           "Yoga"
          ],
          [
           3,
           "Yoga"
          ],
          [
           3,
           "HIIT"
          ],
          [
           3,
           "Yoga"
          ],
          [
           2,
           "Yoga"
          ],
          [
           2,
           "HIIT"
          ],
          [
           2,
           "HIIT"
          ],
          [
           2,
           "Strength"
          ],
          [
           2,
           "Strength"
          ],
          [
           3,
           "Yoga"
          ],
          [
           2,
           "Strength"
          ],
          [
           2,
           "Yoga"
          ],
          [
           1,
           "Yoga"
          ],
          [
           3,
           "Strength"
          ],
          [
           1,
           "Strength"
          ],
          [
           2,
           "Strength"
          ],
          [
           3,
           "Cardio"
          ],
          [
           2,
           "Yoga"
          ],
          [
           1,
           "Strength"
          ],
          [
           2,
           "Cardio"
          ],
          [
           2,
           "Cardio"
          ],
          [
           2,
           "Yoga"
          ],
          [
           1,
           "HIIT"
          ],
          [
           1,
           "HIIT"
          ],
          [
           3,
           "Cardio"
          ],
          [
           3,
           "Cardio"
          ],
          [
           2,
           "Strength"
          ],
          [
           2,
           "Yoga"
          ],
          [
           3,
           "Cardio"
          ],
          [
           2,
           "Cardio"
          ],
          [
           1,
           "Yoga"
          ],
          [
           1,
           "Yoga"
          ],
          [
           2,
           "Cardio"
          ],
          [
           2,
           "Strength"
          ],
          [
           1,
           "Yoga"
          ],
          [
           2,
           "Yoga"
          ],
          [
           2,
           "HIIT"
          ],
          [
           2,
           "HIIT"
          ],
          [
           2,
           "Yoga"
          ],
          [
           3,
           "Yoga"
          ],
          [
           1,
           "Strength"
          ],
          [
           1,
           "HIIT"
          ],
          [
           1,
           "Strength"
          ],
          [
           1,
           "Yoga"
          ],
          [
           2,
           "HIIT"
          ],
          [
           1,
           "HIIT"
          ],
          [
           2,
           "HIIT"
          ],
          [
           1,
           "Strength"
          ],
          [
           2,
           "Yoga"
          ],
          [
           3,
           "HIIT"
          ],
          [
           2,
           "Cardio"
          ],
          [
           2,
           "Cardio"
          ],
          [
           2,
           "Yoga"
          ],
          [
           2,
           "Yoga"
          ],
          [
           1,
           "Strength"
          ],
          [
           2,
           "HIIT"
          ],
          [
           1,
           "Cardio"
          ],
          [
           1,
           "Cardio"
          ],
          [
           1,
           "Yoga"
          ],
          [
           1,
           "Cardio"
          ],
          [
           3,
           "Strength"
          ],
          [
           1,
           "Yoga"
          ],
          [
           1,
           "Yoga"
          ],
          [
           2,
           "HIIT"
          ],
          [
           3,
           "Strength"
          ],
          [
           1,
           "Yoga"
          ],
          [
           3,
           "HIIT"
          ],
          [
           2,
           "Strength"
          ],
          [
           2,
           "Yoga"
          ],
          [
           2,
           "Cardio"
          ],
          [
           2,
           "Cardio"
          ],
          [
           2,
           "HIIT"
          ],
          [
           1,
           "Strength"
          ],
          [
           1,
           "HIIT"
          ],
          [
           1,
           "Yoga"
          ],
          [
           3,
           "HIIT"
          ],
          [
           2,
           "Cardio"
          ],
          [
           1,
           "HIIT"
          ],
          [
           2,
           "Yoga"
          ],
          [
           1,
           "Cardio"
          ],
          [
           1,
           "HIIT"
          ],
          [
           3,
           "Yoga"
          ],
          [
           1,
           "HIIT"
          ],
          [
           2,
           "HIIT"
          ],
          [
           3,
           "Yoga"
          ],
          [
           2,
           "Cardio"
          ],
          [
           3,
           "Yoga"
          ],
          [
           1,
           "HIIT"
          ],
          [
           1,
           "Cardio"
          ],
          [
           2,
           "Cardio"
          ],
          [
           2,
           "Yoga"
          ],
          [
           3,
           "Cardio"
          ],
          [
           2,
           "Strength"
          ],
          [
           1,
           "Yoga"
          ],
          [
           1,
           "Yoga"
          ],
          [
           1,
           "Strength"
          ],
          [
           2,
           "Yoga"
          ],
          [
           1,
           "Cardio"
          ],
          [
           3,
           "HIIT"
          ],
          [
           2,
           "Yoga"
          ],
          [
           2,
           "Cardio"
          ],
          [
           2,
           "Cardio"
          ],
          [
           1,
           "Cardio"
          ],
          [
           2,
           "Cardio"
          ],
          [
           3,
           "Strength"
          ],
          [
           2,
           "Yoga"
          ],
          [
           2,
           "Cardio"
          ],
          [
           2,
           "Strength"
          ],
          [
           2,
           "Yoga"
          ],
          [
           1,
           "Cardio"
          ],
          [
           1,
           "HIIT"
          ],
          [
           1,
           "Cardio"
          ],
          [
           2,
           "Cardio"
          ],
          [
           1,
           "Strength"
          ],
          [
           3,
           "Yoga"
          ],
          [
           3,
           "Yoga"
          ],
          [
           1,
           "Strength"
          ],
          [
           1,
           "HIIT"
          ],
          [
           2,
           "HIIT"
          ],
          [
           2,
           "Cardio"
          ],
          [
           2,
           "Strength"
          ],
          [
           1,
           "Cardio"
          ],
          [
           1,
           "Strength"
          ],
          [
           2,
           "Yoga"
          ],
          [
           2,
           "Yoga"
          ],
          [
           2,
           "Strength"
          ],
          [
           3,
           "Yoga"
          ],
          [
           1,
           "Yoga"
          ],
          [
           1,
           "Cardio"
          ],
          [
           2,
           "Strength"
          ],
          [
           1,
           "HIIT"
          ],
          [
           2,
           "Strength"
          ],
          [
           3,
           "Yoga"
          ],
          [
           1,
           "Cardio"
          ],
          [
           3,
           "Yoga"
          ],
          [
           1,
           "Yoga"
          ],
          [
           2,
           "HIIT"
          ],
          [
           2,
           "Yoga"
          ],
          [
           2,
           "Cardio"
          ],
          [
           3,
           "Cardio"
          ],
          [
           2,
           "Strength"
          ],
          [
           1,
           "Cardio"
          ],
          [
           3,
           "Strength"
          ],
          [
           2,
           "Cardio"
          ],
          [
           1,
           "Yoga"
          ],
          [
           2,
           "Yoga"
          ],
          [
           1,
           "HIIT"
          ],
          [
           1,
           "HIIT"
          ],
          [
           2,
           "Strength"
          ],
          [
           3,
           "Strength"
          ],
          [
           1,
           "Yoga"
          ],
          [
           1,
           "Strength"
          ],
          [
           1,
           "Cardio"
          ],
          [
           1,
           "HIIT"
          ],
          [
           2,
           "Yoga"
          ],
          [
           2,
           "Yoga"
          ],
          [
           3,
           "Cardio"
          ],
          [
           1,
           "Cardio"
          ],
          [
           2,
           "Strength"
          ],
          [
           1,
           "Yoga"
          ],
          [
           2,
           "HIIT"
          ],
          [
           3,
           "Yoga"
          ],
          [
           1,
           "HIIT"
          ],
          [
           2,
           "Strength"
          ],
          [
           2,
           "HIIT"
          ],
          [
           1,
           "Strength"
          ],
          [
           1,
           "Strength"
          ],
          [
           2,
           "Yoga"
          ],
          [
           3,
           "HIIT"
          ],
          [
           3,
           "Cardio"
          ],
          [
           2,
           "HIIT"
          ],
          [
           2,
           "Strength"
          ],
          [
           2,
           "Cardio"
          ],
          [
           1,
           "Cardio"
          ],
          [
           2,
           "Strength"
          ],
          [
           3,
           "Strength"
          ],
          [
           2,
           "Strength"
          ],
          [
           2,
           "Strength"
          ],
          [
           3,
           "HIIT"
          ],
          [
           3,
           "HIIT"
          ],
          [
           2,
           "Yoga"
          ],
          [
           3,
           "Strength"
          ],
          [
           1,
           "Strength"
          ],
          [
           2,
           "HIIT"
          ],
          [
           1,
           "Strength"
          ]
         ],
         "hovertemplate": "Género=Male<br>Calorías quemadas=%{x}<br>Duración de la sesión (horas)=%{y}<br>Experience_Level=%{customdata[0]}<br>Workout_Type=%{customdata[1]}<extra></extra>",
         "legendgroup": "Male",
         "marker": {
          "color": "#636efa",
          "symbol": "circle"
         },
         "mode": "markers",
         "name": "Male",
         "orientation": "v",
         "showlegend": true,
         "type": "scatter",
         "x": [
          1313,
          532,
          556,
          1385,
          719,
          808,
          593,
          865,
          1013,
          794,
          1195,
          1048,
          875,
          721,
          502,
          989,
          1104,
          964,
          1237,
          1162,
          1069,
          1072,
          1057,
          962,
          1304,
          956,
          772,
          1016,
          1133,
          750,
          1046,
          1318,
          1299,
          773,
          1587,
          1176,
          743,
          777,
          663,
          864,
          744,
          1150,
          917,
          1688,
          936,
          1052,
          805,
          1106,
          804,
          805,
          420,
          667,
          424,
          1404,
          1357,
          1315,
          685,
          446,
          1357,
          1303,
          858,
          1071,
          639,
          824,
          1701,
          880,
          500,
          1373,
          458,
          1503,
          1207,
          811,
          451,
          608,
          854,
          678,
          1265,
          885,
          624,
          1214,
          499,
          530,
          886,
          1201,
          832,
          1151,
          1070,
          1119,
          1074,
          574,
          813,
          680,
          1195,
          925,
          778,
          603,
          1082,
          1133,
          1424,
          1126,
          802,
          707,
          926,
          852,
          988,
          1138,
          1025,
          929,
          663,
          1280,
          799,
          1071,
          1241,
          842,
          980,
          1021,
          1481,
          1111,
          903,
          1292,
          680,
          1034,
          815,
          820,
          688,
          597,
          1074,
          993,
          919,
          579,
          832,
          739,
          594,
          1075,
          744,
          660,
          1012,
          1163,
          878,
          772,
          353,
          632,
          680,
          949,
          497,
          1136,
          616,
          1009,
          502,
          1232,
          1137,
          593,
          938,
          922,
          923,
          1054,
          936,
          333,
          729,
          465,
          987,
          874,
          796,
          1181,
          970,
          840,
          585,
          1321,
          1100,
          1022,
          1223,
          1468,
          722,
          1123,
          822,
          1086,
          810,
          1187,
          885,
          875,
          927,
          500,
          442,
          949,
          496,
          792,
          448,
          440,
          886,
          1036,
          891,
          1289,
          715,
          817,
          806,
          1160,
          598,
          882,
          1145,
          574,
          767,
          973,
          1505,
          707,
          1192,
          1020,
          639,
          1278,
          1205,
          1171,
          1005,
          1198,
          868,
          634,
          992,
          1500,
          1203,
          1316,
          995,
          927,
          444,
          1085,
          393,
          700,
          1218,
          739,
          795,
          1356,
          900,
          1170,
          952,
          921,
          545,
          627,
          555,
          1203,
          882,
          1479,
          997,
          586,
          1025,
          873,
          1155,
          937,
          740,
          1055,
          1622,
          658,
          964,
          710,
          699,
          959,
          725,
          1151,
          1379,
          1084,
          615,
          1144,
          730,
          412,
          932,
          1185,
          946,
          612,
          1011,
          1133,
          731,
          868,
          1725,
          1492,
          1199,
          1169,
          639,
          1066,
          757,
          386,
          796,
          1107,
          1314,
          1321,
          705,
          453,
          1332,
          1401,
          851,
          1467,
          810,
          1004,
          907,
          969,
          957,
          937,
          463,
          1345,
          844,
          972,
          686,
          593,
          472,
          876,
          331,
          949,
          1646,
          842,
          831,
          818,
          957,
          525,
          1510,
          850,
          1091,
          529,
          656,
          1150,
          946,
          830,
          1139,
          651,
          1322,
          1398,
          1408,
          1257,
          921,
          1319,
          1009,
          1078,
          789,
          1028,
          1355,
          1287,
          1158,
          894,
          748,
          759,
          847,
          1173,
          1076,
          881,
          661,
          1675,
          350,
          1173,
          1515,
          753,
          1151,
          1081,
          904,
          856,
          789,
          937,
          1410,
          1320,
          987,
          1086,
          1248,
          875,
          688,
          1172,
          926,
          915,
          802,
          1229,
          972,
          983,
          796,
          1225,
          954,
          752,
          1024,
          988,
          821,
          1188,
          870,
          1013,
          1216,
          1766,
          1025,
          1060,
          777,
          950,
          942,
          1025,
          868,
          1091,
          929,
          408,
          1634,
          423,
          775,
          954,
          1598,
          1249,
          1573,
          714,
          952,
          951,
          1148,
          1024,
          468,
          741,
          695,
          1159,
          1082,
          559,
          982,
          445,
          668,
          1378,
          807,
          924,
          1372,
          1015,
          1536,
          1012,
          436,
          1294,
          645,
          1197,
          1143,
          504,
          666,
          484,
          747,
          446,
          1491,
          885,
          1241,
          719,
          388,
          1047,
          1363,
          1148,
          858,
          1116,
          859,
          888,
          792,
          986,
          1010,
          1128,
          1451,
          1159,
          915,
          779,
          879,
          1198,
          698,
          803,
          552,
          1031,
          876,
          795,
          1102,
          944,
          598,
          1025,
          691,
          992,
          1181,
          725,
          1189,
          637,
          951,
          815,
          1104,
          1287,
          942,
          494,
          1497,
          950,
          494,
          921,
          713,
          549,
          980,
          1783,
          634,
          640,
          895,
          531,
          681,
          914,
          1027,
          693,
          705,
          656,
          1044,
          1230,
          557,
          965,
          736,
          1017,
          812,
          1104,
          1113,
          1418,
          1127,
          718,
          862,
          762,
          992,
          1445,
          818,
          764,
          1290,
          1327,
          1035,
          1364,
          1260,
          883,
          542
         ],
         "xaxis": "x",
         "y": [
          1.69,
          0.59,
          0.64,
          1.49,
          1.03,
          1.08,
          0.82,
          1.15,
          1.24,
          1.18,
          1.35,
          1.5,
          1.12,
          0.78,
          0.73,
          1.48,
          1.64,
          1.27,
          1.52,
          1.32,
          1.34,
          1.3,
          1.31,
          1.45,
          1.5,
          1.2,
          0.84,
          1.41,
          1.67,
          1.13,
          1.26,
          1.47,
          1.75,
          1.23,
          1.99,
          1.32,
          1.08,
          1.13,
          1.08,
          1.18,
          1.13,
          1.34,
          1.09,
          1.93,
          1.26,
          1.25,
          1.29,
          1.33,
          1.16,
          1.2,
          0.54,
          0.97,
          0.51,
          1.74,
          1.78,
          1.72,
          1.01,
          0.55,
          1.69,
          1.41,
          1.22,
          1.29,
          1,
          1.28,
          1.97,
          1.28,
          0.66,
          1.61,
          0.68,
          1.91,
          1.38,
          1.17,
          0.66,
          0.89,
          1.38,
          0.97,
          1.53,
          1.07,
          0.7,
          1.46,
          0.54,
          0.83,
          1.42,
          1.3,
          1.08,
          1.49,
          1.36,
          1.57,
          1.55,
          0.92,
          1.08,
          1.09,
          1.52,
          1.46,
          1.2,
          0.83,
          1.54,
          1.28,
          1.66,
          1.44,
          1.2,
          1.09,
          1.1,
          1.23,
          1.33,
          1.71,
          1.18,
          1.26,
          1.03,
          1.79,
          1.2,
          1.37,
          1.71,
          1.11,
          1.35,
          1.19,
          1.87,
          1.57,
          1.46,
          1.8,
          1.09,
          1.16,
          1.36,
          1.2,
          1.13,
          0.82,
          1.31,
          1.41,
          1.16,
          0.77,
          1.4,
          1.09,
          0.93,
          1.33,
          1.04,
          1.01,
          1.31,
          1.69,
          1.33,
          1.15,
          0.52,
          0.96,
          1.01,
          1.36,
          0.81,
          1.48,
          0.8,
          1.39,
          0.63,
          1.79,
          1.36,
          0.81,
          1.1,
          1.37,
          1.13,
          1.42,
          1.4,
          0.53,
          1.03,
          0.77,
          1.3,
          1.46,
          1.14,
          1.85,
          1.43,
          1.01,
          0.81,
          1.84,
          1.37,
          1.3,
          1.48,
          1.82,
          0.81,
          1.35,
          1.17,
          1.42,
          1.07,
          1.48,
          1.43,
          1.14,
          1.31,
          0.64,
          0.67,
          1.38,
          0.64,
          0.9,
          0.57,
          0.7,
          1.14,
          1.3,
          1.35,
          1.42,
          1,
          1.26,
          1.03,
          1.86,
          0.93,
          1.15,
          1.37,
          0.73,
          1.09,
          1.31,
          1.9,
          1.18,
          1.38,
          1.52,
          1,
          1.48,
          1.32,
          1.4,
          1.45,
          1.59,
          1.28,
          0.72,
          1.49,
          1.98,
          1.35,
          1.65,
          1.28,
          1.51,
          0.69,
          1.43,
          0.51,
          1.01,
          1.8,
          1.14,
          1.04,
          1.8,
          1.22,
          1.4,
          1.21,
          1.2,
          0.77,
          0.76,
          0.85,
          1.7,
          1.35,
          1.88,
          1.25,
          0.88,
          1.13,
          1.47,
          1.25,
          1.31,
          0.83,
          1.41,
          1.82,
          1.09,
          1.21,
          0.97,
          0.97,
          1.05,
          0.91,
          1.54,
          1.66,
          1.36,
          0.74,
          1.7,
          0.84,
          0.66,
          1.29,
          1.87,
          1.22,
          0.87,
          1.48,
          1.44,
          0.81,
          1.37,
          1.96,
          1.98,
          1.38,
          1.66,
          0.93,
          1.29,
          1.02,
          0.52,
          1.34,
          1.29,
          1.68,
          1.74,
          1.01,
          0.72,
          1.77,
          1.9,
          1.13,
          1.83,
          1.03,
          1.17,
          1.34,
          1.36,
          1.27,
          1.02,
          0.61,
          1.91,
          1.16,
          1.37,
          1.04,
          0.77,
          0.67,
          1.32,
          0.54,
          1.36,
          1.87,
          1.35,
          1.03,
          1.08,
          1.36,
          0.68,
          1.83,
          1.01,
          1.24,
          0.69,
          0.89,
          1.83,
          1.03,
          1.14,
          1.87,
          0.84,
          1.78,
          1.81,
          1.73,
          1.42,
          1.06,
          1.75,
          1.29,
          1.4,
          1.19,
          1.52,
          1.97,
          1.7,
          1.48,
          1.3,
          1.26,
          1.15,
          1.38,
          1.58,
          1.46,
          1.06,
          0.72,
          1.88,
          0.52,
          1.27,
          1.8,
          1.17,
          1.3,
          1.31,
          1.1,
          1.34,
          1.13,
          1.12,
          1.72,
          1.6,
          1.38,
          1.42,
          1.51,
          1.02,
          1.13,
          1.48,
          1.38,
          1.18,
          1.13,
          1.46,
          1.37,
          1.2,
          1.14,
          1.98,
          1.14,
          1.13,
          1.37,
          1.24,
          1.14,
          1.42,
          1.18,
          1.45,
          1.34,
          1.9,
          1.35,
          1.29,
          1,
          1.38,
          1.36,
          1.36,
          1.36,
          1.44,
          1.26,
          0.58,
          2,
          0.57,
          1.06,
          1.41,
          1.75,
          1.36,
          1.81,
          1.06,
          1.17,
          1.16,
          1.45,
          1.32,
          0.63,
          0.93,
          0.79,
          1.51,
          1.49,
          0.84,
          1.47,
          0.55,
          0.9,
          1.79,
          1.08,
          1.22,
          1.66,
          1.29,
          1.9,
          1.31,
          0.66,
          1.47,
          1.01,
          1.77,
          1.35,
          0.71,
          0.91,
          0.56,
          1.11,
          0.6,
          1.76,
          1.33,
          1.41,
          1.19,
          0.53,
          1.39,
          1.62,
          1.38,
          1.09,
          1.26,
          1.23,
          1.22,
          0.96,
          1.1,
          1.35,
          1.47,
          1.94,
          1.76,
          1.24,
          1.21,
          1.15,
          1.32,
          1,
          1,
          0.71,
          1.15,
          1.06,
          1.1,
          1.7,
          1.3,
          0.77,
          1.18,
          0.91,
          1.49,
          1.85,
          1.03,
          1.58,
          0.77,
          1.29,
          1.09,
          1.32,
          1.72,
          1.15,
          0.68,
          1.63,
          1.28,
          0.66,
          1.42,
          0.96,
          0.75,
          1.32,
          1.93,
          0.79,
          0.77,
          1.19,
          0.72,
          1.05,
          1.24,
          1.56,
          0.94,
          1.13,
          0.89,
          1.31,
          1.72,
          0.76,
          1.3,
          1.04,
          1.34,
          1.18,
          1.32,
          1.77,
          1.99,
          1.38,
          1.02,
          1.21,
          1.14,
          1.2,
          1.96,
          1.24,
          1.16,
          1.57,
          1.87,
          1.12,
          1.57,
          1.38,
          1.1,
          0.75
         ],
         "yaxis": "y"
        },
        {
         "customdata": [
          [
           2,
           "HIIT"
          ],
          [
           2,
           "Cardio"
          ],
          [
           3,
           "HIIT"
          ],
          [
           2,
           "Cardio"
          ],
          [
           1,
           "Strength"
          ],
          [
           2,
           "HIIT"
          ],
          [
           1,
           "Cardio"
          ],
          [
           2,
           "Strength"
          ],
          [
           1,
           "HIIT"
          ],
          [
           1,
           "Yoga"
          ],
          [
           2,
           "HIIT"
          ],
          [
           2,
           "Yoga"
          ],
          [
           2,
           "HIIT"
          ],
          [
           2,
           "Yoga"
          ],
          [
           1,
           "HIIT"
          ],
          [
           1,
           "Cardio"
          ],
          [
           2,
           "Cardio"
          ],
          [
           1,
           "Cardio"
          ],
          [
           1,
           "Cardio"
          ],
          [
           1,
           "Cardio"
          ],
          [
           1,
           "Strength"
          ],
          [
           2,
           "Cardio"
          ],
          [
           2,
           "Yoga"
          ],
          [
           1,
           "HIIT"
          ],
          [
           2,
           "Yoga"
          ],
          [
           1,
           "Cardio"
          ],
          [
           3,
           "Cardio"
          ],
          [
           1,
           "HIIT"
          ],
          [
           2,
           "Strength"
          ],
          [
           2,
           "Yoga"
          ],
          [
           3,
           "Strength"
          ],
          [
           1,
           "Cardio"
          ],
          [
           1,
           "Cardio"
          ],
          [
           3,
           "Yoga"
          ],
          [
           3,
           "Strength"
          ],
          [
           2,
           "HIIT"
          ],
          [
           2,
           "Yoga"
          ],
          [
           1,
           "Cardio"
          ],
          [
           1,
           "Cardio"
          ],
          [
           3,
           "HIIT"
          ],
          [
           1,
           "Cardio"
          ],
          [
           3,
           "Yoga"
          ],
          [
           1,
           "Yoga"
          ],
          [
           1,
           "Strength"
          ],
          [
           2,
           "Strength"
          ],
          [
           2,
           "Strength"
          ],
          [
           1,
           "HIIT"
          ],
          [
           3,
           "Cardio"
          ],
          [
           1,
           "HIIT"
          ],
          [
           1,
           "Cardio"
          ],
          [
           2,
           "Strength"
          ],
          [
           3,
           "Cardio"
          ],
          [
           2,
           "Yoga"
          ],
          [
           3,
           "Yoga"
          ],
          [
           2,
           "Strength"
          ],
          [
           2,
           "Strength"
          ],
          [
           2,
           "HIIT"
          ],
          [
           2,
           "Strength"
          ],
          [
           2,
           "Cardio"
          ],
          [
           2,
           "Cardio"
          ],
          [
           1,
           "Cardio"
          ],
          [
           3,
           "Yoga"
          ],
          [
           2,
           "Strength"
          ],
          [
           2,
           "Yoga"
          ],
          [
           2,
           "Cardio"
          ],
          [
           1,
           "Strength"
          ],
          [
           3,
           "Cardio"
          ],
          [
           2,
           "Cardio"
          ],
          [
           2,
           "Cardio"
          ],
          [
           2,
           "Strength"
          ],
          [
           1,
           "Cardio"
          ],
          [
           3,
           "Yoga"
          ],
          [
           2,
           "Yoga"
          ],
          [
           2,
           "Cardio"
          ],
          [
           1,
           "Cardio"
          ],
          [
           1,
           "HIIT"
          ],
          [
           2,
           "HIIT"
          ],
          [
           3,
           "Yoga"
          ],
          [
           1,
           "Strength"
          ],
          [
           1,
           "Cardio"
          ],
          [
           1,
           "HIIT"
          ],
          [
           3,
           "HIIT"
          ],
          [
           1,
           "Yoga"
          ],
          [
           2,
           "Cardio"
          ],
          [
           1,
           "Yoga"
          ],
          [
           3,
           "Cardio"
          ],
          [
           3,
           "Strength"
          ],
          [
           2,
           "HIIT"
          ],
          [
           1,
           "Cardio"
          ],
          [
           2,
           "Yoga"
          ],
          [
           1,
           "HIIT"
          ],
          [
           2,
           "Strength"
          ],
          [
           3,
           "HIIT"
          ],
          [
           1,
           "Yoga"
          ],
          [
           2,
           "Yoga"
          ],
          [
           3,
           "Yoga"
          ],
          [
           2,
           "HIIT"
          ],
          [
           2,
           "HIIT"
          ],
          [
           1,
           "Cardio"
          ],
          [
           3,
           "Cardio"
          ],
          [
           2,
           "Strength"
          ],
          [
           1,
           "HIIT"
          ],
          [
           2,
           "Strength"
          ],
          [
           1,
           "Cardio"
          ],
          [
           2,
           "Strength"
          ],
          [
           1,
           "HIIT"
          ],
          [
           2,
           "Cardio"
          ],
          [
           2,
           "HIIT"
          ],
          [
           3,
           "Strength"
          ],
          [
           1,
           "Yoga"
          ],
          [
           2,
           "Strength"
          ],
          [
           3,
           "Yoga"
          ],
          [
           3,
           "Strength"
          ],
          [
           1,
           "HIIT"
          ],
          [
           2,
           "HIIT"
          ],
          [
           1,
           "Cardio"
          ],
          [
           1,
           "HIIT"
          ],
          [
           2,
           "Strength"
          ],
          [
           2,
           "HIIT"
          ],
          [
           1,
           "Cardio"
          ],
          [
           1,
           "Strength"
          ],
          [
           2,
           "Cardio"
          ],
          [
           2,
           "Strength"
          ],
          [
           2,
           "Yoga"
          ],
          [
           3,
           "Strength"
          ],
          [
           2,
           "Cardio"
          ],
          [
           3,
           "Yoga"
          ],
          [
           1,
           "HIIT"
          ],
          [
           1,
           "Yoga"
          ],
          [
           2,
           "HIIT"
          ],
          [
           3,
           "Strength"
          ],
          [
           3,
           "Strength"
          ],
          [
           3,
           "Cardio"
          ],
          [
           2,
           "Yoga"
          ],
          [
           1,
           "Strength"
          ],
          [
           1,
           "Cardio"
          ],
          [
           1,
           "Yoga"
          ],
          [
           1,
           "HIIT"
          ],
          [
           1,
           "Yoga"
          ],
          [
           2,
           "Cardio"
          ],
          [
           2,
           "HIIT"
          ],
          [
           3,
           "HIIT"
          ],
          [
           3,
           "HIIT"
          ],
          [
           1,
           "HIIT"
          ],
          [
           3,
           "Yoga"
          ],
          [
           3,
           "HIIT"
          ],
          [
           2,
           "Yoga"
          ],
          [
           2,
           "Strength"
          ],
          [
           3,
           "Strength"
          ],
          [
           1,
           "HIIT"
          ],
          [
           2,
           "HIIT"
          ],
          [
           3,
           "Strength"
          ],
          [
           2,
           "Strength"
          ],
          [
           2,
           "Strength"
          ],
          [
           1,
           "Yoga"
          ],
          [
           2,
           "Yoga"
          ],
          [
           2,
           "HIIT"
          ],
          [
           1,
           "Cardio"
          ],
          [
           2,
           "HIIT"
          ],
          [
           1,
           "Strength"
          ],
          [
           1,
           "Strength"
          ],
          [
           2,
           "Strength"
          ],
          [
           2,
           "Cardio"
          ],
          [
           2,
           "Strength"
          ],
          [
           3,
           "Strength"
          ],
          [
           1,
           "Strength"
          ],
          [
           2,
           "HIIT"
          ],
          [
           3,
           "Yoga"
          ],
          [
           1,
           "Cardio"
          ],
          [
           2,
           "HIIT"
          ],
          [
           2,
           "Yoga"
          ],
          [
           1,
           "Cardio"
          ],
          [
           3,
           "HIIT"
          ],
          [
           1,
           "Strength"
          ],
          [
           1,
           "Strength"
          ],
          [
           2,
           "Yoga"
          ],
          [
           3,
           "Cardio"
          ],
          [
           1,
           "HIIT"
          ],
          [
           3,
           "Strength"
          ],
          [
           2,
           "Cardio"
          ],
          [
           2,
           "Cardio"
          ],
          [
           3,
           "HIIT"
          ],
          [
           2,
           "Yoga"
          ],
          [
           2,
           "Strength"
          ],
          [
           1,
           "Strength"
          ],
          [
           1,
           "Strength"
          ],
          [
           1,
           "Strength"
          ],
          [
           2,
           "Strength"
          ],
          [
           2,
           "Cardio"
          ],
          [
           1,
           "HIIT"
          ],
          [
           3,
           "Strength"
          ],
          [
           2,
           "Strength"
          ],
          [
           3,
           "Yoga"
          ],
          [
           2,
           "Yoga"
          ],
          [
           2,
           "HIIT"
          ],
          [
           1,
           "Strength"
          ],
          [
           2,
           "Yoga"
          ],
          [
           1,
           "Strength"
          ],
          [
           3,
           "Yoga"
          ],
          [
           1,
           "Yoga"
          ],
          [
           1,
           "Yoga"
          ],
          [
           1,
           "Cardio"
          ],
          [
           2,
           "Strength"
          ],
          [
           2,
           "Strength"
          ],
          [
           3,
           "Strength"
          ],
          [
           3,
           "HIIT"
          ],
          [
           1,
           "Cardio"
          ],
          [
           3,
           "Yoga"
          ],
          [
           3,
           "HIIT"
          ],
          [
           3,
           "Yoga"
          ],
          [
           1,
           "Strength"
          ],
          [
           2,
           "HIIT"
          ],
          [
           1,
           "Cardio"
          ],
          [
           1,
           "Cardio"
          ],
          [
           3,
           "Yoga"
          ],
          [
           3,
           "Strength"
          ],
          [
           1,
           "Cardio"
          ],
          [
           1,
           "Yoga"
          ],
          [
           1,
           "Cardio"
          ],
          [
           1,
           "HIIT"
          ],
          [
           2,
           "Strength"
          ],
          [
           2,
           "Strength"
          ],
          [
           2,
           "Yoga"
          ],
          [
           1,
           "Strength"
          ],
          [
           2,
           "HIIT"
          ],
          [
           1,
           "Yoga"
          ],
          [
           3,
           "Cardio"
          ],
          [
           1,
           "Cardio"
          ],
          [
           2,
           "Cardio"
          ],
          [
           1,
           "HIIT"
          ],
          [
           2,
           "HIIT"
          ],
          [
           2,
           "Yoga"
          ],
          [
           2,
           "Cardio"
          ],
          [
           2,
           "Strength"
          ],
          [
           1,
           "HIIT"
          ],
          [
           2,
           "HIIT"
          ],
          [
           2,
           "HIIT"
          ],
          [
           1,
           "Strength"
          ],
          [
           2,
           "Cardio"
          ],
          [
           2,
           "Strength"
          ],
          [
           1,
           "Yoga"
          ],
          [
           1,
           "HIIT"
          ],
          [
           1,
           "Cardio"
          ],
          [
           3,
           "Strength"
          ],
          [
           2,
           "HIIT"
          ],
          [
           1,
           "Strength"
          ],
          [
           2,
           "Strength"
          ],
          [
           2,
           "HIIT"
          ],
          [
           1,
           "Cardio"
          ],
          [
           2,
           "HIIT"
          ],
          [
           1,
           "Cardio"
          ],
          [
           2,
           "Strength"
          ],
          [
           1,
           "Yoga"
          ],
          [
           2,
           "Strength"
          ],
          [
           1,
           "Strength"
          ],
          [
           2,
           "Strength"
          ],
          [
           2,
           "Cardio"
          ],
          [
           2,
           "Strength"
          ],
          [
           1,
           "Strength"
          ],
          [
           2,
           "Cardio"
          ],
          [
           2,
           "Yoga"
          ],
          [
           1,
           "HIIT"
          ],
          [
           2,
           "Cardio"
          ],
          [
           1,
           "Strength"
          ],
          [
           1,
           "Cardio"
          ],
          [
           1,
           "Yoga"
          ],
          [
           2,
           "Yoga"
          ],
          [
           1,
           "HIIT"
          ],
          [
           2,
           "Strength"
          ],
          [
           1,
           "HIIT"
          ],
          [
           1,
           "Strength"
          ],
          [
           2,
           "Cardio"
          ],
          [
           1,
           "Yoga"
          ],
          [
           1,
           "Strength"
          ],
          [
           2,
           "HIIT"
          ],
          [
           2,
           "Yoga"
          ],
          [
           1,
           "HIIT"
          ],
          [
           3,
           "Yoga"
          ],
          [
           2,
           "Strength"
          ],
          [
           2,
           "Yoga"
          ],
          [
           3,
           "Cardio"
          ],
          [
           2,
           "Strength"
          ],
          [
           1,
           "HIIT"
          ],
          [
           1,
           "Strength"
          ],
          [
           2,
           "Strength"
          ],
          [
           1,
           "HIIT"
          ],
          [
           1,
           "Cardio"
          ],
          [
           2,
           "Yoga"
          ],
          [
           1,
           "Cardio"
          ],
          [
           3,
           "HIIT"
          ],
          [
           3,
           "Cardio"
          ],
          [
           1,
           "HIIT"
          ],
          [
           2,
           "Strength"
          ],
          [
           1,
           "Yoga"
          ],
          [
           1,
           "HIIT"
          ],
          [
           1,
           "Cardio"
          ],
          [
           1,
           "Yoga"
          ],
          [
           2,
           "HIIT"
          ],
          [
           3,
           "Cardio"
          ],
          [
           1,
           "HIIT"
          ],
          [
           2,
           "Cardio"
          ],
          [
           2,
           "Yoga"
          ],
          [
           1,
           "Cardio"
          ],
          [
           1,
           "Cardio"
          ],
          [
           2,
           "Strength"
          ],
          [
           1,
           "Strength"
          ],
          [
           2,
           "Cardio"
          ],
          [
           1,
           "Cardio"
          ],
          [
           2,
           "Strength"
          ],
          [
           2,
           "Yoga"
          ],
          [
           1,
           "Cardio"
          ],
          [
           2,
           "Strength"
          ],
          [
           1,
           "Strength"
          ],
          [
           1,
           "HIIT"
          ],
          [
           3,
           "Yoga"
          ],
          [
           1,
           "Cardio"
          ],
          [
           1,
           "Yoga"
          ],
          [
           1,
           "Strength"
          ],
          [
           1,
           "Strength"
          ],
          [
           2,
           "Yoga"
          ],
          [
           1,
           "Strength"
          ],
          [
           2,
           "Strength"
          ],
          [
           2,
           "Yoga"
          ],
          [
           1,
           "Strength"
          ],
          [
           2,
           "Yoga"
          ],
          [
           2,
           "Yoga"
          ],
          [
           2,
           "HIIT"
          ],
          [
           3,
           "Cardio"
          ],
          [
           2,
           "Strength"
          ],
          [
           2,
           "HIIT"
          ],
          [
           2,
           "Cardio"
          ],
          [
           2,
           "Cardio"
          ],
          [
           2,
           "HIIT"
          ],
          [
           1,
           "Strength"
          ],
          [
           1,
           "Yoga"
          ],
          [
           2,
           "Yoga"
          ],
          [
           3,
           "Yoga"
          ],
          [
           2,
           "HIIT"
          ],
          [
           1,
           "Strength"
          ],
          [
           3,
           "Strength"
          ],
          [
           2,
           "HIIT"
          ],
          [
           1,
           "HIIT"
          ],
          [
           2,
           "Strength"
          ],
          [
           1,
           "HIIT"
          ],
          [
           3,
           "Strength"
          ],
          [
           3,
           "Yoga"
          ],
          [
           2,
           "Strength"
          ],
          [
           1,
           "Cardio"
          ],
          [
           1,
           "Cardio"
          ],
          [
           2,
           "Cardio"
          ],
          [
           2,
           "Cardio"
          ],
          [
           1,
           "HIIT"
          ],
          [
           2,
           "HIIT"
          ],
          [
           1,
           "Cardio"
          ],
          [
           2,
           "Yoga"
          ],
          [
           3,
           "Cardio"
          ],
          [
           1,
           "HIIT"
          ],
          [
           1,
           "HIIT"
          ],
          [
           1,
           "Yoga"
          ],
          [
           1,
           "Strength"
          ],
          [
           2,
           "Yoga"
          ],
          [
           2,
           "HIIT"
          ],
          [
           1,
           "Strength"
          ],
          [
           3,
           "HIIT"
          ],
          [
           1,
           "Strength"
          ],
          [
           2,
           "Cardio"
          ],
          [
           2,
           "Cardio"
          ],
          [
           3,
           "HIIT"
          ],
          [
           2,
           "Strength"
          ],
          [
           1,
           "Strength"
          ],
          [
           2,
           "HIIT"
          ],
          [
           1,
           "Yoga"
          ],
          [
           2,
           "Yoga"
          ],
          [
           1,
           "Cardio"
          ],
          [
           1,
           "Cardio"
          ],
          [
           3,
           "Yoga"
          ],
          [
           2,
           "Cardio"
          ],
          [
           1,
           "Yoga"
          ],
          [
           2,
           "Yoga"
          ],
          [
           1,
           "Cardio"
          ],
          [
           3,
           "Yoga"
          ],
          [
           2,
           "Cardio"
          ],
          [
           2,
           "Yoga"
          ],
          [
           1,
           "Strength"
          ],
          [
           2,
           "Yoga"
          ],
          [
           3,
           "Cardio"
          ],
          [
           2,
           "Cardio"
          ],
          [
           1,
           "HIIT"
          ],
          [
           1,
           "Yoga"
          ],
          [
           2,
           "Strength"
          ],
          [
           3,
           "Strength"
          ],
          [
           2,
           "Cardio"
          ],
          [
           3,
           "Yoga"
          ],
          [
           2,
           "Cardio"
          ],
          [
           1,
           "Strength"
          ],
          [
           3,
           "HIIT"
          ],
          [
           2,
           "Strength"
          ],
          [
           1,
           "Yoga"
          ],
          [
           3,
           "HIIT"
          ],
          [
           2,
           "Yoga"
          ],
          [
           3,
           "Yoga"
          ],
          [
           2,
           "Strength"
          ],
          [
           1,
           "Yoga"
          ],
          [
           2,
           "HIIT"
          ],
          [
           1,
           "Cardio"
          ],
          [
           3,
           "HIIT"
          ],
          [
           2,
           "HIIT"
          ],
          [
           1,
           "Yoga"
          ],
          [
           2,
           "Cardio"
          ],
          [
           2,
           "HIIT"
          ],
          [
           1,
           "Strength"
          ],
          [
           3,
           "Strength"
          ],
          [
           3,
           "HIIT"
          ],
          [
           1,
           "Yoga"
          ],
          [
           1,
           "Strength"
          ],
          [
           3,
           "Cardio"
          ],
          [
           1,
           "Strength"
          ],
          [
           2,
           "Yoga"
          ],
          [
           2,
           "HIIT"
          ],
          [
           3,
           "Cardio"
          ],
          [
           3,
           "Yoga"
          ],
          [
           2,
           "HIIT"
          ],
          [
           3,
           "Strength"
          ],
          [
           2,
           "Cardio"
          ],
          [
           2,
           "Yoga"
          ],
          [
           2,
           "Strength"
          ],
          [
           1,
           "HIIT"
          ],
          [
           1,
           "Strength"
          ],
          [
           3,
           "Yoga"
          ],
          [
           2,
           "Cardio"
          ],
          [
           2,
           "HIIT"
          ],
          [
           3,
           "Cardio"
          ],
          [
           2,
           "Strength"
          ],
          [
           1,
           "Yoga"
          ],
          [
           3,
           "Yoga"
          ],
          [
           2,
           "Cardio"
          ],
          [
           2,
           "Cardio"
          ],
          [
           1,
           "Cardio"
          ],
          [
           2,
           "Yoga"
          ],
          [
           3,
           "HIIT"
          ],
          [
           2,
           "HIIT"
          ],
          [
           1,
           "Cardio"
          ],
          [
           1,
           "Strength"
          ],
          [
           3,
           "Strength"
          ],
          [
           1,
           "Cardio"
          ],
          [
           2,
           "HIIT"
          ],
          [
           1,
           "Cardio"
          ],
          [
           1,
           "Strength"
          ],
          [
           2,
           "Cardio"
          ],
          [
           1,
           "Cardio"
          ],
          [
           3,
           "Cardio"
          ],
          [
           2,
           "Yoga"
          ],
          [
           2,
           "Yoga"
          ],
          [
           1,
           "HIIT"
          ],
          [
           3,
           "Cardio"
          ],
          [
           1,
           "Cardio"
          ],
          [
           1,
           "Cardio"
          ],
          [
           2,
           "Yoga"
          ],
          [
           1,
           "Cardio"
          ],
          [
           3,
           "Cardio"
          ],
          [
           1,
           "Yoga"
          ],
          [
           3,
           "Cardio"
          ]
         ],
         "hovertemplate": "Género=Female<br>Calorías quemadas=%{x}<br>Duración de la sesión (horas)=%{y}<br>Experience_Level=%{customdata[0]}<br>Workout_Type=%{customdata[1]}<extra></extra>",
         "legendgroup": "Female",
         "marker": {
          "color": "#EF553B",
          "symbol": "circle"
         },
         "mode": "markers",
         "name": "Female",
         "orientation": "v",
         "showlegend": true,
         "type": "scatter",
         "x": [
          883,
          677,
          1116,
          895,
          740,
          1111,
          884,
          742,
          1030,
          848,
          925,
          1080,
          871,
          654,
          1046,
          816,
          879,
          969,
          734,
          730,
          836,
          742,
          1122,
          506,
          1021,
          832,
          1150,
          440,
          580,
          666,
          1418,
          421,
          627,
          1358,
          1004,
          963,
          786,
          875,
          363,
          1262,
          990,
          1129,
          546,
          751,
          1003,
          1103,
          416,
          1231,
          924,
          441,
          735,
          1625,
          1073,
          1369,
          1020,
          677,
          979,
          819,
          888,
          790,
          408,
          1479,
          870,
          837,
          1041,
          756,
          1042,
          1046,
          958,
          877,
          1038,
          1150,
          1082,
          913,
          362,
          711,
          837,
          967,
          844,
          852,
          644,
          1095,
          418,
          767,
          772,
          1249,
          1337,
          937,
          800,
          686,
          370,
          979,
          1267,
          1177,
          598,
          1443,
          796,
          1147,
          734,
          1153,
          1043,
          703,
          887,
          732,
          732,
          410,
          790,
          900,
          1169,
          959,
          940,
          1224,
          900,
          832,
          1006,
          699,
          506,
          1056,
          666,
          763,
          982,
          880,
          1010,
          713,
          1060,
          803,
          1182,
          952,
          662,
          610,
          964,
          1212,
          962,
          1053,
          598,
          1161,
          567,
          1047,
          876,
          792,
          979,
          1166,
          1474,
          911,
          1177,
          1359,
          832,
          684,
          1105,
          742,
          694,
          1016,
          863,
          949,
          764,
          714,
          944,
          407,
          939,
          903,
          653,
          1066,
          840,
          842,
          1096,
          482,
          678,
          1451,
          1029,
          1100,
          881,
          525,
          1318,
          888,
          555,
          877,
          1380,
          768,
          1175,
          1024,
          830,
          943,
          1123,
          1103,
          1056,
          638,
          725,
          845,
          1200,
          720,
          1293,
          996,
          1425,
          838,
          626,
          608,
          724,
          492,
          1301,
          422,
          440,
          566,
          894,
          883,
          1159,
          1247,
          499,
          1042,
          1060,
          940,
          569,
          663,
          914,
          994,
          1396,
          948,
          395,
          491,
          448,
          729,
          753,
          926,
          1012,
          779,
          920,
          931,
          1304,
          463,
          886,
          499,
          898,
          718,
          642,
          920,
          768,
          711,
          881,
          1025,
          907,
          780,
          382,
          753,
          597,
          1304,
          831,
          684,
          933,
          980,
          913,
          777,
          558,
          962,
          415,
          834,
          883,
          1204,
          794,
          710,
          910,
          904,
          825,
          592,
          637,
          958,
          672,
          768,
          1143,
          1071,
          878,
          1072,
          927,
          895,
          886,
          848,
          1016,
          644,
          1111,
          1186,
          776,
          759,
          1053,
          983,
          906,
          822,
          1022,
          826,
          354,
          737,
          463,
          1344,
          1171,
          806,
          714,
          330,
          441,
          632,
          684,
          806,
          1240,
          935,
          807,
          743,
          746,
          933,
          810,
          479,
          1050,
          303,
          978,
          948,
          938,
          847,
          502,
          749,
          1184,
          422,
          837,
          606,
          887,
          640,
          719,
          762,
          983,
          634,
          859,
          766,
          826,
          909,
          798,
          674,
          720,
          679,
          1144,
          475,
          693,
          749,
          1116,
          626,
          394,
          1188,
          966,
          581,
          821,
          849,
          906,
          1276,
          938,
          733,
          319,
          916,
          1006,
          537,
          968,
          643,
          986,
          985,
          380,
          660,
          709,
          695,
          857,
          877,
          841,
          1082,
          585,
          1032,
          977,
          1092,
          742,
          829,
          1046,
          672,
          965,
          590,
          433,
          1138,
          1164,
          566,
          732,
          807,
          999,
          847,
          875,
          717,
          958,
          1228,
          756,
          659,
          406,
          711,
          1043,
          662,
          996,
          1069,
          673,
          1220,
          911,
          481,
          1107,
          756,
          1582,
          1001,
          898,
          893,
          454,
          1107,
          576,
          433,
          911,
          864,
          621,
          1242,
          1378,
          594,
          927,
          1234,
          500,
          711,
          965,
          1336,
          1117,
          706,
          1213,
          726,
          878,
          811,
          475,
          470,
          1519,
          883,
          713,
          1336,
          876,
          573,
          1307,
          863,
          831,
          816,
          976,
          1135,
          753,
          784,
          479,
          1463,
          836,
          727,
          514,
          402,
          723,
          852,
          1066,
          883,
          760,
          838,
          1005,
          636,
          907,
          699,
          1001,
          1227,
          354,
          929
         ],
         "xaxis": "x",
         "y": [
          1.3,
          1.11,
          1.59,
          1.27,
          1.13,
          1.33,
          1.19,
          1.13,
          1.37,
          1.17,
          1.25,
          1.42,
          1.29,
          1.03,
          1.48,
          1.04,
          1.26,
          1.48,
          1.08,
          1.14,
          1.23,
          1.03,
          1.42,
          0.81,
          1.4,
          1.08,
          1.67,
          0.56,
          1.04,
          1.08,
          1.97,
          0.62,
          0.89,
          1.81,
          1.73,
          1.47,
          1.07,
          1.37,
          0.63,
          1.87,
          1.2,
          1.78,
          0.86,
          1.08,
          1.27,
          1.45,
          0.64,
          1.8,
          1.26,
          0.58,
          1.15,
          1.97,
          1.49,
          1.79,
          1.39,
          1.01,
          1.44,
          1.41,
          1.09,
          1.02,
          0.51,
          1.98,
          1.24,
          1.42,
          1.31,
          1.24,
          1.69,
          1.26,
          1.42,
          1.28,
          1.46,
          1.95,
          1.32,
          1.23,
          0.67,
          1.02,
          1.04,
          1.58,
          1.14,
          1.27,
          1.1,
          1.58,
          0.68,
          1.1,
          1.05,
          1.81,
          1.87,
          1.37,
          1.23,
          1.03,
          0.56,
          1.45,
          1.84,
          1.49,
          1.08,
          1.95,
          1.18,
          1.47,
          1.08,
          1.83,
          1.28,
          1.24,
          1.13,
          1.28,
          1.21,
          0.63,
          1,
          1.45,
          1.87,
          1.44,
          1.29,
          1.55,
          1.6,
          0.99,
          1.29,
          1.11,
          0.81,
          1.39,
          1.11,
          1.06,
          1.31,
          1.34,
          1.36,
          1.07,
          1.52,
          1.03,
          1.63,
          1.4,
          0.92,
          1.12,
          1.52,
          1.97,
          1.54,
          1.35,
          0.83,
          1.47,
          0.9,
          1.41,
          1.4,
          1.07,
          1.48,
          1.62,
          1.94,
          1.36,
          1.67,
          1.83,
          1.4,
          1,
          1.98,
          1.25,
          1.16,
          1.85,
          1.04,
          1.13,
          1.14,
          1.03,
          1.42,
          0.69,
          1.42,
          1.22,
          0.96,
          1.49,
          1.2,
          1.44,
          1.7,
          0.83,
          1.15,
          1.99,
          1.41,
          1.49,
          1.13,
          0.84,
          1.56,
          1.37,
          0.92,
          1.21,
          1.93,
          0.92,
          1.88,
          1.33,
          1.19,
          1.6,
          1.43,
          1.37,
          1.25,
          0.85,
          1.22,
          1.37,
          1.5,
          1.24,
          1.93,
          1.23,
          1.9,
          1.49,
          1.14,
          1.04,
          1.2,
          0.6,
          1.77,
          0.5,
          0.73,
          0.88,
          1.25,
          1.27,
          1.84,
          1.86,
          0.62,
          1.93,
          1.54,
          1.74,
          0.94,
          1.06,
          1.43,
          1.39,
          1.98,
          1.58,
          0.66,
          0.88,
          0.69,
          1.2,
          1.24,
          1.31,
          1.46,
          1.17,
          1.18,
          1.31,
          1.62,
          0.7,
          1.33,
          0.86,
          1.34,
          1.1,
          1.07,
          1.27,
          1.41,
          1.06,
          1.28,
          1.38,
          1.08,
          1.3,
          0.61,
          1.08,
          0.97,
          1.85,
          1.41,
          0.85,
          1.28,
          1.42,
          1.1,
          1.37,
          0.9,
          1.37,
          0.61,
          1.15,
          1.46,
          1.45,
          1.27,
          1.1,
          1.48,
          1.37,
          1.25,
          0.92,
          1.17,
          1.4,
          0.97,
          1.08,
          1.42,
          1.29,
          1.14,
          1.34,
          1.45,
          1.26,
          1.23,
          1.29,
          1.27,
          1.03,
          1.47,
          1.56,
          1.38,
          1.14,
          1.76,
          1.41,
          1.25,
          1.06,
          1.46,
          1.36,
          0.54,
          1.03,
          0.59,
          1.67,
          1.71,
          1.25,
          1.19,
          0.55,
          0.76,
          0.89,
          0.95,
          1.17,
          1.67,
          1.12,
          1.18,
          1.28,
          1.13,
          1.41,
          1.08,
          0.75,
          1.28,
          0.51,
          1.47,
          1.29,
          1.38,
          1.1,
          0.82,
          1.17,
          1.88,
          0.71,
          1.5,
          0.97,
          1.45,
          1,
          1.32,
          1.27,
          1.41,
          0.99,
          1.21,
          1.17,
          1.02,
          1.67,
          1.19,
          1.11,
          1.2,
          1.07,
          1.37,
          0.8,
          0.85,
          1.29,
          1.8,
          1.07,
          0.54,
          1.71,
          1.27,
          0.89,
          1.02,
          1.38,
          1.61,
          1.76,
          1.36,
          0.97,
          0.51,
          1.41,
          1.49,
          0.75,
          1.49,
          1.02,
          1.36,
          1.52,
          0.55,
          0.91,
          1.11,
          0.93,
          1.19,
          1.45,
          1.46,
          1.64,
          0.76,
          1.29,
          1.48,
          1.72,
          1.03,
          1.37,
          1.48,
          0.89,
          1.34,
          0.79,
          0.74,
          1.93,
          1.42,
          0.87,
          1.17,
          1.08,
          1.67,
          1.13,
          1.42,
          1.07,
          1.33,
          1.78,
          1.19,
          1.08,
          0.74,
          1.12,
          1.63,
          1.05,
          1.69,
          1.37,
          0.99,
          1.76,
          1.22,
          0.74,
          1.8,
          1.03,
          1.99,
          1.34,
          1.34,
          1.07,
          0.72,
          1.77,
          1.04,
          0.74,
          1.38,
          1.35,
          1.01,
          1.94,
          1.65,
          0.82,
          1.28,
          1.87,
          0.68,
          1.03,
          1.5,
          1.59,
          1.88,
          1.07,
          1.65,
          1.03,
          1.33,
          1.22,
          0.76,
          0.73,
          1.83,
          1.46,
          1.05,
          1.65,
          1.38,
          0.94,
          1.88,
          1.26,
          1.13,
          1.15,
          1.31,
          1.66,
          1.02,
          0.95,
          0.61,
          1.97,
          1.14,
          1.01,
          0.85,
          0.57,
          1.05,
          1.2,
          1.91,
          1.39,
          1.03,
          1.32,
          1.83,
          0.81,
          1.17,
          1.02,
          1.39,
          1.99,
          0.58,
          1.72
         ],
         "yaxis": "y"
        }
       ],
       "layout": {
        "legend": {
         "title": {
          "text": "Género"
         },
         "tracegroupgap": 0
        },
        "template": {
         "data": {
          "bar": [
           {
            "error_x": {
             "color": "#2a3f5f"
            },
            "error_y": {
             "color": "#2a3f5f"
            },
            "marker": {
             "line": {
              "color": "#E5ECF6",
              "width": 0.5
             },
             "pattern": {
              "fillmode": "overlay",
              "size": 10,
              "solidity": 0.2
             }
            },
            "type": "bar"
           }
          ],
          "barpolar": [
           {
            "marker": {
             "line": {
              "color": "#E5ECF6",
              "width": 0.5
             },
             "pattern": {
              "fillmode": "overlay",
              "size": 10,
              "solidity": 0.2
             }
            },
            "type": "barpolar"
           }
          ],
          "carpet": [
           {
            "aaxis": {
             "endlinecolor": "#2a3f5f",
             "gridcolor": "white",
             "linecolor": "white",
             "minorgridcolor": "white",
             "startlinecolor": "#2a3f5f"
            },
            "baxis": {
             "endlinecolor": "#2a3f5f",
             "gridcolor": "white",
             "linecolor": "white",
             "minorgridcolor": "white",
             "startlinecolor": "#2a3f5f"
            },
            "type": "carpet"
           }
          ],
          "choropleth": [
           {
            "colorbar": {
             "outlinewidth": 0,
             "ticks": ""
            },
            "type": "choropleth"
           }
          ],
          "contour": [
           {
            "colorbar": {
             "outlinewidth": 0,
             "ticks": ""
            },
            "colorscale": [
             [
              0,
              "#0d0887"
             ],
             [
              0.1111111111111111,
              "#46039f"
             ],
             [
              0.2222222222222222,
              "#7201a8"
             ],
             [
              0.3333333333333333,
              "#9c179e"
             ],
             [
              0.4444444444444444,
              "#bd3786"
             ],
             [
              0.5555555555555556,
              "#d8576b"
             ],
             [
              0.6666666666666666,
              "#ed7953"
             ],
             [
              0.7777777777777778,
              "#fb9f3a"
             ],
             [
              0.8888888888888888,
              "#fdca26"
             ],
             [
              1,
              "#f0f921"
             ]
            ],
            "type": "contour"
           }
          ],
          "contourcarpet": [
           {
            "colorbar": {
             "outlinewidth": 0,
             "ticks": ""
            },
            "type": "contourcarpet"
           }
          ],
          "heatmap": [
           {
            "colorbar": {
             "outlinewidth": 0,
             "ticks": ""
            },
            "colorscale": [
             [
              0,
              "#0d0887"
             ],
             [
              0.1111111111111111,
              "#46039f"
             ],
             [
              0.2222222222222222,
              "#7201a8"
             ],
             [
              0.3333333333333333,
              "#9c179e"
             ],
             [
              0.4444444444444444,
              "#bd3786"
             ],
             [
              0.5555555555555556,
              "#d8576b"
             ],
             [
              0.6666666666666666,
              "#ed7953"
             ],
             [
              0.7777777777777778,
              "#fb9f3a"
             ],
             [
              0.8888888888888888,
              "#fdca26"
             ],
             [
              1,
              "#f0f921"
             ]
            ],
            "type": "heatmap"
           }
          ],
          "heatmapgl": [
           {
            "colorbar": {
             "outlinewidth": 0,
             "ticks": ""
            },
            "colorscale": [
             [
              0,
              "#0d0887"
             ],
             [
              0.1111111111111111,
              "#46039f"
             ],
             [
              0.2222222222222222,
              "#7201a8"
             ],
             [
              0.3333333333333333,
              "#9c179e"
             ],
             [
              0.4444444444444444,
              "#bd3786"
             ],
             [
              0.5555555555555556,
              "#d8576b"
             ],
             [
              0.6666666666666666,
              "#ed7953"
             ],
             [
              0.7777777777777778,
              "#fb9f3a"
             ],
             [
              0.8888888888888888,
              "#fdca26"
             ],
             [
              1,
              "#f0f921"
             ]
            ],
            "type": "heatmapgl"
           }
          ],
          "histogram": [
           {
            "marker": {
             "pattern": {
              "fillmode": "overlay",
              "size": 10,
              "solidity": 0.2
             }
            },
            "type": "histogram"
           }
          ],
          "histogram2d": [
           {
            "colorbar": {
             "outlinewidth": 0,
             "ticks": ""
            },
            "colorscale": [
             [
              0,
              "#0d0887"
             ],
             [
              0.1111111111111111,
              "#46039f"
             ],
             [
              0.2222222222222222,
              "#7201a8"
             ],
             [
              0.3333333333333333,
              "#9c179e"
             ],
             [
              0.4444444444444444,
              "#bd3786"
             ],
             [
              0.5555555555555556,
              "#d8576b"
             ],
             [
              0.6666666666666666,
              "#ed7953"
             ],
             [
              0.7777777777777778,
              "#fb9f3a"
             ],
             [
              0.8888888888888888,
              "#fdca26"
             ],
             [
              1,
              "#f0f921"
             ]
            ],
            "type": "histogram2d"
           }
          ],
          "histogram2dcontour": [
           {
            "colorbar": {
             "outlinewidth": 0,
             "ticks": ""
            },
            "colorscale": [
             [
              0,
              "#0d0887"
             ],
             [
              0.1111111111111111,
              "#46039f"
             ],
             [
              0.2222222222222222,
              "#7201a8"
             ],
             [
              0.3333333333333333,
              "#9c179e"
             ],
             [
              0.4444444444444444,
              "#bd3786"
             ],
             [
              0.5555555555555556,
              "#d8576b"
             ],
             [
              0.6666666666666666,
              "#ed7953"
             ],
             [
              0.7777777777777778,
              "#fb9f3a"
             ],
             [
              0.8888888888888888,
              "#fdca26"
             ],
             [
              1,
              "#f0f921"
             ]
            ],
            "type": "histogram2dcontour"
           }
          ],
          "mesh3d": [
           {
            "colorbar": {
             "outlinewidth": 0,
             "ticks": ""
            },
            "type": "mesh3d"
           }
          ],
          "parcoords": [
           {
            "line": {
             "colorbar": {
              "outlinewidth": 0,
              "ticks": ""
             }
            },
            "type": "parcoords"
           }
          ],
          "pie": [
           {
            "automargin": true,
            "type": "pie"
           }
          ],
          "scatter": [
           {
            "fillpattern": {
             "fillmode": "overlay",
             "size": 10,
             "solidity": 0.2
            },
            "type": "scatter"
           }
          ],
          "scatter3d": [
           {
            "line": {
             "colorbar": {
              "outlinewidth": 0,
              "ticks": ""
             }
            },
            "marker": {
             "colorbar": {
              "outlinewidth": 0,
              "ticks": ""
             }
            },
            "type": "scatter3d"
           }
          ],
          "scattercarpet": [
           {
            "marker": {
             "colorbar": {
              "outlinewidth": 0,
              "ticks": ""
             }
            },
            "type": "scattercarpet"
           }
          ],
          "scattergeo": [
           {
            "marker": {
             "colorbar": {
              "outlinewidth": 0,
              "ticks": ""
             }
            },
            "type": "scattergeo"
           }
          ],
          "scattergl": [
           {
            "marker": {
             "colorbar": {
              "outlinewidth": 0,
              "ticks": ""
             }
            },
            "type": "scattergl"
           }
          ],
          "scattermapbox": [
           {
            "marker": {
             "colorbar": {
              "outlinewidth": 0,
              "ticks": ""
             }
            },
            "type": "scattermapbox"
           }
          ],
          "scatterpolar": [
           {
            "marker": {
             "colorbar": {
              "outlinewidth": 0,
              "ticks": ""
             }
            },
            "type": "scatterpolar"
           }
          ],
          "scatterpolargl": [
           {
            "marker": {
             "colorbar": {
              "outlinewidth": 0,
              "ticks": ""
             }
            },
            "type": "scatterpolargl"
           }
          ],
          "scatterternary": [
           {
            "marker": {
             "colorbar": {
              "outlinewidth": 0,
              "ticks": ""
             }
            },
            "type": "scatterternary"
           }
          ],
          "surface": [
           {
            "colorbar": {
             "outlinewidth": 0,
             "ticks": ""
            },
            "colorscale": [
             [
              0,
              "#0d0887"
             ],
             [
              0.1111111111111111,
              "#46039f"
             ],
             [
              0.2222222222222222,
              "#7201a8"
             ],
             [
              0.3333333333333333,
              "#9c179e"
             ],
             [
              0.4444444444444444,
              "#bd3786"
             ],
             [
              0.5555555555555556,
              "#d8576b"
             ],
             [
              0.6666666666666666,
              "#ed7953"
             ],
             [
              0.7777777777777778,
              "#fb9f3a"
             ],
             [
              0.8888888888888888,
              "#fdca26"
             ],
             [
              1,
              "#f0f921"
             ]
            ],
            "type": "surface"
           }
          ],
          "table": [
           {
            "cells": {
             "fill": {
              "color": "#EBF0F8"
             },
             "line": {
              "color": "white"
             }
            },
            "header": {
             "fill": {
              "color": "#C8D4E3"
             },
             "line": {
              "color": "white"
             }
            },
            "type": "table"
           }
          ]
         },
         "layout": {
          "annotationdefaults": {
           "arrowcolor": "#2a3f5f",
           "arrowhead": 0,
           "arrowwidth": 1
          },
          "autotypenumbers": "strict",
          "coloraxis": {
           "colorbar": {
            "outlinewidth": 0,
            "ticks": ""
           }
          },
          "colorscale": {
           "diverging": [
            [
             0,
             "#8e0152"
            ],
            [
             0.1,
             "#c51b7d"
            ],
            [
             0.2,
             "#de77ae"
            ],
            [
             0.3,
             "#f1b6da"
            ],
            [
             0.4,
             "#fde0ef"
            ],
            [
             0.5,
             "#f7f7f7"
            ],
            [
             0.6,
             "#e6f5d0"
            ],
            [
             0.7,
             "#b8e186"
            ],
            [
             0.8,
             "#7fbc41"
            ],
            [
             0.9,
             "#4d9221"
            ],
            [
             1,
             "#276419"
            ]
           ],
           "sequential": [
            [
             0,
             "#0d0887"
            ],
            [
             0.1111111111111111,
             "#46039f"
            ],
            [
             0.2222222222222222,
             "#7201a8"
            ],
            [
             0.3333333333333333,
             "#9c179e"
            ],
            [
             0.4444444444444444,
             "#bd3786"
            ],
            [
             0.5555555555555556,
             "#d8576b"
            ],
            [
             0.6666666666666666,
             "#ed7953"
            ],
            [
             0.7777777777777778,
             "#fb9f3a"
            ],
            [
             0.8888888888888888,
             "#fdca26"
            ],
            [
             1,
             "#f0f921"
            ]
           ],
           "sequentialminus": [
            [
             0,
             "#0d0887"
            ],
            [
             0.1111111111111111,
             "#46039f"
            ],
            [
             0.2222222222222222,
             "#7201a8"
            ],
            [
             0.3333333333333333,
             "#9c179e"
            ],
            [
             0.4444444444444444,
             "#bd3786"
            ],
            [
             0.5555555555555556,
             "#d8576b"
            ],
            [
             0.6666666666666666,
             "#ed7953"
            ],
            [
             0.7777777777777778,
             "#fb9f3a"
            ],
            [
             0.8888888888888888,
             "#fdca26"
            ],
            [
             1,
             "#f0f921"
            ]
           ]
          },
          "colorway": [
           "#636efa",
           "#EF553B",
           "#00cc96",
           "#ab63fa",
           "#FFA15A",
           "#19d3f3",
           "#FF6692",
           "#B6E880",
           "#FF97FF",
           "#FECB52"
          ],
          "font": {
           "color": "#2a3f5f"
          },
          "geo": {
           "bgcolor": "white",
           "lakecolor": "white",
           "landcolor": "#E5ECF6",
           "showlakes": true,
           "showland": true,
           "subunitcolor": "white"
          },
          "hoverlabel": {
           "align": "left"
          },
          "hovermode": "closest",
          "mapbox": {
           "style": "light"
          },
          "paper_bgcolor": "white",
          "plot_bgcolor": "#E5ECF6",
          "polar": {
           "angularaxis": {
            "gridcolor": "white",
            "linecolor": "white",
            "ticks": ""
           },
           "bgcolor": "#E5ECF6",
           "radialaxis": {
            "gridcolor": "white",
            "linecolor": "white",
            "ticks": ""
           }
          },
          "scene": {
           "xaxis": {
            "backgroundcolor": "#E5ECF6",
            "gridcolor": "white",
            "gridwidth": 2,
            "linecolor": "white",
            "showbackground": true,
            "ticks": "",
            "zerolinecolor": "white"
           },
           "yaxis": {
            "backgroundcolor": "#E5ECF6",
            "gridcolor": "white",
            "gridwidth": 2,
            "linecolor": "white",
            "showbackground": true,
            "ticks": "",
            "zerolinecolor": "white"
           },
           "zaxis": {
            "backgroundcolor": "#E5ECF6",
            "gridcolor": "white",
            "gridwidth": 2,
            "linecolor": "white",
            "showbackground": true,
            "ticks": "",
            "zerolinecolor": "white"
           }
          },
          "shapedefaults": {
           "line": {
            "color": "#2a3f5f"
           }
          },
          "ternary": {
           "aaxis": {
            "gridcolor": "white",
            "linecolor": "white",
            "ticks": ""
           },
           "baxis": {
            "gridcolor": "white",
            "linecolor": "white",
            "ticks": ""
           },
           "bgcolor": "#E5ECF6",
           "caxis": {
            "gridcolor": "white",
            "linecolor": "white",
            "ticks": ""
           }
          },
          "title": {
           "x": 0.05
          },
          "xaxis": {
           "automargin": true,
           "gridcolor": "white",
           "linecolor": "white",
           "ticks": "",
           "title": {
            "standoff": 15
           },
           "zerolinecolor": "white",
           "zerolinewidth": 2
          },
          "yaxis": {
           "automargin": true,
           "gridcolor": "white",
           "linecolor": "white",
           "ticks": "",
           "title": {
            "standoff": 15
           },
           "zerolinecolor": "white",
           "zerolinewidth": 2
          }
         }
        },
        "title": {
         "text": "Relación entre calorías quemadas y duración de la sesión"
        },
        "xaxis": {
         "anchor": "y",
         "domain": [
          0,
          1
         ],
         "title": {
          "text": "Calorías quemadas"
         }
        },
        "yaxis": {
         "anchor": "x",
         "domain": [
          0,
          1
         ],
         "title": {
          "text": "Duración de la sesión (horas)"
         }
        }
       }
      }
     },
     "metadata": {},
     "output_type": "display_data"
    }
   ],
   "source": [
    "import plotly.express as px\n",
    "\n",
    "# Crear el gráfico de dispersión\n",
    "fig = px.scatter(gym_members_exercise, \n",
    "                 x=\"Calories_Burned\", \n",
    "                 y=\"Session_Duration (hours)\", \n",
    "                 color=\"Gender\",\n",
    "                 title=\"Relación entre calorías quemadas y duración de la sesión\",\n",
    "                 labels={\"Calories_Burned\": \"Calorías quemadas\", \n",
    "                         \"Session_Duration (hours)\": \"Duración de la sesión (horas)\", \n",
    "                         \"Gender\": \"Género\"},\n",
    "                 hover_data=[\"Experience_Level\", \"Workout_Type\"])\n",
    "\n",
    "# Mostrar el gráfico\n",
    "fig.show()\n"
   ]
  }
 ],
 "metadata": {
  "kernelspec": {
   "display_name": "tad-vd",
   "language": "python",
   "name": "python3"
  },
  "language_info": {
   "codemirror_mode": {
    "name": "ipython",
    "version": 3
   },
   "file_extension": ".py",
   "mimetype": "text/x-python",
   "name": "python",
   "nbconvert_exporter": "python",
   "pygments_lexer": "ipython3",
   "version": "3.10.15"
  }
 },
 "nbformat": 4,
 "nbformat_minor": 2
}
