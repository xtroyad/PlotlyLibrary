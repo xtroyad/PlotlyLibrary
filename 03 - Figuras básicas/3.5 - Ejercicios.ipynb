{
 "cells": [
  {
   "cell_type": "code",
   "execution_count": 3,
   "metadata": {},
   "outputs": [],
   "source": [
    "import pandas as pd\n",
    "\n",
    "folder = '../datasets'\n",
    "\n",
    "# Cargar los datasets en variables con el separador adecuado\n",
    "data_science_salaries = pd.read_csv(f\"{folder}/ds_salary.csv\", sep=';')  \n",
    "gym_members_exercise = pd.read_csv(f\"{folder}/gym_ex.csv\", sep=';')  \n",
    "sleep_health_lifestyle = pd.read_csv(f\"{folder}/health_lifestyle.csv\")  \n",
    "covid19_epidemiology = pd.read_csv(f\"{folder}/covid.csv\")  "
   ]
  },
  {
   "cell_type": "markdown",
   "metadata": {},
   "source": [
    "# Ejercicio 1: Análisis de categorías en los salarios de Data Science\n",
    "Crea un gráfico de barras para comparar los promedios de salario según el nivel de experiencia.\n",
    "\n",
    "### Instrucciones\n",
    "1. Agrupa los datos por nivel de experiencia (`experience_level`).\n",
    "2. Calcula el salario promedio para cada grupo.\n",
    "3. Crea un gráfico de barras con los resultados.\n",
    "\n",
    "**Dataset:** `Data Science Salaries 2023`\n"
   ]
  },
  {
   "cell_type": "markdown",
   "metadata": {},
   "source": [
    "# Ejercicio 2: Relación entre género y tipo de ejercicio\n",
    "Crea un gráfico de pastel para visualizar la proporción de tipos de ejercicio según el género.\n",
    "\n",
    "### Instrucciones\n",
    "1. Filtra los datos por tipo de ejercicio.\n",
    "2. Muestra las proporciones por género utilizando un gráfico de pastel.\n",
    "\n",
    "**Dataset:** `Gym Members Exercise Dataset`\n"
   ]
  },
  {
   "cell_type": "markdown",
   "metadata": {},
   "source": [
    "# Ejercicio 3: Tendencias en la duración del sueño\n",
    "Crea un gráfico de líneas para observar cómo varía la duración promedio del sueño según la edad.\n",
    "\n",
    "### Instrucciones\n",
    "1. Agrupa los datos por rango de edad.\n",
    "2. Calcula el promedio de horas de sueño.\n",
    "3. Representa los datos con un gráfico de líneas.\n",
    "\n",
    "**Dataset:** `Sleep Health and Lifestyle Dataset`\n"
   ]
  },
  {
   "cell_type": "markdown",
   "metadata": {},
   "source": [
    "# Ejercicio 4: Comparación de salarios por región\n",
    "Crea un gráfico de barras agrupadas para comparar el salario promedio en diferentes regiones.\n",
    "\n",
    "### Instrucciones\n",
    "1. Agrupa los datos por región (`company_location`) y nivel de experiencia (`experience_level`).\n",
    "2. Calcula el salario promedio para cada combinación.\n",
    "3. Crea un gráfico de barras agrupadas mostrando las regiones y los niveles de experiencia.\n",
    "\n",
    "**Dataset:** `Data Science Salaries 2023`\n"
   ]
  },
  {
   "cell_type": "markdown",
   "metadata": {},
   "source": [
    "# Ejercicio 5: Frecuencia de tipos de ejercicio\n",
    "Crea un gráfico de barras apiladas para mostrar la frecuencia de cada tipo de ejercicio por género.\n",
    "\n",
    "### Instrucciones\n",
    "1. Agrupa los datos por tipo de ejercicio (`exercise_type`) y género (`gender`).\n",
    "2. Cuenta la frecuencia de cada combinación.\n",
    "3. Representa los datos con un gráfico de barras apiladas.\n",
    "\n",
    "**Dataset:** `Gym Members Exercise Dataset`\n"
   ]
  },
  {
   "cell_type": "markdown",
   "metadata": {},
   "source": [
    "# Ejercicio 6: Comparación de horas de sueño entre grupos de edad\n",
    "Crea un gráfico de barras horizontales para comparar las horas promedio de sueño entre grupos de edad.\n",
    "\n",
    "### Instrucciones\n",
    "1. Agrupa los datos en rangos de edad (por ejemplo, 18-25, 26-35, etc.).\n",
    "2. Calcula el promedio de horas de sueño para cada grupo.\n",
    "3. Crea un gráfico de barras horizontales.\n",
    "\n",
    "**Dataset:** `Sleep Health and Lifestyle Dataset`\n"
   ]
  },
  {
   "cell_type": "markdown",
   "metadata": {},
   "source": [
    "# Ejercicio 7: Evolución de casos confirmados de COVID-19\n",
    "Crea un gráfico de líneas para mostrar la evolución de los casos confirmados en un país específico.\n",
    "\n",
    "### Instrucciones\n",
    "1. Filtra los datos para un país de tu elección.\n",
    "2. Agrupa los datos por fecha (`date`).\n",
    "3. Suma los casos confirmados diarios (`confirmed_cases`) para cada fecha.\n",
    "4. Representa los resultados en un gráfico de líneas.\n",
    "\n",
    "**Dataset:** `COVID-19 Epidemiology Dataset`\n"
   ]
  },
  {
   "cell_type": "markdown",
   "metadata": {},
   "source": [
    "# Ejercicio 8: Comparación de géneros en el tiempo dedicado al ejercicio\n",
    "Crea un gráfico de barras agrupadas para comparar el tiempo promedio dedicado al ejercicio entre géneros.\n",
    "\n",
    "### Instrucciones\n",
    "1. Agrupa los datos por género (`gender`) y tipo de ejercicio (`exercise_type`).\n",
    "2. Calcula el tiempo promedio dedicado al ejercicio.\n",
    "3. Representa los datos con un gráfico de barras agrupadas.\n",
    "\n",
    "**Dataset:** `Gym Members Exercise Dataset`\n"
   ]
  },
  {
   "cell_type": "markdown",
   "metadata": {},
   "source": [
    "# Ejercicio 9: Relación entre salario y tipo de trabajo\n",
    "Crea un gráfico de barras para mostrar el salario promedio según el tipo de trabajo.\n",
    "\n",
    "### Instrucciones\n",
    "1. Agrupa los datos por tipo de trabajo (`job_title`).\n",
    "2. Calcula el salario promedio para cada tipo.\n",
    "3. Representa los datos con un gráfico de barras.\n",
    "\n",
    "**Dataset:** `Data Science Salaries 2023`\n"
   ]
  }
 ],
 "metadata": {
  "kernelspec": {
   "display_name": "tad-vd",
   "language": "python",
   "name": "python3"
  },
  "language_info": {
   "codemirror_mode": {
    "name": "ipython",
    "version": 3
   },
   "file_extension": ".py",
   "mimetype": "text/x-python",
   "name": "python",
   "nbconvert_exporter": "python",
   "pygments_lexer": "ipython3",
   "version": "3.10.15"
  }
 },
 "nbformat": 4,
 "nbformat_minor": 2
}
