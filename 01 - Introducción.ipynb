{
 "cells": [
  {
   "cell_type": "markdown",
   "metadata": {},
   "source": [
    "# Introducción a Plotly\n",
    "\n",
    "## ¿Qué es Plotly?\n",
    "\n",
    "Plotly es una librería de visualización interactiva de datos que permite la creación de gráficos y dashboards dinámicos y de alta calidad en Python, R, JavaScript y otras plataformas. Fue diseñada para que los usuarios puedan generar gráficos interactivos sin necesidad de conocimientos avanzados de JavaScript o herramientas frontend. \n",
    "\n",
    "### Características principales de Plotly:\n",
    "\n",
    "1. **Gráficos interactivos**: Plotly permite crear gráficos que responden a acciones del usuario, como zoom, desplazamiento y selección de puntos de datos.\n",
    "  \n",
    "2. **Diversidad de gráficos**: Soporta una amplia variedad de visualizaciones como gráficos de líneas, barras, áreas, dispersión, mapas de calor, gráficos de torta, gráficos 3D, y más.\n",
    "  \n",
    "3. **Integración con Jupyter Notebook**: Plotly se integra de manera fluida con Jupyter Notebooks, permitiendo visualizar gráficos directamente en el entorno interactivo.\n",
    "\n",
    "4. **Facilidad de uso**: A pesar de ser altamente personalizable, Plotly tiene una API simple y fácil de entender, lo que lo hace accesible para usuarios nuevos.\n",
    "\n",
    "5. **Personalización**: Los gráficos en Plotly pueden ser personalizados a gran escala, incluyendo el control de colores, ejes, leyendas, títulos y anotaciones.\n",
    "\n",
    "6. **Dash**: Plotly también soporta la creación de dashboards interactivos a través de su framework `Dash`, que combina visualizaciones interactivas con aplicaciones web completas.\n",
    "\n",
    "### Aplicaciones típicas:\n",
    "\n",
    "- **Análisis de datos interactivo**: Plotly es ampliamente utilizado en ciencia de datos, machine learning y análisis financiero para representar datos complejos de una manera visualmente atractiva.\n",
    "  \n",
    "- **Visualización en tiempo real**: Permite la creación de gráficos que se actualizan en tiempo real, ideal para monitoreo y análisis continuo de datos.\n",
    "  \n",
    "- **Presentaciones y reportes**: Los gráficos de Plotly pueden integrarse fácilmente en presentaciones y reportes, ya sea en formato web, notebooks o PDFs.\n",
    "\n",
    "En resumen, Plotly es una herramienta poderosa que combina la simplicidad de uso con la capacidad de crear visualizaciones avanzadas, siendo ideal tanto para análisis exploratorio como para la creación de visualizaciones interactivas de alto impacto.\n"
   ]
  },
  {
   "cell_type": "markdown",
   "metadata": {},
   "source": [
    "## Instalación de Plotly\n",
    "\n",
    "Para comenzar a utilizar Plotly en Python, primero es necesario instalar la librería. Plotly se distribuye a través de `pip`, el gestor de paquetes de Python, lo que facilita su instalación. A continuación te mostramos los pasos para instalarlo:\n",
    "\n",
    "### Instalación mediante `pip`\n",
    "\n",
    "Puedes instalar Plotly ejecutando el siguiente comando en la terminal o en una celda de código de tu Jupyter Notebook:\n"
   ]
  },
  {
   "cell_type": "code",
   "execution_count": 5,
   "metadata": {},
   "outputs": [
    {
     "name": "stdout",
     "output_type": "stream",
     "text": [
      "Requirement already satisfied: plotly in c:\\users\\cristian\\anaconda3\\envs\\vd\\lib\\site-packages (5.24.1)\n",
      "Requirement already satisfied: tenacity>=6.2.0 in c:\\users\\cristian\\anaconda3\\envs\\vd\\lib\\site-packages (from plotly) (9.0.0)\n",
      "Requirement already satisfied: packaging in c:\\users\\cristian\\anaconda3\\envs\\vd\\lib\\site-packages (from plotly) (24.1)\n",
      "Requirement already satisfied: dash in c:\\users\\cristian\\anaconda3\\envs\\vd\\lib\\site-packages (2.18.1)\n",
      "Requirement already satisfied: Flask<3.1,>=1.0.4 in c:\\users\\cristian\\anaconda3\\envs\\vd\\lib\\site-packages (from dash) (3.0.3)\n",
      "Requirement already satisfied: Werkzeug<3.1 in c:\\users\\cristian\\anaconda3\\envs\\vd\\lib\\site-packages (from dash) (3.0.4)\n",
      "Requirement already satisfied: plotly>=5.0.0 in c:\\users\\cristian\\anaconda3\\envs\\vd\\lib\\site-packages (from dash) (5.24.1)\n",
      "Requirement already satisfied: dash-html-components==2.0.0 in c:\\users\\cristian\\anaconda3\\envs\\vd\\lib\\site-packages (from dash) (2.0.0)\n",
      "Requirement already satisfied: dash-core-components==2.0.0 in c:\\users\\cristian\\anaconda3\\envs\\vd\\lib\\site-packages (from dash) (2.0.0)\n",
      "Requirement already satisfied: dash-table==5.0.0 in c:\\users\\cristian\\anaconda3\\envs\\vd\\lib\\site-packages (from dash) (5.0.0)\n",
      "Requirement already satisfied: importlib-metadata in c:\\users\\cristian\\anaconda3\\envs\\vd\\lib\\site-packages (from dash) (8.5.0)\n",
      "Requirement already satisfied: typing-extensions>=4.1.1 in c:\\users\\cristian\\anaconda3\\envs\\vd\\lib\\site-packages (from dash) (4.11.0)\n",
      "Requirement already satisfied: requests in c:\\users\\cristian\\anaconda3\\envs\\vd\\lib\\site-packages (from dash) (2.32.3)\n",
      "Requirement already satisfied: retrying in c:\\users\\cristian\\anaconda3\\envs\\vd\\lib\\site-packages (from dash) (1.3.4)\n",
      "Requirement already satisfied: nest-asyncio in c:\\users\\cristian\\anaconda3\\envs\\vd\\lib\\site-packages (from dash) (1.6.0)\n",
      "Requirement already satisfied: setuptools in c:\\users\\cristian\\anaconda3\\envs\\vd\\lib\\site-packages (from dash) (75.1.0)\n",
      "Requirement already satisfied: Jinja2>=3.1.2 in c:\\users\\cristian\\anaconda3\\envs\\vd\\lib\\site-packages (from Flask<3.1,>=1.0.4->dash) (3.1.4)\n",
      "Requirement already satisfied: itsdangerous>=2.1.2 in c:\\users\\cristian\\anaconda3\\envs\\vd\\lib\\site-packages (from Flask<3.1,>=1.0.4->dash) (2.2.0)\n",
      "Requirement already satisfied: click>=8.1.3 in c:\\users\\cristian\\anaconda3\\envs\\vd\\lib\\site-packages (from Flask<3.1,>=1.0.4->dash) (8.1.7)\n",
      "Requirement already satisfied: blinker>=1.6.2 in c:\\users\\cristian\\anaconda3\\envs\\vd\\lib\\site-packages (from Flask<3.1,>=1.0.4->dash) (1.8.2)\n",
      "Requirement already satisfied: tenacity>=6.2.0 in c:\\users\\cristian\\anaconda3\\envs\\vd\\lib\\site-packages (from plotly>=5.0.0->dash) (9.0.0)\n",
      "Requirement already satisfied: packaging in c:\\users\\cristian\\anaconda3\\envs\\vd\\lib\\site-packages (from plotly>=5.0.0->dash) (24.1)\n",
      "Requirement already satisfied: MarkupSafe>=2.1.1 in c:\\users\\cristian\\anaconda3\\envs\\vd\\lib\\site-packages (from Werkzeug<3.1->dash) (2.1.3)\n",
      "Requirement already satisfied: zipp>=3.20 in c:\\users\\cristian\\anaconda3\\envs\\vd\\lib\\site-packages (from importlib-metadata->dash) (3.20.2)\n",
      "Requirement already satisfied: charset-normalizer<4,>=2 in c:\\users\\cristian\\anaconda3\\envs\\vd\\lib\\site-packages (from requests->dash) (3.3.2)\n",
      "Requirement already satisfied: idna<4,>=2.5 in c:\\users\\cristian\\anaconda3\\envs\\vd\\lib\\site-packages (from requests->dash) (3.7)\n",
      "Requirement already satisfied: urllib3<3,>=1.21.1 in c:\\users\\cristian\\anaconda3\\envs\\vd\\lib\\site-packages (from requests->dash) (2.2.3)\n",
      "Requirement already satisfied: certifi>=2017.4.17 in c:\\users\\cristian\\anaconda3\\envs\\vd\\lib\\site-packages (from requests->dash) (2024.8.30)\n",
      "Requirement already satisfied: six>=1.7.0 in c:\\users\\cristian\\anaconda3\\envs\\vd\\lib\\site-packages (from retrying->dash) (1.16.0)\n",
      "Requirement already satisfied: colorama in c:\\users\\cristian\\anaconda3\\envs\\vd\\lib\\site-packages (from click>=8.1.3->Flask<3.1,>=1.0.4->dash) (0.4.6)\n",
      "Collecting pandas\n",
      "  Downloading pandas-2.2.3-cp310-cp310-win_amd64.whl.metadata (19 kB)\n",
      "Collecting numpy>=1.22.4 (from pandas)\n",
      "  Downloading numpy-2.1.2-cp310-cp310-win_amd64.whl.metadata (59 kB)\n",
      "Requirement already satisfied: python-dateutil>=2.8.2 in c:\\users\\cristian\\anaconda3\\envs\\vd\\lib\\site-packages (from pandas) (2.9.0.post0)\n",
      "Requirement already satisfied: pytz>=2020.1 in c:\\users\\cristian\\anaconda3\\envs\\vd\\lib\\site-packages (from pandas) (2024.1)\n",
      "Collecting tzdata>=2022.7 (from pandas)\n",
      "  Downloading tzdata-2024.2-py2.py3-none-any.whl.metadata (1.4 kB)\n",
      "Requirement already satisfied: six>=1.5 in c:\\users\\cristian\\anaconda3\\envs\\vd\\lib\\site-packages (from python-dateutil>=2.8.2->pandas) (1.16.0)\n",
      "Downloading pandas-2.2.3-cp310-cp310-win_amd64.whl (11.6 MB)\n",
      "   ---------------------------------------- 0.0/11.6 MB ? eta -:--:--\n",
      "   ---------------------------------------- 11.6/11.6 MB 60.6 MB/s eta 0:00:00\n",
      "Downloading numpy-2.1.2-cp310-cp310-win_amd64.whl (12.9 MB)\n",
      "   ---------------------------------------- 0.0/12.9 MB ? eta -:--:--\n",
      "   ---------------------------------------- 12.9/12.9 MB 73.3 MB/s eta 0:00:00\n",
      "Downloading tzdata-2024.2-py2.py3-none-any.whl (346 kB)\n",
      "Installing collected packages: tzdata, numpy, pandas\n",
      "Successfully installed numpy-2.1.2 pandas-2.2.3 tzdata-2024.2\n"
     ]
    }
   ],
   "source": [
    "\n",
    "! pip install plotly\n",
    "! pip install dash\n",
    "!  pip install pandas"
   ]
  }
 ],
 "metadata": {
  "kernelspec": {
   "display_name": "vd",
   "language": "python",
   "name": "python3"
  },
  "language_info": {
   "codemirror_mode": {
    "name": "ipython",
    "version": 3
   },
   "file_extension": ".py",
   "mimetype": "text/x-python",
   "name": "python",
   "nbconvert_exporter": "python",
   "pygments_lexer": "ipython3",
   "version": "3.10.15"
  }
 },
 "nbformat": 4,
 "nbformat_minor": 2
}
